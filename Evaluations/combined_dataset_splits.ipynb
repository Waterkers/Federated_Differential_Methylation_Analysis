{
 "cells": [
  {
   "cell_type": "code",
   "execution_count": 2,
   "metadata": {},
   "outputs": [],
   "source": [
    "import pandas as pd\n",
    "import numpy as np\n",
    "import os\n",
    "import re\n",
    "import fnmatch\n"
   ]
  },
  {
   "cell_type": "markdown",
   "metadata": {},
   "source": [
    "### Create a unified phenotype document to use when running the combined datasets on the server (or locally if memory would allow)"
   ]
  },
  {
   "cell_type": "code",
   "execution_count": 8,
   "metadata": {},
   "outputs": [
    {
     "name": "stdout",
     "output_type": "stream",
     "text": [
      "['diagnosis: AD' 'diagnosis: CTRL']\n",
      "['post-mortem diagnosis: Control'\n",
      " \"post-mortem diagnosis: Alzheimer's disease\"]\n",
      "['diagnosis: AD' 'diagnosis: ND']\n",
      "['Sex: F' 'Sex: M']\n",
      "['gender: F' 'gender: M']\n",
      "['gender: F' 'gender: M']\n"
     ]
    }
   ],
   "source": [
    "GSE66351_pheno = pd.read_csv(\"E:\\\\Msc Systems Biology\\\\MSB5000_Master_Thesis\\\\Practical work\\\\Data\\\\GSE66351_RAW\\\\GSE66351_pheno.txt\", header = None, sep = \"\\t\")\n",
    "GSE105109_pheno = pd.read_csv(\"E:\\\\Msc Systems Biology\\\\MSB5000_Master_Thesis\\\\Practical work\\\\Data\\\\GSE105109_RAW\\\\GSE105109_pheno.txt\", header = None, sep =\"\\t\")\n",
    "GSE134379_pheno = pd.read_csv(\"E:\\\\Msc Systems Biology\\\\MSB5000_Master_Thesis\\\\Practical work\\\\Data\\\\GSE134379_RAW\\\\GSE134379_pheno.txt\", header = None,sep=\"\\t\")\n",
    "\n",
    "GSE66351_pheno = GSE66351_pheno.T\n",
    "GSE105109_pheno = GSE105109_pheno.T\n",
    "GSE134379_pheno = GSE134379_pheno.T\n",
    "\n",
    "GSE66351_pheno.columns = GSE66351_pheno.iloc[0,:]\n",
    "GSE66351_pheno.drop(0, inplace=True)\n",
    "GSE105109_pheno.columns = GSE105109_pheno.iloc[0,:]\n",
    "GSE105109_pheno.drop(0, inplace=True)\n",
    "GSE134379_pheno.columns = GSE134379_pheno.iloc[0,:]\n",
    "GSE134379_pheno.drop(0, inplace=True)\n",
    "# get the relevant columns from each dataset\n",
    "# diagnosis, age, sex, braak stage, sample_id/sample_title\n",
    "GSE66351_pheno = GSE66351_pheno.loc[:, [\"Sample_title\",  \"Diagnosis\", \"Age\", \"Sex\"]]\n",
    "GSE105109_pheno = GSE105109_pheno.loc[:, [\"Sample_title\",  \"Diagnosis\", \"Sex\", \"Age\"]]\n",
    "GSE134379_pheno = GSE134379_pheno.loc[:, [\"Sample_title\", \"Diagnosis\", \"Sex\", \"Age\"]]\n",
    "# check for each dataset how the binary phenotypes diagnosis and sex are coded\n",
    "# Diagnosis\n",
    "print(GSE66351_pheno[\"Diagnosis\"].unique())\n",
    "print(GSE105109_pheno[\"Diagnosis\"].unique())\n",
    "print(GSE134379_pheno[\"Diagnosis\"].unique())\n",
    "\n",
    "# Sex\n",
    "print(GSE66351_pheno[\"Sex\"].unique())\n",
    "print(GSE105109_pheno[\"Sex\"].unique())\n",
    "print(GSE134379_pheno[\"Sex\"].unique())"
   ]
  },
  {
   "cell_type": "code",
   "execution_count": 9,
   "metadata": {},
   "outputs": [],
   "source": [
    "# recode the diagnosis column in each dataset to \"diagnosis: AD\" for alzheimers diagnosis and \"diagnosis: CTRL\" for control\n",
    "# GSE66351_pheno stays the way it is because this is the basis for the change\n",
    "\n",
    "GSE105109_pheno.loc[GSE105109_pheno[\"Diagnosis\"] == \"post-mortem diagnosis: Control\", \"Diagnosis\"] = \"diagnosis: CTRL\"\n",
    "GSE105109_pheno.loc[GSE105109_pheno[\"Diagnosis\"] == \"post-mortem diagnosis: Alzheimer's disease\", \"Diagnosis\"] = \"diagnosis: AD\"\n",
    "\n",
    "GSE134379_pheno.loc[GSE134379_pheno[\"Diagnosis\"] == \"diagnosis: ND\", \"Diagnosis\"] = \"diagnosis: CTRL\"\n",
    "GSE134379_pheno.loc[GSE134379_pheno[\"Diagnosis\"] == \"diagnosis: AD\", \"Diagnosis\"] = \"diagnosis: AD\"\n",
    "# recode the sex column so in all datasets \"gender: F\" is females and \"gender: M\" is males\n",
    "# only GSE66351 needs to be recoded that way\n",
    "\n",
    "GSE66351_pheno.loc[GSE66351_pheno[\"Sex\"] == \"Sex: F\", \"Sex\"] = \"gender: F\"\n",
    "GSE66351_pheno.loc[GSE66351_pheno[\"Sex\"] == \"Sex: M\", \"Sex\"] = \"gender: M\"\n",
    "\n",
    "# add the sample IDs (based on the names of the .idat files) to the phenotype frames\n",
    "GSE66351_sampleIDs = [f for f in os.listdir(\"E:\\\\Msc Systems Biology\\\\MSB5000_Master_Thesis\\\\Practical work\\\\Data\\\\GSE66351_RAW\\\\idat\") if fnmatch.fnmatch(f, \"*.idat\")]\n",
    "GSE66351_sampleID = []\n",
    "for id in GSE66351_sampleIDs:\n",
    "    if id[0:len(id)-9] not in GSE66351_sampleID:\n",
    "        GSE66351_sampleID.append(id[0:len(id)-9])\n",
    "GSE66351_pheno[\"Sample_ID\"] = GSE66351_sampleID\n",
    "\n",
    "GSE105109_sampleIDs = [f for f in os.listdir(\"E:\\\\Msc Systems Biology\\\\MSB5000_Master_Thesis\\\\Practical work\\\\Data\\\\GSE105109_RAW\\\\idat\") if fnmatch.fnmatch(f, \"*.idat\")]\n",
    "GSE105109_sampleID = []\n",
    "for id in GSE105109_sampleIDs:\n",
    "    if id[0:len(id)-9] not in GSE105109_sampleID:\n",
    "        GSE105109_sampleID.append(id[0:len(id)-9])\n",
    "GSE105109_pheno[\"Sample_ID\"] = GSE105109_sampleID\n",
    "\n",
    "GSE134379_sampleIDs = [f for f in os.listdir(\"E:\\\\Msc Systems Biology\\\\MSB5000_Master_Thesis\\\\Practical work\\\\Data\\\\GSE134379_RAW\\\\idat\") if fnmatch.fnmatch(f, \"*.idat\")]\n",
    "GSE134379_sampleID = []\n",
    "for id in GSE134379_sampleIDs:\n",
    "    if id[0:len(id)-9] not in GSE134379_sampleID:\n",
    "        GSE134379_sampleID.append(id[0:len(id)-9])\n",
    "\n",
    "GSE134379_pheno[\"Sample_ID\"] = GSE134379_sampleID\n",
    "\n",
    "# combine the datasets and include a column or something with information about which samples come from which dataset\n",
    "unified_phenotype = pd.concat([GSE66351_pheno, GSE105109_pheno, GSE134379_pheno], keys = [\"GSE66351\", \"GSE105109\", \"GSE134379\"])\n",
    "unified_phenotype.set_index(unified_phenotype.index.droplevel(1), inplace = True)\n",
    "# name the index column\n",
    "unified_phenotype.index.set_names([\"Dataset_ID\"], inplace=True)\n",
    "unified_phenotype.Name = \"Combined Dataset\"\n",
    "# save the unified phenotype file\n",
    "unified_phenotype.to_csv(\"E:\\\\Msc Systems Biology\\\\MSB5000_Master_Thesis\\\\Practical work\\\\Data\\\\Unified_dataset_pheno.csv\")\n",
    "\n"
   ]
  },
  {
   "cell_type": "markdown",
   "metadata": {},
   "source": [
    "### Generate balanced and imbalanced splits of the unified dataset  \n",
    "These are used to test the performance of the federated method in situations where the client set are imbalanced in terms of sample size or class label distribution"
   ]
  },
  {
   "cell_type": "code",
   "execution_count": 14,
   "metadata": {},
   "outputs": [],
   "source": [
    "# check for balance of class labels (AD vs. Control) in each of the datasets and the unified one\n",
    "datasets = {\"GSE66351\":GSE66351_pheno, \"GSE105109\":GSE105109_pheno, \"GSE134379\":GSE134379_pheno, \"combined\":unified_phenotype}\n",
    "\n",
    "for i in datasets:\n",
    "    x,y = datasets[i].loc[:, \"Diagnosis\"].value_counts()\n",
    "    print(\"In %s there are: %s AD samples and %s control samples. AD/CTRL = %s\"%(i,x,y,(x/y)))"
   ]
  },
  {
   "cell_type": "code",
   "execution_count": null,
   "metadata": {},
   "outputs": [],
   "source": [
    "# create splits from the unified dataset to test the performance of the "
   ]
  }
 ],
 "metadata": {
  "interpreter": {
   "hash": "0a54084e6b208ee8d1ce3989ffc20924477a5f55f5a43e22e699a6741623861e"
  },
  "kernelspec": {
   "display_name": "Python 3.7.8 64-bit",
   "language": "python",
   "name": "python3"
  },
  "language_info": {
   "codemirror_mode": {
    "name": "ipython",
    "version": 3
   },
   "file_extension": ".py",
   "mimetype": "text/x-python",
   "name": "python",
   "nbconvert_exporter": "python",
   "pygments_lexer": "ipython3",
   "version": "3.7.8"
  },
  "orig_nbformat": 4
 },
 "nbformat": 4,
 "nbformat_minor": 2
}

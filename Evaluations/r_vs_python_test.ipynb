{
 "cells": [
  {
   "cell_type": "code",
   "execution_count": 1,
   "metadata": {},
   "outputs": [],
   "source": [
    "import pandas as pd\n",
    "import numpy as np\n",
    "import math\n",
    "import os\n",
    "import matplotlib.pyplot as plt\n",
    "import seaborn as sns"
   ]
  },
  {
   "cell_type": "code",
   "execution_count": 2,
   "metadata": {},
   "outputs": [],
   "source": [
    "testdata_dir = \"E:\\\\Msc Systems Biology\\\\MSB5000_Master_Thesis\\\\Practical work\\\\Federated_Differential_Methylation_Analysis\\\\Fed_test\""
   ]
  },
  {
   "cell_type": "markdown",
   "metadata": {},
   "source": [
    "## Dasen normalisation results evaluation  \n",
    "Comparing the betas calculated based on the dasen normalised methylated and unmethylated values obtained from the original R code (dasen() in the wateRmelon package), the centrally implemented pythonic translation of the dasen normalisation and the federated implementation of the pythonic translation of the dasen normalisation"
   ]
  },
  {
   "cell_type": "code",
   "execution_count": 2,
   "metadata": {},
   "outputs": [],
   "source": [
    "R_dasen = pd.read_csv(\"E:\\\\Msc Systems Biology\\\\MSB5000_Master_Thesis\\\\Practical work\\\\Data\\\\Data_Full_Datasets\\\\GSE66351\\\\Normalised_Betas.csv\" , index_col=0)\n",
    "Python_dasen = pd.read_csv(\"E:\\\\Msc Systems Biology\\\\MSB5000_Master_Thesis\\\\Practical work\\\\Data\\\\QC_Python\\\\GSE66351_normalised_betas.csv\", index_col=0)\n",
    "Federated_dasen1 = pd.read_csv(\"E:\\\\Msc Systems Biology\\\\MSB5000_Master_Thesis\\\\Practical work\\\\Data\\\\GSE66351_Fed\\\\even_split1_betas.csv\", index_col=0)\n",
    "Federated_dasen2 = pd.read_csv(\"E:\\\\Msc Systems Biology\\\\MSB5000_Master_Thesis\\\\Practical work\\\\Data\\\\GSE66351_Fed\\\\even_split2_betas.csv\", index_col=0)\n",
    "Federated_dasen3 = pd.read_csv(\"E:\\\\Msc Systems Biology\\\\MSB5000_Master_Thesis\\\\Practical work\\\\Data\\\\GSE66351_Fed\\\\even_split3_betas.csv\", index_col=0)\n",
    "\n",
    "\n"
   ]
  },
  {
   "cell_type": "code",
   "execution_count": 3,
   "metadata": {},
   "outputs": [],
   "source": [
    "Federated_dasen = pd.merge(Federated_dasen1, Federated_dasen2, how=\"left\", left_index=True, right_index=True)\n",
    "Federated_dasen = pd.merge(Federated_dasen, Federated_dasen3, how=\"left\", left_index=True, right_index=True)\n",
    "Federated_dasen = Federated_dasen[R_dasen.columns]"
   ]
  },
  {
   "cell_type": "code",
   "execution_count": 4,
   "metadata": {},
   "outputs": [],
   "source": [
    "#test data performance metrics\n",
    "r_das_test = pd.read_csv(\"E:\\\\Msc Systems Biology\\\\MSB5000_Master_Thesis\\\\Practical work\\\\Federated_Differential_Methylation_Analysis\\\\Fed_test\\\\rNorm_test_betas.csv\", index_col =0)\n",
    "fed_das_test1 = pd.read_csv(\"E:\\\\Msc Systems Biology\\\\MSB5000_Master_Thesis\\\\Practical work\\\\Federated_Differential_Methylation_Analysis\\\\Fed_test\\\\split1_betas.csv\", index_col=0)\n",
    "fed_das_test2 = pd.read_csv(\"E:\\\\Msc Systems Biology\\\\MSB5000_Master_Thesis\\\\Practical work\\\\Federated_Differential_Methylation_Analysis\\\\Fed_test\\\\split2_betas.csv\", index_col=0)\n",
    "fed_das_test3 = pd.read_csv(\"E:\\\\Msc Systems Biology\\\\MSB5000_Master_Thesis\\\\Practical work\\\\Federated_Differential_Methylation_Analysis\\\\Fed_test\\\\split3_betas.csv\", index_col=0)\n",
    "fed_das_test = pd.merge(fed_das_test1, fed_das_test2, how=\"inner\", left_index=True, right_index=True)\n",
    "fed_das_test = pd.merge(fed_das_test, fed_das_test3, how=\"inner\", left_index=True, right_index=True)"
   ]
  },
  {
   "cell_type": "markdown",
   "metadata": {},
   "source": [
    "### Central pythonic implementation"
   ]
  },
  {
   "cell_type": "code",
   "execution_count": 5,
   "metadata": {},
   "outputs": [
    {
     "name": "stdout",
     "output_type": "stream",
     "text": [
      "The mean absolute average difference between R and pythonic dasen is:  7.16690692983588e-06\n"
     ]
    }
   ],
   "source": [
    "# absolute difference between the beta values\n",
    "if np.all(R_dasen.index == Python_dasen.index):\n",
    "    dasen_diff_python = pd.Series.abs(R_dasen - Python_dasen) \n",
    "else: print(\"different probes in the two dataframes\")\n",
    "\n",
    "average_absolute_diff_python_dasen = dasen_diff_python.mean(axis = 1)\n",
    "print(\"The mean absolute average difference between R and pythonic dasen is: \", average_absolute_diff_python_dasen.max())"
   ]
  },
  {
   "cell_type": "code",
   "execution_count": 6,
   "metadata": {},
   "outputs": [
    {
     "name": "stdout",
     "output_type": "stream",
     "text": [
      "The mean relative average difference between R and pythonic dasen is:  1.5526348833412653e-06\n",
      "The minimum relative average difference between R and pythonic dasen is:  0.0\n",
      "The maximum relative average difference between R and pythonic dasen is:  1.757387445496567e-05\n"
     ]
    }
   ],
   "source": [
    "print(\"The mean relative average difference between R and pythonic dasen is: \",np.mean((pd.Series.abs((R_dasen - Python_dasen))/R_dasen).max(axis = 1)))\n",
    "print(\"The minimum relative average difference between R and pythonic dasen is: \",np.min(((pd.Series.abs(R_dasen - Python_dasen)/R_dasen).min(axis = 1))))\n",
    "print(\"The maximum relative average difference between R and pythonic dasen is: \",np.max(((pd.Series.abs(R_dasen - Python_dasen)/R_dasen).max(axis = 1))))"
   ]
  },
  {
   "cell_type": "code",
   "execution_count": 7,
   "metadata": {},
   "outputs": [
    {
     "name": "stdout",
     "output_type": "stream",
     "text": [
      "The mean RMSE between R and pyhtonic dasen is: 5.352793403977261e-06\n",
      "The min RMSE between R and pyhtonic dasen is: 0.0\n",
      "The max RMSE between R and pyhtonic dasen is: 5.49582515085282e-05\n"
     ]
    }
   ],
   "source": [
    "# root mean square error between the pythonic/federated beta values and the r beta values (used as ground truth values)\n",
    "RSEM_probe = np.sqrt(pd.DataFrame.abs((R_dasen - Python_dasen).sum(axis=1)/len(R_dasen))) #for each probe\n",
    "print(\"The mean RMSE between R and pyhtonic dasen is:\", np.sqrt(pd.DataFrame.abs((R_dasen - Python_dasen).sum(axis=1)/len(R_dasen))).mean())\n",
    "print(\"The min RMSE between R and pyhtonic dasen is:\", np.sqrt(pd.DataFrame.abs((R_dasen - Python_dasen).sum(axis=1)/len(R_dasen))).min())\n",
    "print(\"The max RMSE between R and pyhtonic dasen is:\", np.sqrt(pd.DataFrame.abs((R_dasen - Python_dasen).sum(axis=1)/len(R_dasen))).max())"
   ]
  },
  {
   "cell_type": "markdown",
   "metadata": {},
   "source": [
    "### Federated implementation"
   ]
  },
  {
   "cell_type": "markdown",
   "metadata": {},
   "source": [
    "Test data"
   ]
  },
  {
   "cell_type": "code",
   "execution_count": 9,
   "metadata": {},
   "outputs": [
    {
     "name": "stdout",
     "output_type": "stream",
     "text": [
      "The max absolute average difference between R_test and Federated_test dasen normalised is:  3.348869451328341e-16\n",
      "The min absolute average difference between R_test and Federated_test dasen normalised is:  3.412570772413391e-18\n",
      "The mean absolute average difference between R_test and Federated_test dasen normalised is:  2.313929079847895e-16\n"
     ]
    }
   ],
   "source": [
    "# absolute difference between the beta values\n",
    "if np.all(r_das_test.index == fed_das_test.index):\n",
    "    dasen_test_diff_federated = pd.Series.abs(r_das_test - fed_das_test) \n",
    "else: print(\"different probes in the two dataframes\")\n",
    "\n",
    "average_absolute_diff_test_dasen = dasen_test_diff_federated.mean(axis = 1)\n",
    "print(\"The max absolute average difference between R_test and Federated_test dasen normalised is: \", average_absolute_diff_test_dasen.max())\n",
    "print(\"The min absolute average difference between R_test and Federated_test dasen normalised is: \", average_absolute_diff_test_dasen.min())\n",
    "print(\"The mean absolute average difference between R_test and Federated_test dasen normalised is: \", average_absolute_diff_test_dasen.mean())"
   ]
  },
  {
   "cell_type": "code",
   "execution_count": 10,
   "metadata": {},
   "outputs": [
    {
     "name": "stdout",
     "output_type": "stream",
     "text": [
      "The mean relative average difference between R_test and Federated_test dasen normalised is:  1.922085700728285e-15\n",
      "The min relative average difference between R_test and Federated_test dasen normalised is:  0.0\n",
      "The max relative average difference between R_test and Federated_test dasen normalised is:  6.079775351510178e-15\n"
     ]
    }
   ],
   "source": [
    "print(\"The mean relative average difference between R_test and Federated_test dasen normalised is: \", np.mean((pd.Series.abs((r_das_test - fed_das_test))/r_das_test).max(axis = 1)))\n",
    "print(\"The min relative average difference between R_test and Federated_test dasen normalised is: \", np.min(((pd.Series.abs(r_das_test - fed_das_test)/r_das_test).min(axis = 1))))\n",
    "print(\"The max relative average difference between R_test and Federated_test dasen normalised is: \", np.max(((pd.Series.abs(r_das_test - fed_das_test)/r_das_test).max(axis = 1))))"
   ]
  },
  {
   "cell_type": "code",
   "execution_count": 7,
   "metadata": {},
   "outputs": [
    {
     "name": "stdout",
     "output_type": "stream",
     "text": [
      "The mean RMSE between the R_test and Federated_test dasen normalised data is: 6.185278304593187e-11\n",
      "The min RMSE between the R_test and Federated_test dasen normalised data is: 0.0\n",
      "The max RMSE between the R_test and Federated_test dasen normalised data is: 1.599377041945058e-10\n"
     ]
    }
   ],
   "source": [
    "# root mean square error between the pythonic/federated beta values and the r beta values (used as ground truth values)\n",
    "#RSEM_probe = np.sqrt(pd.DataFrame.abs((r_das_test - fed_das_test).sum(axis=1)/len(r_das_test))) #for each probe\n",
    "print(\"The mean RMSE between the R_test and Federated_test dasen normalised data is:\", np.sqrt(pd.DataFrame.abs((r_das_test - fed_das_test).sum(axis=1)/len(r_das_test))).mean())\n",
    "print(\"The min RMSE between the R_test and Federated_test dasen normalised data is:\", np.sqrt(pd.DataFrame.abs((r_das_test - fed_das_test).sum(axis=1)/len(r_das_test))).min())\n",
    "print(\"The max RMSE between the R_test and Federated_test dasen normalised data is:\", np.sqrt(pd.DataFrame.abs((r_das_test - fed_das_test).sum(axis=1)/len(r_das_test))).max())"
   ]
  },
  {
   "cell_type": "code",
   "execution_count": 12,
   "metadata": {},
   "outputs": [
    {
     "data": {
      "text/plain": [
       "Text(0.5, 1.0, 'GSE66351')"
      ]
     },
     "execution_count": 12,
     "metadata": {},
     "output_type": "execute_result"
    },
    {
     "data": {
      "image/png": "[encoded data removed]",
      "text/plain": [
       "<Figure size 540x540 with 2 Axes>"
      ]
     },
     "metadata": {
      "needs_background": "light"
     },
     "output_type": "display_data"
    }
   ],
   "source": [
    "import matplotlib.pyplot as plt\n",
    "import seaborn as sns\n",
    "#r and fed beta deviation desity distribution plot\n",
    "# absolute difference between the beta values\n",
    "if np.all(r_das_test.index == fed_das_test.index):\n",
    "    dasen_test_diff_federated = pd.Series.abs(r_das_test - fed_das_test) \n",
    "else: print(\"different probes in the two dataframes\")\n",
    "if np.all(R_dasen.index == Federated_dasen.index):\n",
    "    dasen_diff_federated = pd.Series.abs(R_dasen - Federated_dasen) \n",
    "else: print(\"different probes in the two dataframes\")\n",
    "n,m = dasen_test_diff_federated.shape\n",
    "fig, (ax1, ax2) = plt.subplots(nrows=1, ncols=2, figsize=(7.5,7.5))\n",
    "for sample in dasen_test_diff_federated.columns.values:\n",
    "    sns.kdeplot(x=dasen_test_diff_federated.loc[:,sample], ax=ax1)\n",
    "    ax1.set_xticks([])\n",
    "for sample in Federated_dasen.columns.values:\n",
    "    sns.kdeplot(x=dasen_diff_federated.loc[:,sample], ax=ax2)\n",
    "    ax2.set_xticks([])\n",
    "ax1.set_xlabel(\"Beta deviation distribution\")\n",
    "ax1.set_title(\"Test set\")\n",
    "ax2.set_xlabel(\"Beta deviation distribution\")\n",
    "ax2.set_title(\"GSE66351\")"
   ]
  },
  {
   "cell_type": "code",
   "execution_count": 13,
   "metadata": {},
   "outputs": [],
   "source": [
    "fig.savefig(\"E:\\\\Msc Systems Biology\\\\MSB5000_Master_Thesis\\\\Practical work\\\\Federated_Differential_Methylation_Analysis\\\\Evaluations\\\\BetaDeviationDensDist.jpeg\")"
   ]
  },
  {
   "cell_type": "markdown",
   "metadata": {},
   "source": [
    "GSE66351 full dataset"
   ]
  },
  {
   "cell_type": "code",
   "execution_count": 8,
   "metadata": {},
   "outputs": [
    {
     "name": "stdout",
     "output_type": "stream",
     "text": [
      "2.982993968795486e-16\n"
     ]
    }
   ],
   "source": [
    "# absolute difference between the beta values\n",
    "if np.all(R_dasen.index == Federated_dasen.index):\n",
    "    dasen_diff_federated = pd.Series.abs(R_dasen - Federated_dasen) \n",
    "else: print(\"different probes in the two dataframes\")\n",
    "\n",
    "average_absolute_diff_python_dasen = dasen_diff_federated.mean(axis = 1)\n",
    "print(average_absolute_diff_python_dasen.max())"
   ]
  },
  {
   "cell_type": "code",
   "execution_count": 9,
   "metadata": {},
   "outputs": [
    {
     "name": "stdout",
     "output_type": "stream",
     "text": [
      "1.8861091433550313e-15\n",
      "0.0\n",
      "6.105011993624403e-15\n"
     ]
    }
   ],
   "source": [
    "print(\"The mean relative average difference between R and Federated dasen is: \", np.mean((pd.Series.abs((R_dasen - Federated_dasen))/R_dasen).max(axis = 1)))\n",
    "print(\"The mean relative average difference between R and Federated dasen is: \", np.min(((pd.Series.abs(R_dasen - Federated_dasen)/R_dasen).min(axis = 1))))\n",
    "print(\"The mean relative average difference between R and Federated dasen is: \", np.max(((pd.Series.abs(R_dasen - Federated_dasen)/R_dasen).max(axis = 1))))"
   ]
  },
  {
   "cell_type": "code",
   "execution_count": 10,
   "metadata": {},
   "outputs": [
    {
     "name": "stdout",
     "output_type": "stream",
     "text": [
      "The mean RMSE between the R normalised and the Pyhton normalised data is: 9.384626493805113e-11\n",
      "The min RMSE between the R normalised and the Pyhton normalised data is: 0.0\n",
      "The max RMSE between the R normalised and the Pyhton normalised data is: 2.537646863184569e-10\n"
     ]
    }
   ],
   "source": [
    "# root mean square error between the pythonic/federated beta values and the r beta values (used as ground truth values)\n",
    "RSEM_probe = np.sqrt(pd.DataFrame.abs((R_dasen - Federated_dasen).sum(axis=1)/len(R_dasen))) #for each probe\n",
    "print(\"The mean RMSE between the R normalised and the Federated normalised data is:\", np.sqrt(pd.DataFrame.abs((R_dasen - Federated_dasen).sum(axis=1)/len(R_dasen))).mean())\n",
    "print(\"The min RMSE between the R normalised and the Federated normalised data is:\", np.sqrt(pd.DataFrame.abs((R_dasen - Federated_dasen).sum(axis=1)/len(R_dasen))).min())\n",
    "print(\"The max RMSE between the R normalised and the Federated normalised data is:\", np.sqrt(pd.DataFrame.abs((R_dasen - Federated_dasen).sum(axis=1)/len(R_dasen))).max())"
   ]
  },
  {
   "cell_type": "code",
   "execution_count": null,
   "metadata": {},
   "outputs": [],
   "source": [
    "#r and fed beta deviation desity distribution plot"
   ]
  },
  {
   "cell_type": "markdown",
   "metadata": {},
   "source": [
    "## EWAS results evaluation"
   ]
  },
  {
   "cell_type": "code",
   "execution_count": null,
   "metadata": {},
   "outputs": [],
   "source": [
    "\"E:\\Msc Systems Biology\\MSB5000_Master_Thesis\\Practical work\\Data\\GSE66351_Fed\\even_splits_EWAS_results.csv\""
   ]
  },
  {
   "cell_type": "code",
   "execution_count": 27,
   "metadata": {},
   "outputs": [],
   "source": [
    "R_EWAS = pd.read_csv(\"E:\\\\Msc Systems Biology\\\\MSB5000_Master_Thesis\\\\Practical work\\\\Data\\\\Data_Full_Datasets\\\\GSE66351\\\\EWAS\\\\EWAS_GSE66351\\\\Small_Results_dataset.csv\", index_col=0)\n",
    "#R_EWAS_test = R_EWAS.iloc[0:21,:]\n",
    "Python_EWAS = pd.read_csv(\"E:\\\\Msc Systems Biology\\\\MSB5000_Master_Thesis\\\\Practical work\\\\Data\\\\QC_Python\\\\GSE66351full_results_regression_python.csv\", header=[0,1], index_col=0)\n",
    "Federated_EWAS = pd.read_csv(\"E:\\Msc Systems Biology\\MSB5000_Master_Thesis\\Practical work\\Data\\GSE66351_Fed\\even_splits_EWAS_results.csv\", index_col=0)\n",
    "#Federated_EWAS_test = Federated_EWAS.iloc[0:21,:]\n",
    "Federated_EWAS = Federated_EWAS.loc[R_EWAS.index.values,:] # get the probes in the same oder\n",
    "#test data\n",
    "r_ewas_test = pd.read_csv(\"E:\\\\Msc Systems Biology\\\\MSB5000_Master_Thesis\\\\Practical work\\\\Federated_Differential_Methylation_Analysis\\\\Fed_test\\\\central_r_test_out.csv\", index_col=0)\n",
    "fed_ewas_test = pd.read_csv(\"E:\\\\Msc Systems Biology\\\\MSB5000_Master_Thesis\\\\Practical work\\\\Federated_Differential_Methylation_Analysis\\\\Fed_test\\\\fed_limma_even_splits.csv\", index_col=0) \n",
    "fed_ewas_test = fed_ewas_test.loc[r_ewas_test.index.values, :]\n"
   ]
  },
  {
   "cell_type": "markdown",
   "metadata": {},
   "source": [
    "Centrally run python linear model"
   ]
  },
  {
   "cell_type": "code",
   "execution_count": 14,
   "metadata": {},
   "outputs": [],
   "source": [
    "\n"
   ]
  },
  {
   "cell_type": "markdown",
   "metadata": {},
   "source": [
    "Federated implementation on test set"
   ]
  },
  {
   "cell_type": "code",
   "execution_count": 28,
   "metadata": {},
   "outputs": [
    {
     "name": "stdout",
     "output_type": "stream",
     "text": [
      "min absolute difference between R_test and Federated_test coefficients:  0.0\n",
      "min absolute difference between R_test and Federated_test coefficients:  2.0934690023400262e-14\n",
      "max absolute difference between R_test and Federated_test coefficients:  7.859988701564014e-14\n"
     ]
    }
   ],
   "source": [
    "if np.all(r_ewas_test.index == fed_ewas_test.index):\n",
    "    coef_diff_federated = pd.Series.abs(r_ewas_test.loc[:,\"logFC\"] - fed_ewas_test.loc[:,\"logFC\"]) # the (* -1) negates the sign difference between python and r calculated\n",
    "    #regression coefficients\n",
    "else: print(\"different probes in the two dataframes\")\n",
    "\n",
    "average_absolute_diff_federated = coef_diff_federated.mean()\n",
    "\n",
    "\n",
    "print(\"min absolute difference between R_test and Federated_test coefficients: \", coef_diff_federated.min())\n",
    "print(\"mean absolute difference between R_test and Federated_test coefficients: \", average_absolute_diff_federated)\n",
    "print(\"max absolute difference between R_test and Federated_test coefficients: \", coef_diff_federated.max())"
   ]
  },
  {
   "cell_type": "code",
   "execution_count": 30,
   "metadata": {},
   "outputs": [
    {
     "data": {
      "text/plain": [
       "2.0934214912236577e-14"
      ]
     },
     "execution_count": 30,
     "metadata": {},
     "output_type": "execute_result"
    }
   ],
   "source": [
    "#relative absolute error\n",
    "pd.Series.abs(sum((r_ewas_test[\"logFC\"] - fed_ewas_test[\"logFC\"]))/len(r_ewas_test[\"logFC\"]))"
   ]
  },
  {
   "cell_type": "code",
   "execution_count": 31,
   "metadata": {},
   "outputs": [
    {
     "name": "stdout",
     "output_type": "stream",
     "text": [
      "1.4468660930520054e-07\n"
     ]
    }
   ],
   "source": [
    "#check root mean square error between the r (ground truth) and python generated regression coefficients\n",
    "RMSE_fed = math.sqrt(pd.Series.abs(sum(((r_ewas_test[\"logFC\"] - fed_ewas_test[\"logFC\"]))/len(r_ewas_test[\"logFC\"]))))\n",
    "print(RMSE_fed) "
   ]
  },
  {
   "cell_type": "markdown",
   "metadata": {},
   "source": [
    "Federated implemenation on GSE66351 full dataset"
   ]
  },
  {
   "cell_type": "code",
   "execution_count": 19,
   "metadata": {},
   "outputs": [
    {
     "name": "stdout",
     "output_type": "stream",
     "text": [
      "min absolute difference between R and Federated coefficients:  8.505939876057855e-11\n",
      "min absolute difference between R and Federated coefficients:  0.0001519924228280258\n",
      "max absolute difference between R and Federated coefficients:  0.003977356622969599\n"
     ]
    }
   ],
   "source": [
    "if np.all(R_EWAS.index == Federated_EWAS.index):\n",
    "    coef_diff_federated = pd.Series.abs(R_EWAS.loc[:,\"logFC\"] - Federated_EWAS.loc[:,\"logFC\"]) # the (* -1) negates the sign difference between python and r calculated\n",
    "    #regression coefficients\n",
    "else: print(\"different probes in the two dataframes\")\n",
    "\n",
    "average_absolute_diff_federated = coef_diff_federated.mean()\n",
    "\n",
    "\n",
    "print(\"min absolute difference between R and Federated coefficients: \", coef_diff_federated.min())\n",
    "print(\"min absolute difference between R and Federated coefficients: \", average_absolute_diff_federated)\n",
    "print(\"max absolute difference between R and Federated coefficients: \", coef_diff_federated.max())"
   ]
  },
  {
   "cell_type": "code",
   "execution_count": 18,
   "metadata": {},
   "outputs": [
    {
     "data": {
      "text/plain": [
       "4.360390578587629e-07"
      ]
     },
     "execution_count": 18,
     "metadata": {},
     "output_type": "execute_result"
    }
   ],
   "source": [
    "pd.Series.abs(sum((R_EWAS[\"logFC\"] - Federated_EWAS[\"logFC\"]))/len(R_EWAS[\"logFC\"]))"
   ]
  },
  {
   "cell_type": "code",
   "execution_count": 41,
   "metadata": {},
   "outputs": [
    {
     "name": "stdout",
     "output_type": "stream",
     "text": [
      "0.005042883263458197\n"
     ]
    }
   ],
   "source": [
    "#check root mean square error between the r (ground truth) and python generated regression coefficients\n",
    "RMSE_fed = math.sqrt(pd.Series.abs(sum(((R_EWAS[\"logFC\"] - Federated_EWAS[\"logFC\"]))/len(R_EWAS[\"logFC\"]))))\n",
    "#RMSE_federated = math.sqrt(pd.Series.abs(sum(((R_EWAS_test[\"Diagnosis_Beta\"]*-1) - Federated_EWAS_test[(\"Coefficient\", \"Diagnosis\")]))/len(R_EWAS_test[\"Diagnosis_Beta\"])))\n",
    "print(RMSE_fed) "
   ]
  },
  {
   "cell_type": "code",
   "execution_count": 20,
   "metadata": {},
   "outputs": [
    {
     "ename": "AttributeError",
     "evalue": "'float' object has no attribute 'mean'",
     "output_type": "error",
     "traceback": [
      "\u001b[1;31m---------------------------------------------------------------------------\u001b[0m",
      "\u001b[1;31mAttributeError\u001b[0m                            Traceback (most recent call last)",
      "\u001b[1;32m~\\AppData\\Local\\Temp\\ipykernel_13692\\3503082710.py\u001b[0m in \u001b[0;36m<module>\u001b[1;34m\u001b[0m\n\u001b[1;32m----> 1\u001b[1;33m \u001b[0mmath\u001b[0m\u001b[1;33m.\u001b[0m\u001b[0msqrt\u001b[0m\u001b[1;33m(\u001b[0m\u001b[0mpd\u001b[0m\u001b[1;33m.\u001b[0m\u001b[0mSeries\u001b[0m\u001b[1;33m.\u001b[0m\u001b[0mabs\u001b[0m\u001b[1;33m(\u001b[0m\u001b[0msum\u001b[0m\u001b[1;33m(\u001b[0m\u001b[1;33m(\u001b[0m\u001b[1;33m(\u001b[0m\u001b[0mR_EWAS\u001b[0m\u001b[1;33m[\u001b[0m\u001b[1;34m\"logFC\"\u001b[0m\u001b[1;33m]\u001b[0m \u001b[1;33m-\u001b[0m \u001b[0mFederated_EWAS\u001b[0m\u001b[1;33m[\u001b[0m\u001b[1;34m\"logFC\"\u001b[0m\u001b[1;33m]\u001b[0m\u001b[1;33m)\u001b[0m\u001b[1;33m)\u001b[0m\u001b[1;33m/\u001b[0m\u001b[0mlen\u001b[0m\u001b[1;33m(\u001b[0m\u001b[0mR_EWAS\u001b[0m\u001b[1;33m[\u001b[0m\u001b[1;34m\"logFC\"\u001b[0m\u001b[1;33m]\u001b[0m\u001b[1;33m)\u001b[0m\u001b[1;33m)\u001b[0m\u001b[1;33m)\u001b[0m\u001b[1;33m)\u001b[0m\u001b[1;33m.\u001b[0m\u001b[0mmean\u001b[0m\u001b[1;33m(\u001b[0m\u001b[1;33m)\u001b[0m\u001b[1;33m\u001b[0m\u001b[1;33m\u001b[0m\u001b[0m\n\u001b[0m",
      "\u001b[1;31mAttributeError\u001b[0m: 'float' object has no attribute 'mean'"
     ]
    }
   ],
   "source": [
    "math.sqrt(pd.Series.abs(sum(((R_EWAS[\"logFC\"] - Federated_EWAS[\"logFC\"]))/len(R_EWAS[\"logFC\"]))))"
   ]
  }
 ],
 "metadata": {
  "interpreter": {
   "hash": "0a54084e6b208ee8d1ce3989ffc20924477a5f55f5a43e22e699a6741623861e"
  },
  "kernelspec": {
   "display_name": "Python 3.7.8 64-bit",
   "language": "python",
   "name": "python3"
  },
  "language_info": {
   "codemirror_mode": {
    "name": "ipython",
    "version": 3
   },
   "file_extension": ".py",
   "mimetype": "text/x-python",
   "name": "python",
   "nbconvert_exporter": "python",
   "pygments_lexer": "ipython3",
   "version": "3.7.8"
  },
  "orig_nbformat": 4
 },
 "nbformat": 4,
 "nbformat_minor": 2
}

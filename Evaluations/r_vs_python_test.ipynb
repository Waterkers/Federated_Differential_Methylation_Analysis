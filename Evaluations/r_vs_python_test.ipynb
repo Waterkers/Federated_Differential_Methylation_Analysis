{
 "cells": [
  {
   "cell_type": "code",
   "execution_count": 1,
   "metadata": {},
   "outputs": [],
   "source": [
    "import pandas as pd\n",
    "import numpy as np\n",
    "import math\n",
    "import os"
   ]
  },
  {
   "cell_type": "code",
   "execution_count": 2,
   "metadata": {},
   "outputs": [],
   "source": [
    "testdata_dir = \"E:\\\\Msc Systems Biology\\\\MSB5000_Master_Thesis\\\\Practical work\\\\Federated_Differential_Methylation_Analysis\\\\Fed_test\""
   ]
  },
  {
   "cell_type": "markdown",
   "metadata": {},
   "source": [
    "## Dasen normalisation results evaluation  \n",
    "Comparing the betas calculated based on the dasen normalised methylated and unmethylated values obtained from the original R code (dasen() in the wateRmelon package), the centrally implemented pythonic translation of the dasen normalisation and the federated implementation of the pythonic translation of the dasen normalisation"
   ]
  },
  {
   "cell_type": "code",
   "execution_count": 10,
   "metadata": {},
   "outputs": [],
   "source": [
    "R_dasen = pd.read_csv(\"E:\\\\Msc Systems Biology\\\\MSB5000_Master_Thesis\\\\Practical work\\\\Data\\\\Data_Full_Datasets\\\\GSE66351\\\\Normalised_Betas.csv\" , index_col=0)\n",
    "Python_dasen = pd.read_csv(\"E:\\\\Msc Systems Biology\\\\MSB5000_Master_Thesis\\\\Practical work\\\\Data\\\\QC_Python\\\\GSE66351_normalised_betas.csv\", index_col=0)\n",
    "Federated_dasen = None"
   ]
  },
  {
   "cell_type": "code",
   "execution_count": 3,
   "metadata": {},
   "outputs": [
    {
     "name": "stdout",
     "output_type": "stream",
     "text": [
      "0.00012390597584849053\n"
     ]
    }
   ],
   "source": [
    "# absolute difference between the beta values\n",
    "if np.all(R_dasen.index == Python_dasen.index):\n",
    "    dasen_diff_python = pd.Series.abs((R_dasen) - Python_dasen) # the (* -1) negates the sign difference between python and r calculated\n",
    "    #regression coefficients\n",
    "else: print(\"different probes in the two dataframes\")\n",
    "\n",
    "average_absolute_diff_python_dasen = dasen_diff_python.mean(axis = 1)\n",
    "print(average_absolute_diff_python_dasen.mean())"
   ]
  },
  {
   "cell_type": "code",
   "execution_count": 6,
   "metadata": {},
   "outputs": [],
   "source": [
    "absolute_average_python = Python_dasen.mean(axis=1)\n",
    "absolute_average_R = R_dasen.mean(axis=1)"
   ]
  },
  {
   "cell_type": "code",
   "execution_count": 20,
   "metadata": {},
   "outputs": [
    {
     "name": "stdout",
     "output_type": "stream",
     "text": [
      "0.0008556512048097859\n",
      "0.0\n",
      "0.2708994299697678\n"
     ]
    }
   ],
   "source": [
    "print(np.mean((pd.Series.abs((R_dasen - Python_dasen))/R_dasen).max(axis = 1)))\n",
    "print(np.min(((pd.Series.abs(R_dasen - Python_dasen)/R_dasen).min(axis = 1))))\n",
    "print(np.max(((pd.Series.abs(R_dasen - Python_dasen)/R_dasen).max(axis = 1))))"
   ]
  },
  {
   "cell_type": "code",
   "execution_count": 7,
   "metadata": {},
   "outputs": [
    {
     "name": "stdout",
     "output_type": "stream",
     "text": [
      "0.002988128437193094\n",
      "2.853828284798965e-12\n"
     ]
    }
   ],
   "source": [
    "absolute_av_diff = pd.Series.abs(absolute_average_R - absolute_average_python)\n",
    "print(absolute_av_diff.max())\n",
    "print(absolute_av_diff.min())\n",
    "#Python_dasen.iloc[:,np.argmax(pd.Series.abs(R_dasen.iloc[np.argmax(absolute_av_diff), :]) - pd.Series.abs(Python_dasen.iloc[np.argmax(absolute_av_diff), :]))]\n"
   ]
  },
  {
   "cell_type": "code",
   "execution_count": 18,
   "metadata": {},
   "outputs": [
    {
     "name": "stdout",
     "output_type": "stream",
     "text": [
      "The mean RMSE between the R normalised and the Pyhton normalised data is: 0.0001717427260360975\n",
      "The min RMSE between the R normalised and the Pyhton normalised data is: 3.467943626858678e-08\n",
      "The max RMSE between the R normalised and the Pyhton normalised data is: 0.0011221906740329704\n"
     ]
    }
   ],
   "source": [
    "# root mean square error between the pythonic/federated beta values and the r beta values (used as ground truth values)\n",
    "RSEM_probe = np.sqrt(pd.DataFrame.abs((R_dasen - Python_dasen).sum(axis=1)/len(R_dasen))) #for each probe\n",
    "print(\"The mean RMSE between the R normalised and the Pyhton normalised data is:\", np.sqrt(pd.DataFrame.abs((R_dasen - Python_dasen).sum(axis=1)/len(R_dasen))).mean())\n",
    "print(\"The min RMSE between the R normalised and the Pyhton normalised data is:\", np.sqrt(pd.DataFrame.abs((R_dasen - Python_dasen).sum(axis=1)/len(R_dasen))).min())\n",
    "print(\"The max RMSE between the R normalised and the Pyhton normalised data is:\", np.sqrt(pd.DataFrame.abs((R_dasen - Python_dasen).sum(axis=1)/len(R_dasen))).max())"
   ]
  },
  {
   "cell_type": "markdown",
   "metadata": {},
   "source": [
    "## EWAS results evaluation"
   ]
  },
  {
   "cell_type": "code",
   "execution_count": 3,
   "metadata": {},
   "outputs": [],
   "source": [
    "\n",
    "R_EWAS = pd.read_csv(\"E:\\\\Msc Systems Biology\\\\MSB5000_Master_Thesis\\\\Practical work\\\\Data\\\\Data_Full_Datasets\\\\GSE66351\\\\EWAS\\\\Results_small_dataset.csv\", index_col=0)\n",
    "#R_EWAS_test = R_EWAS.iloc[0:21,:]\n",
    "Python_EWAS = pd.read_csv(\"E:\\\\Msc Systems Biology\\\\MSB5000_Master_Thesis\\\\Practical work\\\\Data\\\\QC_Python\\\\GSE66351full_results_regression_python.csv\", header=[0,1], index_col=0)\n",
    "#Federated_EWAS = pd.read_csv(os.path.join(testdata_dir, \"Results_EWASa.csv\"), header=[0,1], index_col=0)\n",
    "#Federated_EWAS_test = Federated_EWAS.iloc[0:21,:]"
   ]
  },
  {
   "cell_type": "code",
   "execution_count": 14,
   "metadata": {},
   "outputs": [
    {
     "name": "stdout",
     "output_type": "stream",
     "text": [
      "6.046212435902385e-06\n"
     ]
    }
   ],
   "source": [
    "# check if the same probes are included in the test subset\n",
    "if np.all(R_EWAS.index == Python_EWAS.index):\n",
    "    coef_diff_python = pd.Series.abs( R_EWAS[\"Diagnosis_Beta\"] - (-1* Python_EWAS[(\"Coefficient\", \"Diagnosis\")])) # the (* -1) negates the sign difference between python and r calculated\n",
    "    #regression coefficients\n",
    "else: print(\"different probes in the two dataframes\")\n",
    "\n",
    "average_absolute_diff_python = coef_diff_python.mean()\n",
    "\n",
    "print(average_absolute_diff_python)"
   ]
  },
  {
   "cell_type": "code",
   "execution_count": 18,
   "metadata": {},
   "outputs": [
    {
     "name": "stdout",
     "output_type": "stream",
     "text": [
      "1.936052645962451e-08\n",
      "0.011176467686009127\n",
      "618.3820672863159\n"
     ]
    }
   ],
   "source": [
    "# percentage difference\n",
    "# abs(r - (-1*fed_p)) / r\n",
    "absolute_relative_diff = pd.Series.abs(R_EWAS[\"Diagnosis_Beta\"] - (-1* Python_EWAS[(\"Coefficient\", \"Diagnosis\")]))/pd.Series.abs(R_EWAS[\"Diagnosis_Beta\"])\n",
    "print(absolute_relative_diff.min())\n",
    "print(absolute_relative_diff.mean())\n",
    "print(absolute_relative_diff.max())"
   ]
  },
  {
   "cell_type": "code",
   "execution_count": 17,
   "metadata": {},
   "outputs": [],
   "source": [
    "test = pd.Series.abs(R_EWAS[\"Diagnosis_Beta\"] - (-1* Python_EWAS[(\"Coefficient\", \"Diagnosis\")]))\n",
    "test1 = R_EWAS[\"Diagnosis_Beta\"]"
   ]
  },
  {
   "cell_type": "code",
   "execution_count": null,
   "metadata": {},
   "outputs": [],
   "source": [
    "if np.all(R_EWAS.index == Federated_EWAS.index):\n",
    "    coef_diff_federated = pd.Series.abs((-1* R_EWAS[\"Diagnosis_Beta\"]) - Federated_EWAS[(\"Coefficient\", \"Diagnosis\")]) # the (* -1) negates the sign difference between python and r calculated\n",
    "    #regression coefficients\n",
    "else: print(\"different probes in the two dataframes\")\n",
    "\n",
    "average_absolute_diff_federated = coef_diff_federated.mean()\n",
    "\n",
    "print(average_absolute_diff_federated)"
   ]
  },
  {
   "cell_type": "code",
   "execution_count": 23,
   "metadata": {},
   "outputs": [
    {
     "data": {
      "text/plain": [
       "0.0241536102793927"
      ]
     },
     "execution_count": 23,
     "metadata": {},
     "output_type": "execute_result"
    }
   ],
   "source": [
    "pd.Series.abs(sum(((R_EWAS_test[\"Diagnosis_Beta\"]*-1) - Federated_EWAS_test[(\"Coefficient\", \"Diagnosis\")]))/len(R_EWAS_test[\"Diagnosis_Beta\"]))"
   ]
  },
  {
   "cell_type": "code",
   "execution_count": 13,
   "metadata": {},
   "outputs": [
    {
     "name": "stdout",
     "output_type": "stream",
     "text": [
      "0.0010689903872974755\n"
     ]
    }
   ],
   "source": [
    "#check root mean square error between the r (ground truth) and python generated regression coefficients\n",
    "RMSE_python = math.sqrt(pd.Series.abs(sum(((R_EWAS[\"Diagnosis_Beta\"] * -1) - Python_EWAS[(\"Coefficient\", \"Diagnosis\")]))/len(R_EWAS[\"Diagnosis_Beta\"])))\n",
    "#RMSE_federated = math.sqrt(pd.Series.abs(sum(((R_EWAS_test[\"Diagnosis_Beta\"]*-1) - Federated_EWAS_test[(\"Coefficient\", \"Diagnosis\")]))/len(R_EWAS_test[\"Diagnosis_Beta\"])))\n",
    "print(RMSE_python) #, RMSE_federated)"
   ]
  },
  {
   "cell_type": "markdown",
   "metadata": {},
   "source": [
    "## Federated results evaluation  \n",
    "Test how well it performs with imbalanced splits:  \n",
    "* Sample size imbalance  \n",
    "* Class lable imbalance"
   ]
  },
  {
   "cell_type": "code",
   "execution_count": null,
   "metadata": {},
   "outputs": [],
   "source": [
    "# load in the test data"
   ]
  }
 ],
 "metadata": {
  "interpreter": {
   "hash": "0a54084e6b208ee8d1ce3989ffc20924477a5f55f5a43e22e699a6741623861e"
  },
  "kernelspec": {
   "display_name": "Python 3.7.8 64-bit",
   "language": "python",
   "name": "python3"
  },
  "language_info": {
   "codemirror_mode": {
    "name": "ipython",
    "version": 3
   },
   "file_extension": ".py",
   "mimetype": "text/x-python",
   "name": "python",
   "nbconvert_exporter": "python",
   "pygments_lexer": "ipython3",
   "version": "3.7.8"
  },
  "orig_nbformat": 4
 },
 "nbformat": 4,
 "nbformat_minor": 2
}

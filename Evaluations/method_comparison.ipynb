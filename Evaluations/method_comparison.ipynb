{
 "cells": [
  {
   "cell_type": "code",
   "execution_count": 1,
   "metadata": {},
   "outputs": [],
   "source": [
    "import pandas as pd\n",
    "import numpy as np\n",
    "import os\n",
    "import sys\n",
    "import matplotlib.pyplot as plt\n",
    "import methylcheck"
   ]
  },
  {
   "cell_type": "markdown",
   "metadata": {},
   "source": [
    "## Evaluation of the workflows  \n",
    "The performance of the python and federated implmentation of the workflow provided by the x group at Exeter university are compared to the original r-version of this workflow.  \n",
    "Additionally the performance of the federated workflow is tested in several cases of sample size and class label imbalance."
   ]
  },
  {
   "cell_type": "code",
   "execution_count": 47,
   "metadata": {},
   "outputs": [],
   "source": [
    "GSE66351_pheno = pd.read_csv(\"E:\\\\Msc Systems Biology\\\\MSB5000_Master_Thesis\\\\Practical work\\\\Data\\\\Data_Full_Datasets\\\\GSE66351\\\\Reduced_Pheno_Info.csv\", index_col=0)\n",
    "GSE105109_pheno = pd.read_csv(\"E:\\\\Msc Systems Biology\\\\MSB5000_Master_Thesis\\\\Practical work\\\\Data\\\\Data_Full_Datasets\\\\GSE105109\\\\GSE105109_Reduced_Pheno_Info.csv\", index_col=0)\n",
    "GSE134379_pheno = pd.read_csv(\"E:\\\\Msc Systems Biology\\\\MSB5000_Master_Thesis\\\\Practical work\\\\Data\\\\Data_Full_Datasets\\\\GSE134379\\\\Reduced_Pheno_Info.csv\", index_col=0)\n",
    "# make sure all the phenotype files used the same codes for the diagnosis\n",
    "GSE105109_pheno.loc[GSE105109_pheno[\"Diagnosis\"] == \" Control\", \"Diagnosis\"] = \" CTRL\"\n",
    "GSE105109_pheno.loc[GSE105109_pheno[\"Diagnosis\"] == \" Alzheimer's disease\", \"Diagnosis\"] = \" AD\"\n",
    "\n",
    "GSE134379_pheno.loc[GSE134379_pheno[\"Diagnosis\"] == \" ND\", \"Diagnosis\"] = \" CTRL\"\n",
    "GSE134379_pheno.loc[GSE134379_pheno[\"Diagnosis\"] == \" AD\", \"Diagnosis\"] = \" AD\"\n",
    "\n",
    "# recode the sex column so in all datasets \"gender: F\" is females and \"gender: M\" is males\n",
    "# only GSE66351 needs to be recoded that way\n",
    "\n",
    "GSE66351_pheno.loc[GSE66351_pheno[\"Sex\"] == \" F\", \"Sex\"] = \" F\"\n",
    "GSE66351_pheno.loc[GSE66351_pheno[\"Sex\"] == \" M\", \"Sex\"] = \" M\""
   ]
  },
  {
   "cell_type": "code",
   "execution_count": 2,
   "metadata": {},
   "outputs": [],
   "source": [
    "# read in the results from the different implementations\n",
    "original_r_GSE66351_E = pd.read_csv(\"E:\\\\Msc Systems Biology\\\\MSB5000_Master_Thesis\\\\Practical work\\\\Data\\\\Data_Full_Datasets\\\\GSE66351\\\\EWAS\\\\Results_small_dataset.csv\", index_col=0)\n",
    "#original_r_GSE66351_B = pd.read_csv(\"E:\\\\Msc Systems Biology\\\\MSB5000_Master_Thesis\\\\Practical work\\\\Data\\\\Data_Full_Datasets\\\\GSE66351\\\\Normalised_Betas.csv\", index_col=0)\n",
    "\n",
    "\n",
    "original_r_GSE105109_E = pd.read_csv(\"E:\\\\Msc Systems Biology\\\\MSB5000_Master_Thesis\\\\Practical work\\\\Data\\\\Data_Full_Datasets\\\\GSE105109\\\\EWAS\\\\Results_small_dataset.csv\", index_col=0)\n",
    "#original_r_GSE105109_B = pd.read_csv(\"E:\\\\Msc Systems Biology\\\\MSB5000_Master_Thesis\\\\Practical work\\\\Data\\\\Data_Full_Datasets\\\\GSE105109\\\\GSE105109_Normalised_Betas.csv\", index_col=0)\n",
    "\n",
    "\n",
    "original_r_GSE134379_E = pd.read_csv(\"E:\\\\Msc Systems Biology\\\\MSB5000_Master_Thesis\\\\Practical work\\\\Data\\\\Data_Full_Datasets\\\\GSE134379\\\\EWAS\\\\Results_small_dataset.csv\", index_col=0)\n",
    "#original_r_GSE134379_B = pd.read_csv(\"E:\\\\Msc Systems Biology\\\\MSB5000_Master_Thesis\\\\Practical work\\\\Data\\\\Data_Full_Datasets\\\\GSE134379\\\\Normalised_Betas.csv\", index_col=0)\n",
    "\n",
    "\n",
    "original_r_combined = None"
   ]
  },
  {
   "cell_type": "code",
   "execution_count": 34,
   "metadata": {},
   "outputs": [],
   "source": [
    "python_central_GSE66351_E = pd.read_csv(\"E:\\\\Msc Systems Biology\\\\MSB5000_Master_Thesis\\\\Practical work\\\\Data\\\\QC_Python\\\\GSE66351results_diagnosis_regression_python.csv\", index_col=0)\n",
    "python_central_GSE66351_B = pd.read_csv(\"E:\\\\Msc Systems Biology\\\\MSB5000_Master_Thesis\\\\Practical work\\\\Data\\\\QC_Python\\\\GSE66351_normalised_betas_python.csv\", index_col=0)\n",
    "\n",
    "python_central_GSE105109 = None\n",
    "python_central_GSE134379 = None\n",
    "python_combined = None"
   ]
  },
  {
   "cell_type": "code",
   "execution_count": 9,
   "metadata": {},
   "outputs": [],
   "source": [
    "federated = pd.read_csv(\"E:\\\\Msc Systems Biology\\\\MSB5000_Master_Thesis\\\\Practical work\\\\Data\\\\GSE66351_Fed\\\\_even_Results_EWAS1.csv\", index_col=0, header=[0,1])\n"
   ]
  },
  {
   "cell_type": "code",
   "execution_count": 10,
   "metadata": {},
   "outputs": [],
   "source": [
    "federated_mild_imbalance = pd.read_csv(\"E:\\Msc Systems Biology\\MSB5000_Master_Thesis\\Practical work\\Data\\GSE66351_Fed\\_mild_Results_EWAS1.csv\", index_col=0, header = [0,1])\n",
    "federated_strong_imbalance = pd.read_csv(\"E:\\Msc Systems Biology\\MSB5000_Master_Thesis\\Practical work\\Data\\GSE66351_Fed\\_strong_Results_EWAS1.csv\", index_col=0, header = [0,1])"
   ]
  },
  {
   "cell_type": "code",
   "execution_count": 5,
   "metadata": {},
   "outputs": [],
   "source": [
    "def calculate_GroudTruth(R_EWAS_results, diff_meth_thresh = 0.05):\n",
    "    #control_probe_means = Normalised_betas.loc[:, phenotype.index[phenotype[\"Diagnosis\"] == \" CTRL\"]].mean(axis=1)\n",
    "    #AD_probe_means = Normalised_betas.loc[:, phenotype.index[phenotype[\"Diagnosis\"] != \" CTRL\"]].mean(axis=1)\n",
    "    probe_difference = pd.Series.abs(R_EWAS_results.loc[:,\"Diagnosis_Beta\"])\n",
    "    DM_probes = probe_difference[probe_difference >= diff_meth_thresh]\n",
    "    not_DM_probes = probe_difference[probe_difference < diff_meth_thresh]\n",
    "\n",
    "    # selecting the significant probes from the EWAS results\n",
    "    EWAS_sig = R_EWAS_results.loc[R_EWAS_results[\"corr_pval\"] <= 0.05, :]\n",
    "    EWAS_notsig = R_EWAS_results.loc[R_EWAS_results[\"corr_pval\"] > 0.05, :]\n",
    "\n",
    "    # true positives - EWAS significant and differentially methylated\n",
    "    true_positive = set(DM_probes.index.values).intersection(set(EWAS_sig.index.values))\n",
    "    # true negatives - EWAS not significant and not differentially methylated\n",
    "    true_negative = set(not_DM_probes.index.values).intersection(set(EWAS_notsig.index.values))\n",
    "    # false positives - EWAS significant and not differentially methylated\n",
    "    false_positve = set(not_DM_probes.index.values).intersection(set(EWAS_sig.index.values))\n",
    "    # false negatives = EWAS not significant and differentially methylated\n",
    "    false_negative = set(DM_probes.index.values).intersection(set(EWAS_notsig.index.values))\n",
    "\n",
    "    return {\"TP\":true_positive, \"TN\":true_negative, \"FP\":false_positve, \"FN\":false_negative}\n",
    "\n",
    "    "
   ]
  },
  {
   "cell_type": "code",
   "execution_count": null,
   "metadata": {},
   "outputs": [],
   "source": [
    "def calculate_EWAS_metrics_p(EWAS_results, ground_truth, diff_meth_thresh = 0.05,  multiIndex = False):\n",
    "    #control_probe_means = Normalised_betas.loc[:, phenotype.index[phenotype[\"Diagnosis\"] == \" CTRL\"]].mean(axis=1)\n",
    "    #AD_probe_means = Normalised_betas.loc[:, phenotype.index[phenotype[\"Diagnosis\"] != \" CTRL\"]].mean(axis=1)\n",
    "    if multiIndex:\n",
    "            probe_difference = pd.Series.abs(EWAS_results.loc[:, (\"Methylation change\", \"Diagnosis\")])\n",
    "    else:\n",
    "        probe_difference = pd.Series.abs(EWAS_results.loc[:,\"Methylation Change\"])\n",
    "    DM_probes = probe_difference[probe_difference >= diff_meth_thresh]\n",
    "    not_DM_probes = probe_difference[probe_difference < diff_meth_thresh]\n",
    "\n",
    "    # selecting the significant probes from the EWAS results\n",
    "    if multiIndex:\n",
    "            EWAS_sig = EWAS_results.loc[EWAS_results[(\"Corrected P-value\", \"Diagnosis\")] <= 0.05, :]\n",
    "    else:\n",
    "        EWAS_sig = EWAS_results.loc[EWAS_results[\"Corrected P-value\"] <= 0.05, :]\n",
    "    \n",
    "    if multiIndex:\n",
    "            EWAS_notsig = EWAS_results.loc[EWAS_results[(\"Corrected P-value\", \"Diagnosis\")] > 0.05, :]\n",
    "    else:\n",
    "        EWAS_notsig = EWAS_results.loc[EWAS_results[\"Corrected P-value\"] > 0.05, :]\n",
    "\n",
    "    # true positives - EWAS significant and differentially methylated in python/fed and in original R\n",
    "    true_positive = len(set(set(DM_probes.index.values).intersection(set(EWAS_sig.index.values))).intersection(ground_truth[\"TP\"]))\n",
    "    # true negatives - EWAS not significant and not differentially methylated in python/fed and in original R\n",
    "    true_negative = len(set(set(not_DM_probes.index.values).intersection(set(EWAS_notsig.index.values))).intersection(ground_truth[\"TN\"]))\n",
    "    # false positives - EWAS significant and not differentially methylated in python/fed and in original R\n",
    "    false_positve = len(set(set(not_DM_probes.index.values).intersection(set(EWAS_sig.index.values))).intersection(ground_truth[\"FP\"]))\n",
    "    # false negatives = EWAS not significant and differentially methylated in python/fed and in original R\n",
    "    false_negative = len(set(set(DM_probes.index.values).intersection(set(EWAS_notsig.index.values))).intersection(ground_truth[\"FN\"]))\n",
    "\n",
    "    Acc = (true_positive + true_negative)/(true_positive+true_negative+false_positve+false_negative)\n",
    "    if (true_positive+false_positve) > 0:\n",
    "        Pre = true_positive/(true_positive+false_positve)\n",
    "    else:\n",
    "        Pre = 0\n",
    "    if (true_positive+false_negative) > 0:\n",
    "        Rec = true_positive/(true_positive + false_negative)\n",
    "    else:\n",
    "        Rec = 0\n",
    "    if Pre and Rec:\n",
    "        F1 = 2*(Rec*Pre)/(Rec + Pre)\n",
    "    else:\n",
    "        F1 = 0\n",
    "\n",
    "    return {\"TP\":true_positive, \"TN\":true_negative, \"FP\":false_positve, \"FN\":false_negative, \"Accuracy\":Acc, \"Precision\":Pre, \"Recall\":Rec, \"F1\":F1}\n"
   ]
  },
  {
   "cell_type": "code",
   "execution_count": 13,
   "metadata": {},
   "outputs": [],
   "source": [
    "def groundTruthNew(R_EWAS_results, diff_meth_thresh = 0.05):\n",
    "    probe_difference = pd.Series.abs(R_EWAS_results.loc[:,\"Diagnosis_Beta\"])\n",
    "    DM_probes = probe_difference[probe_difference >= diff_meth_thresh].index.values\n",
    "    DM_probes = set(DM_probes).intersection(set(R_EWAS_results.loc[R_EWAS_results[\"corr_pval\"] <= 0.05, :].index.values))\n",
    "    notDM_probes = set(R_EWAS_results.index.values).difference(DM_probes)\n",
    "    return {\"DM\":DM_probes, \"Not DM\":notDM_probes}"
   ]
  },
  {
   "cell_type": "code",
   "execution_count": 54,
   "metadata": {},
   "outputs": [],
   "source": [
    "def EWAS_metrics_p(EWAS_results, ground_truth, diff_meth_thresh = 0.05,  multiIndex = False):\n",
    "    #control_probe_means = Normalised_betas.loc[:, phenotype.index[phenotype[\"Diagnosis\"] == \" CTRL\"]].mean(axis=1)\n",
    "    #AD_probe_means = Normalised_betas.loc[:, phenotype.index[phenotype[\"Diagnosis\"] != \" CTRL\"]].mean(axis=1)\n",
    "    if multiIndex:\n",
    "            probe_difference = pd.Series.abs(EWAS_results.loc[:, (\"Methylation change\", \"Diagnosis\")])\n",
    "            EWAS_sig = EWAS_results.loc[EWAS_results[(\"Corrected P-value\", \"Diagnosis\")] <= 0.05, :].index\n",
    "            \n",
    "    else:\n",
    "        probe_difference = pd.Series.abs(EWAS_results.loc[:,\"Methylation Change\"])\n",
    "        EWAS_sig = EWAS_results.loc[EWAS_results[\"Corrected P-value\"] <= 0.05, :].index\n",
    "        \n",
    "    \n",
    "    good_probes = probe_difference[probe_difference >= diff_meth_thresh].index\n",
    "    good_probes = set(good_probes).intersection(set(EWAS_sig))\n",
    "    not_good = set(EWAS_results.index.values).difference(good_probes)\n",
    "\n",
    "    \n",
    "    # true positives - EWAS significant and differentially methylated in python/fed and in original R\n",
    "    true_positive = len(ground_truth[\"DM\"].intersection(good_probes))\n",
    "    # true negatives - EWAS not significant and not differentially methylated in python/fed and in original R\n",
    "    true_negative = len(ground_truth[\"Not DM\"].intersection(not_good))\n",
    "    # false positives - EWAS significant and not differentially methylated in python/fed and in original R\n",
    "    false_positve = len(ground_truth[\"Not DM\"].intersection(good_probes))\n",
    "    # false negatives = EWAS not significant and differentially methylated in python/fed and in original R\n",
    "    false_negative = len(ground_truth[\"DM\"].intersection(not_good))\n",
    "\n",
    "    Acc = (true_positive + true_negative)/(true_positive+true_negative+false_positve+false_negative)\n",
    "    if (true_positive+false_positve) > 0:\n",
    "        Pre = true_positive/(true_positive+false_positve)\n",
    "    else:\n",
    "        Pre = 0\n",
    "    if (true_positive+false_negative) > 0:\n",
    "        Rec = true_positive/(true_positive + false_negative)\n",
    "    else:\n",
    "        Rec = 0\n",
    "    if Pre and Rec:\n",
    "        F1 = 2*(Rec*Pre)/(Rec + Pre)\n",
    "    else:\n",
    "        F1 = 0\n",
    "\n",
    "    return {\"TP\":true_positive, \"TN\":true_negative, \"FP\":false_positve, \"FN\":false_negative, \"Accuracy\":Acc, \"Precision\":Pre, \"Recall\":Rec, \"F1\":F1}\n"
   ]
  },
  {
   "cell_type": "code",
   "execution_count": 15,
   "metadata": {},
   "outputs": [],
   "source": [
    "GSE66351_groundTruth = groundTruthNew(original_r_GSE66351_E)"
   ]
  },
  {
   "cell_type": "code",
   "execution_count": 56,
   "metadata": {},
   "outputs": [],
   "source": [
    "# loop through different methylation cut-offs to compare perfomance of R and fed\n",
    "thresholds = {\"0.01\":0.01, \"0.05\":0.05, \"0.1\":0.1, \"0.15\":0.15, \"0.2\":0.20}\n",
    "datasets = {\"No Inbalance\":federated, \"Mild Inbalance\":federated_mild_imbalance, \"Strong Inbalance\":federated_strong_imbalance}\n",
    "results = {}\n",
    "#thesis_tables = pd.ExcelWriter(\"E:\\\\Msc Systems Biology\\\\MSB5000_Master_Thesis\\\\Practical work\\\\ThesisTable.xlsx\", mode=\"a\", engine=\"openpyxl\")\n",
    "for data in datasets:\n",
    "    inner = {}\n",
    "    for i in thresholds:\n",
    "        metrics = EWAS_metrics_p(datasets[data], diff_meth_thresh=thresholds[i], ground_truth=GSE66351_groundTruth, multiIndex=True)\n",
    "        inner[i] = metrics\n",
    "    results[data] = pd.DataFrame.from_dict(inner).T\n",
    "    # save the metric tables to excel\n",
    "    with pd.ExcelWriter(\"E:\\\\Msc Systems Biology\\\\MSB5000_Master_Thesis\\\\Practical work\\\\ThesisTable.xlsx\", mode=\"a\", engine=\"openpyxl\", if_sheet_exists=\"replace\") as writer:\n",
    "        results[data].to_excel(writer, sheet_name = (data + \"EWASMetrics\"))\n",
    "\n",
    "    "
   ]
  },
  {
   "cell_type": "code",
   "execution_count": 55,
   "metadata": {},
   "outputs": [
    {
     "data": {
      "text/html": [
       "<div>\n",
       "<style scoped>\n",
       "    .dataframe tbody tr th:only-of-type {\n",
       "        vertical-align: middle;\n",
       "    }\n",
       "\n",
       "    .dataframe tbody tr th {\n",
       "        vertical-align: top;\n",
       "    }\n",
       "\n",
       "    .dataframe thead th {\n",
       "        text-align: right;\n",
       "    }\n",
       "</style>\n",
       "<table border=\"1\" class=\"dataframe\">\n",
       "  <thead>\n",
       "    <tr style=\"text-align: right;\">\n",
       "      <th></th>\n",
       "      <th>TP</th>\n",
       "      <th>TN</th>\n",
       "      <th>FP</th>\n",
       "      <th>FN</th>\n",
       "      <th>Accuracy</th>\n",
       "      <th>Precision</th>\n",
       "      <th>Recall</th>\n",
       "      <th>F1</th>\n",
       "    </tr>\n",
       "  </thead>\n",
       "  <tbody>\n",
       "    <tr>\n",
       "      <th>GSE66351 Pyhton central</th>\n",
       "      <td>2</td>\n",
       "      <td>450789</td>\n",
       "      <td>38</td>\n",
       "      <td>8</td>\n",
       "      <td>0.999898</td>\n",
       "      <td>0.05</td>\n",
       "      <td>0.2</td>\n",
       "      <td>0.08</td>\n",
       "    </tr>\n",
       "    <tr>\n",
       "      <th>GSE66351 Federated</th>\n",
       "      <td>0</td>\n",
       "      <td>450827</td>\n",
       "      <td>0</td>\n",
       "      <td>10</td>\n",
       "      <td>0.999978</td>\n",
       "      <td>0.00</td>\n",
       "      <td>0.0</td>\n",
       "      <td>0.00</td>\n",
       "    </tr>\n",
       "  </tbody>\n",
       "</table>\n",
       "</div>"
      ],
      "text/plain": [
       "                         TP      TN  FP  FN  Accuracy  Precision  Recall    F1\n",
       "GSE66351 Pyhton central   2  450789  38   8  0.999898       0.05     0.2  0.08\n",
       "GSE66351 Federated        0  450827   0  10  0.999978       0.00     0.0  0.00"
      ]
     },
     "execution_count": 55,
     "metadata": {},
     "output_type": "execute_result"
    }
   ],
   "source": [
    "GSE66351_metrics_p = EWAS_metrics_p(python_central_GSE66351_E, diff_meth_thresh=0.05, ground_truth = GSE66351_groundTruth, multiIndex=False)\n",
    "federated_metrics = EWAS_metrics_p(federated, diff_meth_thresh=0.05, ground_truth = GSE66351_groundTruth, multiIndex=True)\n",
    "# combine the metrics results into one dataframe\n",
    "performance_results = pd.DataFrame.from_dict([GSE66351_metrics_p, federated_metrics])\n",
    "performance_results.index = [\"GSE66351 Pyhton central\", \"GSE66351 Federated\"]\n",
    "#performance_results.to_excel(\"E:\\\\Msc Systems Biology\\\\MSB5000_Master_Thesis\\\\Practical work\\\\ThesisTables.xlsx\")\n",
    "\n",
    "performance_results"
   ]
  },
  {
   "cell_type": "code",
   "execution_count": 41,
   "metadata": {},
   "outputs": [
    {
     "data": {
      "text/plain": [
       "set()"
      ]
     },
     "execution_count": 41,
     "metadata": {},
     "output_type": "execute_result"
    }
   ],
   "source": [
    "GSE66351_groundTruth[\"DM\"].intersection(set(python_central_GSE66351_E.loc[python_central_GSE66351_E.loc[:,\"Corrected P-value\"] <= 0.05,:])) "
   ]
  },
  {
   "cell_type": "code",
   "execution_count": 51,
   "metadata": {},
   "outputs": [
    {
     "data": {
      "text/plain": [
       "40"
      ]
     },
     "execution_count": 51,
     "metadata": {},
     "output_type": "execute_result"
    }
   ],
   "source": [
    "len(set(python_central_GSE66351_E.loc[python_central_GSE66351_E.loc[:,\"Corrected P-value\"] <= 0.05].index))"
   ]
  },
  {
   "cell_type": "code",
   "execution_count": 43,
   "metadata": {},
   "outputs": [
    {
     "data": {
      "text/plain": [
       "10"
      ]
     },
     "execution_count": 43,
     "metadata": {},
     "output_type": "execute_result"
    }
   ],
   "source": [
    "len(GSE66351_groundTruth[\"DM\"])"
   ]
  }
 ],
 "metadata": {
  "interpreter": {
   "hash": "0a54084e6b208ee8d1ce3989ffc20924477a5f55f5a43e22e699a6741623861e"
  },
  "kernelspec": {
   "display_name": "Python 3.7.8 64-bit",
   "language": "python",
   "name": "python3"
  },
  "language_info": {
   "codemirror_mode": {
    "name": "ipython",
    "version": 3
   },
   "file_extension": ".py",
   "mimetype": "text/x-python",
   "name": "python",
   "nbconvert_exporter": "python",
   "pygments_lexer": "ipython3",
   "version": "3.7.8"
  },
  "orig_nbformat": 4
 },
 "nbformat": 4,
 "nbformat_minor": 2
}

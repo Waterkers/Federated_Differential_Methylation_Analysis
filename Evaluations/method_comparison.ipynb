{
 "cells": [
  {
   "cell_type": "code",
   "execution_count": 1,
   "metadata": {},
   "outputs": [],
   "source": [
    "import pandas as pd\n",
    "import numpy as np\n",
    "import os\n",
    "import sys\n",
    "import matplotlib.pyplot as plt\n",
    "import methylcheck"
   ]
  },
  {
   "cell_type": "markdown",
   "metadata": {},
   "source": [
    "## Evaluation of the workflows  \n",
    "The performance of the python and federated implmentation of the workflow provided by the x group at Exeter university are compared to the original r-version of this workflow.  \n",
    "Additionally the performance of the federated workflow is tested in several cases of sample size and class label imbalance."
   ]
  },
  {
   "cell_type": "code",
   "execution_count": 47,
   "metadata": {},
   "outputs": [],
   "source": [
    "GSE66351_pheno = pd.read_csv(\"E:\\\\Msc Systems Biology\\\\MSB5000_Master_Thesis\\\\Practical work\\\\Data\\\\Data_Full_Datasets\\\\GSE66351\\\\Reduced_Pheno_Info.csv\", index_col=0)\n",
    "GSE105109_pheno = pd.read_csv(\"E:\\\\Msc Systems Biology\\\\MSB5000_Master_Thesis\\\\Practical work\\\\Data\\\\Data_Full_Datasets\\\\GSE105109\\\\GSE105109_Reduced_Pheno_Info.csv\", index_col=0)\n",
    "GSE134379_pheno = pd.read_csv(\"E:\\\\Msc Systems Biology\\\\MSB5000_Master_Thesis\\\\Practical work\\\\Data\\\\Data_Full_Datasets\\\\GSE134379\\\\Reduced_Pheno_Info.csv\", index_col=0)\n",
    "# make sure all the phenotype files used the same codes for the diagnosis\n",
    "GSE105109_pheno.loc[GSE105109_pheno[\"Diagnosis\"] == \" Control\", \"Diagnosis\"] = \" CTRL\"\n",
    "GSE105109_pheno.loc[GSE105109_pheno[\"Diagnosis\"] == \" Alzheimer's disease\", \"Diagnosis\"] = \" AD\"\n",
    "\n",
    "GSE134379_pheno.loc[GSE134379_pheno[\"Diagnosis\"] == \" ND\", \"Diagnosis\"] = \" CTRL\"\n",
    "GSE134379_pheno.loc[GSE134379_pheno[\"Diagnosis\"] == \" AD\", \"Diagnosis\"] = \" AD\"\n",
    "\n",
    "# recode the sex column so in all datasets \"gender: F\" is females and \"gender: M\" is males\n",
    "# only GSE66351 needs to be recoded that way\n",
    "\n",
    "GSE66351_pheno.loc[GSE66351_pheno[\"Sex\"] == \" F\", \"Sex\"] = \" F\"\n",
    "GSE66351_pheno.loc[GSE66351_pheno[\"Sex\"] == \" M\", \"Sex\"] = \" M\""
   ]
  },
  {
   "cell_type": "code",
   "execution_count": 3,
   "metadata": {},
   "outputs": [],
   "source": [
    "# read in the results from the different implementations\n",
    "original_r_GSE66351_E = pd.read_csv(\"E:\\\\Msc Systems Biology\\\\MSB5000_Master_Thesis\\\\Practical work\\\\Data\\\\Data_Full_Datasets\\\\GSE66351\\\\EWAS\\\\Results_small_dataset.csv\", index_col=0)\n",
    "#original_r_GSE66351_B = pd.read_csv(\"E:\\\\Msc Systems Biology\\\\MSB5000_Master_Thesis\\\\Practical work\\\\Data\\\\Data_Full_Datasets\\\\GSE66351\\\\Normalised_Betas.csv\", index_col=0)\n",
    "\n",
    "\n",
    "original_r_GSE105109_E = pd.read_csv(\"E:\\\\Msc Systems Biology\\\\MSB5000_Master_Thesis\\\\Practical work\\\\Data\\\\Data_Full_Datasets\\\\GSE105109\\\\EWAS\\\\Results_small_dataset.csv\", index_col=0)\n",
    "#original_r_GSE105109_B = pd.read_csv(\"E:\\\\Msc Systems Biology\\\\MSB5000_Master_Thesis\\\\Practical work\\\\Data\\\\Data_Full_Datasets\\\\GSE105109\\\\GSE105109_Normalised_Betas.csv\", index_col=0)\n",
    "\n",
    "\n",
    "original_r_GSE134379_E = pd.read_csv(\"E:\\\\Msc Systems Biology\\\\MSB5000_Master_Thesis\\\\Practical work\\\\Data\\\\Data_Full_Datasets\\\\GSE134379\\\\EWAS\\\\Results_small_dataset.csv\", index_col=0)\n",
    "#original_r_GSE134379_B = pd.read_csv(\"E:\\\\Msc Systems Biology\\\\MSB5000_Master_Thesis\\\\Practical work\\\\Data\\\\Data_Full_Datasets\\\\GSE134379\\\\Normalised_Betas.csv\", index_col=0)\n",
    "\n",
    "\n",
    "original_r_combined = None"
   ]
  },
  {
   "cell_type": "code",
   "execution_count": 2,
   "metadata": {},
   "outputs": [],
   "source": [
    "python_central_GSE66351_E = pd.read_csv(\"E:\\\\Msc Systems Biology\\\\MSB5000_Master_Thesis\\\\Practical work\\\\Data\\\\QC_Python\\\\GSE66351results_diagnosis_regression_python.csv\", index_col=0)\n",
    "python_central_GSE66351_B = pd.read_csv(\"E:\\\\Msc Systems Biology\\\\MSB5000_Master_Thesis\\\\Practical work\\\\Data\\\\QC_Python\\\\GSE66351_normalised_betas_python.csv\", index_col=0)\n",
    "\n",
    "python_central_GSE105109 = None\n",
    "python_central_GSE134379 = None\n",
    "python_combined = None"
   ]
  },
  {
   "cell_type": "code",
   "execution_count": null,
   "metadata": {},
   "outputs": [],
   "source": [
    "federated = None\n"
   ]
  },
  {
   "cell_type": "code",
   "execution_count": null,
   "metadata": {},
   "outputs": [],
   "source": [
    "federated_imbalance = None"
   ]
  },
  {
   "cell_type": "code",
   "execution_count": 28,
   "metadata": {},
   "outputs": [],
   "source": [
    "def calculate_EWAS_metrics_r(EWAS_results):\n",
    "    #control_probe_means = Normalised_betas.loc[:, phenotype.index[phenotype[\"Diagnosis\"] == \" CTRL\"]].mean(axis=1)\n",
    "    #AD_probe_means = Normalised_betas.loc[:, phenotype.index[phenotype[\"Diagnosis\"] != \" CTRL\"]].mean(axis=1)\n",
    "    probe_difference = pd.Series.abs(EWAS_results.loc[:,\"Diagnosis_Beta\"])\n",
    "    DM_probes = probe_difference[probe_difference >= 0.05]\n",
    "    not_DM_probes = probe_difference[probe_difference < 0.05]\n",
    "\n",
    "    # selecting the significant probes from the EWAS results\n",
    "    EWAS_sig = EWAS_results.loc[EWAS_results[\"corr_pval\"] <= 0.05, :]\n",
    "    EWAS_notsig = EWAS_results.loc[EWAS_results[\"corr_pval\"] > 0.05, :]\n",
    "\n",
    "    # true positives - EWAS significant and differentially methylated\n",
    "    true_positive = len(set(DM_probes.index.values).intersection(set(EWAS_sig.index.values)))\n",
    "    # true negatives - EWAS not significant and not differentially methylated\n",
    "    true_negative = len(set(not_DM_probes.index.values).intersection(set(EWAS_notsig.index.values)))\n",
    "    # false positives - EWAS significant and not differentially methylated\n",
    "    false_positve = len(set(not_DM_probes.index.values).intersection(set(EWAS_sig.index.values)))\n",
    "    # false negatives = EWAS not significant and differentially methylated\n",
    "    false_negative = len(set(DM_probes.index.values).intersection(set(EWAS_notsig.index.values)))\n",
    "\n",
    "    if (true_positive+true_negative+false_positve+false_negative) > 0:\n",
    "        Acc = (true_positive + true_negative)/(true_positive+true_negative+false_positve+false_negative)\n",
    "    else:\n",
    "        Acc = 0\n",
    "    if (true_positive+false_positve) > 0:\n",
    "        Pre = true_positive/(true_positive+false_positve)\n",
    "    else:\n",
    "        Pre = 0\n",
    "    if (true_positive+false_negative) > 0:\n",
    "        Rec = true_positive/(true_positive + false_negative)\n",
    "    else:\n",
    "        Rec = 0\n",
    "    if Pre and Rec:\n",
    "        F1 = 2*(Rec*Pre)/(Rec + Pre)\n",
    "    else:\n",
    "        F1 = 0\n",
    "\n",
    "    return {\"TP\":true_positive, \"TN\":true_negative, \"FP\":false_positve, \"FN\":false_negative, \"Accuracy\":Acc, \"Precision\":Pre, \"Recall\":Rec, \"F1\":F1}\n",
    "\n",
    "    "
   ]
  },
  {
   "cell_type": "code",
   "execution_count": 26,
   "metadata": {},
   "outputs": [],
   "source": [
    "def calculate_EWAS_metrics_p(EWAS_results):\n",
    "    #control_probe_means = Normalised_betas.loc[:, phenotype.index[phenotype[\"Diagnosis\"] == \" CTRL\"]].mean(axis=1)\n",
    "    #AD_probe_means = Normalised_betas.loc[:, phenotype.index[phenotype[\"Diagnosis\"] != \" CTRL\"]].mean(axis=1)\n",
    "    probe_difference = pd.Series.abs(EWAS_results.loc[:,\"Methylation Change\"])\n",
    "    DM_probes = probe_difference[probe_difference >= 0.05]\n",
    "    not_DM_probes = probe_difference[probe_difference < 0.05]\n",
    "\n",
    "    # selecting the significant probes from the EWAS results\n",
    "    EWAS_sig = EWAS_results.loc[EWAS_results[\"Corrected P-value\"] <= 0.05, :]\n",
    "    EWAS_notsig = EWAS_results.loc[EWAS_results[\"Corrected P-value\"] > 0.05, :]\n",
    "\n",
    "    # true positives - EWAS significant and differentially methylated\n",
    "    true_positive = len(set(DM_probes.index.values).intersection(set(EWAS_sig.index.values)))\n",
    "    # true negatives - EWAS not significant and not differentially methylated\n",
    "    true_negative = len(set(not_DM_probes.index.values).intersection(set(EWAS_notsig.index.values)))\n",
    "    # false positives - EWAS significant and not differentially methylated\n",
    "    false_positve = len(set(not_DM_probes.index.values).intersection(set(EWAS_sig.index.values)))\n",
    "    # false negatives = EWAS not significant and differentially methylated\n",
    "    false_negative = len(set(DM_probes.index.values).intersection(set(EWAS_notsig.index.values)))\n",
    "\n",
    "    Acc = (true_positive + true_negative)/(true_positive+true_negative+false_positve+false_negative)\n",
    "    if (true_positive+false_positve) > 0:\n",
    "        Pre = true_positive/(true_positive+false_positve)\n",
    "    else:\n",
    "        Pre = 0\n",
    "    if (true_positive+false_negative) > 0:\n",
    "        Rec = true_positive/(true_positive + false_negative)\n",
    "    else:\n",
    "        Rec = 0\n",
    "    if Pre and Rec:\n",
    "        F1 = 2*(Rec*Pre)/(Rec + Pre)\n",
    "    else:\n",
    "        F1 = 0\n",
    "\n",
    "    return {\"TP\":true_positive, \"TN\":true_negative, \"FP\":false_positve, \"FN\":false_negative, \"Accuracy\":Acc, \"Precision\":Pre, \"Recall\":Rec, \"F1\":F1}\n"
   ]
  },
  {
   "cell_type": "code",
   "execution_count": 29,
   "metadata": {},
   "outputs": [],
   "source": [
    "GSE66351_metrics_r = calculate_EWAS_metrics_r(original_r_GSE66351_E)\n",
    "\n",
    "GSE105109_metrics_r = calculate_EWAS_metrics_r(original_r_GSE105109_E)\n",
    "GSE134379_metrics_r = calculate_EWAS_metrics_r(original_r_GSE134379_E)"
   ]
  },
  {
   "cell_type": "code",
   "execution_count": 30,
   "metadata": {},
   "outputs": [],
   "source": [
    "GSE66351_metrics_p = calculate_EWAS_metrics_p(python_central_GSE66351_E)"
   ]
  },
  {
   "cell_type": "code",
   "execution_count": 31,
   "metadata": {},
   "outputs": [],
   "source": [
    "# combine the metrics results into one dataframe\n",
    "#GSE66351_metrics_r = pd.DataFrame.from_dict(GSE66351_metrics_r)\n",
    "#GSE66351_metrics_p = pd.DataFrame.from_dict(GSE66351_metrics_p)\n",
    "performance_results = pd.DataFrame.from_dict([GSE66351_metrics_r, GSE66351_metrics_p])\n",
    "performance_results.index = [\"GSE66351 R original\", \"GSE66351 Pyhton central\"]"
   ]
  },
  {
   "cell_type": "code",
   "execution_count": 32,
   "metadata": {},
   "outputs": [
    {
     "data": {
      "text/html": [
       "<div>\n",
       "<style scoped>\n",
       "    .dataframe tbody tr th:only-of-type {\n",
       "        vertical-align: middle;\n",
       "    }\n",
       "\n",
       "    .dataframe tbody tr th {\n",
       "        vertical-align: top;\n",
       "    }\n",
       "\n",
       "    .dataframe thead th {\n",
       "        text-align: right;\n",
       "    }\n",
       "</style>\n",
       "<table border=\"1\" class=\"dataframe\">\n",
       "  <thead>\n",
       "    <tr style=\"text-align: right;\">\n",
       "      <th></th>\n",
       "      <th>TP</th>\n",
       "      <th>TN</th>\n",
       "      <th>FP</th>\n",
       "      <th>FN</th>\n",
       "      <th>Accuracy</th>\n",
       "      <th>Precision</th>\n",
       "      <th>Recall</th>\n",
       "      <th>F1</th>\n",
       "    </tr>\n",
       "  </thead>\n",
       "  <tbody>\n",
       "    <tr>\n",
       "      <th>GSE66351 R original</th>\n",
       "      <td>10</td>\n",
       "      <td>450517</td>\n",
       "      <td>24</td>\n",
       "      <td>286</td>\n",
       "      <td>0.999312</td>\n",
       "      <td>0.294118</td>\n",
       "      <td>0.033784</td>\n",
       "      <td>0.060606</td>\n",
       "    </tr>\n",
       "    <tr>\n",
       "      <th>GSE66351 Pyhton central</th>\n",
       "      <td>40</td>\n",
       "      <td>450541</td>\n",
       "      <td>0</td>\n",
       "      <td>256</td>\n",
       "      <td>0.999432</td>\n",
       "      <td>1.000000</td>\n",
       "      <td>0.135135</td>\n",
       "      <td>0.238095</td>\n",
       "    </tr>\n",
       "  </tbody>\n",
       "</table>\n",
       "</div>"
      ],
      "text/plain": [
       "                         TP      TN  FP   FN  Accuracy  Precision    Recall  \\\n",
       "GSE66351 R original      10  450517  24  286  0.999312   0.294118  0.033784   \n",
       "GSE66351 Pyhton central  40  450541   0  256  0.999432   1.000000  0.135135   \n",
       "\n",
       "                               F1  \n",
       "GSE66351 R original      0.060606  \n",
       "GSE66351 Pyhton central  0.238095  "
      ]
     },
     "execution_count": 32,
     "metadata": {},
     "output_type": "execute_result"
    }
   ],
   "source": [
    "performance_results\n"
   ]
  }
 ],
 "metadata": {
  "interpreter": {
   "hash": "0a54084e6b208ee8d1ce3989ffc20924477a5f55f5a43e22e699a6741623861e"
  },
  "kernelspec": {
   "display_name": "Python 3.7.8 64-bit",
   "language": "python",
   "name": "python3"
  },
  "language_info": {
   "codemirror_mode": {
    "name": "ipython",
    "version": 3
   },
   "file_extension": ".py",
   "mimetype": "text/x-python",
   "name": "python",
   "nbconvert_exporter": "python",
   "pygments_lexer": "ipython3",
   "version": "3.7.8"
  },
  "orig_nbformat": 4
 },
 "nbformat": 4,
 "nbformat_minor": 2
}

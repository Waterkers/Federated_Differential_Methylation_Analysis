{
 "cells": [
  {
   "cell_type": "code",
   "execution_count": 1,
   "metadata": {},
   "outputs": [],
   "source": [
    "import pandas as pd\n",
    "import numpy as np\n",
    "import os\n",
    "import sys\n",
    "import matplotlib.pyplot as plt\n",
    "import methylcheck"
   ]
  },
  {
   "cell_type": "markdown",
   "metadata": {},
   "source": [
    "## Evaluation of the workflows  \n",
    "The performance of the python and federated implmentation of the workflow provided by the x group at Exeter university are compared to the original r-version of this workflow.  \n",
    "Additionally the performance of the federated workflow is tested in several cases of sample size and class label imbalance."
   ]
  },
  {
   "cell_type": "code",
   "execution_count": 47,
   "metadata": {},
   "outputs": [],
   "source": [
    "GSE66351_pheno = pd.read_csv(\"E:\\\\Msc Systems Biology\\\\MSB5000_Master_Thesis\\\\Practical work\\\\Data\\\\Data_Full_Datasets\\\\GSE66351\\\\Reduced_Pheno_Info.csv\", index_col=0)\n",
    "GSE105109_pheno = pd.read_csv(\"E:\\\\Msc Systems Biology\\\\MSB5000_Master_Thesis\\\\Practical work\\\\Data\\\\Data_Full_Datasets\\\\GSE105109\\\\GSE105109_Reduced_Pheno_Info.csv\", index_col=0)\n",
    "GSE134379_pheno = pd.read_csv(\"E:\\\\Msc Systems Biology\\\\MSB5000_Master_Thesis\\\\Practical work\\\\Data\\\\Data_Full_Datasets\\\\GSE134379\\\\Reduced_Pheno_Info.csv\", index_col=0)\n",
    "# make sure all the phenotype files used the same codes for the diagnosis\n",
    "GSE105109_pheno.loc[GSE105109_pheno[\"Diagnosis\"] == \" Control\", \"Diagnosis\"] = \" CTRL\"\n",
    "GSE105109_pheno.loc[GSE105109_pheno[\"Diagnosis\"] == \" Alzheimer's disease\", \"Diagnosis\"] = \" AD\"\n",
    "\n",
    "GSE134379_pheno.loc[GSE134379_pheno[\"Diagnosis\"] == \" ND\", \"Diagnosis\"] = \" CTRL\"\n",
    "GSE134379_pheno.loc[GSE134379_pheno[\"Diagnosis\"] == \" AD\", \"Diagnosis\"] = \" AD\"\n",
    "\n",
    "# recode the sex column so in all datasets \"gender: F\" is females and \"gender: M\" is males\n",
    "# only GSE66351 needs to be recoded that way\n",
    "\n",
    "GSE66351_pheno.loc[GSE66351_pheno[\"Sex\"] == \" F\", \"Sex\"] = \" F\"\n",
    "GSE66351_pheno.loc[GSE66351_pheno[\"Sex\"] == \" M\", \"Sex\"] = \" M\""
   ]
  },
  {
   "cell_type": "code",
   "execution_count": 35,
   "metadata": {},
   "outputs": [],
   "source": [
    "# read in the results from the different implementations\n",
    "original_r_GSE66351_E = pd.read_csv(\"E:\\\\Msc Systems Biology\\\\MSB5000_Master_Thesis\\\\Practical work\\\\Data\\\\Data_Full_Datasets\\\\GSE66351\\\\EWAS\\\\Results_small_dataset.csv\", index_col=0)\n",
    "original_r_GSE66351_B = pd.read_csv(\"E:\\\\Msc Systems Biology\\\\MSB5000_Master_Thesis\\\\Practical work\\\\Data\\\\Data_Full_Datasets\\\\GSE66351\\\\Normalised_Betas.csv\", index_col=0)\n",
    "\n",
    "\n",
    "original_r_GSE105109_E = pd.read_csv(\"E:\\\\Msc Systems Biology\\\\MSB5000_Master_Thesis\\\\Practical work\\\\Data\\\\Data_Full_Datasets\\\\GSE105109\\\\EWAS\\\\Results_small_dataset.csv\", index_col=0)\n",
    "original_r_GSE105109_B = pd.read_csv(\"E:\\\\Msc Systems Biology\\\\MSB5000_Master_Thesis\\\\Practical work\\\\Data\\\\Data_Full_Datasets\\\\GSE105109\\\\GSE105109_Normalised_Betas.csv\", index_col=0)\n",
    "\n",
    "\n",
    "original_r_GSE134379_E = pd.read_csv(\"E:\\\\Msc Systems Biology\\\\MSB5000_Master_Thesis\\\\Practical work\\\\Data\\\\Data_Full_Datasets\\\\GSE134379\\\\EWAS\\\\Results_small_dataset.csv\", index_col=0)\n",
    "original_r_GSE134379_B = pd.read_csv(\"E:\\\\Msc Systems Biology\\\\MSB5000_Master_Thesis\\\\Practical work\\\\Data\\\\Data_Full_Datasets\\\\GSE134379\\\\Normalised_Betas.csv\", index_col=0)\n",
    "\n",
    "\n",
    "original_r_combined = None"
   ]
  },
  {
   "cell_type": "code",
   "execution_count": null,
   "metadata": {},
   "outputs": [],
   "source": [
    "python_central_GSE66351 = None\n",
    "python_central_GSE105109 = None\n",
    "python_central_GSE134379 = None\n",
    "python_combined = None"
   ]
  },
  {
   "cell_type": "code",
   "execution_count": null,
   "metadata": {},
   "outputs": [],
   "source": [
    "federated = None\n"
   ]
  },
  {
   "cell_type": "code",
   "execution_count": null,
   "metadata": {},
   "outputs": [],
   "source": [
    "federated_imbalance = None"
   ]
  },
  {
   "cell_type": "code",
   "execution_count": 51,
   "metadata": {},
   "outputs": [],
   "source": [
    "def calculate_EWAS_metrics_r(EWAS_results, Normalised_betas, phenotype):\n",
    "    #control_probe_means = Normalised_betas.loc[:, phenotype.index[phenotype[\"Diagnosis\"] == \" CTRL\"]].mean(axis=1)\n",
    "    #AD_probe_means = Normalised_betas.loc[:, phenotype.index[phenotype[\"Diagnosis\"] != \" CTRL\"]].mean(axis=1)\n",
    "    probe_difference = pd.Series.abs(EWAS_results.loc[:,\"Diagnosis_Beta\"])\n",
    "    DM_probes = probe_difference[probe_difference >= 0.05]\n",
    "    not_DM_probes = probe_difference[probe_difference < 0.05]\n",
    "\n",
    "    # selecting the significant probes from the EWAS results\n",
    "    EWAS_sig = EWAS_results.loc[EWAS_results[\"corr_pval\"] <= 0.05, :]\n",
    "    EWAS_notsig = EWAS_results.loc[EWAS_results[\"corr_pval\"] > 0.05, :]\n",
    "\n",
    "    # true positives - EWAS significant and differentially methylated\n",
    "    true_positive = set(DM_probes.index.values).intersection(set(EWAS_sig.index.values))\n",
    "    # true negatives - EWAS not significant and not differentially methylated\n",
    "    true_negative = set(not_DM_probes.index.values).intersection(set(EWAS_notsig.index.values))\n",
    "    # false positives - EWAS significant and not differentially methylated\n",
    "    false_positve = set(not_DM_probes.index.values).intersection(set(EWAS_sig.index.values))\n",
    "    # false negatives = EWAS not significant and differentially methylated\n",
    "    false_negative = set(DM_probes.index.values).intersection(set(EWAS_notsig.index.values))\n",
    "\n",
    "    return {\"TP\":true_positive, \"TN\":true_negative, \"FP\":false_positve, \"FN\":false_negative}\n",
    "\n",
    "    "
   ]
  },
  {
   "cell_type": "code",
   "execution_count": null,
   "metadata": {},
   "outputs": [],
   "source": [
    "def calculate_EWAS_metrics_p(EWAS_results, Normalised_betas, phenotype):\n",
    "    #control_probe_means = Normalised_betas.loc[:, phenotype.index[phenotype[\"Diagnosis\"] == \" CTRL\"]].mean(axis=1)\n",
    "    #AD_probe_means = Normalised_betas.loc[:, phenotype.index[phenotype[\"Diagnosis\"] != \" CTRL\"]].mean(axis=1)\n",
    "    probe_difference = pd.Series.abs(EWAS_results.loc[:,\"Methylation Change\"])\n",
    "    DM_probes = probe_difference[probe_difference >= 0.05]\n",
    "    not_DM_probes = probe_difference[probe_difference < 0.05]\n",
    "\n",
    "    # selecting the significant probes from the EWAS results\n",
    "    EWAS_sig = EWAS_results.loc[EWAS_results[\"Corrected P-value\"] <= 0.05, :]\n",
    "    EWAS_notsig = EWAS_results.loc[EWAS_results[\"Corrected P-value\"] > 0.05, :]\n",
    "\n",
    "    # true positives - EWAS significant and differentially methylated\n",
    "    true_positive = set(DM_probes.index.values).intersection(set(EWAS_sig.index.values))\n",
    "    # true negatives - EWAS not significant and not differentially methylated\n",
    "    true_negative = set(not_DM_probes.index.values).intersection(set(EWAS_notsig.index.values))\n",
    "    # false positives - EWAS significant and not differentially methylated\n",
    "    false_positve = set(not_DM_probes.index.values).intersection(set(EWAS_sig.index.values))\n",
    "    # false negatives = EWAS not significant and differentially methylated\n",
    "    false_negative = set(DM_probes.index.values).intersection(set(EWAS_notsig.index.values))\n",
    "\n",
    "    return {\"TP\":true_positive, \"TN\":true_negative, \"FP\":false_positve, \"FN\":false_negative}\n"
   ]
  },
  {
   "cell_type": "code",
   "execution_count": 52,
   "metadata": {},
   "outputs": [],
   "source": [
    "GSE66351_metrics_r = calculate_EWAS_metrics_r(original_r_GSE66351_E, original_r_GSE66351_B, GSE66351_pheno)\n",
    "\n",
    "GSE105109_metrics_r = calculate_EWAS_metrics_r(original_r_GSE105109_E, original_r_GSE105109_B, GSE105109_pheno)\n",
    "GSE134379_metrics_r = calculate_EWAS_metrics_r(original_r_GSE134379_E, original_r_GSE134379_B, GSE134379_pheno)"
   ]
  }
 ],
 "metadata": {
  "interpreter": {
   "hash": "0a54084e6b208ee8d1ce3989ffc20924477a5f55f5a43e22e699a6741623861e"
  },
  "kernelspec": {
   "display_name": "Python 3.7.8 64-bit",
   "language": "python",
   "name": "python3"
  },
  "language_info": {
   "codemirror_mode": {
    "name": "ipython",
    "version": 3
   },
   "file_extension": ".py",
   "mimetype": "text/x-python",
   "name": "python",
   "nbconvert_exporter": "python",
   "pygments_lexer": "ipython3",
   "version": "3.7.8"
  },
  "orig_nbformat": 4
 },
 "nbformat": 4,
 "nbformat_minor": 2
}

{
 "cells": [
  {
   "cell_type": "code",
   "execution_count": 1,
   "metadata": {},
   "outputs": [],
   "source": [
    "import pandas as pd\n",
    "import numpy as np\n",
    "import os\n",
    "import sys\n",
    "import matplotlib.pyplot as plt\n",
    "import methylcheck"
   ]
  },
  {
   "cell_type": "markdown",
   "metadata": {},
   "source": [
    "## Evaluation of the workflows  \n",
    "The performance of the python and federated implmentation of the workflow provided by the x group at Exeter university are compared to the original r-version of this workflow.  \n",
    "Additionally the performance of the federated workflow is tested in several cases of sample size and class label imbalance."
   ]
  },
  {
   "cell_type": "code",
   "execution_count": 47,
   "metadata": {},
   "outputs": [],
   "source": [
    "GSE66351_pheno = pd.read_csv(\"E:\\\\Msc Systems Biology\\\\MSB5000_Master_Thesis\\\\Practical work\\\\Data\\\\Data_Full_Datasets\\\\GSE66351\\\\Reduced_Pheno_Info.csv\", index_col=0)\n",
    "GSE105109_pheno = pd.read_csv(\"E:\\\\Msc Systems Biology\\\\MSB5000_Master_Thesis\\\\Practical work\\\\Data\\\\Data_Full_Datasets\\\\GSE105109\\\\GSE105109_Reduced_Pheno_Info.csv\", index_col=0)\n",
    "GSE134379_pheno = pd.read_csv(\"E:\\\\Msc Systems Biology\\\\MSB5000_Master_Thesis\\\\Practical work\\\\Data\\\\Data_Full_Datasets\\\\GSE134379\\\\Reduced_Pheno_Info.csv\", index_col=0)\n",
    "# make sure all the phenotype files used the same codes for the diagnosis\n",
    "GSE105109_pheno.loc[GSE105109_pheno[\"Diagnosis\"] == \" Control\", \"Diagnosis\"] = \" CTRL\"\n",
    "GSE105109_pheno.loc[GSE105109_pheno[\"Diagnosis\"] == \" Alzheimer's disease\", \"Diagnosis\"] = \" AD\"\n",
    "\n",
    "GSE134379_pheno.loc[GSE134379_pheno[\"Diagnosis\"] == \" ND\", \"Diagnosis\"] = \" CTRL\"\n",
    "GSE134379_pheno.loc[GSE134379_pheno[\"Diagnosis\"] == \" AD\", \"Diagnosis\"] = \" AD\"\n",
    "\n",
    "# recode the sex column so in all datasets \"gender: F\" is females and \"gender: M\" is males\n",
    "# only GSE66351 needs to be recoded that way\n",
    "\n",
    "GSE66351_pheno.loc[GSE66351_pheno[\"Sex\"] == \" F\", \"Sex\"] = \" F\"\n",
    "GSE66351_pheno.loc[GSE66351_pheno[\"Sex\"] == \" M\", \"Sex\"] = \" M\""
   ]
  },
  {
   "cell_type": "code",
   "execution_count": 2,
   "metadata": {},
   "outputs": [],
   "source": [
    "# read in the results from the different implementations\n",
    "original_r_GSE66351_E = pd.read_csv(\"E:\\\\Msc Systems Biology\\\\MSB5000_Master_Thesis\\\\Practical work\\\\Data\\\\Data_Full_Datasets\\\\GSE66351\\\\EWAS\\\\Results_small_dataset.csv\", index_col=0)\n",
    "#original_r_GSE66351_B = pd.read_csv(\"E:\\\\Msc Systems Biology\\\\MSB5000_Master_Thesis\\\\Practical work\\\\Data\\\\Data_Full_Datasets\\\\GSE66351\\\\Normalised_Betas.csv\", index_col=0)\n",
    "\n",
    "\n",
    "original_r_GSE105109_E = pd.read_csv(\"E:\\\\Msc Systems Biology\\\\MSB5000_Master_Thesis\\\\Practical work\\\\Data\\\\Data_Full_Datasets\\\\GSE105109\\\\EWAS\\\\Results_small_dataset.csv\", index_col=0)\n",
    "#original_r_GSE105109_B = pd.read_csv(\"E:\\\\Msc Systems Biology\\\\MSB5000_Master_Thesis\\\\Practical work\\\\Data\\\\Data_Full_Datasets\\\\GSE105109\\\\GSE105109_Normalised_Betas.csv\", index_col=0)\n",
    "\n",
    "\n",
    "original_r_GSE134379_E = pd.read_csv(\"E:\\\\Msc Systems Biology\\\\MSB5000_Master_Thesis\\\\Practical work\\\\Data\\\\Data_Full_Datasets\\\\GSE134379\\\\EWAS\\\\Results_small_dataset.csv\", index_col=0)\n",
    "#original_r_GSE134379_B = pd.read_csv(\"E:\\\\Msc Systems Biology\\\\MSB5000_Master_Thesis\\\\Practical work\\\\Data\\\\Data_Full_Datasets\\\\GSE134379\\\\Normalised_Betas.csv\", index_col=0)\n",
    "\n",
    "\n",
    "original_r_combined = None"
   ]
  },
  {
   "cell_type": "code",
   "execution_count": 3,
   "metadata": {},
   "outputs": [],
   "source": [
    "python_central_GSE66351_E = pd.read_csv(\"E:\\\\Msc Systems Biology\\\\MSB5000_Master_Thesis\\\\Practical work\\\\Data\\\\QC_Python\\\\GSE66351results_diagnosis_regression_python.csv\", index_col=0)\n",
    "python_central_GSE66351_B = pd.read_csv(\"E:\\\\Msc Systems Biology\\\\MSB5000_Master_Thesis\\\\Practical work\\\\Data\\\\QC_Python\\\\GSE66351_normalised_betas_python.csv\", index_col=0)\n",
    "\n",
    "python_central_GSE105109 = None\n",
    "python_central_GSE134379 = None\n",
    "python_combined = None"
   ]
  },
  {
   "cell_type": "code",
   "execution_count": 4,
   "metadata": {},
   "outputs": [],
   "source": [
    "federated = pd.read_csv(\"E:\\\\Msc Systems Biology\\\\MSB5000_Master_Thesis\\\\Practical work\\\\Data\\\\GSE66351_Fed\\\\Results_EWAS1.csv\", index_col=0, header=[0,1])\n"
   ]
  },
  {
   "cell_type": "code",
   "execution_count": 5,
   "metadata": {},
   "outputs": [],
   "source": [
    "federated_mild_imbalance = pd.read_csv(\"E:\\Msc Systems Biology\\MSB5000_Master_Thesis\\Practical work\\Data\\GSE66351_Fed\\mild_Results_EWAS1.csv\", index_col=0, header = [0,1])\n",
    "federated_strong_imbalance = pd.read_csv(\"E:\\Msc Systems Biology\\MSB5000_Master_Thesis\\Practical work\\Data\\GSE66351_Fed\\stron_Results_EWAS1.csv\", index_col=0, header = [0,1])"
   ]
  },
  {
   "cell_type": "code",
   "execution_count": 6,
   "metadata": {},
   "outputs": [],
   "source": [
    "def calculate_GroudTruth(R_EWAS_results, diff_meth_thresh = 0.05):\n",
    "    #control_probe_means = Normalised_betas.loc[:, phenotype.index[phenotype[\"Diagnosis\"] == \" CTRL\"]].mean(axis=1)\n",
    "    #AD_probe_means = Normalised_betas.loc[:, phenotype.index[phenotype[\"Diagnosis\"] != \" CTRL\"]].mean(axis=1)\n",
    "    probe_difference = pd.Series.abs(R_EWAS_results.loc[:,\"Diagnosis_Beta\"])\n",
    "    DM_probes = probe_difference[probe_difference >= diff_meth_thresh]\n",
    "    not_DM_probes = probe_difference[probe_difference < diff_meth_thresh]\n",
    "\n",
    "    # selecting the significant probes from the EWAS results\n",
    "    EWAS_sig = R_EWAS_results.loc[R_EWAS_results[\"corr_pval\"] <= 0.05, :]\n",
    "    EWAS_notsig = R_EWAS_results.loc[R_EWAS_results[\"corr_pval\"] > 0.05, :]\n",
    "\n",
    "    # true positives - EWAS significant and differentially methylated\n",
    "    true_positive = set(DM_probes.index.values).intersection(set(EWAS_sig.index.values))\n",
    "    # true negatives - EWAS not significant and not differentially methylated\n",
    "    true_negative = set(not_DM_probes.index.values).intersection(set(EWAS_notsig.index.values))\n",
    "    # false positives - EWAS significant and not differentially methylated\n",
    "    false_positve = set(not_DM_probes.index.values).intersection(set(EWAS_sig.index.values))\n",
    "    # false negatives = EWAS not significant and differentially methylated\n",
    "    false_negative = set(DM_probes.index.values).intersection(set(EWAS_notsig.index.values))\n",
    "\n",
    "    return {\"TP\":true_positive, \"TN\":true_negative, \"FP\":false_positve, \"FN\":false_negative}\n",
    "\n",
    "    "
   ]
  },
  {
   "cell_type": "code",
   "execution_count": 25,
   "metadata": {},
   "outputs": [],
   "source": [
    "def calculate_EWAS_metrics_p(EWAS_results, ground_truth, diff_meth_thresh = 0.05,  multiIndex = False):\n",
    "    #control_probe_means = Normalised_betas.loc[:, phenotype.index[phenotype[\"Diagnosis\"] == \" CTRL\"]].mean(axis=1)\n",
    "    #AD_probe_means = Normalised_betas.loc[:, phenotype.index[phenotype[\"Diagnosis\"] != \" CTRL\"]].mean(axis=1)\n",
    "    if multiIndex:\n",
    "            probe_difference = pd.Series.abs(EWAS_results.loc[:, (\"Methylation change\", \"Diagnosis\")])\n",
    "    else:\n",
    "        probe_difference = pd.Series.abs(EWAS_results.loc[:,\"Methylation Change\"])\n",
    "    DM_probes = probe_difference[probe_difference >= diff_meth_thresh]\n",
    "    not_DM_probes = probe_difference[probe_difference < diff_meth_thresh]\n",
    "\n",
    "    # selecting the significant probes from the EWAS results\n",
    "    if multiIndex:\n",
    "            EWAS_sig = EWAS_results.loc[EWAS_results[(\"Corrected P-value\", \"Diagnosis\")] <= 0.05, :]\n",
    "    else:\n",
    "        EWAS_sig = EWAS_results.loc[EWAS_results[\"Corrected P-value\"] <= 0.05, :]\n",
    "    \n",
    "    if multiIndex:\n",
    "            EWAS_notsig = EWAS_results.loc[EWAS_results[(\"Corrected P-value\", \"Diagnosis\")] > 0.05, :]\n",
    "    else:\n",
    "        EWAS_notsig = EWAS_results.loc[EWAS_results[\"Corrected P-value\"] > 0.05, :]\n",
    "\n",
    "    # true positives - EWAS significant and differentially methylated in python/fed and in original R\n",
    "    true_positive = len(set(set(DM_probes.index.values).intersection(set(EWAS_sig.index.values))).intersection(ground_truth[\"TP\"]))\n",
    "    # true negatives - EWAS not significant and not differentially methylated in python/fed and in original R\n",
    "    true_negative = len(set(set(not_DM_probes.index.values).intersection(set(EWAS_notsig.index.values))).intersection(ground_truth[\"TN\"]))\n",
    "    # false positives - EWAS significant and not differentially methylated in python/fed and in original R\n",
    "    false_positve = len(set(set(not_DM_probes.index.values).intersection(set(EWAS_sig.index.values))).intersection(ground_truth[\"FP\"]))\n",
    "    # false negatives = EWAS not significant and differentially methylated in python/fed and in original R\n",
    "    false_negative = len(set(set(DM_probes.index.values).intersection(set(EWAS_notsig.index.values))).intersection(ground_truth[\"FN\"]))\n",
    "\n",
    "    Acc = (true_positive + true_negative)/(true_positive+true_negative+false_positve+false_negative)\n",
    "    if (true_positive+false_positve) > 0:\n",
    "        Pre = true_positive/(true_positive+false_positve)\n",
    "    else:\n",
    "        Pre = 0\n",
    "    if (true_positive+false_negative) > 0:\n",
    "        Rec = true_positive/(true_positive + false_negative)\n",
    "    else:\n",
    "        Rec = 0\n",
    "    if Pre and Rec:\n",
    "        F1 = 2*(Rec*Pre)/(Rec + Pre)\n",
    "    else:\n",
    "        F1 = 0\n",
    "\n",
    "    return {\"TP\":true_positive, \"TN\":true_negative, \"FP\":false_positve, \"FN\":false_negative, \"Accuracy\":Acc, \"Precision\":Pre, \"Recall\":Rec, \"F1\":F1}\n"
   ]
  },
  {
   "cell_type": "code",
   "execution_count": 8,
   "metadata": {},
   "outputs": [],
   "source": [
    "GSE66351_groundTruth = calculate_GroudTruth(original_r_GSE66351_E)"
   ]
  },
  {
   "cell_type": "code",
   "execution_count": 26,
   "metadata": {},
   "outputs": [],
   "source": [
    "# loop through different methylation cut-offs to compare perfomance of R and fed\n",
    "thresholds = {\"0.01\":0.01, \"0.05\":0.05, \"0.1\":0.1, \"0.15\":0.15, \"0.2\":0.20}\n",
    "datasets = {\"No Inbalance\":federated, \"Mild Inbalance\":federated_mild_imbalance, \"Strong Inbalance\":federated_strong_imbalance}\n",
    "results = {}\n",
    "#thesis_tables = pd.ExcelWriter(\"E:\\\\Msc Systems Biology\\\\MSB5000_Master_Thesis\\\\Practical work\\\\ThesisTable.xlsx\", mode=\"a\", engine=\"openpyxl\")\n",
    "for data in datasets:\n",
    "    inner = {}\n",
    "    for i in thresholds:\n",
    "        metrics = calculate_EWAS_metrics_p(datasets[data], diff_meth_thresh=thresholds[i], ground_truth=GSE66351_groundTruth, multiIndex=True)\n",
    "        inner[i] = metrics\n",
    "    results[data] = pd.DataFrame.from_dict(inner).T\n",
    "    # save the metric tables to excel\n",
    "    with pd.ExcelWriter(\"E:\\\\Msc Systems Biology\\\\MSB5000_Master_Thesis\\\\Practical work\\\\ThesisTable.xlsx\", mode=\"a\", engine=\"openpyxl\", if_sheet_exists=\"replace\") as writer:\n",
    "        results[data].to_excel(writer, sheet_name = (data + \"EWASMetrics\"))\n",
    "\n",
    "    "
   ]
  },
  {
   "cell_type": "code",
   "execution_count": 9,
   "metadata": {},
   "outputs": [],
   "source": [
    "GSE66351_metrics_p = calculate_EWAS_metrics_p(python_central_GSE66351_E, diff_meth_thresh=0.05, ground_truth = GSE66351_groundTruth, multiIndex=False)\n",
    "federated_metrics = calculate_EWAS_metrics_p(federated, diff_meth_thresh=0.05, ground_truth = GSE66351_groundTruth, multiIndex=True)\n",
    "# combine the metrics results into one dataframe\n",
    "performance_results = pd.DataFrame.from_dict([GSE66351_metrics_p, federated_metrics])\n",
    "performance_results.index = [\"GSE66351 Pyhton central\", \"GSE66351 Federated\"]\n",
    "#performance_results.to_excel(\"E:\\\\Msc Systems Biology\\\\MSB5000_Master_Thesis\\\\Practical work\\\\ThesisTables.xlsx\")\n",
    "\n",
    "performance_results"
   ]
  },
  {
   "cell_type": "code",
   "execution_count": 23,
   "metadata": {},
   "outputs": [
    {
     "data": {
      "text/plain": [
       "0.253622674128926"
      ]
     },
     "execution_count": 23,
     "metadata": {},
     "output_type": "execute_result"
    }
   ],
   "source": [
    "test = pd.Series.abs(original_r_GSE66351_E.loc[:, \"Diagnosis_Beta\"])\n",
    "test.max()"
   ]
  },
  {
   "cell_type": "code",
   "execution_count": 36,
   "metadata": {},
   "outputs": [
    {
     "name": "stdout",
     "output_type": "stream",
     "text": [
      "There are 24 probes in ground truth that are not differentially methylated in fed mild\n",
      "There are 24 probes in ground truth FP\n"
     ]
    }
   ],
   "source": [
    "probe_difference = pd.Series.abs(federated_mild_imbalance.loc[:, (\"Methylation change\", \"Diagnosis\")])\n",
    "DM_probes = probe_difference[probe_difference >= 0.05]\n",
    "no = probe_difference[probe_difference < 0.05]\n",
    "print(\"There are %s probes in ground truth that are not differentially methylated in fed mild\"%(len(GSE66351_groundTruth[\"FP\"].difference(set(no)))))\n",
    "print(\"There are %s probes in ground truth FP\"%(len(GSE66351_groundTruth[\"FP\"])))"
   ]
  },
  {
   "cell_type": "code",
   "execution_count": 40,
   "metadata": {},
   "outputs": [
    {
     "data": {
      "text/plain": [
       "cg13024624    0.027695\n",
       "cg14091713    0.035844\n",
       "cg00270291    0.022981\n",
       "cg15858894    0.037446\n",
       "cg25846190    0.047121\n",
       "cg01211424    0.015661\n",
       "cg26516741    0.009751\n",
       "cg27554973    0.037428\n",
       "cg00796364    0.012414\n",
       "cg19435724    0.010890\n",
       "cg18626282    0.006315\n",
       "cg17519650    0.007102\n",
       "cg05036100    0.010889\n",
       "cg23289794    0.023096\n",
       "cg09830308    0.032548\n",
       "cg27313572    0.009798\n",
       "cg25172682    0.013954\n",
       "cg01832266    0.013471\n",
       "cg07594247    0.049003\n",
       "cg25744450    0.043815\n",
       "cg09091181    0.022087\n",
       "cg01894498    0.034574\n",
       "cg24577417    0.011816\n",
       "cg09303159    0.020531\n",
       "Name: (Methylation change, Diagnosis), dtype: float64"
      ]
     },
     "execution_count": 40,
     "metadata": {},
     "output_type": "execute_result"
    }
   ],
   "source": [
    "probe_difference.loc[list(GSE66351_groundTruth[\"FP\"].intersection(set(no.index)))]"
   ]
  }
 ],
 "metadata": {
  "interpreter": {
   "hash": "0a54084e6b208ee8d1ce3989ffc20924477a5f55f5a43e22e699a6741623861e"
  },
  "kernelspec": {
   "display_name": "Python 3.7.8 64-bit",
   "language": "python",
   "name": "python3"
  },
  "language_info": {
   "codemirror_mode": {
    "name": "ipython",
    "version": 3
   },
   "file_extension": ".py",
   "mimetype": "text/x-python",
   "name": "python",
   "nbconvert_exporter": "python",
   "pygments_lexer": "ipython3",
   "version": "3.7.8"
  },
  "orig_nbformat": 4
 },
 "nbformat": 4,
 "nbformat_minor": 2
}

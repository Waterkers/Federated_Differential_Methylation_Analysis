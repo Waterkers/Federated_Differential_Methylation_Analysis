{
 "cells": [
  {
   "cell_type": "code",
   "execution_count": 1,
   "metadata": {},
   "outputs": [],
   "source": [
    "import pandas as pd\n",
    "import numpy as np\n",
    "import os\n",
    "import sys\n",
    "import matplotlib.pyplot as plt\n",
    "import seaborn as sns\n",
    "import methylcheck"
   ]
  },
  {
   "cell_type": "markdown",
   "metadata": {},
   "source": [
    "## Evaluation of the workflows  \n",
    "The performance of the python and federated implmentation of the workflow provided by the x group at Exeter university are compared to the original r-version of this workflow.  \n",
    "Additionally the performance of the federated workflow is tested in several cases of sample size and class label imbalance."
   ]
  },
  {
   "cell_type": "code",
   "execution_count": 47,
   "metadata": {},
   "outputs": [],
   "source": [
    "GSE66351_pheno = pd.read_csv(\"E:\\\\Msc Systems Biology\\\\MSB5000_Master_Thesis\\\\Practical work\\\\Data\\\\Data_Full_Datasets\\\\GSE66351\\\\Reduced_Pheno_Info.csv\", index_col=0)\n",
    "GSE105109_pheno = pd.read_csv(\"E:\\\\Msc Systems Biology\\\\MSB5000_Master_Thesis\\\\Practical work\\\\Data\\\\Data_Full_Datasets\\\\GSE105109\\\\GSE105109_Reduced_Pheno_Info.csv\", index_col=0)\n",
    "GSE134379_pheno = pd.read_csv(\"E:\\\\Msc Systems Biology\\\\MSB5000_Master_Thesis\\\\Practical work\\\\Data\\\\Data_Full_Datasets\\\\GSE134379\\\\Reduced_Pheno_Info.csv\", index_col=0)\n",
    "# make sure all the phenotype files used the same codes for the diagnosis\n",
    "GSE105109_pheno.loc[GSE105109_pheno[\"Diagnosis\"] == \" Control\", \"Diagnosis\"] = \" CTRL\"\n",
    "GSE105109_pheno.loc[GSE105109_pheno[\"Diagnosis\"] == \" Alzheimer's disease\", \"Diagnosis\"] = \" AD\"\n",
    "\n",
    "GSE134379_pheno.loc[GSE134379_pheno[\"Diagnosis\"] == \" ND\", \"Diagnosis\"] = \" CTRL\"\n",
    "GSE134379_pheno.loc[GSE134379_pheno[\"Diagnosis\"] == \" AD\", \"Diagnosis\"] = \" AD\"\n",
    "\n",
    "# recode the sex column so in all datasets \"gender: F\" is females and \"gender: M\" is males\n",
    "# only GSE66351 needs to be recoded that way\n",
    "\n",
    "GSE66351_pheno.loc[GSE66351_pheno[\"Sex\"] == \" F\", \"Sex\"] = \" F\"\n",
    "GSE66351_pheno.loc[GSE66351_pheno[\"Sex\"] == \" M\", \"Sex\"] = \" M\""
   ]
  },
  {
   "cell_type": "code",
   "execution_count": 2,
   "metadata": {},
   "outputs": [],
   "source": [
    "# read in the results from the different implementations\n",
    "original_r_GSE66351_E = pd.read_csv(\"E:\\\\Msc Systems Biology\\\\MSB5000_Master_Thesis\\\\Practical work\\\\Data\\\\Data_Full_Datasets\\\\GSE66351\\\\EWAS\\\\EWAS_GSE66351\\\\Small_Results_dataset.csv\", index_col=0)\n",
    "small_tets_r = pd.read_csv(\"E:\\\\Msc Systems Biology\\\\MSB5000_Master_Thesis\\\\Practical work\\\\Federated_Differential_Methylation_Analysis\\\\Fed_test\\\\central_r_test_out.csv\", index_col=0)\n",
    "\n",
    "#original_r_GSE105109_E = pd.read_csv(\"E:\\\\Msc Systems Biology\\\\MSB5000_Master_Thesis\\\\Practical work\\\\Data\\\\Data_Full_Datasets\\\\GSE105109\\\\EWAS\\\\Results_small_dataset.csv\", index_col=0)\n",
    "\n",
    "#original_r_GSE134379_E = pd.read_csv(\"E:\\\\Msc Systems Biology\\\\MSB5000_Master_Thesis\\\\Practical work\\\\Data\\\\Data_Full_Datasets\\\\GSE134379\\\\EWAS\\\\Results_small_dataset.csv\", index_col=0)\n",
    "\n",
    "#original_r_combined = None"
   ]
  },
  {
   "cell_type": "code",
   "execution_count": 3,
   "metadata": {},
   "outputs": [],
   "source": [
    "python_central_GSE66351_E = pd.read_csv(\"E:\\\\Msc Systems Biology\\\\MSB5000_Master_Thesis\\\\Practical work\\\\Data\\\\QC_Python\\\\GSE66351results_diagnosis_regression_python.csv\", index_col=0)\n",
    "python_central_GSE105109 = None\n",
    "python_central_GSE134379 = None\n",
    "python_combined = None\n"
   ]
  },
  {
   "cell_type": "code",
   "execution_count": 6,
   "metadata": {},
   "outputs": [],
   "source": [
    "federated = pd.read_csv(\"E:\\\\Msc Systems Biology\\\\MSB5000_Master_Thesis\\\\Practical work\\\\Data\\\\GSE66351_Fed\\\\even_splits_EWAS_results.csv\", index_col=0)\n"
   ]
  },
  {
   "cell_type": "code",
   "execution_count": 3,
   "metadata": {},
   "outputs": [],
   "source": [
    "federated_mild_imbalance = pd.read_csv(\"E:\\Msc Systems Biology\\MSB5000_Master_Thesis\\Practical work\\Data\\GSE66351_Fed\\mild_splits_EWAS_results.csv\", index_col=0)\n",
    "federated_strong_imbalance = pd.read_csv(\"E:\\Msc Systems Biology\\MSB5000_Master_Thesis\\Practical work\\Data\\GSE66351_Fed\\strong_splits_EWAS_results.csv\", index_col=0)\n",
    "small_test_federated = pd.read_csv(\"E:\\\\Msc Systems Biology\\\\MSB5000_Master_Thesis\\\\Practical work\\\\Federated_Differential_Methylation_Analysis\\\\Fed_test\\\\fed_limma_even_splits.csv\", index_col=0)"
   ]
  },
  {
   "cell_type": "code",
   "execution_count": 5,
   "metadata": {},
   "outputs": [],
   "source": [
    "def calculate_GroudTruth(R_EWAS_results, diff_meth_thresh = 0.05):\n",
    "    #control_probe_means = Normalised_betas.loc[:, phenotype.index[phenotype[\"Diagnosis\"] == \" CTRL\"]].mean(axis=1)\n",
    "    #AD_probe_means = Normalised_betas.loc[:, phenotype.index[phenotype[\"Diagnosis\"] != \" CTRL\"]].mean(axis=1)\n",
    "    probe_difference = pd.Series.abs(R_EWAS_results.loc[:,\"LogFC\"])\n",
    "    DM_probes = probe_difference[probe_difference >= diff_meth_thresh]\n",
    "    not_DM_probes = probe_difference[probe_difference < diff_meth_thresh]\n",
    "\n",
    "    # selecting the significant probes from the EWAS results\n",
    "    EWAS_sig = R_EWAS_results.loc[R_EWAS_results[\"adj.P.Val\"] <= 0.05, :]\n",
    "    EWAS_notsig = R_EWAS_results.loc[R_EWAS_results[\"adj.P.Val\"] > 0.05, :]\n",
    "\n",
    "    # true positives - EWAS significant and differentially methylated\n",
    "    true_positive = set(DM_probes.index.values).intersection(set(EWAS_sig.index.values))\n",
    "    # true negatives - EWAS not significant and not differentially methylated\n",
    "    true_negative = set(not_DM_probes.index.values).intersection(set(EWAS_notsig.index.values))\n",
    "    # false positives - EWAS significant and not differentially methylated\n",
    "    false_positve = set(not_DM_probes.index.values).intersection(set(EWAS_sig.index.values))\n",
    "    # false negatives = EWAS not significant and differentially methylated\n",
    "    false_negative = set(DM_probes.index.values).intersection(set(EWAS_notsig.index.values))\n",
    "\n",
    "    return {\"TP\":true_positive, \"TN\":true_negative, \"FP\":false_positve, \"FN\":false_negative}\n",
    "\n",
    "    "
   ]
  },
  {
   "cell_type": "code",
   "execution_count": null,
   "metadata": {},
   "outputs": [],
   "source": [
    "def calculate_EWAS_metrics_p(EWAS_results, ground_truth, diff_meth_thresh = 0.05):\n",
    "    #control_probe_means = Normalised_betas.loc[:, phenotype.index[phenotype[\"Diagnosis\"] == \" CTRL\"]].mean(axis=1)\n",
    "    #AD_probe_means = Normalised_betas.loc[:, phenotype.index[phenotype[\"Diagnosis\"] != \" CTRL\"]].mean(axis=1)\n",
    "    \n",
    "    probe_difference = pd.Series.abs(EWAS_results.loc[:,\"LogFC\"])\n",
    "    DM_probes = probe_difference[probe_difference >= diff_meth_thresh]\n",
    "    not_DM_probes = probe_difference[probe_difference < diff_meth_thresh]\n",
    "\n",
    "    # selecting the significant probes from the EWAS results\n",
    "    \n",
    "    EWAS_sig = EWAS_results.loc[EWAS_results[\"adj.P.Val\"] <= 0.05, :]\n",
    "    EWAS_notsig = EWAS_results.loc[EWAS_results[\"adj.P.Val\"] > 0.05, :]\n",
    "\n",
    "    # true positives - EWAS significant and differentially methylated in python/fed and in original R\n",
    "    true_positive = len(set(set(DM_probes.index.values).intersection(set(EWAS_sig.index.values))).intersection(ground_truth[\"TP\"]))\n",
    "    # true negatives - EWAS not significant and not differentially methylated in python/fed and in original R\n",
    "    true_negative = len(set(set(not_DM_probes.index.values).intersection(set(EWAS_notsig.index.values))).intersection(ground_truth[\"TN\"]))\n",
    "    # false positives - EWAS significant and not differentially methylated in python/fed and in original R\n",
    "    false_positve = len(set(set(not_DM_probes.index.values).intersection(set(EWAS_sig.index.values))).intersection(ground_truth[\"FP\"]))\n",
    "    # false negatives = EWAS not significant and differentially methylated in python/fed and in original R\n",
    "    false_negative = len(set(set(DM_probes.index.values).intersection(set(EWAS_notsig.index.values))).intersection(ground_truth[\"FN\"]))\n",
    "\n",
    "    Acc = (true_positive + true_negative)/(true_positive+true_negative+false_positve+false_negative)\n",
    "    if (true_positive+false_positve) > 0:\n",
    "        Pre = true_positive/(true_positive+false_positve)\n",
    "    else:\n",
    "        Pre = 0\n",
    "    if (true_positive+false_negative) > 0:\n",
    "        Rec = true_positive/(true_positive + false_negative)\n",
    "    else:\n",
    "        Rec = 0\n",
    "    if Pre and Rec:\n",
    "        F1 = 2*(Rec*Pre)/(Rec + Pre)\n",
    "    else:\n",
    "        F1 = 0\n",
    "\n",
    "    return {\"TP\":true_positive, \"TN\":true_negative, \"FP\":false_positve, \"FN\":false_negative, \"Accuracy\":Acc, \"Precision\":Pre, \"Recall\":Rec, \"F1\":F1}\n"
   ]
  },
  {
   "cell_type": "code",
   "execution_count": 4,
   "metadata": {},
   "outputs": [],
   "source": [
    "def groundTruthNew(R_EWAS_results, diff_meth_thresh = 0.05):\n",
    "    probe_difference = pd.Series.abs(R_EWAS_results.loc[:,\"logFC\"])\n",
    "    DM_probes = probe_difference[probe_difference >= diff_meth_thresh].index.values\n",
    "    DM_probes = set(DM_probes).intersection(set(R_EWAS_results.loc[R_EWAS_results[\"adj.P.Val\"] <= 0.05, :].index.values))\n",
    "    notDM_probes = set(R_EWAS_results.index.values).difference(DM_probes)\n",
    "    return {\"DM\":DM_probes, \"Not DM\":notDM_probes}"
   ]
  },
  {
   "cell_type": "code",
   "execution_count": 5,
   "metadata": {},
   "outputs": [],
   "source": [
    "def EWAS_metrics_p(EWAS_results, ground_truth, diff_meth_thresh = 0.05,  multiIndex = False):\n",
    "    #control_probe_means = Normalised_betas.loc[:, phenotype.index[phenotype[\"Diagnosis\"] == \" CTRL\"]].mean(axis=1)\n",
    "    #AD_probe_means = Normalised_betas.loc[:, phenotype.index[phenotype[\"Diagnosis\"] != \" CTRL\"]].mean(axis=1)\n",
    "    \n",
    "    \n",
    "    probe_difference = pd.Series.abs(EWAS_results.loc[:,\"logFC\"])\n",
    "    EWAS_sig = EWAS_results.loc[EWAS_results[\"adj.P.Val\"] <= 0.05, :].index\n",
    "        \n",
    "    \n",
    "    good_probes = probe_difference[probe_difference >= diff_meth_thresh].index\n",
    "    good_probes = set(good_probes).intersection(set(EWAS_sig))\n",
    "    not_good = set(EWAS_results.index.values).difference(good_probes)\n",
    "\n",
    "    \n",
    "    # true positives - EWAS significant and differentially methylated in python/fed and in original R\n",
    "    true_positive = len(ground_truth[\"DM\"].intersection(good_probes))\n",
    "    # true negatives - EWAS not significant and not differentially methylated in python/fed and in original R\n",
    "    true_negative = len(ground_truth[\"Not DM\"].intersection(not_good))\n",
    "    # false positives - EWAS significant and not differentially methylated in python/fed and in original R\n",
    "    false_positve = len(ground_truth[\"Not DM\"].intersection(good_probes))\n",
    "    # false negatives = EWAS not significant and differentially methylated in python/fed and in original R\n",
    "    false_negative = len(ground_truth[\"DM\"].intersection(not_good))\n",
    "\n",
    "    Acc = (true_positive + true_negative)/(true_positive+true_negative+false_positve+false_negative)\n",
    "    if (true_positive+false_positve) > 0:\n",
    "        Pre = true_positive/(true_positive+false_positve)\n",
    "    else:\n",
    "        Pre = 0\n",
    "    if (true_positive+false_negative) > 0:\n",
    "        Rec = true_positive/(true_positive + false_negative)\n",
    "    else:\n",
    "        Rec = 0\n",
    "    if Pre and Rec:\n",
    "        F1 = 2*(Rec*Pre)/(Rec + Pre)\n",
    "    else:\n",
    "        F1 = 0\n",
    "\n",
    "    return {\"TP\":true_positive, \"TN\":true_negative, \"FP\":false_positve, \"FN\":false_negative, \"Accuracy\":Acc, \"Precision\":Pre, \"Recall\":Rec, \"F1\":F1}\n"
   ]
  },
  {
   "cell_type": "code",
   "execution_count": 15,
   "metadata": {},
   "outputs": [],
   "source": [
    "GSE66351_groundTruth = groundTruthNew(original_r_GSE66351_E)"
   ]
  },
  {
   "cell_type": "code",
   "execution_count": 6,
   "metadata": {},
   "outputs": [],
   "source": [
    "# loop through different methylation cut-offs to compare perfomance of R and fed on test data\n",
    "thresholds = {\"0.01\":0.01, \"0.05\":0.05, \"0.1\":0.1, \"0.15\":0.15, \"0.2\":0.20}\n",
    "inner = {}\n",
    "for i in thresholds:\n",
    "    groundTruth = groundTruthNew(small_tets_r, diff_meth_thresh=thresholds[i])\n",
    "    metrics = EWAS_metrics_p(small_test_federated, diff_meth_thresh=thresholds[i], ground_truth=groundTruth, multiIndex=True)\n",
    "    inner[i] = metrics\n",
    "results = pd.DataFrame.from_dict(inner).T\n",
    "with pd.ExcelWriter(\"E:\\\\Msc Systems Biology\\\\MSB5000_Master_Thesis\\\\Practical work\\\\ThesisTable.xlsx\", mode=\"a\", engine=\"openpyxl\", if_sheet_exists=\"replace\") as writer:\n",
    "    results.to_excel(writer, sheet_name =  \"TestData_EWASMetrics\")"
   ]
  },
  {
   "cell_type": "code",
   "execution_count": 23,
   "metadata": {},
   "outputs": [],
   "source": [
    "# loop through different methylation cut-offs to compare perfomance of R and fed\n",
    "thresholds = {\"0.01\":0.01, \"0.05\":0.05, \"0.1\":0.1, \"0.15\":0.15, \"0.2\":0.20}\n",
    "datasets = {\"No Inbalance\":federated, \"Mild Inbalance\":federated_mild_imbalance, \"Strong Inbalance\":federated_strong_imbalance}\n",
    "results = {}\n",
    "#thesis_tables = pd.ExcelWriter(\"E:\\\\Msc Systems Biology\\\\MSB5000_Master_Thesis\\\\Practical work\\\\ThesisTable.xlsx\", mode=\"a\", engine=\"openpyxl\")\n",
    "for data in datasets:\n",
    "    inner = {}\n",
    "    for i in thresholds:\n",
    "        groundTruth = groundTruthNew(original_r_GSE66351_E, diff_meth_thresh=thresholds[i])\n",
    "        metrics = EWAS_metrics_p(datasets[data], diff_meth_thresh=thresholds[i], ground_truth=groundTruth, multiIndex=True)\n",
    "        inner[i] = metrics\n",
    "    results[data] = pd.DataFrame.from_dict(inner).T\n",
    "    # save the metric tables to excel\n",
    "    with pd.ExcelWriter(\"E:\\\\Msc Systems Biology\\\\MSB5000_Master_Thesis\\\\Practical work\\\\ThesisTable.xlsx\", mode=\"a\", engine=\"openpyxl\", if_sheet_exists=\"replace\") as writer:\n",
    "        results[data].to_excel(writer, sheet_name = (data + \"EWASMetrics\"))\n",
    "\n",
    "    "
   ]
  },
  {
   "cell_type": "code",
   "execution_count": 11,
   "metadata": {},
   "outputs": [],
   "source": [
    "diff_ids_even = set(original_r_GSE66351_E.loc[original_r_GSE66351_E[\"adj.P.Val\"]<=0.05, :].index.values).difference(set(federated.loc[federated[\"adj.P.Val\"]<=0.05, :].index.values))\n",
    "diff_ids_mild = set(original_r_GSE66351_E.loc[original_r_GSE66351_E[\"adj.P.Val\"]<=0.05, :].index.values).difference(set(federated_mild_imbalance.loc[federated_mild_imbalance[\"adj.P.Val\"]<=0.05, :].index.values))\n",
    "diff_ids_strong = set(original_r_GSE66351_E.loc[original_r_GSE66351_E[\"adj.P.Val\"]<=0.05, :].index.values).difference(set(federated_strong_imbalance.loc[federated_strong_imbalance[\"adj.P.Val\"]<=0.05, :].index.values))"
   ]
  },
  {
   "cell_type": "code",
   "execution_count": 6,
   "metadata": {},
   "outputs": [],
   "source": [
    "import matplotlib.pyplot as plt\n",
    "import seaborn as sns\n",
    "#r and fed beta deviation desity distribution plot"
   ]
  },
  {
   "cell_type": "code",
   "execution_count": 8,
   "metadata": {},
   "outputs": [
    {
     "data": {
      "text/plain": [
       "Text(0.5, 1.0, 'Strong imbalance - Federated')"
      ]
     },
     "execution_count": 8,
     "metadata": {},
     "output_type": "execute_result"
    },
    {
     "data": {
      "image/png": "[encoded data removed]",
      "text/plain": [
       "<Figure size 720x1080 with 4 Axes>"
      ]
     },
     "metadata": {
      "needs_background": "light"
     },
     "output_type": "display_data"
    }
   ],
   "source": [
    "#scatterplot p-values distributions r and fed python in the different scenarios\n",
    "%matplotlib inline\n",
    "fig, ((ax1, ax2), (ax3, ax4)) = plt.subplots(ncols = 2, nrows=2, figsize=(10,15))\n",
    "# no imbalance - r\n",
    "ax1.scatter(x=original_r_GSE66351_E.index.values, y = original_r_GSE66351_E.loc[:, \"adj.P.Val\"], c=\"r\")\n",
    "#ax1.hlines(y=0.05, xmin=0, xmax=int(len(federated.index.values)))\n",
    "ax1.set_ylim((0.00,1.00))\n",
    "ax1.set_ylabel(\"Adjusted P-value\")\n",
    "ax1.set_xlabel(\"Probes\")\n",
    "ax1.set_xticks([])\n",
    "ax1.set_title(\"GSE66351 - R\")\n",
    "# no imbalance - fed\n",
    "ax2.scatter(x=federated.index.values, y = federated.loc[:, \"adj.P.Val\"], c=\"b\")\n",
    "#ax2.hlines(y=0.05, xmin=0, xmax=int(len(federated_mild_imbalance.index.values)))\n",
    "ax2.set_ylim((0.00,1.00))\n",
    "ax2.set_ylabel(\"Adjusted P-value\")\n",
    "ax2.set_xlabel(\"Probes\")\n",
    "ax2.set_xticks([])\n",
    "ax2.set_title(\"No imbalance - Federated\")\n",
    "#strong - r\n",
    "ax3.scatter(x=original_r_GSE66351_E.index.values, y = original_r_GSE66351_E.loc[:, \"adj.P.Val\"], c=\"r\")\n",
    "#ax3.hlines(y=0.05, xmin=0, xmax=int(len(federated_mild_imbalance.index.values)))\n",
    "ax3.set_ylim((0.00,1.00))\n",
    "ax3.set_ylabel(\"Adjusted P-value\")\n",
    "ax3.set_xlabel(\"Probes\")\n",
    "ax3.set_xticks([])\n",
    "ax3.set_title(\"GSE66351 - R\")\n",
    "# strong - fed\n",
    "ax4.scatter(x=federated_strong_imbalance.index.values, y = federated_strong_imbalance.loc[:, \"adj.P.Val\"], c=\"b\")\n",
    "#ax4.hlines(y=0.05, xmin=0, xmax=int(len(federated_mild_imbalance.index.values)))\n",
    "ax4.set_ylim((0.00,1.00))\n",
    "ax4.set_ylabel(\"Adjusted P-value\")\n",
    "ax4.set_xlabel(\"Probes\")\n",
    "ax4.set_xticks([])\n",
    "ax4.set_title(\"Strong imbalance - Federated\")\n",
    "\n",
    "\n",
    "\n"
   ]
  },
  {
   "cell_type": "code",
   "execution_count": 9,
   "metadata": {},
   "outputs": [],
   "source": [
    "fig.savefig(\"E:\\\\Msc Systems Biology\\\\MSB5000_Master_Thesis\\\\Practical work\\\\Federated_Differential_Methylation_Analysis\\\\Evaluations\\\\PValue_Dist_NoStrongImb.jpeg\")"
   ]
  },
  {
   "cell_type": "code",
   "execution_count": 15,
   "metadata": {},
   "outputs": [
    {
     "data": {
      "text/plain": [
       "Text(0.5, 1.0, 'Strong imbalance - Federated')"
      ]
     },
     "execution_count": 15,
     "metadata": {},
     "output_type": "execute_result"
    },
    {
     "data": {
      "image/png": "[encoded data removed]",
      "text/plain": [
       "<Figure size 432x288 with 4 Axes>"
      ]
     },
     "metadata": {
      "needs_background": "light"
     },
     "output_type": "display_data"
    }
   ],
   "source": [
    "#scatterplot with p-values for the diff ids in R and fed-python\n",
    "%matplotlib inline\n",
    "fig, ((ax1, ax2), (ax3, ax4)) = plt.subplots(ncols=2, nrows=2)\n",
    "# no imbalance - r\n",
    "ax1.scatter(x=list(diff_ids_even), y = original_r_GSE66351_E.loc[diff_ids_even, \"adj.P.Val\"], c=\"r\")\n",
    "#ax1.hlines(y=0.05, xmin=0, xmax=int(len(federated.index.values)))\n",
    "ax1.set_ylim((0.00,0.15))\n",
    "ax1.set_ylabel(\"Adjusted P-value\")\n",
    "ax1.set_xlabel(\"Probes\")\n",
    "ax1.set_xticks([])\n",
    "ax1.set_title(\"No imbalance - R\")\n",
    "# no imbalance - fed\n",
    "ax2.scatter(x=list(diff_ids_even), y = federated.loc[diff_ids_even, \"adj.P.Val\"], c=\"b\")\n",
    "#ax2.hlines(y=0.05, xmin=0, xmax=int(len(federated_mild_imbalance.index.values)))\n",
    "ax2.set_ylim((0.00,0.15))\n",
    "ax2.set_ylabel(\"Adjusted P-value\")\n",
    "ax2.set_xlabel(\"Probes\")\n",
    "ax2.set_xticks([])\n",
    "ax2.set_title(\"No imbalance - Federated\")\n",
    "#strong - r\n",
    "ax3.scatter(x=list(diff_ids_strong), y = original_r_GSE66351_E.loc[diff_ids_strong, \"adj.P.Val\"], c=\"r\")\n",
    "#ax3.hlines(y=0.05, xmin=0, xmax=int(len(federated_mild_imbalance.index.values)))\n",
    "ax3.set_ylim((0.00,0.15))\n",
    "ax3.set_ylabel(\"Adjusted P-value\")\n",
    "ax3.set_xlabel(\"Probes\")\n",
    "ax3.set_xticks([])\n",
    "ax3.set_title(\"Strong imbalance - R\")\n",
    "# strong - fed\n",
    "ax4.scatter(x=list(diff_ids_strong), y = federated_strong_imbalance.loc[diff_ids_strong, \"adj.P.Val\"], c=\"b\")\n",
    "#ax4.hlines(y=0.05, xmin=0, xmax=int(len(federated_mild_imbalance.index.values)))\n",
    "ax4.set_ylim((0.00,0.15))\n",
    "ax4.set_ylabel(\"Adjusted P-value\")\n",
    "ax4.set_xlabel(\"Probes\")\n",
    "ax4.set_xticks([])\n",
    "ax4.set_title(\"Strong imbalance - Federated\")"
   ]
  },
  {
   "cell_type": "code",
   "execution_count": 16,
   "metadata": {},
   "outputs": [],
   "source": [
    "fig.savefig(\"E:\\\\Msc Systems Biology\\\\MSB5000_Master_Thesis\\\\Practical work\\\\Federated_Differential_Methylation_Analysis\\\\Evaluations\\\\PValueDiff_Dist_NoStrongImb.jpeg\")"
   ]
  },
  {
   "cell_type": "code",
   "execution_count": 8,
   "metadata": {},
   "outputs": [
    {
     "data": {
      "text/html": [
       "<div>\n",
       "<style scoped>\n",
       "    .dataframe tbody tr th:only-of-type {\n",
       "        vertical-align: middle;\n",
       "    }\n",
       "\n",
       "    .dataframe tbody tr th {\n",
       "        vertical-align: top;\n",
       "    }\n",
       "\n",
       "    .dataframe thead th {\n",
       "        text-align: right;\n",
       "    }\n",
       "</style>\n",
       "<table border=\"1\" class=\"dataframe\">\n",
       "  <thead>\n",
       "    <tr style=\"text-align: right;\">\n",
       "      <th></th>\n",
       "      <th>logFC</th>\n",
       "      <th>CI.L</th>\n",
       "      <th>CI.R</th>\n",
       "      <th>AveExpr</th>\n",
       "      <th>t</th>\n",
       "      <th>P.Value</th>\n",
       "      <th>adj.P.Val</th>\n",
       "      <th>B</th>\n",
       "    </tr>\n",
       "  </thead>\n",
       "  <tbody>\n",
       "    <tr>\n",
       "      <th>cg07594247</th>\n",
       "      <td>0.048671</td>\n",
       "      <td>0.028727</td>\n",
       "      <td>0.068615</td>\n",
       "      <td>0.760135</td>\n",
       "      <td>4.817768</td>\n",
       "      <td>0.000003</td>\n",
       "      <td>0.045525</td>\n",
       "      <td>2.862706</td>\n",
       "    </tr>\n",
       "    <tr>\n",
       "      <th>cg24577417</th>\n",
       "      <td>0.012165</td>\n",
       "      <td>0.007139</td>\n",
       "      <td>0.017191</td>\n",
       "      <td>0.851773</td>\n",
       "      <td>4.778236</td>\n",
       "      <td>0.000004</td>\n",
       "      <td>0.047249</td>\n",
       "      <td>2.695131</td>\n",
       "    </tr>\n",
       "    <tr>\n",
       "      <th>cg06692974</th>\n",
       "      <td>0.061565</td>\n",
       "      <td>0.036143</td>\n",
       "      <td>0.086987</td>\n",
       "      <td>0.856061</td>\n",
       "      <td>4.781000</td>\n",
       "      <td>0.000004</td>\n",
       "      <td>0.047249</td>\n",
       "      <td>2.706812</td>\n",
       "    </tr>\n",
       "  </tbody>\n",
       "</table>\n",
       "</div>"
      ],
      "text/plain": [
       "               logFC      CI.L      CI.R   AveExpr         t   P.Value  \\\n",
       "cg07594247  0.048671  0.028727  0.068615  0.760135  4.817768  0.000003   \n",
       "cg24577417  0.012165  0.007139  0.017191  0.851773  4.778236  0.000004   \n",
       "cg06692974  0.061565  0.036143  0.086987  0.856061  4.781000  0.000004   \n",
       "\n",
       "            adj.P.Val         B  \n",
       "cg07594247   0.045525  2.862706  \n",
       "cg24577417   0.047249  2.695131  \n",
       "cg06692974   0.047249  2.706812  "
      ]
     },
     "execution_count": 8,
     "metadata": {},
     "output_type": "execute_result"
    }
   ],
   "source": [
    "original_r_GSE66351_E.loc[diff_ids_even, :]"
   ]
  },
  {
   "cell_type": "code",
   "execution_count": 9,
   "metadata": {},
   "outputs": [
    {
     "data": {
      "text/html": [
       "<div>\n",
       "<style scoped>\n",
       "    .dataframe tbody tr th:only-of-type {\n",
       "        vertical-align: middle;\n",
       "    }\n",
       "\n",
       "    .dataframe tbody tr th {\n",
       "        vertical-align: top;\n",
       "    }\n",
       "\n",
       "    .dataframe thead th {\n",
       "        text-align: right;\n",
       "    }\n",
       "</style>\n",
       "<table border=\"1\" class=\"dataframe\">\n",
       "  <thead>\n",
       "    <tr style=\"text-align: right;\">\n",
       "      <th></th>\n",
       "      <th>t</th>\n",
       "      <th>lods</th>\n",
       "      <th>logFC</th>\n",
       "      <th>CI.L</th>\n",
       "      <th>CI.R</th>\n",
       "      <th>adj.P.Val</th>\n",
       "      <th>P.Value</th>\n",
       "    </tr>\n",
       "  </thead>\n",
       "  <tbody>\n",
       "    <tr>\n",
       "      <th>cg07594247</th>\n",
       "      <td>4.755444</td>\n",
       "      <td>2.593621</td>\n",
       "      <td>0.048192</td>\n",
       "      <td>0.028183</td>\n",
       "      <td>0.068200</td>\n",
       "      <td>0.051232</td>\n",
       "      <td>0.000004</td>\n",
       "    </tr>\n",
       "    <tr>\n",
       "      <th>cg24577417</th>\n",
       "      <td>4.722451</td>\n",
       "      <td>2.455268</td>\n",
       "      <td>0.012085</td>\n",
       "      <td>0.007032</td>\n",
       "      <td>0.017137</td>\n",
       "      <td>0.054476</td>\n",
       "      <td>0.000005</td>\n",
       "    </tr>\n",
       "    <tr>\n",
       "      <th>cg06692974</th>\n",
       "      <td>4.719515</td>\n",
       "      <td>2.442989</td>\n",
       "      <td>0.060694</td>\n",
       "      <td>0.035303</td>\n",
       "      <td>0.086085</td>\n",
       "      <td>0.054476</td>\n",
       "      <td>0.000005</td>\n",
       "    </tr>\n",
       "  </tbody>\n",
       "</table>\n",
       "</div>"
      ],
      "text/plain": [
       "                   t      lods     logFC      CI.L      CI.R  adj.P.Val  \\\n",
       "cg07594247  4.755444  2.593621  0.048192  0.028183  0.068200   0.051232   \n",
       "cg24577417  4.722451  2.455268  0.012085  0.007032  0.017137   0.054476   \n",
       "cg06692974  4.719515  2.442989  0.060694  0.035303  0.086085   0.054476   \n",
       "\n",
       "             P.Value  \n",
       "cg07594247  0.000004  \n",
       "cg24577417  0.000005  \n",
       "cg06692974  0.000005  "
      ]
     },
     "execution_count": 9,
     "metadata": {},
     "output_type": "execute_result"
    }
   ],
   "source": [
    "federated.loc[diff_ids_even, :]"
   ]
  },
  {
   "cell_type": "code",
   "execution_count": 28,
   "metadata": {},
   "outputs": [
    {
     "data": {
      "text/plain": [
       "{False, True}"
      ]
     },
     "execution_count": 28,
     "metadata": {},
     "output_type": "execute_result"
    }
   ],
   "source": [
    "set(federated[\"adj.P.Val\"]<=0.05)"
   ]
  },
  {
   "cell_type": "code",
   "execution_count": 55,
   "metadata": {},
   "outputs": [
    {
     "data": {
      "text/html": [
       "<div>\n",
       "<style scoped>\n",
       "    .dataframe tbody tr th:only-of-type {\n",
       "        vertical-align: middle;\n",
       "    }\n",
       "\n",
       "    .dataframe tbody tr th {\n",
       "        vertical-align: top;\n",
       "    }\n",
       "\n",
       "    .dataframe thead th {\n",
       "        text-align: right;\n",
       "    }\n",
       "</style>\n",
       "<table border=\"1\" class=\"dataframe\">\n",
       "  <thead>\n",
       "    <tr style=\"text-align: right;\">\n",
       "      <th></th>\n",
       "      <th>TP</th>\n",
       "      <th>TN</th>\n",
       "      <th>FP</th>\n",
       "      <th>FN</th>\n",
       "      <th>Accuracy</th>\n",
       "      <th>Precision</th>\n",
       "      <th>Recall</th>\n",
       "      <th>F1</th>\n",
       "    </tr>\n",
       "  </thead>\n",
       "  <tbody>\n",
       "    <tr>\n",
       "      <th>GSE66351 Pyhton central</th>\n",
       "      <td>2</td>\n",
       "      <td>450789</td>\n",
       "      <td>38</td>\n",
       "      <td>8</td>\n",
       "      <td>0.999898</td>\n",
       "      <td>0.05</td>\n",
       "      <td>0.2</td>\n",
       "      <td>0.08</td>\n",
       "    </tr>\n",
       "    <tr>\n",
       "      <th>GSE66351 Federated</th>\n",
       "      <td>0</td>\n",
       "      <td>450827</td>\n",
       "      <td>0</td>\n",
       "      <td>10</td>\n",
       "      <td>0.999978</td>\n",
       "      <td>0.00</td>\n",
       "      <td>0.0</td>\n",
       "      <td>0.00</td>\n",
       "    </tr>\n",
       "  </tbody>\n",
       "</table>\n",
       "</div>"
      ],
      "text/plain": [
       "                         TP      TN  FP  FN  Accuracy  Precision  Recall    F1\n",
       "GSE66351 Pyhton central   2  450789  38   8  0.999898       0.05     0.2  0.08\n",
       "GSE66351 Federated        0  450827   0  10  0.999978       0.00     0.0  0.00"
      ]
     },
     "execution_count": 55,
     "metadata": {},
     "output_type": "execute_result"
    }
   ],
   "source": [
    "GSE66351_metrics_p = EWAS_metrics_p(python_central_GSE66351_E, diff_meth_thresh=0.05, ground_truth = GSE66351_groundTruth, multiIndex=False)\n",
    "federated_metrics = EWAS_metrics_p(federated, diff_meth_thresh=0.05, ground_truth = GSE66351_groundTruth, multiIndex=True)\n",
    "# combine the metrics results into one dataframe\n",
    "performance_results = pd.DataFrame.from_dict([GSE66351_metrics_p, federated_metrics])\n",
    "performance_results.index = [\"GSE66351 Pyhton central\", \"GSE66351 Federated\"]\n",
    "#performance_results.to_excel(\"E:\\\\Msc Systems Biology\\\\MSB5000_Master_Thesis\\\\Practical work\\\\ThesisTables.xlsx\")\n",
    "\n",
    "performance_results"
   ]
  },
  {
   "cell_type": "code",
   "execution_count": 41,
   "metadata": {},
   "outputs": [
    {
     "data": {
      "text/plain": [
       "set()"
      ]
     },
     "execution_count": 41,
     "metadata": {},
     "output_type": "execute_result"
    }
   ],
   "source": [
    "GSE66351_groundTruth[\"DM\"].intersection(set(python_central_GSE66351_E.loc[python_central_GSE66351_E.loc[:,\"Corrected P-value\"] <= 0.05,:])) "
   ]
  },
  {
   "cell_type": "code",
   "execution_count": 51,
   "metadata": {},
   "outputs": [
    {
     "data": {
      "text/plain": [
       "40"
      ]
     },
     "execution_count": 51,
     "metadata": {},
     "output_type": "execute_result"
    }
   ],
   "source": [
    "len(set(python_central_GSE66351_E.loc[python_central_GSE66351_E.loc[:,\"Corrected P-value\"] <= 0.05].index))"
   ]
  },
  {
   "cell_type": "code",
   "execution_count": 43,
   "metadata": {},
   "outputs": [
    {
     "data": {
      "text/plain": [
       "10"
      ]
     },
     "execution_count": 43,
     "metadata": {},
     "output_type": "execute_result"
    }
   ],
   "source": [
    "len(GSE66351_groundTruth[\"DM\"])"
   ]
  }
 ],
 "metadata": {
  "interpreter": {
   "hash": "0a54084e6b208ee8d1ce3989ffc20924477a5f55f5a43e22e699a6741623861e"
  },
  "kernelspec": {
   "display_name": "Python 3.7.8 64-bit",
   "language": "python",
   "name": "python3"
  },
  "language_info": {
   "codemirror_mode": {
    "name": "ipython",
    "version": 3
   },
   "file_extension": ".py",
   "mimetype": "text/x-python",
   "name": "python",
   "nbconvert_exporter": "python",
   "pygments_lexer": "ipython3",
   "version": "3.7.8"
  },
  "orig_nbformat": 4
 },
 "nbformat": 4,
 "nbformat_minor": 2
}

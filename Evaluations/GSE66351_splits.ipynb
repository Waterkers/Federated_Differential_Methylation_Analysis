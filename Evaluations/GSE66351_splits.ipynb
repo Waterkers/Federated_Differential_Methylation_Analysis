{
 "cells": [
  {
   "cell_type": "code",
   "execution_count": 1,
   "metadata": {},
   "outputs": [],
   "source": [
    "import pandas as pd\n",
    "import numpy as np\n",
    "import os"
   ]
  },
  {
   "cell_type": "markdown",
   "metadata": {},
   "source": [
    "### Create the design matrix for local and federated EWAS for GSE66351"
   ]
  },
  {
   "cell_type": "code",
   "execution_count": 25,
   "metadata": {},
   "outputs": [],
   "source": [
    "# GSE66351 - Small\n",
    "pheno = pd.read_csv(\"E:\\\\Msc Systems Biology\\\\MSB5000_Master_Thesis\\\\Practical work\\\\Data\\\\Data_Full_Datasets\\\\GSE66351\\\\Reduced_Pheno_Info.csv\", index_col= \"Sample_ID\")\n",
    "x = pheno.loc[:,[\"Diagnosis\", \"Age\", \"Sex\", \"Sentrix_ID\"]] # design matrix with the dependent/explainatory variables to be included in the model\n",
    "\n",
    "# The design matrix needs to consist of numeric representations of the covariates to be included in the model, i.e. binary diagnosis, binary sex, dummy sentrix etc.\n",
    "x[\"AD\"] = 0\n",
    "x.loc[x[\"Diagnosis\"] == \" AD\", \"AD\"] = 1 #create binary diagnosis with 1 = AD and 0 = CTR\n",
    "x[\"CTRL\"] = 0\n",
    "x.loc[x[\"Diagnosis\"] == \" CTRL\", \"CTRL\"] = 1\n",
    "\n",
    "x[\"F\"] = 0\n",
    "x.loc[x[\"Sex\"] == \" F\", \"F\"] = 1 #create binary sex with 1 = F and 0 = M\n",
    "x[\"M\"] = 0\n",
    "x.loc[x[\"Sex\"] == \" M\", \"M\"] = 1\n",
    "\n",
    "# turn the age variable into a continuous numerical variable without any leftover text\n",
    "x[\"Age\"].replace(\"^[^:]*:\", \"\", regex=True, inplace=True)\n",
    "x[\"Age\"] = pd.to_numeric(x[\"Age\"])\n",
    "x.loc[:, [\"AD\", \"CTRL\", \"Age\", \"F\", \"M\", \"Sentrix_ID\"]].to_csv(\"E:\\\\Msc Systems Biology\\\\MSB5000_Master_Thesis\\\\Practical work\\\\Data\\\\Data_Full_Datasets\\\\GSE66351\\\\Small_EWAS_design.csv\")\n",
    "# now on to the full design matrix\n",
    "x_large = x.copy()\n",
    "x_large[\"Cell_Type1\"] = pd.to_numeric(pheno[\"Cell_Type.CT1\"])\n",
    "x_large[\"Cell_Type2\"] = pd.to_numeric(pheno[\"Cell_Type.CT2\"])\n",
    "x_large[\"Cell_Type3\"] = pd.to_numeric(pheno[\"Cell_Type.CT3\"])\n",
    "x_large[\"Cell_Type4\"] = pd.to_numeric(pheno[\"Cell_Type.CT4\"])\n",
    "x_large[\"Cell_Type5\"] = pd.to_numeric(pheno[\"Cell_Type.CT5\"])\n",
    "x_large.loc[:, [\"AD\", \"CTRL\", \"Age\", \"F\", \"M\", \"Sentrix_ID\",\n",
    "\"Cell_Type1\", \"Cell_Type2\", \"Cell_Type3\", \"Cell_Type4\", \"Cell_Type5\"]].to_csv(\"E:\\\\Msc Systems Biology\\\\MSB5000_Master_Thesis\\\\Practical work\\\\Data\\\\Data_Full_Datasets\\\\GSE66351\\\\Full_EWAS_design.csv\")\n",
    "\n",
    "\n",
    "# create dummy variables for the unique sentrix_ids present in the dataset - this code can be reused to create center number dummies in the federated version of the code\n",
    "x = x.copy()\n",
    "unique_ids = x[\"Sentrix_ID\"].unique()\n",
    "include = unique_ids -1\n",
    "for id in unique_ids[:-1]:\n",
    "    x[id] = (x[\"Sentrix_ID\"] == id).astype(int)\n",
    "x.drop(columns=[\"Diagnosis\", \"Sex\",\"Sentrix_ID\"], inplace = True)\n",
    "x.to_csv(\"E:\\\\Msc Systems Biology\\\\MSB5000_Master_Thesis\\\\Practical work\\\\Data\\\\Data_Full_Datasets\\\\GSE66351\\\\Small_EWAS_design_local.csv\")\n",
    "\n",
    "#x_large = x_large.copy()\n",
    "unique_ids = x_large[\"Sentrix_ID\"].unique()\n",
    "for id in unique_ids[:-1]:\n",
    "    x_large[id] = (x_large[\"Sentrix_ID\"] == id).astype(int)\n",
    "x_large.drop(columns=[\"Diagnosis\", \"Sex\",\"Sentrix_ID\"], inplace = True)\n",
    "x_large.to_csv(\"E:\\\\Msc Systems Biology\\\\MSB5000_Master_Thesis\\\\Practical work\\\\Data\\\\Data_Full_Datasets\\\\GSE66351\\\\Full_EWAS_design_local.csv\")"
   ]
  },
  {
   "cell_type": "code",
   "execution_count": 12,
   "metadata": {},
   "outputs": [
    {
     "data": {
      "text/plain": [
       "array([8918692108, 8918692120, 8221932039, 9297953052, 9247377057,\n",
       "       9247377036, 3998919115, 3998919116, 3998920130, 5854945043,\n",
       "       5854945045, 5854945056, 5854945057, 5854945010, 5854945021,\n",
       "       5854945020, 5854945006, 5900438023, 5900438003, 5854945005],\n",
       "      dtype=int64)"
      ]
     },
     "execution_count": 12,
     "metadata": {},
     "output_type": "execute_result"
    }
   ],
   "source": [
    "unique_ids[:-1]"
   ]
  },
  {
   "cell_type": "markdown",
   "metadata": {},
   "source": [
    "### Create an overview dataset descriptives table"
   ]
  },
  {
   "cell_type": "code",
   "execution_count": 32,
   "metadata": {},
   "outputs": [],
   "source": [
    "full_pheno = pd.read_csv(\"E:\\\\Msc Systems Biology\\\\MSB5000_Master_Thesis\\\\Practical work\\\\Data\\\\Data_Full_Datasets\\\\GSE66351\\\\Full_Pheno_Info.csv\", index_col= \"Sample_ID\", low_memory=False)\n",
    "sex = full_pheno[\"Sex\"].value_counts()\n",
    "diagnosis = full_pheno[\"Diagnosis\"].value_counts()\n",
    "age = full_pheno.groupby(\"Sex\")[\"Age\"].mean()\n",
    "brain_region = full_pheno[\"Brain_region\"].value_counts()\n",
    "\n"
   ]
  },
  {
   "cell_type": "code",
   "execution_count": 31,
   "metadata": {},
   "outputs": [
    {
     "data": {
      "text/plain": [
       "Index(['Unnamed: 0', 'Sample_title', 'Sample_geo_accession', 'Sample_type',\n",
       "       'Sample_channel_count', 'Sample_source_name_ch1', 'Sample_organism_ch1',\n",
       "       'Cell_tpye', 'Diagnosis', 'Braak_stage', 'Brain_region', 'Age', 'Sex',\n",
       "       'Donor_id', 'sentrix_id', 'position', 'Sample_molecule_ch1',\n",
       "       'Sample_extract_protocol_ch1', 'Sample_label_ch1',\n",
       "       'Sample_label_protocol_ch1', 'Sample_taxid_ch1', 'Sample_hyb_protocol',\n",
       "       'Sample_scan_protocol', 'Sample_description', 'Sample_data_processing',\n",
       "       'Sample_platform_id', 'M.median', 'U.median', 'strict_outliers', 'bs',\n",
       "       'predSex1', 'source', 'target', 'maxcorrelation', 'pFilterPass',\n",
       "       'Cell_Type.CT1', 'Cell_Type.CT2', 'Cell_Type.CT3', 'Cell_Type.CT4',\n",
       "       'Cell_Type.CT5'],\n",
       "      dtype='object')"
      ]
     },
     "execution_count": 31,
     "metadata": {},
     "output_type": "execute_result"
    }
   ],
   "source": [
    "full_pheno.columns"
   ]
  },
  {
   "cell_type": "markdown",
   "metadata": {},
   "source": [
    "### Create even splits of the three main datasets so they can be run locally (be it federated)\n"
   ]
  },
  {
   "cell_type": "code",
   "execution_count": 2,
   "metadata": {},
   "outputs": [],
   "source": [
    "from random import sample, seed"
   ]
  },
  {
   "cell_type": "code",
   "execution_count": null,
   "metadata": {},
   "outputs": [],
   "source": [
    "#GSE66351 - even\n",
    "GSE66351_pheno = pd.read_csv(\"E:\\\\Msc Systems Biology\\\\MSB5000_Master_Thesis\\\\Practical work\\\\Data\\\\Data_Full_Datasets\\\\GSE66351\\\\Reduced_Pheno_Info.csv\", index_col= \"Sample_ID\")\n",
    "GSE66351_splits_pheno = GSE66351_pheno.copy()\n",
    "GSE66351_splits_pheno[\"split\"] = \"Split_3\"\n",
    "\n",
    "N_total = GSE66351_splits_pheno.shape[0]*1.0*1.0\n",
    "N_ad = GSE66351_splits_pheno.loc[GSE66351_splits_pheno[\"Diagnosis\"] == \" AD\", :].shape[0]*1.0*1.0\n",
    "random_state = 42\n",
    "seed(random_state)\n",
    "n_splits = 3\n",
    "sizes = [1,1,1]\n",
    "ad_freqs = [0.53,0.53,0.53]\n",
    "\n",
    "Sizes = []\n",
    "n_ad = []\n",
    "for i in range(0,n_splits-1):\n",
    "    s  = int(N_total*sizes[i]/sum(sizes))\n",
    "    Sizes.append(s)\n",
    "    n_ad.append(int(s*ad_freqs[i]))\n",
    "\n",
    "Sizes.append(int(N_total-sum(Sizes)))\n",
    "n_ad.append(int(N_ad-sum(n_ad)))\n",
    "print(Sizes, sum(Sizes))\n",
    "print(n_ad, sum(n_ad))\n",
    "\n",
    "splits = {}\n",
    "ad = set(GSE66351_pheno.loc[GSE66351_pheno[\"Diagnosis\"]== \" AD\",:].index.values)\n",
    "other = set(GSE66351_pheno.index.values).difference(ad)#.difference(fem)\n",
    "for i in range(0,n_splits-1):\n",
    "    b = set(sample(ad,n_ad[i]))  \n",
    "    ad =  ad.difference(b)\n",
    "    o = set(sample(other,Sizes[i]-n_ad[i]))\n",
    "    other = other.difference(o)\n",
    "    sele_samples = b |o \n",
    "    GSE66351_splits_pheno.loc[sele_samples,\"split\"] = \"Split_\"+str(i+1)\n",
    "    GSE66351_splits_pheno[\"Split_\"+str(i+1)] = 0\n",
    "    GSE66351_splits_pheno.loc[sele_samples,\"Split_\"+str(i+1)]  =1\n",
    "print(GSE66351_splits_pheno[[\"split\",\"Diagnosis\"]].groupby(\"split\")[\"Diagnosis\"].value_counts())\n",
    "\n",
    "\n",
    "# save the dataset splits\n",
    "meth = pd.read_csv(\"E:\\\\Msc Systems Biology\\\\MSB5000_Master_Thesis\\\\Practical work\\\\Data\\\\Data_Full_Datasets\\\\GSE66351\\\\Filtered_Methylated.csv\", index_col=0)\n",
    "unmeth = pd.read_csv(\"E:\\\\Msc Systems Biology\\\\MSB5000_Master_Thesis\\\\Practical work\\\\Data\\\\Data_Full_Datasets\\\\GSE66351\\\\Filtered_Unmethylated.csv\", index_col=0)\n",
    "beta = pd.read_csv(\"E:\\\\Msc Systems Biology\\\\MSB5000_Master_Thesis\\\\Practical work\\\\Data\\\\Data_Full_Datasets\\\\GSE66351\\\\Filtered_Betas.csv\", index_col=0)\n",
    "design = pd.read_csv(\"E:\\\\Msc Systems Biology\\\\MSB5000_Master_Thesis\\\\Practical work\\\\Data\\\\Data_Full_Datasets\\\\GSE66351\\\\Small_EWAS_design.csv\", index_col=0)\n",
    "design_local = x.copy() #pd.read_csv(\"E:\\\\Msc Systems Biology\\\\MSB5000_Master_Thesis\\\\Practical work\\\\Data\\\\Data_Full_Datasets\\\\GSE66351\\\\Small_EWAS_design_local.csv\", index_col=0)\n",
    "design_full = pd.read_csv(\"E:\\\\Msc Systems Biology\\\\MSB5000_Master_Thesis\\\\Practical work\\\\Data\\\\Data_Full_Datasets\\\\GSE66351\\\\Full_EWAS_design.csv\", index_col=0)\n",
    "design_full_local = x_large.copy() #pd.read_csv(\"E:\\\\Msc Systems Biology\\\\MSB5000_Master_Thesis\\\\Practical work\\\\Data\\\\Data_Full_Datasets\\\\GSE66351\\\\Full_EWAS_design_local.csv\", index_col=0)\n",
    "\n",
    "output_base = \"E:\\\\Msc Systems Biology\\\\MSB5000_Master_Thesis\\\\Practical work\\\\Data\"\n",
    "output_dir = os.path.join(output_base, \"GSE66351_splits\")\n",
    "\n",
    "\n",
    "\n",
    "if not os.path.exists(output_dir):\n",
    "    os.makedirs(output_dir)\n",
    "for i in range(n_splits):\n",
    "    s = \"Split_\"+str(i+1)\n",
    "    GSE66351_pheno = GSE66351_splits_pheno.loc[GSE66351_splits_pheno[\"split\"]==s,:]\n",
    "    samples = sorted(GSE66351_pheno.index.values)\n",
    "    print(\"these samples: %s are included in split %s\"%(len(samples), i+1))\n",
    "    GSE66351_splits_pheno.loc[samples,:].to_csv(output_dir+\"/\"+s+\"_pheno.csv\")\n",
    "    meth.loc[:,samples ].to_csv(output_dir+\"/\"+s+\"_methylated.csv\")\n",
    "    unmeth.loc[:,samples ].to_csv(output_dir+\"/\"+s+\"_unmethylated.csv\")\n",
    "    beta.loc[:,samples ].to_csv(output_dir+\"/\"+s+\"_betas.csv\")\n",
    "    design.loc[samples, :].to_csv(output_dir+\"/\"+s+\"_design.csv\")\n",
    "    design_local.loc[samples, :].to_csv(output_dir+\"/\"+s+\"_design_local.csv\")\n",
    "    design_full.loc[samples, :].to_csv(output_dir+\"/\"+s+\"_Full_design.csv\")\n",
    "    design_full_local.loc[samples, :].to_csv(output_dir+\"/\"+s+\"_Full_design_local.csv\")\n",
    "\n",
    "central_design = design_local.copy()\n",
    "central_design[\"Cohort_effect\"] = GSE66351_splits_pheno[\"split\"]\n",
    "central_design[\"Split1\"] = 0\n",
    "central_design.loc[central_design[\"Cohort_effect\"] == \"Split_1\", \"Split1\"] = 1\n",
    "central_design[\"Split2\"] = 0\n",
    "central_design.loc[central_design[\"Cohort_effect\"] == \"Split_2\", \"Split2\"] = 1\n",
    "central_design[\"Split3\"] = 0\n",
    "central_design.loc[central_design[\"Cohort_effect\"] == \"Split_3\", \"Split3\"] = 1\n",
    "central_design.drop(columns=\"Cohort_effect\", inplace=True)\n",
    "central_design.to_csv(os.path.join(output_base +\"/\"+\"Data_Full_Datasets\" + \"/\" + \"GSE66351\" + \"/\" +\"central_design_matrix.csv\"))\n",
    "\n",
    "central_full_design = design_full_local.copy()\n",
    "central_full_design[\"Cohort_effect\"] = GSE66351_splits_pheno[\"split\"]\n",
    "central_full_design[\"Split1\"] = 0\n",
    "central_full_design.loc[central_full_design[\"Cohort_effect\"] == \"Split_1\", \"Split1\"] = 1\n",
    "central_full_design[\"Split2\"] = 0\n",
    "central_full_design.loc[central_full_design[\"Cohort_effect\"] == \"Split_2\", \"Split2\"] = 1\n",
    "central_full_design[\"Split3\"] = 0\n",
    "central_full_design.loc[central_full_design[\"Cohort_effect\"] == \"Split_3\", \"Split3\"] = 1\n",
    "central_full_design.drop(columns=\"Cohort_effect\", inplace=True)\n",
    "central_full_design.to_csv(os.path.join(output_base +\"/\"+\"Data_Full_Datasets\" + \"/\" + \"GSE66351\" + \"/\" +\"full_central_design_matrix.csv\"))"
   ]
  },
  {
   "cell_type": "markdown",
   "metadata": {},
   "source": [
    "### GSE66351 - mild imbalance"
   ]
  },
  {
   "cell_type": "code",
   "execution_count": 11,
   "metadata": {},
   "outputs": [
    {
     "name": "stdout",
     "output_type": "stream",
     "text": [
      "[28, 66, 96] 190\n",
      "[5, 19, 82] 106\n",
      "split    Diagnosis\n",
      "Split_1   CTRL        23\n",
      "          AD           5\n",
      "Split_2   CTRL        47\n",
      "          AD          19\n",
      "Split_3   AD          82\n",
      "          CTRL        14\n",
      "Name: Diagnosis, dtype: int64\n"
     ]
    }
   ],
   "source": [
    "GSE66351_pheno = pd.read_csv(\"E:\\\\Msc Systems Biology\\\\MSB5000_Master_Thesis\\\\Practical work\\\\Data\\\\Data_Full_Datasets\\\\GSE66351\\\\Reduced_Pheno_Info.csv\", index_col= \"Sample_ID\")\n",
    "GSE66351_splits_pheno = GSE66351_pheno.copy()\n",
    "GSE66351_splits_pheno[\"split\"] = \"Split_3\"\n",
    "\n",
    "N_total = GSE66351_splits_pheno.shape[0]*1.0*1.0\n",
    "N_ad = GSE66351_splits_pheno.loc[GSE66351_splits_pheno[\"Diagnosis\"] == \" AD\", :].shape[0]*1.0*1.0\n",
    "random_state = 42\n",
    "seed(random_state)\n",
    "n_splits = 3\n",
    "sizes = [0.15,0.35,0.5]\n",
    "ad_freqs = [0.2,0.3,0.5]\n",
    "\n",
    "Sizes = []\n",
    "n_ad = []\n",
    "for i in range(0,n_splits-1):\n",
    "    s  = int(N_total*sizes[i]/sum(sizes))\n",
    "    Sizes.append(s)\n",
    "    n_ad.append(int(s*ad_freqs[i]))\n",
    "\n",
    "Sizes.append(int(N_total-sum(Sizes)))\n",
    "n_ad.append(int(N_ad-sum(n_ad)))\n",
    "print(Sizes, sum(Sizes))\n",
    "print(n_ad, sum(n_ad))\n",
    "\n",
    "splits = {}\n",
    "ad = set(GSE66351_pheno.loc[GSE66351_pheno[\"Diagnosis\"]== \" AD\",:].index.values)\n",
    "other = set(GSE66351_pheno.index.values).difference(ad)#.difference(fem)\n",
    "for i in range(0,n_splits-1):\n",
    "    b = set(sample(ad,n_ad[i]))  \n",
    "    ad =  ad.difference(b)\n",
    "    o = set(sample(other,Sizes[i]-n_ad[i]))\n",
    "    other = other.difference(o)\n",
    "    sele_samples = b |o \n",
    "    GSE66351_splits_pheno.loc[sele_samples,\"split\"] = \"Split_\"+str(i+1)\n",
    "    GSE66351_splits_pheno[\"Split_\"+str(i+1)] = 0\n",
    "    GSE66351_splits_pheno.loc[sele_samples,\"Split_\"+str(i+1)]  =1\n",
    "print(GSE66351_splits_pheno[[\"split\",\"Diagnosis\"]].groupby(\"split\")[\"Diagnosis\"].value_counts())\n",
    "\n",
    "\n",
    "# save the dataset splits\n",
    "meth = pd.read_csv(\"E:\\\\Msc Systems Biology\\\\MSB5000_Master_Thesis\\\\Practical work\\\\Data\\\\Data_Full_Datasets\\\\GSE66351\\\\Filtered_Methylated.csv\", index_col=0)\n",
    "unmeth = pd.read_csv(\"E:\\\\Msc Systems Biology\\\\MSB5000_Master_Thesis\\\\Practical work\\\\Data\\\\Data_Full_Datasets\\\\GSE66351\\\\Filtered_Unmethylated.csv\", index_col=0)\n",
    "beta = pd.read_csv(\"E:\\\\Msc Systems Biology\\\\MSB5000_Master_Thesis\\\\Practical work\\\\Data\\\\Data_Full_Datasets\\\\GSE66351\\\\Filtered_Betas.csv\", index_col=0)\n",
    "design = pd.read_csv(\"E:\\\\Msc Systems Biology\\\\MSB5000_Master_Thesis\\\\Practical work\\\\Data\\\\Data_Full_Datasets\\\\GSE66351\\\\Small_EWAS_design.csv\", index_col=0)\n",
    "design_local = pd.read_csv(\"E:\\\\Msc Systems Biology\\\\MSB5000_Master_Thesis\\\\Practical work\\\\Data\\\\Data_Full_Datasets\\\\GSE66351\\\\Small_EWAS_design_local.csv\", index_col=0)\n",
    "design_full = pd.read_csv(\"E:\\\\Msc Systems Biology\\\\MSB5000_Master_Thesis\\\\Practical work\\\\Data\\\\Data_Full_Datasets\\\\GSE66351\\\\Full_EWAS_design.csv\", index_col=0)\n",
    "design_full_local = pd.read_csv(\"E:\\\\Msc Systems Biology\\\\MSB5000_Master_Thesis\\\\Practical work\\\\Data\\\\Data_Full_Datasets\\\\GSE66351\\\\Full_EWAS_design_local.csv\", index_col=0)\n",
    "\n",
    "output_base = \"E:\\\\Msc Systems Biology\\\\MSB5000_Master_Thesis\\\\Practical work\\\\Data\"\n",
    "output_dir = os.path.join(output_base, \"GSE66351_mild_splits\")\n",
    "if not os.path.exists(output_dir):\n",
    "    os.makedirs(output_dir)\n",
    "for i in range(n_splits):\n",
    "    s = \"Split_\"+str(i+1)\n",
    "    GSE66351_pheno = GSE66351_splits_pheno.loc[GSE66351_splits_pheno[\"split\"]==s,:]\n",
    "    samples = sorted(GSE66351_pheno.index.values)\n",
    "    GSE66351_splits_pheno.loc[samples,:].to_csv(output_dir+\"/\"+s+\"_pheno.csv\")\n",
    "    meth.loc[:,samples ].to_csv(output_dir+\"/\"+s+\"_methylated.csv\")\n",
    "    unmeth.loc[:,samples ].to_csv(output_dir+\"/\"+s+\"_unmethylated.csv\")\n",
    "    beta.loc[:,samples ].to_csv(output_dir+\"/\"+s+\"_betas.csv\")\n",
    "    design.loc[samples, :].to_csv(output_dir+\"/\"+s+\"_design.csv\")\n",
    "    design_local.loc[samples, :].to_csv(output_dir+\"/\"+s+\"_design_local.csv\")\n",
    "    design_full.loc[samples, :].to_csv(output_dir+\"/\"+s+\"_Full_design.csv\")\n",
    "    design_full_local.loc[samples, :].to_csv(output_dir+\"/\"+s+\"_Full_design_local.csv\")"
   ]
  },
  {
   "cell_type": "markdown",
   "metadata": {},
   "source": [
    "### GSE66351 - strong imbalance"
   ]
  },
  {
   "cell_type": "code",
   "execution_count": 12,
   "metadata": {},
   "outputs": [
    {
     "name": "stdout",
     "output_type": "stream",
     "text": [
      "[47, 66, 77] 190\n",
      "[18, 23, 65] 106\n",
      "split    Diagnosis\n",
      "Split_1   CTRL        29\n",
      "          AD          18\n",
      "Split_2   CTRL        43\n",
      "          AD          23\n",
      "Split_3   AD          65\n",
      "          CTRL        12\n",
      "Name: Diagnosis, dtype: int64\n"
     ]
    }
   ],
   "source": [
    "GSE66351_pheno = pd.read_csv(\"E:\\\\Msc Systems Biology\\\\MSB5000_Master_Thesis\\\\Practical work\\\\Data\\\\Data_Full_Datasets\\\\GSE66351\\\\Reduced_Pheno_Info.csv\", index_col= \"Sample_ID\")\n",
    "GSE66351_splits_pheno = GSE66351_pheno.copy()\n",
    "GSE66351_splits_pheno[\"split\"] = \"Split_3\"\n",
    "\n",
    "N_total = GSE66351_splits_pheno.shape[0]*1.0*1.0\n",
    "N_ad = GSE66351_splits_pheno.loc[GSE66351_splits_pheno[\"Diagnosis\"] == \" AD\", :].shape[0]*1.0*1.0\n",
    "random_state = 42\n",
    "seed(random_state)\n",
    "n_splits = 3\n",
    "sizes = [0.25,0.35,0.40]\n",
    "ad_freqs = [0.4,0.35,0.25]\n",
    "\n",
    "Sizes = []\n",
    "n_ad = []\n",
    "for i in range(0,n_splits-1):\n",
    "    s  = int(N_total*sizes[i]/sum(sizes))\n",
    "    Sizes.append(s)\n",
    "    n_ad.append(int(s*ad_freqs[i]))\n",
    "\n",
    "Sizes.append(int(N_total-sum(Sizes)))\n",
    "n_ad.append(int(N_ad-sum(n_ad)))\n",
    "print(Sizes, sum(Sizes))\n",
    "print(n_ad, sum(n_ad))\n",
    "\n",
    "splits = {}\n",
    "ad = set(GSE66351_pheno.loc[GSE66351_pheno[\"Diagnosis\"]== \" AD\",:].index.values)\n",
    "other = set(GSE66351_pheno.index.values).difference(ad)#.difference(fem)\n",
    "for i in range(0,n_splits-1):\n",
    "    b = set(sample(ad,n_ad[i]))  \n",
    "    ad =  ad.difference(b)\n",
    "    o = set(sample(other,Sizes[i]-n_ad[i]))\n",
    "    other = other.difference(o)\n",
    "    sele_samples = b |o \n",
    "    GSE66351_splits_pheno.loc[sele_samples,\"split\"] = \"Split_\"+str(i+1)\n",
    "    GSE66351_splits_pheno[\"Split_\"+str(i+1)] = 0\n",
    "    GSE66351_splits_pheno.loc[sele_samples,\"Split_\"+str(i+1)]  =1\n",
    "print(GSE66351_splits_pheno[[\"split\",\"Diagnosis\"]].groupby(\"split\")[\"Diagnosis\"].value_counts())\n",
    "\n",
    "\n",
    "# save the dataset splits\n",
    "meth = pd.read_csv(\"E:\\\\Msc Systems Biology\\\\MSB5000_Master_Thesis\\\\Practical work\\\\Data\\\\Data_Full_Datasets\\\\GSE66351\\\\Filtered_Methylated.csv\", index_col=0)\n",
    "unmeth = pd.read_csv(\"E:\\\\Msc Systems Biology\\\\MSB5000_Master_Thesis\\\\Practical work\\\\Data\\\\Data_Full_Datasets\\\\GSE66351\\\\Filtered_Unmethylated.csv\", index_col=0)\n",
    "beta = pd.read_csv(\"E:\\\\Msc Systems Biology\\\\MSB5000_Master_Thesis\\\\Practical work\\\\Data\\\\Data_Full_Datasets\\\\GSE66351\\\\Filtered_Betas.csv\", index_col=0)\n",
    "design = pd.read_csv(\"E:\\\\Msc Systems Biology\\\\MSB5000_Master_Thesis\\\\Practical work\\\\Data\\\\Data_Full_Datasets\\\\GSE66351\\\\Small_EWAS_design.csv\", index_col=0)\n",
    "design_local = pd.read_csv(\"E:\\\\Msc Systems Biology\\\\MSB5000_Master_Thesis\\\\Practical work\\\\Data\\\\Data_Full_Datasets\\\\GSE66351\\\\Small_EWAS_design_local.csv\", index_col=0)\n",
    "design_full = pd.read_csv(\"E:\\\\Msc Systems Biology\\\\MSB5000_Master_Thesis\\\\Practical work\\\\Data\\\\Data_Full_Datasets\\\\GSE66351\\\\Full_EWAS_design.csv\", index_col=0)\n",
    "design_full_local = pd.read_csv(\"E:\\\\Msc Systems Biology\\\\MSB5000_Master_Thesis\\\\Practical work\\\\Data\\\\Data_Full_Datasets\\\\GSE66351\\\\Full_EWAS_design_local.csv\", index_col=0)\n",
    "\n",
    "output_base = \"E:\\\\Msc Systems Biology\\\\MSB5000_Master_Thesis\\\\Practical work\\\\Data\"\n",
    "output_dir = os.path.join(output_base, \"GSE66351_strong_splits\")\n",
    "if not os.path.exists(output_dir):\n",
    "    os.makedirs(output_dir)\n",
    "for i in range(n_splits):\n",
    "    s = \"Split_\"+str(i+1)\n",
    "    GSE66351_pheno = GSE66351_splits_pheno.loc[GSE66351_splits_pheno[\"split\"]==s,:]\n",
    "    samples = sorted(GSE66351_pheno.index.values)\n",
    "    GSE66351_splits_pheno.loc[samples,:].to_csv(output_dir+\"/\"+s+\"_pheno.csv\")\n",
    "    meth.loc[:,samples ].to_csv(output_dir+\"/\"+s+\"_methylated.csv\")\n",
    "    unmeth.loc[:,samples ].to_csv(output_dir+\"/\"+s+\"_unmethylated.csv\")\n",
    "    beta.loc[:,samples ].to_csv(output_dir+\"/\"+s+\"_betas.csv\")\n",
    "    design.loc[samples, :].to_csv(output_dir+\"/\"+s+\"_design.csv\")\n",
    "    design_local.loc[samples, :].to_csv(output_dir+\"/\"+s+\"_design_local.csv\")\n",
    "    design_full.loc[samples, :].to_csv(output_dir+\"/\"+s+\"_Full_design.csv\")\n",
    "    design_full_local.loc[samples, :].to_csv(output_dir+\"/\"+s+\"_Full_design_local.csv\")"
   ]
  }
 ],
 "metadata": {
  "interpreter": {
   "hash": "0a54084e6b208ee8d1ce3989ffc20924477a5f55f5a43e22e699a6741623861e"
  },
  "kernelspec": {
   "display_name": "Python 3.7.8 64-bit",
   "language": "python",
   "name": "python3"
  },
  "language_info": {
   "codemirror_mode": {
    "name": "ipython",
    "version": 3
   },
   "file_extension": ".py",
   "mimetype": "text/x-python",
   "name": "python",
   "nbconvert_exporter": "python",
   "pygments_lexer": "ipython3",
   "version": "3.7.8"
  },
  "orig_nbformat": 4
 },
 "nbformat": 4,
 "nbformat_minor": 2
}

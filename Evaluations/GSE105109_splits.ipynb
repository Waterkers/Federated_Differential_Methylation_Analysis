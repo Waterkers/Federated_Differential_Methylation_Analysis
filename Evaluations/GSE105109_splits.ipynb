{
 "cells": [
  {
   "cell_type": "code",
   "execution_count": null,
   "metadata": {},
   "outputs": [],
   "source": [
    "import pandas as pd\n",
    "import numpy as np\n",
    "import os"
   ]
  },
  {
   "cell_type": "markdown",
   "metadata": {},
   "source": [
    "### Create even splits of the three main datasets so they can be run locally (be it federated)\n"
   ]
  },
  {
   "cell_type": "code",
   "execution_count": null,
   "metadata": {},
   "outputs": [],
   "source": [
    "from random import seed, sample"
   ]
  },
  {
   "cell_type": "code",
   "execution_count": null,
   "metadata": {},
   "outputs": [],
   "source": [
    "#GSE105109\n",
    "GSE105109_pheno = pheno = pd.read_csv(\"E:\\\\Msc Systems Biology\\\\MSB5000_Master_Thesis\\\\Practical work\\\\Data\\\\Data_Full_Datasets\\\\GSE105109\\\\GSE105109_Reduced_Pheno_Info.csv\", index_col= \"Sample_ID\")\n",
    "GSE105109_splits_pheno = GSE105109_pheno.copy()\n",
    "# load in the data that needs to be split\n",
    "meth = pd.read_csv(\"E:\\\\Msc Systems Biology\\\\MSB5000_Master_Thesis\\\\Practical work\\\\Data\\\\Data_Full_Datasets\\\\GSE105109\\\\GSE105109_Filtered_Methylated.csv\", index_col=0)\n",
    "unmeth = pd.read_csv(\"E:\\\\Msc Systems Biology\\\\MSB5000_Master_Thesis\\\\Practical work\\\\Data\\\\Data_Full_Datasets\\\\GSE105109\\\\GSE105109_Filtered_Unmethylated.csv\", index_col=0)\n",
    "beta = pd.read_csv(\"E:\\\\Msc Systems Biology\\\\MSB5000_Master_Thesis\\\\Practical work\\\\Data\\\\Data_Full_Datasets\\\\GSE105109\\\\GSE105109_Filtered_Betas.csv\", index_col=0)\n",
    "design = pd.read_csv(\"E:\\\\Msc Systems Biology\\\\MSB5000_Master_Thesis\\\\Practical work\\\\Data\\\\Data_Full_Datasets\\\\GSE105109\\\\Small_EWAS_design.csv\", index_col=0)\n",
    "design_full = pd.read_csv(\"E:\\\\Msc Systems Biology\\\\MSB5000_Master_Thesis\\\\Practical work\\\\Data\\\\Data_Full_Datasets\\\\GSE105109\\\\Full_EWAS_design.csv\", index_col=0)\n",
    "\n",
    "# math the samples in the phenotype file to the samples in the data files\n",
    "GSE105109_pheno = GSE105109_pheno.loc[set(meth.columns.values).intersection(set(GSE105109_pheno.index.values)), :]\n",
    "GSE105109_splits_pheno = GSE105109_splits_pheno.loc[set(meth.columns.values).intersection(set(GSE105109_splits_pheno.index.values)), :]\n",
    "\n",
    "\n",
    "GSE105109_splits_pheno[\"split\"] = \"Split_3\"\n",
    "\n",
    "N_total = GSE105109_splits_pheno.shape[0]*1.0*1.0\n",
    "N_ad = GSE105109_splits_pheno.loc[GSE105109_splits_pheno[\"Diagnosis\"] == \" Alzheimer's disease\", :].shape[0]*1.0*1.0\n",
    "random_state = 42\n",
    "seed(random_state)\n",
    "n_splits = 3\n",
    "sizes = [1,1,1]\n",
    "se_freqs = [0.70,0.70,0.70]\n",
    "\n",
    "Sizes = []\n",
    "n_ad = []\n",
    "for i in range(0,n_splits-1):\n",
    "    s  = int(N_total*sizes[i]/sum(sizes))\n",
    "    Sizes.append(s)\n",
    "    n_ad.append(int(s*se_freqs[i]))\n",
    "\n",
    "Sizes.append(int(N_total-sum(Sizes)))\n",
    "n_ad.append(int(N_ad-sum(n_ad)))\n",
    "print(Sizes, sum(Sizes))\n",
    "print(n_ad, sum(n_ad))\n",
    "\n",
    "\n",
    "splits = {}\n",
    "ad = set(GSE105109_pheno.loc[GSE105109_pheno[\"Diagnosis\"]== \" Alzheimer's disease\",:].index.values)\n",
    "other = set(GSE105109_pheno.index.values).difference(ad)#.difference(fem)\n",
    "for i in range(0,n_splits-1):\n",
    "    b = set(sample(ad,n_ad[i]))  \n",
    "    ad =  ad.difference(b)\n",
    "    o = set(sample(other,Sizes[i]-n_ad[i]))\n",
    "    other1 = other.difference(o)\n",
    "    sele_samples = b |o \n",
    "    GSE105109_splits_pheno.loc[sele_samples,\"split\"] = \"Split_\"+str(i+1)\n",
    "    GSE105109_splits_pheno[\"Split_\"+str(i+1)] = 0\n",
    "    GSE105109_splits_pheno.loc[sele_samples,\"Split_\"+str(i+1)]  =1\n",
    "print(GSE105109_splits_pheno[[\"split\",\"Diagnosis\"]].groupby(\"split\")[\"Diagnosis\"].value_counts())\n",
    "\n",
    "# save the dataset splits\n",
    "#meth = pd.read_csv(\"E:\\\\Msc Systems Biology\\\\MSB5000_Master_Thesis\\\\Practical work\\\\Data\\\\Data_Full_Datasets\\\\GSE105109\\\\GSE105109_Filtered_Methylated.csv\", index_col=0)\n",
    "#unmeth = pd.read_csv(\"E:\\\\Msc Systems Biology\\\\MSB5000_Master_Thesis\\\\Practical work\\\\Data\\\\Data_Full_Datasets\\\\GSE105109\\\\GSE105109_Filtered_Unmethylated.csv\", index_col=0)\n",
    "#beta = pd.read_csv(\"E:\\\\Msc Systems Biology\\\\MSB5000_Master_Thesis\\\\Practical work\\\\Data\\\\Data_Full_Datasets\\\\GSE105109\\\\GSE105109_Filtered_Betas.csv\", index_col=0)\n",
    "#design = pd.read_csv(\"E:\\\\Msc Systems Biology\\\\MSB5000_Master_Thesis\\\\Practical work\\\\Data\\\\Data_Full_Datasets\\\\GSE105109\\\\Small_EWAS_design.csv\", index_col=0)\n",
    "#design_full = pd.read_csv(\"E:\\\\Msc Systems Biology\\\\MSB5000_Master_Thesis\\\\Practical work\\\\Data\\\\Data_Full_Datasets\\\\GSE105109\\\\Full_EWAS_design.csv\", index_col=0)\n",
    "\n",
    "output_base = \"E:\\\\Msc Systems Biology\\\\MSB5000_Master_Thesis\\\\Practical work\\\\Data\"\n",
    "output_dir = os.path.join(output_base, \"GSE105109_splits\")\n",
    "if not os.path.exists(output_dir):\n",
    "    os.makedirs(output_dir)\n",
    "for i in range(n_splits):\n",
    "    s = \"Split_\"+str(i+1)\n",
    "    GSE105109_splits_pheno.loc[GSE105109_splits_pheno[\"split\"]==s,:]\n",
    "    samples = sorted(GSE105109_splits_pheno.index.values)\n",
    "    GSE105109_splits_pheno.loc[samples,:].to_csv(output_dir+\"/\"+s+\"_pheno.csv\")\n",
    "    meth.loc[:,samples ].to_csv(output_dir+\"/\"+s+\"_methylated.csv\")\n",
    "    unmeth.loc[:,samples ].to_csv(output_dir+\"/\"+s+\"_unmethylated.csv\")\n",
    "    beta.loc[:,samples ].to_csv(output_dir+\"/\"+s+\"_betas.csv\")\n",
    "    design.loc[samples, :].to_csv(output_dir+\"/\"+s+\"_design.csv\")\n",
    "    design_full.loc[samples, :].to_csv(output_dir+\"/\"+s+\"_Full_design.csv\")"
   ]
  }
 ],
 "metadata": {
  "language_info": {
   "name": "python"
  },
  "orig_nbformat": 4
 },
 "nbformat": 4,
 "nbformat_minor": 2
}

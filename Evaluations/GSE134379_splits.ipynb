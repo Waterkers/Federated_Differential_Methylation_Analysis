{
 "cells": [
  {
   "cell_type": "code",
   "metadata": {
    "ExecuteTime": {
     "end_time": "2025-04-09T08:54:43.535259Z",
     "start_time": "2025-04-09T08:54:43.176381Z"
    }
   },
   "source": [
    "import pandas as pd\n",
    "import numpy as np\n",
    "import os"
   ],
   "outputs": [],
   "execution_count": 1
  },
  {
   "cell_type": "markdown",
   "metadata": {},
   "source": [
    "### Create the design matrix for GSE134379 to be used in local and federated EWAS "
   ]
  },
  {
   "cell_type": "code",
   "execution_count": null,
   "metadata": {},
   "outputs": [],
   "source": [
    "# GSE134379 - Small\n",
    "pheno = pd.read_csv(\"E:\\\\Msc Systems Biology\\\\MSB5000_Master_Thesis\\\\Practical work\\\\Data\\\\Data_Full_Datasets\\\\GSE134379\\\\Reduced_Pheno_Info.csv\", index_col= \"Sample_ID\")\n",
    "x = pheno.loc[:,[\"Diagnosis\", \"Age\", \"Sex\", \"Sentrix_ID\"]] # design matrix with the dependent/explainatory variables to be included in the model\n",
    "\n",
    "# The design matrix needs to consist of numeric representations of the covariates to be included in the model, i.e. binary diagnosis, binary sex, dummy sentrix etc.\n",
    "x[\"Diagnosis\"] = (x[\"Diagnosis\"] == \" AD\").astype(int) #create binary diagnosis with 1 = AD and 0 = CTR\n",
    "x[\"Sex\"] = (x[\"Sex\"] == \" F\").astype(int) #create binary sex with 1 = F and 0 = M\n",
    "\n",
    "x[\"Sentrix_ID\"] = x[\"Sentrix_ID\"].astype(int)\n",
    "# turn the age variable into a continuous numerical variable without any leftover text\n",
    "x[\"Age\"].replace(\"^[^:]*:\", \"\", regex=True, inplace=True)\n",
    "x[\"Age\"] = pd.to_numeric(x[\"Age\"])\n",
    "x.to_csv(\"E:\\\\Msc Systems Biology\\\\MSB5000_Master_Thesis\\\\Practical work\\\\Data\\\\Data_Full_Datasets\\\\GSE134379\\\\Small_EWAS_design.csv\")\n",
    "\n",
    "# now on to the full design matrix\n",
    "x_large = x.copy()\n",
    "x_large[\"Cell_Type1\"] = pd.to_numeric(pheno[\"Cell_Type.CT1\"])\n",
    "x_large[\"Cell_Type2\"] = pd.to_numeric(pheno[\"Cell_Type.CT2\"])\n",
    "x_large[\"Cell_Type3\"] = pd.to_numeric(pheno[\"Cell_Type.CT3\"])\n",
    "x_large[\"Cell_Type4\"] = pd.to_numeric(pheno[\"Cell_Type.CT4\"])\n",
    "x_large[\"Cell_Type5\"] = pd.to_numeric(pheno[\"Cell_Type.CT5\"])\n",
    "x_large.to_csv(\"E:\\\\Msc Systems Biology\\\\MSB5000_Master_Thesis\\\\Practical work\\\\Data\\\\Data_Full_Datasets\\\\GSE134379\\\\Full_EWAS_design.csv\")\n",
    "\n",
    "# create dummy variables for the unique sentrix_ids present in the dataset - this code can be reused to create center number dummies in the federated version of the code\n",
    "unique_ids = x[\"Sentrix_ID\"].unique()\n",
    "for id in unique_ids:\n",
    "    x[id] = (x[\"Sentrix_ID\"] == id).astype(int)\n",
    "x.drop(columns=\"Sentrix_ID\", inplace = True)\n",
    "x.to_csv(\"E:\\\\Msc Systems Biology\\\\MSB5000_Master_Thesis\\\\Practical work\\\\Data\\\\Data_Full_Datasets\\\\GSE134379\\\\Small_EWAS_design_local.csv\")\n",
    "\n",
    "unique_ids = x_large[\"Sentrix_ID\"].unique()\n",
    "for id in unique_ids:\n",
    "    x_large[id] = (x_large[\"Sentrix_ID\"] == id).astype(int)\n",
    "x_large.drop(columns=\"Sentrix_ID\", inplace = True)\n",
    "x_large.to_csv(\"E:\\\\Msc Systems Biology\\\\MSB5000_Master_Thesis\\\\Practical work\\\\Data\\\\Data_Full_Datasets\\\\GSE134379\\\\Full_EWAS_design_local.csv\")"
   ]
  },
  {
   "cell_type": "markdown",
   "metadata": {},
   "source": [
    "### Create even splits of the three main datasets so they can be run locally (be it federated)\n"
   ]
  },
  {
   "cell_type": "code",
   "metadata": {
    "ExecuteTime": {
     "end_time": "2025-04-09T08:54:48.558560Z",
     "start_time": "2025-04-09T08:54:48.556071Z"
    }
   },
   "source": [
    "from random import seed, sample"
   ],
   "outputs": [],
   "execution_count": 2
  },
  {
   "cell_type": "code",
   "metadata": {
    "ExecuteTime": {
     "end_time": "2025-04-09T09:02:02.184473Z",
     "start_time": "2025-04-09T09:01:34.966643Z"
    }
   },
   "source": [
    "#GSE134379\n",
    "\n",
    "meth = pd.read_csv(\"/home/silke/Documents/Fed_EWAS/Data/QC_GSE134379_half/Filtered_Methylated.csv\", index_col=0)\n",
    "unmeth = pd.read_csv(\"/home/silke/Documents/Fed_EWAS/Data/QC_GSE134379_half/Filtered_Unmethylated.csv\", index_col=0)\n",
    "beta = pd.read_csv(\"/home/silke/Documents/Fed_EWAS/Data/QC_GSE134379_half/Filtered_Betas.csv\", index_col=0)\n",
    "design = pd.read_csv(\"/home/silke/Documents/Fed_EWAS/Data/GSE134379_RAW/Small_EWAS_design.csv\", index_col=0)\n",
    "#design_full = pd.read_csv(\"/home/silke/Documents/Fed_EWAS/Data/GSE134379_RAW/Full_EWAS_design.csv\", index_col=0)\n",
    "\n",
    "GSE134379_pheno = pd.read_csv(\"/home/silke/Documents/Fed_EWAS/Data/QC_GSE134379_half/Reduced_Pheno_Info.csv\", index_col= \"Sample_ID\")\n",
    "GSE134379_splits_pheno = GSE134379_pheno.copy(deep=True)\n",
    "\n",
    "GSE134379_pheno = GSE134379_pheno.loc[set(meth.columns.values).intersection(set(GSE134379_pheno.index.values)), :]\n",
    "GSE134379_splits_pheno = GSE134379_splits_pheno.loc[set(meth.columns.values).intersection(set(GSE134379_splits_pheno.index.values)), :]\n",
    "\n",
    "GSE134379_splits_pheno[\"split\"] = \"Split_3\"\n",
    "\n",
    "N_total = GSE134379_splits_pheno.shape[0]*1.0*1.0\n",
    "N_ad = GSE134379_splits_pheno.loc[GSE134379_splits_pheno[\"Diagnosis\"] == \"diagnosis: AD\", :].shape[0]*1.0*1.0\n",
    "random_state = 42\n",
    "seed(random_state)\n",
    "n_splits = 3\n",
    "sizes = [1,1,1]\n",
    "se_freqs = [0.55,0.55,0.55]\n",
    "\n",
    "Sizes = []\n",
    "n_ad = []\n",
    "for i in range(0,n_splits-1):\n",
    "    s  = int(N_total*sizes[i]/sum(sizes))\n",
    "    Sizes.append(s)\n",
    "    n_ad.append(int(s*se_freqs[i]))\n",
    "\n",
    "Sizes.append(int(N_total-sum(Sizes)))\n",
    "n_ad.append(int(N_ad-sum(n_ad)))\n",
    "print(Sizes, sum(Sizes))\n",
    "print(n_ad, sum(n_ad))\n",
    "\n",
    "\n",
    "\n",
    "splits = {}\n",
    "ad = set(GSE134379_pheno.loc[GSE134379_pheno[\"Diagnosis\"]== \"diagnosis: AD\",:].index.values)\n",
    "other = set(GSE134379_pheno.index.values).difference(ad)#.difference(fem)\n",
    "for i in range(0,n_splits-1):\n",
    "    b = set(sample(ad,n_ad[i]))  \n",
    "    ad =  ad.difference(b)\n",
    "    o = set(sample(other,Sizes[i]-n_ad[i]))\n",
    "    other1 = other.difference(o)\n",
    "    sele_samples = b |o \n",
    "    GSE134379_splits_pheno.loc[sele_samples,\"split\"] = \"Split_\"+str(i+1)\n",
    "    GSE134379_splits_pheno[\"Split_\"+str(i+1)] = 0\n",
    "    GSE134379_splits_pheno.loc[sele_samples,\"Split_\"+str(i+1)]  =1\n",
    "print(GSE134379_splits_pheno[[\"split\",\"Diagnosis\"]].groupby(\"split\")[\"Diagnosis\"].value_counts())\n",
    "\n",
    "# save the dataset splits\n",
    "#meth = pd.read_csv(\"E:\\\\Msc Systems Biology\\\\MSB5000_Master_Thesis\\\\Practical work\\\\Data\\\\Data_Full_Datasets\\\\GSE134379\\\\Filtered_Methylated.csv\", index_col=0)\n",
    "#unmeth = pd.read_csv(\"E:\\\\Msc Systems Biology\\\\MSB5000_Master_Thesis\\\\Practical work\\\\Data\\\\Data_Full_Datasets\\\\GSE134379\\\\Filtered_Unmethylated.csv\", index_col=0)\n",
    "#beta = pd.read_csv(\"E:\\\\Msc Systems Biology\\\\MSB5000_Master_Thesis\\\\Practical work\\\\Data\\\\Data_Full_Datasets\\\\GSE134379\\\\Filtered_Betas.csv\", index_col=0)\n",
    "#design = pd.read_csv(\"E:\\\\Msc Systems Biology\\\\MSB5000_Master_Thesis\\\\Practical work\\\\Data\\\\Data_Full_Datasets\\\\GSE134379\\\\Small_EWAS_design.csv\", index_col=0)\n",
    "\n",
    "output_base = \"/home/silke/Documents/Fed_EWAS/Data/QC_GSE134379_half\"\n",
    "output_dir = os.path.join(output_base, \"GSE134379_splits\")\n",
    "if not os.path.exists(output_dir):\n",
    "    os.makedirs(output_dir)\n",
    "for i in range(n_splits):\n",
    "    s = \"Split_\"+str(i+1)\n",
    "    GSE134379_splits_pheno_i = GSE134379_splits_pheno.loc[GSE134379_splits_pheno[\"split\"]==s,:]\n",
    "    samples = sorted(GSE134379_splits_pheno_i.index.values)\n",
    "    print(samples)\n",
    "    GSE134379_splits_pheno.loc[samples,:].to_csv(output_dir+\"/\"+s+\"_pheno.csv\")\n",
    "    #print(meth.loc[:, samples].head())\n",
    "    meth.loc[:, samples].to_csv(output_dir+\"/\"+s+\"_methylated.csv\")\n",
    "    #print(unmeth.loc[:, samples].head())\n",
    "    unmeth.loc[:, samples].to_csv(output_dir+\"/\"+s+\"_unmethylated.csv\")\n",
    "    beta.loc[:, samples].to_csv(output_dir+\"/\"+s+\"_betas.csv\")\n",
    "    design.loc[samples, :].to_csv(output_dir+\"/\"+s+\"_design.csv\")\n",
    "    #design_full.loc[samples, :].to_csv(output_dir+\"/\"+s+\"_Full_design.csv\")"
   ],
   "outputs": [
    {
     "name": "stdout",
     "output_type": "stream",
     "text": [
      "[16, 16, 18] 50\n",
      "[8, 8, 8] 24\n",
      "split    Diagnosis    \n",
      "Split_1  diagnosis: AD     8\n",
      "         diagnosis: ND     5\n",
      "Split_2  diagnosis: AD     8\n",
      "         diagnosis: ND     8\n",
      "Split_3  diagnosis: ND    13\n",
      "         diagnosis: AD     8\n",
      "Name: Diagnosis, dtype: int64\n",
      "['GSM3944749_6057833029_R04C02', 'GSM3944770_6057833029_R03C01', 'GSM3944795_6042324136_R01C01', 'GSM3944904_6055432167_R04C01', 'GSM3944972_6057833008_R03C01', 'GSM3945043_6057833013_R04C01', 'GSM3945118_6264488087_R01C01', 'GSM3945136_6042324060_R05C02', 'GSM3945152_6057833019_R06C01', 'GSM3945156_6057833010_R01C02', 'GSM3945263_6057825168_R01C02', 'GSM3945278_6057833018_R01C01', 'GSM3945394_6042324134_R04C02']\n",
      "['GSM3944820_6057833015_R01C01', 'GSM3944874_6057825109_R03C02', 'GSM3944876_6057833040_R03C02', 'GSM3944943_6164647017_R06C01', 'GSM3945008_6042324160_R04C01', 'GSM3945049_6057833036_R06C01', 'GSM3945060_6057833038_R06C02', 'GSM3945101_6057833018_R05C02', 'GSM3945250_6057833007_R05C01', 'GSM3945307_6055432164_R06C02', 'GSM3945367_6042324100_R02C02', 'GSM3945368_6042324063_R05C02', 'GSM3945380_6057833010_R05C02', 'GSM3945530_6164647017_R06C02', 'GSM3945542_6042324063_R02C02', 'GSM3945549_6042324054_R05C02']\n",
      "['GSM3944892_6057833089_R03C01', 'GSM3944899_6057833064_R04C01', 'GSM3944911_6055432123_R04C02', 'GSM3944958_6055432105_R02C02', 'GSM3944974_6057833019_R01C02', 'GSM3944991_6057833029_R01C01', 'GSM3945005_6042324160_R04C02', 'GSM3945029_6057833043_R06C02', 'GSM3945038_6057833043_R02C02', 'GSM3945044_6057833038_R02C02', 'GSM3945045_6057833036_R04C02', 'GSM3945067_6055424129_R04C01', 'GSM3945094_6057833052_R02C02', 'GSM3945102_6055432123_R05C02', 'GSM3945227_6057833047_R04C02', 'GSM3945262_6057825168_R04C02', 'GSM3945347_6055432125_R05C01', 'GSM3945372_6042324054_R03C01', 'GSM3945473_6057825111_R02C02', 'GSM3945534_6164647014_R04C02', 'GSM3945544_6042324060_R02C02']\n"
     ]
    }
   ],
   "execution_count": 10
  }
 ],
 "metadata": {
  "language_info": {
   "name": "python"
  },
  "orig_nbformat": 4,
  "kernelspec": {
   "name": "python3",
   "language": "python",
   "display_name": "Python 3 (ipykernel)"
  }
 },
 "nbformat": 4,
 "nbformat_minor": 2
}

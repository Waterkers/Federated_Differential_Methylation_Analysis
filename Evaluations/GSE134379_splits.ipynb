{
 "cells": [
  {
   "cell_type": "code",
   "execution_count": null,
   "metadata": {},
   "outputs": [],
   "source": [
    "import pandas as pd\n",
    "import numpy as np\n",
    "import os"
   ]
  },
  {
   "cell_type": "markdown",
   "metadata": {},
   "source": [
    "### Create the design matrix for GSE134379 to be used in local and federated EWAS "
   ]
  },
  {
   "cell_type": "code",
   "execution_count": null,
   "metadata": {},
   "outputs": [],
   "source": [
    "# GSE134379 - Small\n",
    "pheno = pd.read_csv(\"E:\\\\Msc Systems Biology\\\\MSB5000_Master_Thesis\\\\Practical work\\\\Data\\\\Data_Full_Datasets\\\\GSE134379\\\\Reduced_Pheno_Info.csv\", index_col= \"Sample_ID\")\n",
    "x = pheno.loc[:,[\"Diagnosis\", \"Age\", \"Sex\", \"Sentrix_ID\"]] # design matrix with the dependent/explainatory variables to be included in the model\n",
    "\n",
    "# The design matrix needs to consist of numeric representations of the covariates to be included in the model, i.e. binary diagnosis, binary sex, dummy sentrix etc.\n",
    "x[\"Diagnosis\"] = (x[\"Diagnosis\"] == \" AD\").astype(int) #create binary diagnosis with 1 = AD and 0 = CTR\n",
    "x[\"Sex\"] = (x[\"Sex\"] == \" F\").astype(int) #create binary sex with 1 = F and 0 = M\n",
    "\n",
    "x[\"Sentrix_ID\"] = x[\"Sentrix_ID\"].astype(int)\n",
    "# turn the age variable into a continuous numerical variable without any leftover text\n",
    "x[\"Age\"].replace(\"^[^:]*:\", \"\", regex=True, inplace=True)\n",
    "x[\"Age\"] = pd.to_numeric(x[\"Age\"])\n",
    "x.to_csv(\"E:\\\\Msc Systems Biology\\\\MSB5000_Master_Thesis\\\\Practical work\\\\Data\\\\Data_Full_Datasets\\\\GSE134379\\\\Small_EWAS_design.csv\")\n",
    "\n",
    "# now on to the full design matrix\n",
    "x_large = x.copy()\n",
    "x_large[\"Cell_Type1\"] = pd.to_numeric(pheno[\"Cell_Type.CT1\"])\n",
    "x_large[\"Cell_Type2\"] = pd.to_numeric(pheno[\"Cell_Type.CT2\"])\n",
    "x_large[\"Cell_Type3\"] = pd.to_numeric(pheno[\"Cell_Type.CT3\"])\n",
    "x_large[\"Cell_Type4\"] = pd.to_numeric(pheno[\"Cell_Type.CT4\"])\n",
    "x_large[\"Cell_Type5\"] = pd.to_numeric(pheno[\"Cell_Type.CT5\"])\n",
    "x_large.to_csv(\"E:\\\\Msc Systems Biology\\\\MSB5000_Master_Thesis\\\\Practical work\\\\Data\\\\Data_Full_Datasets\\\\GSE134379\\\\Full_EWAS_design.csv\")\n",
    "\n",
    "# create dummy variables for the unique sentrix_ids present in the dataset - this code can be reused to create center number dummies in the federated version of the code\n",
    "unique_ids = x[\"Sentrix_ID\"].unique()\n",
    "for id in unique_ids:\n",
    "    x[id] = (x[\"Sentrix_ID\"] == id).astype(int)\n",
    "x.drop(columns=\"Sentrix_ID\", inplace = True)\n",
    "x.to_csv(\"E:\\\\Msc Systems Biology\\\\MSB5000_Master_Thesis\\\\Practical work\\\\Data\\\\Data_Full_Datasets\\\\GSE134379\\\\Small_EWAS_design_local.csv\")\n",
    "\n",
    "unique_ids = x_large[\"Sentrix_ID\"].unique()\n",
    "for id in unique_ids:\n",
    "    x_large[id] = (x_large[\"Sentrix_ID\"] == id).astype(int)\n",
    "x_large.drop(columns=\"Sentrix_ID\", inplace = True)\n",
    "x_large.to_csv(\"E:\\\\Msc Systems Biology\\\\MSB5000_Master_Thesis\\\\Practical work\\\\Data\\\\Data_Full_Datasets\\\\GSE134379\\\\Full_EWAS_design_local.csv\")"
   ]
  },
  {
   "cell_type": "markdown",
   "metadata": {},
   "source": [
    "### Create even splits of the three main datasets so they can be run locally (be it federated)\n"
   ]
  },
  {
   "cell_type": "code",
   "execution_count": null,
   "metadata": {},
   "outputs": [],
   "source": [
    "from random import seed, sample"
   ]
  },
  {
   "cell_type": "code",
   "execution_count": null,
   "metadata": {},
   "outputs": [],
   "source": [
    "#GSE134379\n",
    "\n",
    "meth = pd.read_csv(\"/cosybio/project/vanElferen/FedEWAS/Data/QC_GSE134379_half/Filtered_Methylated.csv\", index_col=0)\n",
    "unmeth = pd.read_csv(\"/cosybio/project/vanElferen/FedEWAS/Data/QC_GSE134379_half/Filtered_Unmethylated.csv\", index_col=0)\n",
    "beta = pd.read_csv(\"/cosybio/project/vanElferen/FedEWAS/Data/QC_GSE134379_half/Filtered_Betas.csv\", index_col=0)\n",
    "design = pd.read_csv(\"/cosybio/project/vanElferen/FedEWAS/Data/GSE134379_Raw/Small_EWAS_design.csv\", index_col=0)\n",
    "#design_full = pd.read_csv(\"E:\\\\Msc Systems Biology\\\\MSB5000_Master_Thesis\\\\Practical work\\\\Data\\\\Data_Full_Datasets\\\\GSE134379\\\\Full_EWAS_design.csv\", index_col=0)\n",
    "\n",
    "GSE134379_pheno = pd.read_csv(\"/cosybio/project/vanElferen/FedEWAS/Data/QC_GSE134379_half/Reduced_Pheno_Info.csv\", index_col= \"Sample_ID\")\n",
    "GSE134379_splits_pheno = GSE134379_pheno.copy()\n",
    "\n",
    "GSE134379_pheno = GSE134379_pheno.loc[set(meth.columns.values).intersection(set(GSE134379_pheno.index.values)), :]\n",
    "GSE134379_splits_pheno = GSE134379_splits_pheno.loc[set(meth.columns.values).intersection(set(GSE134379_splits_pheno.index.values)), :]\n",
    "\n",
    "GSE134379_splits_pheno[\"split\"] = \"Split_3\"\n",
    "\n",
    "N_total = GSE134379_splits_pheno.shape[0]*1.0*1.0\n",
    "N_ad = GSE134379_splits_pheno.loc[GSE134379_splits_pheno[\"Diagnosis\"] == \" AD\", :].shape[0]*1.0*1.0\n",
    "random_state = 42\n",
    "seed(random_state)\n",
    "n_splits = 3\n",
    "sizes = [1,1,1]\n",
    "se_freqs = [0.55,0.55,0.55]\n",
    "\n",
    "Sizes = []\n",
    "n_ad = []\n",
    "for i in range(0,n_splits-1):\n",
    "    s  = int(N_total*sizes[i]/sum(sizes))\n",
    "    Sizes.append(s)\n",
    "    n_ad.append(int(s*se_freqs[i]))\n",
    "\n",
    "Sizes.append(int(N_total-sum(Sizes)))\n",
    "n_ad.append(int(N_ad-sum(n_ad)))\n",
    "print(Sizes, sum(Sizes))\n",
    "print(n_ad, sum(n_ad))\n",
    "\n",
    "\n",
    "\n",
    "splits = {}\n",
    "ad = set(GSE134379_pheno.loc[GSE134379_pheno[\"Diagnosis\"]== \" AD\",:].index.values)\n",
    "other = set(GSE134379_pheno.index.values).difference(ad)#.difference(fem)\n",
    "for i in range(0,n_splits-1):\n",
    "    b = set(sample(ad,n_ad[i]))  \n",
    "    ad =  ad.difference(b)\n",
    "    o = set(sample(other,Sizes[i]-n_ad[i]))\n",
    "    other1 = other.difference(o)\n",
    "    sele_samples = b |o \n",
    "    GSE134379_splits_pheno.loc[sele_samples,\"split\"] = \"Split_\"+str(i+1)\n",
    "    GSE134379_splits_pheno[\"Split_\"+str(i+1)] = 0\n",
    "    GSE134379_splits_pheno.loc[sele_samples,\"Split_\"+str(i+1)]  =1\n",
    "print(GSE134379_splits_pheno[[\"split\",\"Diagnosis\"]].groupby(\"split\")[\"Diagnosis\"].value_counts())\n",
    "\n",
    "# save the dataset splits\n",
    "#meth = pd.read_csv(\"E:\\\\Msc Systems Biology\\\\MSB5000_Master_Thesis\\\\Practical work\\\\Data\\\\Data_Full_Datasets\\\\GSE134379\\\\Filtered_Methylated.csv\", index_col=0)\n",
    "#unmeth = pd.read_csv(\"E:\\\\Msc Systems Biology\\\\MSB5000_Master_Thesis\\\\Practical work\\\\Data\\\\Data_Full_Datasets\\\\GSE134379\\\\Filtered_Unmethylated.csv\", index_col=0)\n",
    "#beta = pd.read_csv(\"E:\\\\Msc Systems Biology\\\\MSB5000_Master_Thesis\\\\Practical work\\\\Data\\\\Data_Full_Datasets\\\\GSE134379\\\\Filtered_Betas.csv\", index_col=0)\n",
    "#design = pd.read_csv(\"E:\\\\Msc Systems Biology\\\\MSB5000_Master_Thesis\\\\Practical work\\\\Data\\\\Data_Full_Datasets\\\\GSE134379\\\\Small_EWAS_design.csv\", index_col=0)\n",
    "\n",
    "output_base = \"/cosybio/project/vanElferen/FedEWAS/Data/QC_GSE134379_half/\"\n",
    "output_dir = os.path.join(output_base, \"GSE134379_splits\")\n",
    "if not os.path.exists(output_dir):\n",
    "    os.makedirs(output_dir)\n",
    "for i in range(n_splits):\n",
    "    s = \"Split_\"+str(i+1)\n",
    "    samples = sorted(GSE134379_splits_pheno.loc[GSE134379_splits_pheno[\"split\"]==s,:].index.values)\n",
    "    GSE134379_splits_pheno.loc[samples,:].to_csv(output_dir+\"/\"+s+\"_pheno.csv\")\n",
    "    meth.loc[:, samples].to_csv(output_dir+\"/\"+s+\"_methylated.csv\")\n",
    "    unmeth.loc[:, samples].to_csv(output_dir+\"/\"+s+\"_unmethylated.csv\")\n",
    "    beta.loc[:, samples].to_csv(output_dir+\"/\"+s+\"_betas.csv\")\n",
    "    design.loc[samples, :].to_csv(output_dir+\"/\"+s+\"_design.csv\")\n",
    "    #design_full.loc[samples, :].to_csv(output_dir+\"/\"+s+\"_Full_design.csv\")"
   ]
  }
 ],
 "metadata": {
  "language_info": {
   "name": "python"
  },
  "orig_nbformat": 4
 },
 "nbformat": 4,
 "nbformat_minor": 2
}

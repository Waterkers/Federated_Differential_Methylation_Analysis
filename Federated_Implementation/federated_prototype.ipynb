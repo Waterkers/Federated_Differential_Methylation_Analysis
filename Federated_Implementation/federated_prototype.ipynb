{
 "cells": [
  {
   "cell_type": "code",
   "metadata": {
    "ExecuteTime": {
     "end_time": "2025-03-27T14:40:32.093356Z",
     "start_time": "2025-03-27T14:40:31.540810Z"
    }
   },
   "source": [
    "import pandas as pd\n",
    "import numpy as np\n",
    "import sys\n",
    "import re\n",
    "import os\n",
    "\n",
    "import server\n",
    "from server import Server \n",
    "import client\n",
    "from client import Client"
   ],
   "outputs": [],
   "execution_count": 1
  },
  {
   "cell_type": "code",
   "metadata": {
    "ExecuteTime": {
     "end_time": "2025-03-27T14:40:32.104340Z",
     "start_time": "2025-03-27T14:40:32.102326Z"
    }
   },
   "source": [
    "#import pyximport\n",
    "#pyximport.install(setup_args={\"script_args\" : [\"--verbose\"]})\n",
    "#from linbinR import fast_linbin"
   ],
   "outputs": [],
   "execution_count": 2
  },
  {
   "cell_type": "code",
   "metadata": {
    "ExecuteTime": {
     "end_time": "2025-03-27T14:40:32.181183Z",
     "start_time": "2025-03-27T14:40:32.178796Z"
    }
   },
   "source": [
    "split_dir = \"/home/silke/Documents/Fed_EWAS/Data/QC_GSE134379_half/GSE134379_splits\"\n",
    "output = \"/home/silke/Documents/Fed_EWAS/Data/QC_GSE134379_half/GSE134379_Fed\"\n",
    "probeAnnotationPath = \"/home/silke/Documents/Fed_EWAS/Data/GSE134379_RAW/GPL13534_HumanMethylation450_15017482_v.1.1.csv\""
   ],
   "outputs": [],
   "execution_count": 3
  },
  {
   "cell_type": "markdown",
   "metadata": {},
   "source": [
    "## Initialising the clients"
   ]
  },
  {
   "cell_type": "code",
   "metadata": {
    "ExecuteTime": {
     "end_time": "2025-03-27T14:40:40.593365Z",
     "start_time": "2025-03-27T14:40:32.229744Z"
    }
   },
   "source": [
    "# create client\n",
    "lab_a = Client(\"Lab_A\", os.path.join(split_dir, \"Split_1_design.csv\"), os.path.join(split_dir, \"Split_1_methylated.csv\"), os.path.join(split_dir, \"Split_1_unmethylated.csv\"), probeAnnotationPath)\n",
    "lab_b = Client(\"Lab_B\", os.path.join(split_dir, \"Split_2_design.csv\"), os.path.join(split_dir, \"Split_2_methylated.csv\"), os.path.join(split_dir, \"Split_2_unmethylated.csv\"), probeAnnotationPath)\n",
    "lab_c = Client(\"Lab_C\", os.path.join(split_dir, \"Split_3_design.csv\"), os.path.join(split_dir, \"Split_3_methylated.csv\"), os.path.join(split_dir, \"Split_3_unmethylated.csv\"), probeAnnotationPath)"
   ],
   "outputs": [
    {
     "name": "stderr",
     "output_type": "stream",
     "text": [
      "/home/silke/Documents/Fed_EWAS/Federated_Differential_Methylation_Analysis/Federated_Implementation/client.py:80: DtypeWarning: Columns (2,4,11,14,15) have mixed types.Specify dtype option on import or set low_memory=False.\n",
      "  self.read_data(design_matrix_filepath, methylated_filepath, unmethylated_filepath, probe_annotation_path)\n"
     ]
    }
   ],
   "execution_count": 4
  },
  {
   "cell_type": "markdown",
   "metadata": {},
   "source": [
    "## Initialising the server"
   ]
  },
  {
   "cell_type": "code",
   "metadata": {
    "ExecuteTime": {
     "end_time": "2025-03-27T14:40:40.602241Z",
     "start_time": "2025-03-27T14:40:40.600072Z"
    }
   },
   "source": [
    "serv = Server([\"AD\", \"CTRL\"], [\"Age\", \"Sex\", \"Sentrix_ID\"])\n",
    "global_conditions = serv.return_global_conditions()"
   ],
   "outputs": [],
   "execution_count": 5
  },
  {
   "cell_type": "markdown",
   "metadata": {},
   "source": [
    "## Joining clients to the server"
   ]
  },
  {
   "cell_type": "code",
   "metadata": {
    "ExecuteTime": {
     "end_time": "2025-03-27T14:40:40.662718Z",
     "start_time": "2025-03-27T14:40:40.659877Z"
    }
   },
   "source": [
    "# join the clients\n",
    "serv.get_clients(lab_a.cohort_name, lab_a.probes, lab_a.designmatrix.index)\n",
    "serv.get_clients(lab_b.cohort_name, lab_b.probes, lab_b.designmatrix.index)\n",
    "serv.get_clients(lab_c.cohort_name, lab_c.probes, lab_c.designmatrix.index)"
   ],
   "outputs": [],
   "execution_count": 6
  },
  {
   "cell_type": "code",
   "metadata": {
    "ExecuteTime": {
     "end_time": "2025-03-27T14:40:41.085710Z",
     "start_time": "2025-03-27T14:40:40.704422Z"
    }
   },
   "source": [
    "global_probes = serv.find_global_probes()\n",
    "cohort_effect = serv.find_cohort_effects()"
   ],
   "outputs": [],
   "execution_count": 7
  },
  {
   "cell_type": "code",
   "metadata": {
    "ExecuteTime": {
     "end_time": "2025-03-27T14:40:44.409801Z",
     "start_time": "2025-03-27T14:40:41.096197Z"
    }
   },
   "source": [
    "#check client input\n",
    "lab_a.input_validation(global_conditions, global_probes)\n",
    "lab_b.input_validation(global_conditions, global_probes)\n",
    "lab_c.input_validation(global_conditions, global_probes)"
   ],
   "outputs": [],
   "execution_count": 8
  },
  {
   "cell_type": "code",
   "metadata": {
    "ExecuteTime": {
     "end_time": "2025-03-27T14:29:54.296844Z",
     "start_time": "2025-03-27T14:29:54.292582Z"
    }
   },
   "source": [
    "lab_a.cohort_effects(serv.cohort_effects)\n",
    "lab_b.cohort_effects(serv.cohort_effects)\n",
    "lab_c.cohort_effects(serv.cohort_effects)"
   ],
   "outputs": [],
   "execution_count": 9
  },
  {
   "cell_type": "code",
   "metadata": {
    "ExecuteTime": {
     "end_time": "2025-03-27T14:29:54.405046Z",
     "start_time": "2025-03-27T14:29:54.352783Z"
    }
   },
   "source": [
    "if \"Sentrix_ID\" in global_conditions:\n",
    "    lab_a.find_unique_SentrixIDS()\n",
    "    lab_b.find_unique_SentrixIDS()\n",
    "    lab_c.find_unique_SentrixIDS()\n",
    "    global_sentrix = serv.return_global_SentrixID(lab_a.unique_SentrixIDS,\n",
    "                                lab_b.unique_SentrixIDS,\n",
    "                                lab_c.unique_SentrixIDS)\n",
    "    lab_a.SentrixID_effects(global_sentrix)\n",
    "    lab_b.SentrixID_effects(global_sentrix)\n",
    "    lab_c.SentrixID_effects(global_sentrix)\n",
    "    \n",
    "\n"
   ],
   "outputs": [
    {
     "name": "stderr",
     "output_type": "stream",
     "text": [
      "/home/silke/miniconda3/envs/FedEWAS/lib/python3.7/site-packages/pandas/core/indexing.py:1732: SettingWithCopyWarning: \n",
      "A value is trying to be set on a copy of a slice from a DataFrame\n",
      "\n",
      "See the caveats in the documentation: https://pandas.pydata.org/pandas-docs/stable/user_guide/indexing.html#returning-a-view-versus-a-copy\n",
      "  self._setitem_single_block(indexer, value, name)\n"
     ]
    }
   ],
   "execution_count": 10
  },
  {
   "cell_type": "markdown",
   "metadata": {},
   "source": [
    "## Dasen normalisation"
   ]
  },
  {
   "cell_type": "markdown",
   "metadata": {},
   "source": [
    "Client side"
   ]
  },
  {
   "metadata": {
    "ExecuteTime": {
     "end_time": "2025-03-27T14:30:54.350185Z",
     "start_time": "2025-03-27T14:30:54.241601Z"
    }
   },
   "cell_type": "code",
   "source": [
    "lab_a.intensity_distributions()\n",
    "lab_b.intensity_distributions()\n",
    "lab_c.intensity_distributions()"
   ],
   "outputs": [
    {
     "name": "stdout",
     "output_type": "stream",
     "text": [
      "Empty DataFrame\n",
      "Columns: []\n",
      "Index: [cg00000029, cg00000108, cg00000109, cg00000165, cg00000236, cg00000289, cg00000292, cg00000321, cg00000363, cg00000622, cg00000658, cg00000714, cg00000721, cg00000734, cg00000769, cg00000807, cg00000884, cg00000905, cg00000924, cg00000948, cg00000957, cg00001099, cg00001245, cg00001249, cg00001261, cg00001269, cg00001349, cg00001364, cg00001446, cg00001534, cg00001582, cg00001583, cg00001593, cg00001594, cg00001687, cg00001747, cg00001791, cg00001809, cg00001854, cg00001874, cg00001930, cg00002028, cg00002033, cg00002080, cg00002116, cg00002145, cg00002190, cg00002224, cg00002236, cg00002406, cg00002426, cg00002449, cg00002464, cg00002473, cg00002490, cg00002531, cg00002591, cg00002593, cg00002597, cg00002646, cg00002660, cg00002719, cg00002749, cg00002769, cg00002808, cg00002809, cg00002810, cg00002837, cg00002930, cg00003014, cg00003091, cg00003173, cg00003181, cg00003187, cg00003202, cg00003287, cg00003298, cg00003345, cg00003513, cg00003529, cg00003578, cg00003625, cg00003722, cg00003784, cg00003818, cg00003858, cg00003900, cg00003965, cg00003994, cg00004055, cg00004061, cg00004067, cg00004072, cg00004082, cg00004089, cg00004105, cg00004207, cg00004219, cg00004257, cg00004421, ...]\n",
      "\n",
      "[442337 rows x 0 columns]\n"
     ]
    },
    {
     "name": "stderr",
     "output_type": "stream",
     "text": [
      "/home/silke/miniconda3/envs/FedEWAS/lib/python3.7/site-packages/numpy/core/_methods.py:263: RuntimeWarning: Degrees of freedom <= 0 for slice\n",
      "  keepdims=keepdims, where=where)\n",
      "/home/silke/miniconda3/envs/FedEWAS/lib/python3.7/site-packages/numpy/core/_methods.py:223: RuntimeWarning: invalid value encountered in true_divide\n",
      "  subok=False)\n",
      "/home/silke/miniconda3/envs/FedEWAS/lib/python3.7/site-packages/numpy/core/_methods.py:254: RuntimeWarning: invalid value encountered in double_scalars\n",
      "  ret = ret.dtype.type(ret / rcount)\n"
     ]
    },
    {
     "ename": "ValueError",
     "evalue": "Wrong number of items passed 0, placement implies 1",
     "output_type": "error",
     "traceback": [
      "\u001B[0;31m---------------------------------------------------------------------------\u001B[0m",
      "\u001B[0;31mValueError\u001B[0m                                Traceback (most recent call last)",
      "\u001B[0;32m/tmp/ipykernel_18474/1238639259.py\u001B[0m in \u001B[0;36m<module>\u001B[0;34m\u001B[0m\n\u001B[0;32m----> 1\u001B[0;31m \u001B[0mlab_c\u001B[0m\u001B[0;34m.\u001B[0m\u001B[0mintensity_distributions\u001B[0m\u001B[0;34m(\u001B[0m\u001B[0;34m)\u001B[0m\u001B[0;34m\u001B[0m\u001B[0;34m\u001B[0m\u001B[0m\n\u001B[0m",
      "\u001B[0;32m~/Documents/Fed_EWAS/Federated_Differential_Methylation_Analysis/Federated_Implementation/client.py\u001B[0m in \u001B[0;36mintensity_distributions\u001B[0;34m(self)\u001B[0m\n\u001B[1;32m    239\u001B[0m     \u001B[0;31m# client level computation for (dasen)normalisation\u001B[0m\u001B[0;34m\u001B[0m\u001B[0;34m\u001B[0m\u001B[0;34m\u001B[0m\u001B[0m\n\u001B[1;32m    240\u001B[0m     \u001B[0;32mdef\u001B[0m \u001B[0mintensity_distributions\u001B[0m\u001B[0;34m(\u001B[0m\u001B[0mself\u001B[0m\u001B[0;34m)\u001B[0m\u001B[0;34m:\u001B[0m\u001B[0;34m\u001B[0m\u001B[0;34m\u001B[0m\u001B[0m\n\u001B[0;32m--> 241\u001B[0;31m         \u001B[0mself\u001B[0m\u001B[0;34m.\u001B[0m\u001B[0mmethylated_dist\u001B[0m \u001B[0;34m=\u001B[0m \u001B[0mdfsfit_python\u001B[0m\u001B[0;34m(\u001B[0m\u001B[0mself\u001B[0m\u001B[0;34m.\u001B[0m\u001B[0mraw_methylated\u001B[0m\u001B[0;34m,\u001B[0m \u001B[0mself\u001B[0m\u001B[0;34m.\u001B[0m\u001B[0mprobe_annotation\u001B[0m\u001B[0;34m[\u001B[0m\u001B[0;34m'Infinium_Design_Type'\u001B[0m\u001B[0;34m]\u001B[0m\u001B[0;34m)\u001B[0m\u001B[0;34m\u001B[0m\u001B[0;34m\u001B[0m\u001B[0m\n\u001B[0m\u001B[1;32m    242\u001B[0m         \u001B[0mself\u001B[0m\u001B[0;34m.\u001B[0m\u001B[0munmethylated_dist\u001B[0m \u001B[0;34m=\u001B[0m \u001B[0mdfsfit_python\u001B[0m\u001B[0;34m(\u001B[0m\u001B[0mself\u001B[0m\u001B[0;34m.\u001B[0m\u001B[0mraw_unmethylated\u001B[0m\u001B[0;34m,\u001B[0m \u001B[0mself\u001B[0m\u001B[0;34m.\u001B[0m\u001B[0mprobe_annotation\u001B[0m\u001B[0;34m[\u001B[0m\u001B[0;34m'Infinium_Design_Type'\u001B[0m\u001B[0;34m]\u001B[0m\u001B[0;34m)\u001B[0m\u001B[0;34m\u001B[0m\u001B[0;34m\u001B[0m\u001B[0m\n\u001B[1;32m    243\u001B[0m         \u001B[0;32mreturn\u001B[0m \u001B[0mself\u001B[0m\u001B[0;34m.\u001B[0m\u001B[0mmethylated_dist\u001B[0m\u001B[0;34m,\u001B[0m \u001B[0mself\u001B[0m\u001B[0;34m.\u001B[0m\u001B[0munmethylated_dist\u001B[0m\u001B[0;34m\u001B[0m\u001B[0;34m\u001B[0m\u001B[0m\n",
      "\u001B[0;32m~/Documents/Fed_EWAS/Federated_Differential_Methylation_Analysis/Federated_Implementation/client.py\u001B[0m in \u001B[0;36mdfsfit_python\u001B[0;34m(x, probe_type)\u001B[0m\n\u001B[1;32m     57\u001B[0m     \u001B[0mroco_zip\u001B[0m \u001B[0;34m=\u001B[0m \u001B[0mlist\u001B[0m\u001B[0;34m(\u001B[0m\u001B[0mzip\u001B[0m\u001B[0;34m(\u001B[0m\u001B[0msrow\u001B[0m\u001B[0;34m,\u001B[0m \u001B[0mscol\u001B[0m\u001B[0;34m)\u001B[0m\u001B[0;34m)\u001B[0m\u001B[0;34m\u001B[0m\u001B[0;34m\u001B[0m\u001B[0m\n\u001B[1;32m     58\u001B[0m     \u001B[0mdata\u001B[0m \u001B[0;34m=\u001B[0m \u001B[0mpd\u001B[0m\u001B[0;34m.\u001B[0m\u001B[0mDataFrame\u001B[0m\u001B[0;34m(\u001B[0m\u001B[0mroco_zip\u001B[0m\u001B[0;34m,\u001B[0m \u001B[0mindex\u001B[0m \u001B[0;34m=\u001B[0m \u001B[0mx\u001B[0m\u001B[0;34m.\u001B[0m\u001B[0mcolumns\u001B[0m\u001B[0;34m.\u001B[0m\u001B[0mvalues\u001B[0m\u001B[0;34m,\u001B[0m \u001B[0mcolumns\u001B[0m \u001B[0;34m=\u001B[0m \u001B[0;34m[\u001B[0m\u001B[0;34m\"srow\"\u001B[0m\u001B[0;34m,\u001B[0m \u001B[0;34m\"scol\"\u001B[0m\u001B[0;34m]\u001B[0m\u001B[0;34m)\u001B[0m\u001B[0;34m\u001B[0m\u001B[0;34m\u001B[0m\u001B[0m\n\u001B[0;32m---> 59\u001B[0;31m     \u001B[0mdata\u001B[0m\u001B[0;34m.\u001B[0m\u001B[0minsert\u001B[0m\u001B[0;34m(\u001B[0m\u001B[0mloc\u001B[0m \u001B[0;34m=\u001B[0m \u001B[0;36m0\u001B[0m\u001B[0;34m,\u001B[0m \u001B[0mcolumn\u001B[0m\u001B[0;34m=\u001B[0m\u001B[0;34m\"dis_diff\"\u001B[0m\u001B[0;34m,\u001B[0m \u001B[0mvalue\u001B[0m\u001B[0;34m=\u001B[0m\u001B[0mdis_diff\u001B[0m\u001B[0;34m)\u001B[0m\u001B[0;34m\u001B[0m\u001B[0;34m\u001B[0m\u001B[0m\n\u001B[0m\u001B[1;32m     60\u001B[0m \u001B[0;34m\u001B[0m\u001B[0m\n\u001B[1;32m     61\u001B[0m     \u001B[0mfit_dist\u001B[0m \u001B[0;34m=\u001B[0m \u001B[0msm\u001B[0m\u001B[0;34m.\u001B[0m\u001B[0mOLS\u001B[0m\u001B[0;34m.\u001B[0m\u001B[0mfrom_formula\u001B[0m\u001B[0;34m(\u001B[0m\u001B[0;34m\"dis_diff ~ scol + srow\"\u001B[0m\u001B[0;34m,\u001B[0m \u001B[0mdata\u001B[0m\u001B[0;34m)\u001B[0m\u001B[0;34m.\u001B[0m\u001B[0mfit\u001B[0m\u001B[0;34m(\u001B[0m\u001B[0;34m)\u001B[0m\u001B[0;34m\u001B[0m\u001B[0;34m\u001B[0m\u001B[0m\n",
      "\u001B[0;32m~/miniconda3/envs/FedEWAS/lib/python3.7/site-packages/pandas/core/frame.py\u001B[0m in \u001B[0;36minsert\u001B[0;34m(self, loc, column, value, allow_duplicates)\u001B[0m\n\u001B[1;32m   4417\u001B[0m \u001B[0;34m\u001B[0m\u001B[0m\n\u001B[1;32m   4418\u001B[0m         \u001B[0mvalue\u001B[0m \u001B[0;34m=\u001B[0m \u001B[0mself\u001B[0m\u001B[0;34m.\u001B[0m\u001B[0m_sanitize_column\u001B[0m\u001B[0;34m(\u001B[0m\u001B[0mvalue\u001B[0m\u001B[0;34m)\u001B[0m\u001B[0;34m\u001B[0m\u001B[0;34m\u001B[0m\u001B[0m\n\u001B[0;32m-> 4419\u001B[0;31m         \u001B[0mself\u001B[0m\u001B[0;34m.\u001B[0m\u001B[0m_mgr\u001B[0m\u001B[0;34m.\u001B[0m\u001B[0minsert\u001B[0m\u001B[0;34m(\u001B[0m\u001B[0mloc\u001B[0m\u001B[0;34m,\u001B[0m \u001B[0mcolumn\u001B[0m\u001B[0;34m,\u001B[0m \u001B[0mvalue\u001B[0m\u001B[0;34m)\u001B[0m\u001B[0;34m\u001B[0m\u001B[0;34m\u001B[0m\u001B[0m\n\u001B[0m\u001B[1;32m   4420\u001B[0m \u001B[0;34m\u001B[0m\u001B[0m\n\u001B[1;32m   4421\u001B[0m     \u001B[0;32mdef\u001B[0m \u001B[0massign\u001B[0m\u001B[0;34m(\u001B[0m\u001B[0mself\u001B[0m\u001B[0;34m,\u001B[0m \u001B[0;34m**\u001B[0m\u001B[0mkwargs\u001B[0m\u001B[0;34m)\u001B[0m \u001B[0;34m->\u001B[0m \u001B[0mDataFrame\u001B[0m\u001B[0;34m:\u001B[0m\u001B[0;34m\u001B[0m\u001B[0;34m\u001B[0m\u001B[0m\n",
      "\u001B[0;32m~/miniconda3/envs/FedEWAS/lib/python3.7/site-packages/pandas/core/internals/managers.py\u001B[0m in \u001B[0;36minsert\u001B[0;34m(self, loc, item, value)\u001B[0m\n\u001B[1;32m   1160\u001B[0m             \u001B[0mvalue\u001B[0m \u001B[0;34m=\u001B[0m \u001B[0mensure_block_shape\u001B[0m\u001B[0;34m(\u001B[0m\u001B[0mvalue\u001B[0m\u001B[0;34m,\u001B[0m \u001B[0mndim\u001B[0m\u001B[0;34m=\u001B[0m\u001B[0mself\u001B[0m\u001B[0;34m.\u001B[0m\u001B[0mndim\u001B[0m\u001B[0;34m)\u001B[0m\u001B[0;34m\u001B[0m\u001B[0;34m\u001B[0m\u001B[0m\n\u001B[1;32m   1161\u001B[0m \u001B[0;34m\u001B[0m\u001B[0m\n\u001B[0;32m-> 1162\u001B[0;31m         \u001B[0mblock\u001B[0m \u001B[0;34m=\u001B[0m \u001B[0mnew_block\u001B[0m\u001B[0;34m(\u001B[0m\u001B[0mvalues\u001B[0m\u001B[0;34m=\u001B[0m\u001B[0mvalue\u001B[0m\u001B[0;34m,\u001B[0m \u001B[0mndim\u001B[0m\u001B[0;34m=\u001B[0m\u001B[0mself\u001B[0m\u001B[0;34m.\u001B[0m\u001B[0mndim\u001B[0m\u001B[0;34m,\u001B[0m \u001B[0mplacement\u001B[0m\u001B[0;34m=\u001B[0m\u001B[0mslice\u001B[0m\u001B[0;34m(\u001B[0m\u001B[0mloc\u001B[0m\u001B[0;34m,\u001B[0m \u001B[0mloc\u001B[0m \u001B[0;34m+\u001B[0m \u001B[0;36m1\u001B[0m\u001B[0;34m)\u001B[0m\u001B[0;34m)\u001B[0m\u001B[0;34m\u001B[0m\u001B[0;34m\u001B[0m\u001B[0m\n\u001B[0m\u001B[1;32m   1163\u001B[0m \u001B[0;34m\u001B[0m\u001B[0m\n\u001B[1;32m   1164\u001B[0m         \u001B[0;32mfor\u001B[0m \u001B[0mblkno\u001B[0m\u001B[0;34m,\u001B[0m \u001B[0mcount\u001B[0m \u001B[0;32min\u001B[0m \u001B[0m_fast_count_smallints\u001B[0m\u001B[0;34m(\u001B[0m\u001B[0mself\u001B[0m\u001B[0;34m.\u001B[0m\u001B[0mblknos\u001B[0m\u001B[0;34m[\u001B[0m\u001B[0mloc\u001B[0m\u001B[0;34m:\u001B[0m\u001B[0;34m]\u001B[0m\u001B[0;34m)\u001B[0m\u001B[0;34m:\u001B[0m\u001B[0;34m\u001B[0m\u001B[0;34m\u001B[0m\u001B[0m\n",
      "\u001B[0;32m~/miniconda3/envs/FedEWAS/lib/python3.7/site-packages/pandas/core/internals/blocks.py\u001B[0m in \u001B[0;36mnew_block\u001B[0;34m(values, placement, ndim, klass)\u001B[0m\n\u001B[1;32m   1935\u001B[0m \u001B[0;34m\u001B[0m\u001B[0m\n\u001B[1;32m   1936\u001B[0m     \u001B[0mvalues\u001B[0m\u001B[0;34m,\u001B[0m \u001B[0m_\u001B[0m \u001B[0;34m=\u001B[0m \u001B[0mextract_pandas_array\u001B[0m\u001B[0;34m(\u001B[0m\u001B[0mvalues\u001B[0m\u001B[0;34m,\u001B[0m \u001B[0;32mNone\u001B[0m\u001B[0;34m,\u001B[0m \u001B[0mndim\u001B[0m\u001B[0;34m)\u001B[0m\u001B[0;34m\u001B[0m\u001B[0;34m\u001B[0m\u001B[0m\n\u001B[0;32m-> 1937\u001B[0;31m     \u001B[0mcheck_ndim\u001B[0m\u001B[0;34m(\u001B[0m\u001B[0mvalues\u001B[0m\u001B[0;34m,\u001B[0m \u001B[0mplacement\u001B[0m\u001B[0;34m,\u001B[0m \u001B[0mndim\u001B[0m\u001B[0;34m)\u001B[0m\u001B[0;34m\u001B[0m\u001B[0;34m\u001B[0m\u001B[0m\n\u001B[0m\u001B[1;32m   1938\u001B[0m \u001B[0;34m\u001B[0m\u001B[0m\n\u001B[1;32m   1939\u001B[0m     \u001B[0;32mif\u001B[0m \u001B[0mklass\u001B[0m \u001B[0;32mis\u001B[0m \u001B[0;32mNone\u001B[0m\u001B[0;34m:\u001B[0m\u001B[0;34m\u001B[0m\u001B[0;34m\u001B[0m\u001B[0m\n",
      "\u001B[0;32m~/miniconda3/envs/FedEWAS/lib/python3.7/site-packages/pandas/core/internals/blocks.py\u001B[0m in \u001B[0;36mcheck_ndim\u001B[0;34m(values, placement, ndim)\u001B[0m\n\u001B[1;32m   1978\u001B[0m         \u001B[0;32mif\u001B[0m \u001B[0mlen\u001B[0m\u001B[0;34m(\u001B[0m\u001B[0mplacement\u001B[0m\u001B[0;34m)\u001B[0m \u001B[0;34m!=\u001B[0m \u001B[0mlen\u001B[0m\u001B[0;34m(\u001B[0m\u001B[0mvalues\u001B[0m\u001B[0;34m)\u001B[0m\u001B[0;34m:\u001B[0m\u001B[0;34m\u001B[0m\u001B[0;34m\u001B[0m\u001B[0m\n\u001B[1;32m   1979\u001B[0m             raise ValueError(\n\u001B[0;32m-> 1980\u001B[0;31m                 \u001B[0;34mf\"Wrong number of items passed {len(values)}, \"\u001B[0m\u001B[0;34m\u001B[0m\u001B[0;34m\u001B[0m\u001B[0m\n\u001B[0m\u001B[1;32m   1981\u001B[0m                 \u001B[0;34mf\"placement implies {len(placement)}\"\u001B[0m\u001B[0;34m\u001B[0m\u001B[0;34m\u001B[0m\u001B[0m\n\u001B[1;32m   1982\u001B[0m             )\n",
      "\u001B[0;31mValueError\u001B[0m: Wrong number of items passed 0, placement implies 1"
     ]
    }
   ],
   "execution_count": 16
  },
  {
   "cell_type": "code",
   "metadata": {
    "ExecuteTime": {
     "end_time": "2025-03-27T14:31:34.799045Z",
     "start_time": "2025-03-27T14:31:32.852002Z"
    }
   },
   "source": "local_dasen_paramA = lab_a.local_normalisation_parameters()",
   "outputs": [],
   "execution_count": 17
  },
  {
   "metadata": {},
   "cell_type": "code",
   "outputs": [],
   "execution_count": 13,
   "source": [
    "local_dasen_paramB = lab_b.local_normalisation_parameters()\n",
    "local_dasen_paramC = lab_c.local_normalisation_parameters()"
   ]
  },
  {
   "cell_type": "markdown",
   "metadata": {},
   "source": [
    "Server side"
   ]
  },
  {
   "cell_type": "code",
   "execution_count": 14,
   "metadata": {},
   "outputs": [],
   "source": [
    "probe_type_means = serv.aggregate_QN_means(local_dasen_paramA, local_dasen_paramB, local_dasen_paramC)"
   ]
  },
  {
   "cell_type": "markdown",
   "metadata": {},
   "source": [
    "Client side"
   ]
  },
  {
   "cell_type": "code",
   "execution_count": 15,
   "metadata": {},
   "outputs": [
    {
     "data": {
      "text/html": [
       "<div>\n",
       "<style scoped>\n",
       "    .dataframe tbody tr th:only-of-type {\n",
       "        vertical-align: middle;\n",
       "    }\n",
       "\n",
       "    .dataframe tbody tr th {\n",
       "        vertical-align: top;\n",
       "    }\n",
       "\n",
       "    .dataframe thead th {\n",
       "        text-align: right;\n",
       "    }\n",
       "</style>\n",
       "<table border=\"1\" class=\"dataframe\">\n",
       "  <thead>\n",
       "    <tr style=\"text-align: right;\">\n",
       "      <th></th>\n",
       "      <th>GSM2808875_8918692108_R01C02</th>\n",
       "      <th>GSM2808876_8918692108_R01C01</th>\n",
       "      <th>GSM2808878_8918692108_R02C01</th>\n",
       "      <th>GSM2808879_8918692108_R03C02</th>\n",
       "      <th>GSM2808881_8918692108_R04C02</th>\n",
       "      <th>GSM2808883_8918692108_R05C02</th>\n",
       "      <th>GSM2808884_8918692108_R05C01</th>\n",
       "      <th>GSM2808887_8918692120_R04C02</th>\n",
       "      <th>GSM2808889_8918692120_R05C02</th>\n",
       "      <th>GSM2808890_8918692120_R05C01</th>\n",
       "      <th>...</th>\n",
       "      <th>GSM2809050_5854945005_R06C01</th>\n",
       "      <th>GSM2809051_5854945005_R03C02</th>\n",
       "      <th>GSM2809053_5854945005_R05C02</th>\n",
       "      <th>GSM2809056_5854945011_R02C01</th>\n",
       "      <th>GSM2809058_5854945011_R04C01</th>\n",
       "      <th>GSM2809059_5854945011_R05C01</th>\n",
       "      <th>GSM2809061_5854945011_R01C02</th>\n",
       "      <th>GSM2809062_5854945011_R03C02</th>\n",
       "      <th>GSM2809063_5854945011_R04C02</th>\n",
       "      <th>GSM2809064_5854945011_R05C02</th>\n",
       "    </tr>\n",
       "  </thead>\n",
       "  <tbody>\n",
       "    <tr>\n",
       "      <th>cg00000029</th>\n",
       "      <td>0.651772</td>\n",
       "      <td>0.612893</td>\n",
       "      <td>0.594738</td>\n",
       "      <td>0.676544</td>\n",
       "      <td>0.685034</td>\n",
       "      <td>0.599437</td>\n",
       "      <td>0.631644</td>\n",
       "      <td>0.675504</td>\n",
       "      <td>0.678419</td>\n",
       "      <td>0.602605</td>\n",
       "      <td>...</td>\n",
       "      <td>0.607883</td>\n",
       "      <td>0.552536</td>\n",
       "      <td>0.610707</td>\n",
       "      <td>0.653951</td>\n",
       "      <td>0.593586</td>\n",
       "      <td>0.544863</td>\n",
       "      <td>0.595921</td>\n",
       "      <td>0.627015</td>\n",
       "      <td>0.595071</td>\n",
       "      <td>0.604785</td>\n",
       "    </tr>\n",
       "    <tr>\n",
       "      <th>cg00000108</th>\n",
       "      <td>0.886961</td>\n",
       "      <td>0.894513</td>\n",
       "      <td>0.895567</td>\n",
       "      <td>0.895378</td>\n",
       "      <td>0.892796</td>\n",
       "      <td>0.910837</td>\n",
       "      <td>0.905866</td>\n",
       "      <td>0.899353</td>\n",
       "      <td>0.894724</td>\n",
       "      <td>0.903664</td>\n",
       "      <td>...</td>\n",
       "      <td>0.908866</td>\n",
       "      <td>0.872514</td>\n",
       "      <td>0.880245</td>\n",
       "      <td>0.864715</td>\n",
       "      <td>0.887306</td>\n",
       "      <td>0.890384</td>\n",
       "      <td>0.894619</td>\n",
       "      <td>0.885518</td>\n",
       "      <td>0.881948</td>\n",
       "      <td>0.873194</td>\n",
       "    </tr>\n",
       "    <tr>\n",
       "      <th>cg00000109</th>\n",
       "      <td>0.683035</td>\n",
       "      <td>0.765342</td>\n",
       "      <td>0.767077</td>\n",
       "      <td>0.662039</td>\n",
       "      <td>0.666553</td>\n",
       "      <td>0.701507</td>\n",
       "      <td>0.784446</td>\n",
       "      <td>0.652433</td>\n",
       "      <td>0.634554</td>\n",
       "      <td>0.754802</td>\n",
       "      <td>...</td>\n",
       "      <td>0.772755</td>\n",
       "      <td>0.735088</td>\n",
       "      <td>0.768949</td>\n",
       "      <td>0.801284</td>\n",
       "      <td>0.719772</td>\n",
       "      <td>0.756501</td>\n",
       "      <td>0.780224</td>\n",
       "      <td>0.785353</td>\n",
       "      <td>0.742880</td>\n",
       "      <td>0.749155</td>\n",
       "    </tr>\n",
       "    <tr>\n",
       "      <th>cg00000165</th>\n",
       "      <td>0.363254</td>\n",
       "      <td>0.305253</td>\n",
       "      <td>0.283040</td>\n",
       "      <td>0.368762</td>\n",
       "      <td>0.378875</td>\n",
       "      <td>0.388608</td>\n",
       "      <td>0.268668</td>\n",
       "      <td>0.333466</td>\n",
       "      <td>0.353539</td>\n",
       "      <td>0.332663</td>\n",
       "      <td>...</td>\n",
       "      <td>0.373131</td>\n",
       "      <td>0.351837</td>\n",
       "      <td>0.351976</td>\n",
       "      <td>0.330318</td>\n",
       "      <td>0.372187</td>\n",
       "      <td>0.346962</td>\n",
       "      <td>0.325860</td>\n",
       "      <td>0.323726</td>\n",
       "      <td>0.348148</td>\n",
       "      <td>0.304639</td>\n",
       "    </tr>\n",
       "    <tr>\n",
       "      <th>cg00000236</th>\n",
       "      <td>0.838525</td>\n",
       "      <td>0.789144</td>\n",
       "      <td>0.788310</td>\n",
       "      <td>0.818738</td>\n",
       "      <td>0.815253</td>\n",
       "      <td>0.837046</td>\n",
       "      <td>0.822737</td>\n",
       "      <td>0.812829</td>\n",
       "      <td>0.788290</td>\n",
       "      <td>0.772109</td>\n",
       "      <td>...</td>\n",
       "      <td>0.812166</td>\n",
       "      <td>0.797961</td>\n",
       "      <td>0.820847</td>\n",
       "      <td>0.823407</td>\n",
       "      <td>0.819893</td>\n",
       "      <td>0.803959</td>\n",
       "      <td>0.823150</td>\n",
       "      <td>0.791650</td>\n",
       "      <td>0.806551</td>\n",
       "      <td>0.794142</td>\n",
       "    </tr>\n",
       "    <tr>\n",
       "      <th>...</th>\n",
       "      <td>...</td>\n",
       "      <td>...</td>\n",
       "      <td>...</td>\n",
       "      <td>...</td>\n",
       "      <td>...</td>\n",
       "      <td>...</td>\n",
       "      <td>...</td>\n",
       "      <td>...</td>\n",
       "      <td>...</td>\n",
       "      <td>...</td>\n",
       "      <td>...</td>\n",
       "      <td>...</td>\n",
       "      <td>...</td>\n",
       "      <td>...</td>\n",
       "      <td>...</td>\n",
       "      <td>...</td>\n",
       "      <td>...</td>\n",
       "      <td>...</td>\n",
       "      <td>...</td>\n",
       "      <td>...</td>\n",
       "      <td>...</td>\n",
       "    </tr>\n",
       "    <tr>\n",
       "      <th>ch.X.97129969R</th>\n",
       "      <td>0.226861</td>\n",
       "      <td>0.332673</td>\n",
       "      <td>0.450387</td>\n",
       "      <td>0.216691</td>\n",
       "      <td>0.283016</td>\n",
       "      <td>0.230539</td>\n",
       "      <td>0.399877</td>\n",
       "      <td>0.210922</td>\n",
       "      <td>0.257442</td>\n",
       "      <td>0.364019</td>\n",
       "      <td>...</td>\n",
       "      <td>0.293111</td>\n",
       "      <td>0.351466</td>\n",
       "      <td>0.291119</td>\n",
       "      <td>0.338459</td>\n",
       "      <td>0.336106</td>\n",
       "      <td>0.347352</td>\n",
       "      <td>0.387089</td>\n",
       "      <td>0.237799</td>\n",
       "      <td>0.302188</td>\n",
       "      <td>0.286885</td>\n",
       "    </tr>\n",
       "    <tr>\n",
       "      <th>ch.X.97133160R</th>\n",
       "      <td>0.322142</td>\n",
       "      <td>0.597740</td>\n",
       "      <td>0.696986</td>\n",
       "      <td>0.350835</td>\n",
       "      <td>0.399061</td>\n",
       "      <td>0.401637</td>\n",
       "      <td>0.725559</td>\n",
       "      <td>0.370861</td>\n",
       "      <td>0.391686</td>\n",
       "      <td>0.591472</td>\n",
       "      <td>...</td>\n",
       "      <td>0.309546</td>\n",
       "      <td>0.556734</td>\n",
       "      <td>0.330280</td>\n",
       "      <td>0.527641</td>\n",
       "      <td>0.361825</td>\n",
       "      <td>0.565140</td>\n",
       "      <td>0.494044</td>\n",
       "      <td>0.334567</td>\n",
       "      <td>0.395927</td>\n",
       "      <td>0.370618</td>\n",
       "    </tr>\n",
       "    <tr>\n",
       "      <th>ch.X.97651759F</th>\n",
       "      <td>0.226885</td>\n",
       "      <td>0.582474</td>\n",
       "      <td>0.755088</td>\n",
       "      <td>0.224582</td>\n",
       "      <td>0.366986</td>\n",
       "      <td>0.283942</td>\n",
       "      <td>0.783406</td>\n",
       "      <td>0.223443</td>\n",
       "      <td>0.268584</td>\n",
       "      <td>0.605756</td>\n",
       "      <td>...</td>\n",
       "      <td>0.266676</td>\n",
       "      <td>0.526765</td>\n",
       "      <td>0.280557</td>\n",
       "      <td>0.346343</td>\n",
       "      <td>0.343252</td>\n",
       "      <td>0.495237</td>\n",
       "      <td>0.393035</td>\n",
       "      <td>0.281672</td>\n",
       "      <td>0.370430</td>\n",
       "      <td>0.320815</td>\n",
       "    </tr>\n",
       "    <tr>\n",
       "      <th>ch.X.97737721F</th>\n",
       "      <td>0.236354</td>\n",
       "      <td>0.410953</td>\n",
       "      <td>0.423455</td>\n",
       "      <td>0.232693</td>\n",
       "      <td>0.299413</td>\n",
       "      <td>0.195063</td>\n",
       "      <td>0.422111</td>\n",
       "      <td>0.223105</td>\n",
       "      <td>0.276326</td>\n",
       "      <td>0.437649</td>\n",
       "      <td>...</td>\n",
       "      <td>0.263860</td>\n",
       "      <td>0.315495</td>\n",
       "      <td>0.284369</td>\n",
       "      <td>0.295588</td>\n",
       "      <td>0.290463</td>\n",
       "      <td>0.335341</td>\n",
       "      <td>0.305950</td>\n",
       "      <td>0.279807</td>\n",
       "      <td>0.326334</td>\n",
       "      <td>0.275812</td>\n",
       "    </tr>\n",
       "    <tr>\n",
       "      <th>ch.X.98007042R</th>\n",
       "      <td>0.275359</td>\n",
       "      <td>0.509479</td>\n",
       "      <td>0.570141</td>\n",
       "      <td>0.266136</td>\n",
       "      <td>0.369605</td>\n",
       "      <td>0.289256</td>\n",
       "      <td>0.551894</td>\n",
       "      <td>0.266945</td>\n",
       "      <td>0.333878</td>\n",
       "      <td>0.529803</td>\n",
       "      <td>...</td>\n",
       "      <td>0.349626</td>\n",
       "      <td>0.497017</td>\n",
       "      <td>0.338154</td>\n",
       "      <td>0.383645</td>\n",
       "      <td>0.345973</td>\n",
       "      <td>0.481281</td>\n",
       "      <td>0.412744</td>\n",
       "      <td>0.313209</td>\n",
       "      <td>0.384635</td>\n",
       "      <td>0.341861</td>\n",
       "    </tr>\n",
       "  </tbody>\n",
       "</table>\n",
       "<p>450837 rows × 96 columns</p>\n",
       "</div>"
      ],
      "text/plain": [
       "                GSM2808875_8918692108_R01C02  GSM2808876_8918692108_R01C01  \\\n",
       "cg00000029                          0.651772                      0.612893   \n",
       "cg00000108                          0.886961                      0.894513   \n",
       "cg00000109                          0.683035                      0.765342   \n",
       "cg00000165                          0.363254                      0.305253   \n",
       "cg00000236                          0.838525                      0.789144   \n",
       "...                                      ...                           ...   \n",
       "ch.X.97129969R                      0.226861                      0.332673   \n",
       "ch.X.97133160R                      0.322142                      0.597740   \n",
       "ch.X.97651759F                      0.226885                      0.582474   \n",
       "ch.X.97737721F                      0.236354                      0.410953   \n",
       "ch.X.98007042R                      0.275359                      0.509479   \n",
       "\n",
       "                GSM2808878_8918692108_R02C01  GSM2808879_8918692108_R03C02  \\\n",
       "cg00000029                          0.594738                      0.676544   \n",
       "cg00000108                          0.895567                      0.895378   \n",
       "cg00000109                          0.767077                      0.662039   \n",
       "cg00000165                          0.283040                      0.368762   \n",
       "cg00000236                          0.788310                      0.818738   \n",
       "...                                      ...                           ...   \n",
       "ch.X.97129969R                      0.450387                      0.216691   \n",
       "ch.X.97133160R                      0.696986                      0.350835   \n",
       "ch.X.97651759F                      0.755088                      0.224582   \n",
       "ch.X.97737721F                      0.423455                      0.232693   \n",
       "ch.X.98007042R                      0.570141                      0.266136   \n",
       "\n",
       "                GSM2808881_8918692108_R04C02  GSM2808883_8918692108_R05C02  \\\n",
       "cg00000029                          0.685034                      0.599437   \n",
       "cg00000108                          0.892796                      0.910837   \n",
       "cg00000109                          0.666553                      0.701507   \n",
       "cg00000165                          0.378875                      0.388608   \n",
       "cg00000236                          0.815253                      0.837046   \n",
       "...                                      ...                           ...   \n",
       "ch.X.97129969R                      0.283016                      0.230539   \n",
       "ch.X.97133160R                      0.399061                      0.401637   \n",
       "ch.X.97651759F                      0.366986                      0.283942   \n",
       "ch.X.97737721F                      0.299413                      0.195063   \n",
       "ch.X.98007042R                      0.369605                      0.289256   \n",
       "\n",
       "                GSM2808884_8918692108_R05C01  GSM2808887_8918692120_R04C02  \\\n",
       "cg00000029                          0.631644                      0.675504   \n",
       "cg00000108                          0.905866                      0.899353   \n",
       "cg00000109                          0.784446                      0.652433   \n",
       "cg00000165                          0.268668                      0.333466   \n",
       "cg00000236                          0.822737                      0.812829   \n",
       "...                                      ...                           ...   \n",
       "ch.X.97129969R                      0.399877                      0.210922   \n",
       "ch.X.97133160R                      0.725559                      0.370861   \n",
       "ch.X.97651759F                      0.783406                      0.223443   \n",
       "ch.X.97737721F                      0.422111                      0.223105   \n",
       "ch.X.98007042R                      0.551894                      0.266945   \n",
       "\n",
       "                GSM2808889_8918692120_R05C02  GSM2808890_8918692120_R05C01  \\\n",
       "cg00000029                          0.678419                      0.602605   \n",
       "cg00000108                          0.894724                      0.903664   \n",
       "cg00000109                          0.634554                      0.754802   \n",
       "cg00000165                          0.353539                      0.332663   \n",
       "cg00000236                          0.788290                      0.772109   \n",
       "...                                      ...                           ...   \n",
       "ch.X.97129969R                      0.257442                      0.364019   \n",
       "ch.X.97133160R                      0.391686                      0.591472   \n",
       "ch.X.97651759F                      0.268584                      0.605756   \n",
       "ch.X.97737721F                      0.276326                      0.437649   \n",
       "ch.X.98007042R                      0.333878                      0.529803   \n",
       "\n",
       "                ...  GSM2809050_5854945005_R06C01  \\\n",
       "cg00000029      ...                      0.607883   \n",
       "cg00000108      ...                      0.908866   \n",
       "cg00000109      ...                      0.772755   \n",
       "cg00000165      ...                      0.373131   \n",
       "cg00000236      ...                      0.812166   \n",
       "...             ...                           ...   \n",
       "ch.X.97129969R  ...                      0.293111   \n",
       "ch.X.97133160R  ...                      0.309546   \n",
       "ch.X.97651759F  ...                      0.266676   \n",
       "ch.X.97737721F  ...                      0.263860   \n",
       "ch.X.98007042R  ...                      0.349626   \n",
       "\n",
       "                GSM2809051_5854945005_R03C02  GSM2809053_5854945005_R05C02  \\\n",
       "cg00000029                          0.552536                      0.610707   \n",
       "cg00000108                          0.872514                      0.880245   \n",
       "cg00000109                          0.735088                      0.768949   \n",
       "cg00000165                          0.351837                      0.351976   \n",
       "cg00000236                          0.797961                      0.820847   \n",
       "...                                      ...                           ...   \n",
       "ch.X.97129969R                      0.351466                      0.291119   \n",
       "ch.X.97133160R                      0.556734                      0.330280   \n",
       "ch.X.97651759F                      0.526765                      0.280557   \n",
       "ch.X.97737721F                      0.315495                      0.284369   \n",
       "ch.X.98007042R                      0.497017                      0.338154   \n",
       "\n",
       "                GSM2809056_5854945011_R02C01  GSM2809058_5854945011_R04C01  \\\n",
       "cg00000029                          0.653951                      0.593586   \n",
       "cg00000108                          0.864715                      0.887306   \n",
       "cg00000109                          0.801284                      0.719772   \n",
       "cg00000165                          0.330318                      0.372187   \n",
       "cg00000236                          0.823407                      0.819893   \n",
       "...                                      ...                           ...   \n",
       "ch.X.97129969R                      0.338459                      0.336106   \n",
       "ch.X.97133160R                      0.527641                      0.361825   \n",
       "ch.X.97651759F                      0.346343                      0.343252   \n",
       "ch.X.97737721F                      0.295588                      0.290463   \n",
       "ch.X.98007042R                      0.383645                      0.345973   \n",
       "\n",
       "                GSM2809059_5854945011_R05C01  GSM2809061_5854945011_R01C02  \\\n",
       "cg00000029                          0.544863                      0.595921   \n",
       "cg00000108                          0.890384                      0.894619   \n",
       "cg00000109                          0.756501                      0.780224   \n",
       "cg00000165                          0.346962                      0.325860   \n",
       "cg00000236                          0.803959                      0.823150   \n",
       "...                                      ...                           ...   \n",
       "ch.X.97129969R                      0.347352                      0.387089   \n",
       "ch.X.97133160R                      0.565140                      0.494044   \n",
       "ch.X.97651759F                      0.495237                      0.393035   \n",
       "ch.X.97737721F                      0.335341                      0.305950   \n",
       "ch.X.98007042R                      0.481281                      0.412744   \n",
       "\n",
       "                GSM2809062_5854945011_R03C02  GSM2809063_5854945011_R04C02  \\\n",
       "cg00000029                          0.627015                      0.595071   \n",
       "cg00000108                          0.885518                      0.881948   \n",
       "cg00000109                          0.785353                      0.742880   \n",
       "cg00000165                          0.323726                      0.348148   \n",
       "cg00000236                          0.791650                      0.806551   \n",
       "...                                      ...                           ...   \n",
       "ch.X.97129969R                      0.237799                      0.302188   \n",
       "ch.X.97133160R                      0.334567                      0.395927   \n",
       "ch.X.97651759F                      0.281672                      0.370430   \n",
       "ch.X.97737721F                      0.279807                      0.326334   \n",
       "ch.X.98007042R                      0.313209                      0.384635   \n",
       "\n",
       "                GSM2809064_5854945011_R05C02  \n",
       "cg00000029                          0.604785  \n",
       "cg00000108                          0.873194  \n",
       "cg00000109                          0.749155  \n",
       "cg00000165                          0.304639  \n",
       "cg00000236                          0.794142  \n",
       "...                                      ...  \n",
       "ch.X.97129969R                      0.286885  \n",
       "ch.X.97133160R                      0.370618  \n",
       "ch.X.97651759F                      0.320815  \n",
       "ch.X.97737721F                      0.275812  \n",
       "ch.X.98007042R                      0.341861  \n",
       "\n",
       "[450837 rows x 96 columns]"
      ]
     },
     "execution_count": 15,
     "metadata": {},
     "output_type": "execute_result"
    }
   ],
   "source": [
    "lab_a.final_normalisation(probe_type_means)\n",
    "lab_b.final_normalisation(probe_type_means)\n",
    "lab_c.final_normalisation(probe_type_means)"
   ]
  },
  {
   "cell_type": "code",
   "execution_count": 16,
   "metadata": {},
   "outputs": [],
   "source": [
    "# save the betas for testing\n",
    "lab_a.betas.to_csv(os.path.join(output, \"strong_split1_betas.csv\"))\n",
    "lab_b.betas.to_csv(os.path.join(output, \"strong_split2_betas.csv\"))\n",
    "lab_c.betas.to_csv(os.path.join(output, \"strong_split3_betas.csv\"))"
   ]
  },
  {
   "cell_type": "markdown",
   "metadata": {},
   "source": [
    "## EWAS - Linear regression model"
   ]
  },
  {
   "cell_type": "markdown",
   "metadata": {},
   "source": [
    "Client side"
   ]
  },
  {
   "cell_type": "code",
   "execution_count": 17,
   "metadata": {},
   "outputs": [],
   "source": [
    "local_rega = lab_a.local_xtx_xty()\n",
    "local_regb = lab_b.local_xtx_xty()\n",
    "local_regc = lab_c.local_xtx_xty()"
   ]
  },
  {
   "cell_type": "markdown",
   "metadata": {},
   "source": [
    "Server side"
   ]
  },
  {
   "cell_type": "code",
   "execution_count": 18,
   "metadata": {},
   "outputs": [],
   "source": [
    "serv.global_regression_parameter(local_rega, local_regb, local_regc)"
   ]
  },
  {
   "cell_type": "markdown",
   "metadata": {},
   "source": [
    "#### Client side"
   ]
  },
  {
   "cell_type": "markdown",
   "metadata": {},
   "source": [
    "calculate the local sse and covariance of the regression coefficients"
   ]
  },
  {
   "cell_type": "code",
   "execution_count": 19,
   "metadata": {},
   "outputs": [],
   "source": [
    "SSE_a,cov_coef_a = lab_a.compute_SSE_and_cov_coef(serv.beta)\n",
    "SSE_b,cov_coef_b = lab_b.compute_SSE_and_cov_coef(serv.beta)\n",
    "SSE_c,cov_coef_c = lab_c.compute_SSE_and_cov_coef(serv.beta)\n",
    "SSE_list = [SSE_a, SSE_b, SSE_c]\n",
    "cov_coef_list = [cov_coef_a, cov_coef_b, cov_coef_c]"
   ]
  },
  {
   "cell_type": "markdown",
   "metadata": {},
   "source": [
    "#### Server side"
   ]
  },
  {
   "cell_type": "markdown",
   "metadata": {},
   "source": [
    "calculate the global SSE and covariance of the regression coefficients"
   ]
  },
  {
   "cell_type": "code",
   "execution_count": 20,
   "metadata": {},
   "outputs": [],
   "source": [
    "serv.aggregate_SSE_and_cov_coef(SSE_list,cov_coef_list)"
   ]
  },
  {
   "cell_type": "code",
   "execution_count": 21,
   "metadata": {},
   "outputs": [],
   "source": [
    "np.savetxt(os.path.join(output, \"strong_splits_model_matrix.csv\"), serv.beta, delimiter=\",\") \n",
    "np.savetxt(os.path.join(output, \"strong_splits_model_matrix_xty.csv\"), serv.global_xty, delimiter=\",\") "
   ]
  },
  {
   "cell_type": "markdown",
   "metadata": {},
   "source": [
    "Make and fit the contrasts to the linear model"
   ]
  },
  {
   "cell_type": "code",
   "execution_count": 22,
   "metadata": {},
   "outputs": [],
   "source": [
    "contrasts_mat = serv.make_contrasts(contrasts=[([\"AD\"],[\"CTRL\"])])\n",
    "serv.fit_contasts(contrasts_mat.values)"
   ]
  },
  {
   "cell_type": "code",
   "execution_count": 23,
   "metadata": {},
   "outputs": [],
   "source": [
    "contrasts_mat.to_csv(os.path.join(output, \"strong_splits_contrastmat.csv\"))\n",
    "np.savetxt(os.path.join(output, \"strong_splits_model_matrix_contractfit.csv\"), serv.beta, delimiter=\",\") \n",
    "np.savetxt(os.path.join(output, \"strong_splits_model_matrix_xty_contractfit.csv\"), serv.global_xty, delimiter=\",\") "
   ]
  },
  {
   "cell_type": "markdown",
   "metadata": {},
   "source": [
    "Calculate the P-values"
   ]
  },
  {
   "cell_type": "code",
   "execution_count": 24,
   "metadata": {},
   "outputs": [],
   "source": [
    "serv.eBayes()"
   ]
  },
  {
   "cell_type": "markdown",
   "metadata": {},
   "source": [
    "Get the results table"
   ]
  },
  {
   "cell_type": "code",
   "execution_count": 25,
   "metadata": {},
   "outputs": [
    {
     "data": {
      "text/html": [
       "<div>\n",
       "<style scoped>\n",
       "    .dataframe tbody tr th:only-of-type {\n",
       "        vertical-align: middle;\n",
       "    }\n",
       "\n",
       "    .dataframe tbody tr th {\n",
       "        vertical-align: top;\n",
       "    }\n",
       "\n",
       "    .dataframe thead th {\n",
       "        text-align: right;\n",
       "    }\n",
       "</style>\n",
       "<table border=\"1\" class=\"dataframe\">\n",
       "  <thead>\n",
       "    <tr style=\"text-align: right;\">\n",
       "      <th></th>\n",
       "      <th>t</th>\n",
       "      <th>lods</th>\n",
       "      <th>logFC</th>\n",
       "      <th>CI.L</th>\n",
       "      <th>CI.R</th>\n",
       "      <th>adj.P.Val</th>\n",
       "      <th>P.Value</th>\n",
       "    </tr>\n",
       "  </thead>\n",
       "  <tbody>\n",
       "    <tr>\n",
       "      <th>cg11758688</th>\n",
       "      <td>-6.176943</td>\n",
       "      <td>9.331129</td>\n",
       "      <td>-2.664268e-01</td>\n",
       "      <td>-0.351587</td>\n",
       "      <td>-0.181266</td>\n",
       "      <td>0.002203</td>\n",
       "      <td>4.887204e-09</td>\n",
       "    </tr>\n",
       "    <tr>\n",
       "      <th>cg26516741</th>\n",
       "      <td>5.730027</td>\n",
       "      <td>7.130199</td>\n",
       "      <td>1.355506e-02</td>\n",
       "      <td>0.008884</td>\n",
       "      <td>0.018226</td>\n",
       "      <td>0.010446</td>\n",
       "      <td>4.633855e-08</td>\n",
       "    </tr>\n",
       "    <tr>\n",
       "      <th>cg27353962</th>\n",
       "      <td>5.595971</td>\n",
       "      <td>6.491377</td>\n",
       "      <td>3.453242e-02</td>\n",
       "      <td>0.022349</td>\n",
       "      <td>0.046716</td>\n",
       "      <td>0.013400</td>\n",
       "      <td>8.916686e-08</td>\n",
       "    </tr>\n",
       "    <tr>\n",
       "      <th>cg23289794</th>\n",
       "      <td>-5.469382</td>\n",
       "      <td>5.897633</td>\n",
       "      <td>-2.185569e-02</td>\n",
       "      <td>-0.029745</td>\n",
       "      <td>-0.013966</td>\n",
       "      <td>0.018480</td>\n",
       "      <td>1.639614e-07</td>\n",
       "    </tr>\n",
       "    <tr>\n",
       "      <th>cg09324326</th>\n",
       "      <td>5.412534</td>\n",
       "      <td>5.634057</td>\n",
       "      <td>7.487043e-02</td>\n",
       "      <td>0.047559</td>\n",
       "      <td>0.102182</td>\n",
       "      <td>0.019379</td>\n",
       "      <td>2.149250e-07</td>\n",
       "    </tr>\n",
       "    <tr>\n",
       "      <th>...</th>\n",
       "      <td>...</td>\n",
       "      <td>...</td>\n",
       "      <td>...</td>\n",
       "      <td>...</td>\n",
       "      <td>...</td>\n",
       "      <td>...</td>\n",
       "      <td>...</td>\n",
       "    </tr>\n",
       "    <tr>\n",
       "      <th>cg17413194</th>\n",
       "      <td>-0.000012</td>\n",
       "      <td>-7.915247</td>\n",
       "      <td>-9.141305e-08</td>\n",
       "      <td>-0.015253</td>\n",
       "      <td>0.015253</td>\n",
       "      <td>0.999998</td>\n",
       "      <td>9.999906e-01</td>\n",
       "    </tr>\n",
       "    <tr>\n",
       "      <th>cg22231902</th>\n",
       "      <td>0.000010</td>\n",
       "      <td>-7.915247</td>\n",
       "      <td>4.816494e-08</td>\n",
       "      <td>-0.009228</td>\n",
       "      <td>0.009228</td>\n",
       "      <td>0.999998</td>\n",
       "      <td>9.999918e-01</td>\n",
       "    </tr>\n",
       "    <tr>\n",
       "      <th>cg14481208</th>\n",
       "      <td>-0.000008</td>\n",
       "      <td>-7.915247</td>\n",
       "      <td>-9.116552e-08</td>\n",
       "      <td>-0.022621</td>\n",
       "      <td>0.022621</td>\n",
       "      <td>0.999998</td>\n",
       "      <td>9.999937e-01</td>\n",
       "    </tr>\n",
       "    <tr>\n",
       "      <th>cg03428314</th>\n",
       "      <td>0.000003</td>\n",
       "      <td>-7.915247</td>\n",
       "      <td>3.854627e-08</td>\n",
       "      <td>-0.024498</td>\n",
       "      <td>0.024498</td>\n",
       "      <td>0.999999</td>\n",
       "      <td>9.999975e-01</td>\n",
       "    </tr>\n",
       "    <tr>\n",
       "      <th>cg24547948</th>\n",
       "      <td>0.000001</td>\n",
       "      <td>-7.915247</td>\n",
       "      <td>2.086492e-09</td>\n",
       "      <td>-0.003970</td>\n",
       "      <td>0.003970</td>\n",
       "      <td>0.999999</td>\n",
       "      <td>9.999992e-01</td>\n",
       "    </tr>\n",
       "  </tbody>\n",
       "</table>\n",
       "<p>450837 rows × 7 columns</p>\n",
       "</div>"
      ],
      "text/plain": [
       "                   t      lods         logFC      CI.L      CI.R  adj.P.Val  \\\n",
       "cg11758688 -6.176943  9.331129 -2.664268e-01 -0.351587 -0.181266   0.002203   \n",
       "cg26516741  5.730027  7.130199  1.355506e-02  0.008884  0.018226   0.010446   \n",
       "cg27353962  5.595971  6.491377  3.453242e-02  0.022349  0.046716   0.013400   \n",
       "cg23289794 -5.469382  5.897633 -2.185569e-02 -0.029745 -0.013966   0.018480   \n",
       "cg09324326  5.412534  5.634057  7.487043e-02  0.047559  0.102182   0.019379   \n",
       "...              ...       ...           ...       ...       ...        ...   \n",
       "cg17413194 -0.000012 -7.915247 -9.141305e-08 -0.015253  0.015253   0.999998   \n",
       "cg22231902  0.000010 -7.915247  4.816494e-08 -0.009228  0.009228   0.999998   \n",
       "cg14481208 -0.000008 -7.915247 -9.116552e-08 -0.022621  0.022621   0.999998   \n",
       "cg03428314  0.000003 -7.915247  3.854627e-08 -0.024498  0.024498   0.999999   \n",
       "cg24547948  0.000001 -7.915247  2.086492e-09 -0.003970  0.003970   0.999999   \n",
       "\n",
       "                 P.Value  \n",
       "cg11758688  4.887204e-09  \n",
       "cg26516741  4.633855e-08  \n",
       "cg27353962  8.916686e-08  \n",
       "cg23289794  1.639614e-07  \n",
       "cg09324326  2.149250e-07  \n",
       "...                  ...  \n",
       "cg17413194  9.999906e-01  \n",
       "cg22231902  9.999918e-01  \n",
       "cg14481208  9.999937e-01  \n",
       "cg03428314  9.999975e-01  \n",
       "cg24547948  9.999992e-01  \n",
       "\n",
       "[450837 rows x 7 columns]"
      ]
     },
     "execution_count": 25,
     "metadata": {},
     "output_type": "execute_result"
    }
   ],
   "source": [
    "serv.table "
   ]
  },
  {
   "cell_type": "code",
   "execution_count": 26,
   "metadata": {},
   "outputs": [],
   "source": [
    "serv.table.to_csv(os.path.join(output, \"strong_splits_EWAS_results.csv\"))"
   ]
  }
 ],
 "metadata": {
  "interpreter": {
   "hash": "0a54084e6b208ee8d1ce3989ffc20924477a5f55f5a43e22e699a6741623861e"
  },
  "kernelspec": {
   "display_name": "Python 3.7.8 64-bit",
   "language": "python",
   "name": "python3"
  },
  "language_info": {
   "codemirror_mode": {
    "name": "ipython",
    "version": 3
   },
   "file_extension": ".py",
   "mimetype": "text/x-python",
   "name": "python",
   "nbconvert_exporter": "python",
   "pygments_lexer": "ipython3",
   "version": "3.7.8"
  },
  "orig_nbformat": 4
 },
 "nbformat": 4,
 "nbformat_minor": 2
}

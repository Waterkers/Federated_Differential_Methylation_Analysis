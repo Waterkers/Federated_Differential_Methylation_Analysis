{
 "cells": [
  {
   "cell_type": "code",
   "metadata": {
    "ExecuteTime": {
     "end_time": "2025-05-06T11:09:49.792085Z",
     "start_time": "2025-05-06T11:09:49.244803Z"
    }
   },
   "source": [
    "import numpy as np\n",
    "import os\n",
    "import pandas as pd\n",
    "from server import Server \n",
    "\n",
    "from client import Client"
   ],
   "outputs": [],
   "execution_count": 1
  },
  {
   "cell_type": "code",
   "metadata": {
    "ExecuteTime": {
     "end_time": "2025-05-06T11:09:49.806855Z",
     "start_time": "2025-05-06T11:09:49.804907Z"
    }
   },
   "source": [
    "#import pyximport\n",
    "#pyximport.install(setup_args={\"script_args\" : [\"--verbose\"]})\n",
    "#from linbinR import fast_linbin"
   ],
   "outputs": [],
   "execution_count": 2
  },
  {
   "cell_type": "code",
   "metadata": {
    "ExecuteTime": {
     "end_time": "2025-05-06T11:09:49.876499Z",
     "start_time": "2025-05-06T11:09:49.874149Z"
    }
   },
   "source": [
    "split_dir = \"/home/silke/Documents/Fed_EWAS/Data/QC_GSE134379_half/GSE134379_splits\"\n",
    "output = \"/home/silke/Documents/Fed_EWAS/Data/QC_GSE134379_half/GSE134379_Fed\"\n",
    "probeAnnotationPath = \"/home/silke/Documents/Fed_EWAS/Data/GSE134379_RAW/GPL13534_HumanMethylation450_15017482_v.1.1.csv\""
   ],
   "outputs": [],
   "execution_count": 3
  },
  {
   "metadata": {},
   "cell_type": "markdown",
   "source": "## Initialising the clients"
  },
  {
   "cell_type": "code",
   "metadata": {
    "ExecuteTime": {
     "end_time": "2025-05-06T11:09:59.218093Z",
     "start_time": "2025-05-06T11:09:49.923868Z"
    }
   },
   "source": [
    "# create client\n",
    "lab_a = Client(\"Lab_A\", os.path.join(split_dir, \"Split_1_design.csv\"), os.path.join(split_dir, \"Split_1_methylated.csv\"), os.path.join(split_dir, \"Split_1_unmethylated.csv\"), probeAnnotationPath)\n",
    "lab_b = Client(\"Lab_B\", os.path.join(split_dir, \"Split_2_design.csv\"), os.path.join(split_dir, \"Split_2_methylated.csv\"), os.path.join(split_dir, \"Split_2_unmethylated.csv\"), probeAnnotationPath)\n",
    "lab_c = Client(\"Lab_C\", os.path.join(split_dir, \"Split_3_design.csv\"), os.path.join(split_dir, \"Split_3_methylated.csv\"), os.path.join(split_dir, \"Split_3_unmethylated.csv\"), probeAnnotationPath)"
   ],
   "outputs": [
    {
     "name": "stderr",
     "output_type": "stream",
     "text": [
      "/home/silke/Documents/Fed_EWAS/Federated_Differential_Methylation_Analysis/Federated_Implementation/client.py:81: DtypeWarning: Columns (2,4,11,14,15) have mixed types.Specify dtype option on import or set low_memory=False.\n",
      "  self.read_data(design_matrix_filepath, methylated_filepath, unmethylated_filepath, probe_annotation_path)\n"
     ]
    }
   ],
   "execution_count": 4
  },
  {
   "cell_type": "markdown",
   "metadata": {},
   "source": [
    "## Initialising the server"
   ]
  },
  {
   "cell_type": "code",
   "metadata": {
    "ExecuteTime": {
     "end_time": "2025-05-06T11:09:59.226429Z",
     "start_time": "2025-05-06T11:09:59.224257Z"
    }
   },
   "source": [
    "serv = Server([\"AD\", \"CTRL\"], [\"Age\", \"Sex\", \"Sentrix_ID\"])\n",
    "global_conditions = serv.return_global_conditions()"
   ],
   "outputs": [],
   "execution_count": 5
  },
  {
   "cell_type": "markdown",
   "metadata": {},
   "source": [
    "## Joining clients to the server"
   ]
  },
  {
   "cell_type": "code",
   "metadata": {
    "ExecuteTime": {
     "end_time": "2025-05-06T11:09:59.283848Z",
     "start_time": "2025-05-06T11:09:59.279178Z"
    }
   },
   "source": [
    "# join the clients\n",
    "serv.get_clients(lab_a.cohort_name, lab_a.probes, lab_a.designmatrix.index)\n",
    "serv.get_clients(lab_b.cohort_name, lab_b.probes, lab_b.designmatrix.index)\n",
    "serv.get_clients(lab_c.cohort_name, lab_c.probes, lab_c.designmatrix.index)"
   ],
   "outputs": [],
   "execution_count": 6
  },
  {
   "cell_type": "code",
   "metadata": {
    "ExecuteTime": {
     "end_time": "2025-05-06T11:09:59.654782Z",
     "start_time": "2025-05-06T11:09:59.321943Z"
    }
   },
   "source": [
    "global_probes = serv.find_global_probes()\n",
    "cohort_effect = serv.find_cohort_effects()"
   ],
   "outputs": [],
   "execution_count": 7
  },
  {
   "cell_type": "code",
   "metadata": {
    "ExecuteTime": {
     "end_time": "2025-05-06T11:10:02.682197Z",
     "start_time": "2025-05-06T11:09:59.666971Z"
    }
   },
   "source": [
    "#check client input\n",
    "lab_a.input_validation(global_conditions, global_probes)\n",
    "lab_b.input_validation(global_conditions, global_probes)\n",
    "lab_c.input_validation(global_conditions, global_probes)"
   ],
   "outputs": [],
   "execution_count": 8
  },
  {
   "cell_type": "code",
   "metadata": {
    "ExecuteTime": {
     "end_time": "2025-05-06T11:10:02.713720Z",
     "start_time": "2025-05-06T11:10:02.710053Z"
    }
   },
   "source": [
    "lab_a.cohort_effects(serv.cohort_effects)\n",
    "lab_b.cohort_effects(serv.cohort_effects)\n",
    "lab_c.cohort_effects(serv.cohort_effects)"
   ],
   "outputs": [],
   "execution_count": 9
  },
  {
   "cell_type": "code",
   "metadata": {
    "ExecuteTime": {
     "end_time": "2025-05-06T11:10:02.824077Z",
     "start_time": "2025-05-06T11:10:02.755753Z"
    }
   },
   "source": [
    "if \"Sentrix_ID\" in global_conditions:\n",
    "    lab_a.find_unique_SentrixIDS()\n",
    "    lab_b.find_unique_SentrixIDS()\n",
    "    lab_c.find_unique_SentrixIDS()\n",
    "    global_sentrix = serv.return_global_SentrixID(lab_a.unique_SentrixIDS,\n",
    "                                lab_b.unique_SentrixIDS,\n",
    "                                lab_c.unique_SentrixIDS)\n",
    "    lab_a.SentrixID_effects(global_sentrix)\n",
    "    lab_b.SentrixID_effects(global_sentrix)\n",
    "    lab_c.SentrixID_effects(global_sentrix)\n",
    "    \n",
    "\n"
   ],
   "outputs": [],
   "execution_count": 10
  },
  {
   "cell_type": "markdown",
   "metadata": {},
   "source": [
    "## Dasen normalisation"
   ]
  },
  {
   "cell_type": "markdown",
   "metadata": {},
   "source": [
    "Client side"
   ]
  },
  {
   "metadata": {
    "ExecuteTime": {
     "end_time": "2025-05-06T11:10:25.771591Z",
     "start_time": "2025-05-06T11:10:02.840877Z"
    }
   },
   "cell_type": "code",
   "source": [
    "lab_a.intensity_distributions()\n",
    "lab_b.intensity_distributions()\n",
    "lab_c.intensity_distributions()"
   ],
   "outputs": [
    {
     "name": "stdout",
     "output_type": "stream",
     "text": [
      "GSM3944749_6057833029_R04C02   -285.653249\n",
      "GSM3944770_6057833029_R03C01   -319.071017\n",
      "GSM3944795_6042324136_R01C01   -149.998474\n",
      "GSM3944904_6055432167_R04C01   -419.324320\n",
      "GSM3944972_6057833008_R03C01   -482.039857\n",
      "GSM3945043_6057833013_R04C01   -448.469497\n",
      "GSM3945118_6264488087_R01C01   -215.002899\n",
      "GSM3945136_6042324060_R05C02   -695.669424\n",
      "GSM3945152_6057833019_R06C01   -355.235450\n",
      "GSM3945156_6057833010_R01C02   -142.063662\n",
      "GSM3945263_6057825168_R01C02   -307.016205\n",
      "GSM3945278_6057833018_R01C01   -317.850276\n",
      "GSM3945394_6042324134_R04C02   -451.368755\n",
      "dtype: float64\n"
     ]
    },
    {
     "name": "stderr",
     "output_type": "stream",
     "text": [
      "/home/silke/Documents/Fed_EWAS/Federated_Differential_Methylation_Analysis/Federated_Implementation/client.py:66: UserWarning: Boolean Series key will be reindexed to match DataFrame index.\n",
      "  x[probe_type.squeeze() == \"I\"] = x[probe_type.squeeze() == \"I\"] - tI_correction\n"
     ]
    },
    {
     "name": "stdout",
     "output_type": "stream",
     "text": [
      "GSM3944749_6057833029_R04C02   -309.457686\n",
      "GSM3944770_6057833029_R03C01   -276.955473\n",
      "GSM3944795_6042324136_R01C01   -165.715506\n",
      "GSM3944904_6055432167_R04C01   -144.505142\n",
      "GSM3944972_6057833008_R03C01   -157.628101\n",
      "GSM3945043_6057833013_R04C01   -127.109592\n",
      "GSM3945118_6264488087_R01C01   -161.137730\n",
      "GSM3945136_6042324060_R05C02   -230.109561\n",
      "GSM3945152_6057833019_R06C01   -287.484359\n",
      "GSM3945156_6057833010_R01C02   -194.250313\n",
      "GSM3945263_6057825168_R01C02   -231.940672\n",
      "GSM3945278_6057833018_R01C01   -146.488845\n",
      "GSM3945394_6042324134_R04C02   -201.574755\n",
      "dtype: float64\n",
      "GSM3944820_6057833015_R01C01   -262.001404\n",
      "GSM3944874_6057825109_R03C02   -366.069521\n",
      "GSM3944876_6057833040_R03C02   -616.473891\n",
      "GSM3944943_6164647017_R06C01   -622.730186\n",
      "GSM3945008_6042324160_R04C01   -307.473983\n",
      "GSM3945049_6057833036_R06C01   -520.035401\n",
      "GSM3945060_6057833038_R06C02   -507.217627\n",
      "GSM3945101_6057833018_R05C02   -491.348003\n",
      "GSM3945250_6057833007_R05C01   -404.675436\n",
      "GSM3945307_6055432164_R06C02   -479.445784\n",
      "GSM3945367_6042324100_R02C02   -333.262123\n",
      "GSM3945368_6042324063_R05C02   -695.822016\n",
      "GSM3945380_6057833010_R05C02   -404.675436\n",
      "GSM3945530_6164647017_R06C02   -609.454634\n",
      "GSM3945542_6042324063_R02C02   -422.528764\n",
      "GSM3945549_6042324054_R05C02   -543.229469\n",
      "dtype: float64\n",
      "GSM3944820_6057833015_R01C01   -370.494705\n",
      "GSM3944874_6057825109_R03C02   -286.568804\n",
      "GSM3944876_6057833040_R03C02   -146.946623\n",
      "GSM3944943_6164647017_R06C01   -129.856258\n",
      "GSM3945008_6042324160_R04C01   -228.888821\n",
      "GSM3945049_6057833036_R06C01   -198.370312\n",
      "GSM3945060_6057833038_R06C02   -161.290323\n",
      "GSM3945101_6057833018_R05C02   -142.979217\n",
      "GSM3945250_6057833007_R05C01   -261.543626\n",
      "GSM3945307_6055432164_R06C02   -255.897702\n",
      "GSM3945367_6042324100_R02C02   -100.863674\n",
      "GSM3945368_6042324063_R05C02   -160.069582\n",
      "GSM3945380_6057833010_R05C02   -248.725852\n",
      "GSM3945530_6164647017_R06C02   -138.859218\n",
      "GSM3945542_6042324063_R02C02   -257.271035\n",
      "GSM3945549_6042324054_R05C02   -178.075503\n",
      "dtype: float64\n",
      "GSM3944892_6057833089_R03C01   -326.090274\n",
      "GSM3944899_6057833064_R04C01   -527.512436\n",
      "GSM3944911_6055432123_R04C02   -403.607288\n",
      "GSM3944958_6055432105_R02C02   -447.096164\n",
      "GSM3944974_6057833019_R01C02   -178.228095\n",
      "GSM3944991_6057833029_R01C01   -117.038484\n",
      "GSM3945005_6042324160_R04C02   -290.841395\n",
      "GSM3945029_6057833043_R06C02   -600.146489\n",
      "GSM3945038_6057833043_R02C02   -552.232429\n",
      "GSM3945044_6057833038_R02C02   -285.805841\n",
      "GSM3945045_6057833036_R04C02   -426.343577\n",
      "GSM3945067_6055424129_R04C01   -378.124332\n",
      "GSM3945094_6057833052_R02C02   -456.862087\n",
      "GSM3945102_6055432123_R05C02   -508.743553\n",
      "GSM3945227_6057833047_R04C02   -459.913938\n",
      "GSM3945262_6057825168_R04C02   -512.253182\n",
      "GSM3945347_6055432125_R05C01   -646.229438\n",
      "GSM3945372_6042324054_R03C01   -468.459120\n",
      "GSM3945473_6057825111_R02C02   -221.106601\n",
      "GSM3945534_6164647014_R04C02   -660.420545\n",
      "GSM3945544_6042324060_R02C02   -544.297617\n",
      "dtype: float64\n",
      "GSM3944892_6057833089_R03C01   -117.954039\n",
      "GSM3944899_6057833064_R04C01   -209.356975\n",
      "GSM3944911_6055432123_R04C02   -299.844356\n",
      "GSM3944958_6055432105_R02C02    -95.370342\n",
      "GSM3944974_6057833019_R01C02   -213.629566\n",
      "GSM3944991_6057833029_R01C01   -229.651784\n",
      "GSM3945005_6042324160_R04C02   -232.703635\n",
      "GSM3945029_6057833043_R06C02   -195.165868\n",
      "GSM3945038_6057833043_R02C02   -111.087374\n",
      "GSM3945044_6057833038_R02C02   -215.765862\n",
      "GSM3945045_6057833036_R04C02   -353.709525\n",
      "GSM3945067_6055424129_R04C01   -358.592486\n",
      "GSM3945094_6057833052_R02C02   -169.530320\n",
      "GSM3945102_6055432123_R05C02   -293.740654\n",
      "GSM3945227_6057833047_R04C02   -187.994018\n",
      "GSM3945262_6057825168_R04C02   -253.761406\n",
      "GSM3945347_6055432125_R05C01   -235.450301\n",
      "GSM3945372_6042324054_R03C01   -235.297708\n",
      "GSM3945473_6057825111_R02C02   -364.238411\n",
      "GSM3945534_6164647014_R04C02   -110.324412\n",
      "GSM3945544_6042324060_R02C02   -142.521439\n",
      "dtype: float64\n"
     ]
    }
   ],
   "execution_count": 11
  },
  {
   "cell_type": "code",
   "metadata": {
    "ExecuteTime": {
     "end_time": "2025-05-06T11:10:32.944536Z",
     "start_time": "2025-05-06T11:10:25.779001Z"
    }
   },
   "source": [
    "local_dasen_paramA = lab_a.local_normalisation_parameters()\n",
    "local_dasen_paramB = lab_b.local_normalisation_parameters()\n",
    "local_dasen_paramC = lab_c.local_normalisation_parameters()"
   ],
   "outputs": [],
   "execution_count": 12
  },
  {
   "cell_type": "markdown",
   "metadata": {},
   "source": [
    "Server side"
   ]
  },
  {
   "cell_type": "code",
   "metadata": {
    "ExecuteTime": {
     "end_time": "2025-05-06T11:10:32.961780Z",
     "start_time": "2025-05-06T11:10:32.956410Z"
    }
   },
   "source": [
    "probe_type_means = serv.aggregate_QN_means(local_dasen_paramA, local_dasen_paramB, local_dasen_paramC)"
   ],
   "outputs": [],
   "execution_count": 13
  },
  {
   "cell_type": "markdown",
   "metadata": {},
   "source": [
    "Client side"
   ]
  },
  {
   "cell_type": "code",
   "metadata": {
    "ExecuteTime": {
     "end_time": "2025-05-06T11:10:48.348046Z",
     "start_time": "2025-05-06T11:10:33.019615Z"
    }
   },
   "source": [
    "lab_a.final_normalisation(probe_type_means)\n",
    "lab_b.final_normalisation(probe_type_means)\n",
    "lab_c.final_normalisation(probe_type_means)"
   ],
   "outputs": [
    {
     "name": "stderr",
     "output_type": "stream",
     "text": [
      "/home/silke/Documents/Fed_EWAS/Federated_Differential_Methylation_Analysis/Federated_Implementation/client.py:309: UserWarning: Boolean Series key will be reindexed to match DataFrame index.\n",
      "  data_out[0].set_index(self.methylated_dist[self.probe_annotation['Infinium_Design_Type'] ==\"I\"].index, inplace = True)\n",
      "/home/silke/Documents/Fed_EWAS/Federated_Differential_Methylation_Analysis/Federated_Implementation/client.py:312: UserWarning: Boolean Series key will be reindexed to match DataFrame index.\n",
      "  data_out[1].set_index(self.methylated_dist[self.probe_annotation['Infinium_Design_Type'] ==\"II\"].index, inplace = True)\n",
      "/home/silke/Documents/Fed_EWAS/Federated_Differential_Methylation_Analysis/Federated_Implementation/client.py:318: UserWarning: Boolean Series key will be reindexed to match DataFrame index.\n",
      "  data_out[2].set_index(self.methylated_dist[self.probe_annotation['Infinium_Design_Type'] ==\"I\"].index, inplace = True)\n",
      "/home/silke/Documents/Fed_EWAS/Federated_Differential_Methylation_Analysis/Federated_Implementation/client.py:321: UserWarning: Boolean Series key will be reindexed to match DataFrame index.\n",
      "  data_out[3].set_index(self.methylated_dist[self.probe_annotation['Infinium_Design_Type'] ==\"II\"].index, inplace = True)\n"
     ]
    }
   ],
   "execution_count": 14
  },
  {
   "cell_type": "code",
   "metadata": {
    "ExecuteTime": {
     "end_time": "2025-05-06T11:10:48.363086Z",
     "start_time": "2025-05-06T11:10:48.360663Z"
    }
   },
   "source": [
    "# save the betas for testing\n",
    "# lab_a.betas.to_csv(os.path.join(output, \"strong_split1_betas.csv\"))\n",
    "# lab_b.betas.to_csv(os.path.join(output, \"strong_split2_betas.csv\"))\n",
    "# lab_c.betas.to_csv(os.path.join(output, \"strong_split3_betas.csv\"))"
   ],
   "outputs": [],
   "execution_count": 15
  },
  {
   "cell_type": "markdown",
   "metadata": {},
   "source": [
    "## EWAS - Linear regression model"
   ]
  },
  {
   "cell_type": "markdown",
   "metadata": {},
   "source": [
    "Client side"
   ]
  },
  {
   "cell_type": "code",
   "metadata": {
    "ExecuteTime": {
     "end_time": "2025-05-06T11:11:01.718021Z",
     "start_time": "2025-05-06T11:10:52.225146Z"
    }
   },
   "source": [
    "lab_a.local_xtx_xty()\n",
    "lab_b.local_xtx_xty()\n",
    "lab_c.local_xtx_xty()"
   ],
   "outputs": [
    {
     "data": {
      "text/plain": [
       "  0%|          | 0/442337 [00:00<?, ?it/s]"
      ],
      "application/vnd.jupyter.widget-view+json": {
       "version_major": 2,
       "version_minor": 0,
       "model_id": "746d2c88b5de40aa9374e0f7e0b5f9e2"
      }
     },
     "metadata": {},
     "output_type": "display_data"
    },
    {
     "ename": "OverflowError",
     "evalue": "cannot serialize a bytes object larger than 4 GiB",
     "output_type": "error",
     "traceback": [
      "\u001B[0;31m---------------------------------------------------------------------------\u001B[0m",
      "\u001B[0;31mOverflowError\u001B[0m                             Traceback (most recent call last)",
      "\u001B[0;32m/tmp/ipykernel_7881/604791068.py\u001B[0m in \u001B[0;36m<module>\u001B[0;34m\u001B[0m\n\u001B[0;32m----> 1\u001B[0;31m \u001B[0mlab_a\u001B[0m\u001B[0;34m.\u001B[0m\u001B[0mlocal_xtx_xty_parallel\u001B[0m\u001B[0;34m(\u001B[0m\u001B[0;34m)\u001B[0m\u001B[0;34m\u001B[0m\u001B[0;34m\u001B[0m\u001B[0m\n\u001B[0m",
      "\u001B[0;32m~/Documents/Fed_EWAS/Federated_Differential_Methylation_Analysis/Federated_Implementation/client.py\u001B[0m in \u001B[0;36mlocal_xtx_xty_parallel\u001B[0;34m(self, weighted)\u001B[0m\n\u001B[1;32m    400\u001B[0m                                                                                                       'chat_id']) as pbar:\n\u001B[1;32m    401\u001B[0m             \u001B[0mxtx_xty_partial\u001B[0m \u001B[0;34m=\u001B[0m \u001B[0mpartial\u001B[0m\u001B[0;34m(\u001B[0m\u001B[0mself\u001B[0m\u001B[0;34m.\u001B[0m\u001B[0mparallel_xtx_xty_cal\u001B[0m\u001B[0;34m,\u001B[0m \u001B[0mx_matrix\u001B[0m\u001B[0;34m=\u001B[0m\u001B[0mx_matrix\u001B[0m\u001B[0;34m,\u001B[0m \u001B[0mweighted\u001B[0m\u001B[0;34m=\u001B[0m\u001B[0mweighted\u001B[0m\u001B[0;34m)\u001B[0m\u001B[0;34m\u001B[0m\u001B[0;34m\u001B[0m\u001B[0m\n\u001B[0;32m--> 402\u001B[0;31m             \u001B[0;32mfor\u001B[0m \u001B[0mi\u001B[0m\u001B[0;34m,\u001B[0m \u001B[0mresult\u001B[0m \u001B[0;32min\u001B[0m \u001B[0menumerate\u001B[0m\u001B[0;34m(\u001B[0m\u001B[0mprocessPool\u001B[0m\u001B[0;34m.\u001B[0m\u001B[0mimap\u001B[0m\u001B[0;34m(\u001B[0m\u001B[0mxtx_xty_partial\u001B[0m\u001B[0;34m,\u001B[0m \u001B[0my_matrix\u001B[0m\u001B[0;34m)\u001B[0m\u001B[0;34m)\u001B[0m\u001B[0;34m:\u001B[0m\u001B[0;34m\u001B[0m\u001B[0;34m\u001B[0m\u001B[0m\n\u001B[0m\u001B[1;32m    403\u001B[0m                 \u001B[0;31m# increment the progress bar\u001B[0m\u001B[0;34m\u001B[0m\u001B[0;34m\u001B[0m\u001B[0;34m\u001B[0m\u001B[0m\n\u001B[1;32m    404\u001B[0m                 \u001B[0mpbar\u001B[0m\u001B[0;34m.\u001B[0m\u001B[0mupdate\u001B[0m\u001B[0;34m(\u001B[0m\u001B[0;34m)\u001B[0m\u001B[0;34m\u001B[0m\u001B[0;34m\u001B[0m\u001B[0m\n",
      "\u001B[0;32m~/miniconda3/envs/FedEWAS/lib/python3.7/multiprocessing/pool.py\u001B[0m in \u001B[0;36mnext\u001B[0;34m(self, timeout)\u001B[0m\n\u001B[1;32m    746\u001B[0m         \u001B[0;32mif\u001B[0m \u001B[0msuccess\u001B[0m\u001B[0;34m:\u001B[0m\u001B[0;34m\u001B[0m\u001B[0;34m\u001B[0m\u001B[0m\n\u001B[1;32m    747\u001B[0m             \u001B[0;32mreturn\u001B[0m \u001B[0mvalue\u001B[0m\u001B[0;34m\u001B[0m\u001B[0;34m\u001B[0m\u001B[0m\n\u001B[0;32m--> 748\u001B[0;31m         \u001B[0;32mraise\u001B[0m \u001B[0mvalue\u001B[0m\u001B[0;34m\u001B[0m\u001B[0;34m\u001B[0m\u001B[0m\n\u001B[0m\u001B[1;32m    749\u001B[0m \u001B[0;34m\u001B[0m\u001B[0m\n\u001B[1;32m    750\u001B[0m     \u001B[0m__next__\u001B[0m \u001B[0;34m=\u001B[0m \u001B[0mnext\u001B[0m                    \u001B[0;31m# XXX\u001B[0m\u001B[0;34m\u001B[0m\u001B[0;34m\u001B[0m\u001B[0m\n",
      "\u001B[0;32m~/miniconda3/envs/FedEWAS/lib/python3.7/multiprocessing/pool.py\u001B[0m in \u001B[0;36m_handle_tasks\u001B[0;34m(taskqueue, put, outqueue, pool, cache)\u001B[0m\n\u001B[1;32m    429\u001B[0m                         \u001B[0;32mbreak\u001B[0m\u001B[0;34m\u001B[0m\u001B[0;34m\u001B[0m\u001B[0m\n\u001B[1;32m    430\u001B[0m                     \u001B[0;32mtry\u001B[0m\u001B[0;34m:\u001B[0m\u001B[0;34m\u001B[0m\u001B[0;34m\u001B[0m\u001B[0m\n\u001B[0;32m--> 431\u001B[0;31m                         \u001B[0mput\u001B[0m\u001B[0;34m(\u001B[0m\u001B[0mtask\u001B[0m\u001B[0;34m)\u001B[0m\u001B[0;34m\u001B[0m\u001B[0;34m\u001B[0m\u001B[0m\n\u001B[0m\u001B[1;32m    432\u001B[0m                     \u001B[0;32mexcept\u001B[0m \u001B[0mException\u001B[0m \u001B[0;32mas\u001B[0m \u001B[0me\u001B[0m\u001B[0;34m:\u001B[0m\u001B[0;34m\u001B[0m\u001B[0;34m\u001B[0m\u001B[0m\n\u001B[1;32m    433\u001B[0m                         \u001B[0mjob\u001B[0m\u001B[0;34m,\u001B[0m \u001B[0midx\u001B[0m \u001B[0;34m=\u001B[0m \u001B[0mtask\u001B[0m\u001B[0;34m[\u001B[0m\u001B[0;34m:\u001B[0m\u001B[0;36m2\u001B[0m\u001B[0;34m]\u001B[0m\u001B[0;34m\u001B[0m\u001B[0;34m\u001B[0m\u001B[0m\n",
      "\u001B[0;32m~/miniconda3/envs/FedEWAS/lib/python3.7/multiprocessing/connection.py\u001B[0m in \u001B[0;36msend\u001B[0;34m(self, obj)\u001B[0m\n\u001B[1;32m    204\u001B[0m         \u001B[0mself\u001B[0m\u001B[0;34m.\u001B[0m\u001B[0m_check_closed\u001B[0m\u001B[0;34m(\u001B[0m\u001B[0;34m)\u001B[0m\u001B[0;34m\u001B[0m\u001B[0;34m\u001B[0m\u001B[0m\n\u001B[1;32m    205\u001B[0m         \u001B[0mself\u001B[0m\u001B[0;34m.\u001B[0m\u001B[0m_check_writable\u001B[0m\u001B[0;34m(\u001B[0m\u001B[0;34m)\u001B[0m\u001B[0;34m\u001B[0m\u001B[0;34m\u001B[0m\u001B[0m\n\u001B[0;32m--> 206\u001B[0;31m         \u001B[0mself\u001B[0m\u001B[0;34m.\u001B[0m\u001B[0m_send_bytes\u001B[0m\u001B[0;34m(\u001B[0m\u001B[0m_ForkingPickler\u001B[0m\u001B[0;34m.\u001B[0m\u001B[0mdumps\u001B[0m\u001B[0;34m(\u001B[0m\u001B[0mobj\u001B[0m\u001B[0;34m)\u001B[0m\u001B[0;34m)\u001B[0m\u001B[0;34m\u001B[0m\u001B[0;34m\u001B[0m\u001B[0m\n\u001B[0m\u001B[1;32m    207\u001B[0m \u001B[0;34m\u001B[0m\u001B[0m\n\u001B[1;32m    208\u001B[0m     \u001B[0;32mdef\u001B[0m \u001B[0mrecv_bytes\u001B[0m\u001B[0;34m(\u001B[0m\u001B[0mself\u001B[0m\u001B[0;34m,\u001B[0m \u001B[0mmaxlength\u001B[0m\u001B[0;34m=\u001B[0m\u001B[0;32mNone\u001B[0m\u001B[0;34m)\u001B[0m\u001B[0;34m:\u001B[0m\u001B[0;34m\u001B[0m\u001B[0;34m\u001B[0m\u001B[0m\n",
      "\u001B[0;32m~/miniconda3/envs/FedEWAS/lib/python3.7/multiprocessing/reduction.py\u001B[0m in \u001B[0;36mdumps\u001B[0;34m(cls, obj, protocol)\u001B[0m\n\u001B[1;32m     49\u001B[0m     \u001B[0;32mdef\u001B[0m \u001B[0mdumps\u001B[0m\u001B[0;34m(\u001B[0m\u001B[0mcls\u001B[0m\u001B[0;34m,\u001B[0m \u001B[0mobj\u001B[0m\u001B[0;34m,\u001B[0m \u001B[0mprotocol\u001B[0m\u001B[0;34m=\u001B[0m\u001B[0;32mNone\u001B[0m\u001B[0;34m)\u001B[0m\u001B[0;34m:\u001B[0m\u001B[0;34m\u001B[0m\u001B[0;34m\u001B[0m\u001B[0m\n\u001B[1;32m     50\u001B[0m         \u001B[0mbuf\u001B[0m \u001B[0;34m=\u001B[0m \u001B[0mio\u001B[0m\u001B[0;34m.\u001B[0m\u001B[0mBytesIO\u001B[0m\u001B[0;34m(\u001B[0m\u001B[0;34m)\u001B[0m\u001B[0;34m\u001B[0m\u001B[0;34m\u001B[0m\u001B[0m\n\u001B[0;32m---> 51\u001B[0;31m         \u001B[0mcls\u001B[0m\u001B[0;34m(\u001B[0m\u001B[0mbuf\u001B[0m\u001B[0;34m,\u001B[0m \u001B[0mprotocol\u001B[0m\u001B[0;34m)\u001B[0m\u001B[0;34m.\u001B[0m\u001B[0mdump\u001B[0m\u001B[0;34m(\u001B[0m\u001B[0mobj\u001B[0m\u001B[0;34m)\u001B[0m\u001B[0;34m\u001B[0m\u001B[0;34m\u001B[0m\u001B[0m\n\u001B[0m\u001B[1;32m     52\u001B[0m         \u001B[0;32mreturn\u001B[0m \u001B[0mbuf\u001B[0m\u001B[0;34m.\u001B[0m\u001B[0mgetbuffer\u001B[0m\u001B[0;34m(\u001B[0m\u001B[0;34m)\u001B[0m\u001B[0;34m\u001B[0m\u001B[0;34m\u001B[0m\u001B[0m\n\u001B[1;32m     53\u001B[0m \u001B[0;34m\u001B[0m\u001B[0m\n",
      "\u001B[0;31mOverflowError\u001B[0m: cannot serialize a bytes object larger than 4 GiB"
     ]
    }
   ],
   "execution_count": 16
  },
  {
   "cell_type": "markdown",
   "metadata": {},
   "source": [
    "Server side"
   ]
  },
  {
   "cell_type": "code",
   "execution_count": 18,
   "metadata": {},
   "outputs": [],
   "source": "serv.global_regression_parameter((lab_a.xtx, lab_a.xty), (lab_b.xtx, lab_b.xty), (lab_c.xtx, lab_c.xty))"
  },
  {
   "cell_type": "markdown",
   "metadata": {},
   "source": [
    "#### Client side"
   ]
  },
  {
   "cell_type": "markdown",
   "metadata": {},
   "source": [
    "calculate the local sse and covariance of the regression coefficients"
   ]
  },
  {
   "cell_type": "code",
   "execution_count": 19,
   "metadata": {},
   "outputs": [],
   "source": [
    "SSE_a,cov_coef_a = lab_a.compute_SSE_and_cov_coef(serv.beta)\n",
    "SSE_b,cov_coef_b = lab_b.compute_SSE_and_cov_coef(serv.beta)\n",
    "SSE_c,cov_coef_c = lab_c.compute_SSE_and_cov_coef(serv.beta)\n",
    "SSE_list = [SSE_a, SSE_b, SSE_c]\n",
    "cov_coef_list = [cov_coef_a, cov_coef_b, cov_coef_c]"
   ]
  },
  {
   "cell_type": "markdown",
   "metadata": {},
   "source": [
    "#### Server side"
   ]
  },
  {
   "cell_type": "markdown",
   "metadata": {},
   "source": [
    "calculate the global SSE and covariance of the regression coefficients"
   ]
  },
  {
   "cell_type": "code",
   "execution_count": 20,
   "metadata": {},
   "outputs": [],
   "source": [
    "serv.aggregate_SSE_and_cov_coef(SSE_list,cov_coef_list)"
   ]
  },
  {
   "cell_type": "code",
   "execution_count": 21,
   "metadata": {},
   "outputs": [],
   "source": [
    "np.savetxt(os.path.join(output, \"strong_splits_model_matrix.csv\"), serv.beta, delimiter=\",\") \n",
    "np.savetxt(os.path.join(output, \"strong_splits_model_matrix_xty.csv\"), serv.global_xty, delimiter=\",\") "
   ]
  },
  {
   "cell_type": "markdown",
   "metadata": {},
   "source": [
    "Make and fit the contrasts to the linear model"
   ]
  },
  {
   "cell_type": "code",
   "execution_count": 22,
   "metadata": {},
   "outputs": [],
   "source": [
    "contrasts_mat = serv.make_contrasts(contrasts=[([\"AD\"],[\"CTRL\"])])\n",
    "serv.fit_contasts(contrasts_mat.values)"
   ]
  },
  {
   "cell_type": "code",
   "execution_count": 23,
   "metadata": {},
   "outputs": [],
   "source": [
    "contrasts_mat.to_csv(os.path.join(output, \"strong_splits_contrastmat.csv\"))\n",
    "np.savetxt(os.path.join(output, \"strong_splits_model_matrix_contractfit.csv\"), serv.beta, delimiter=\",\") \n",
    "np.savetxt(os.path.join(output, \"strong_splits_model_matrix_xty_contractfit.csv\"), serv.global_xty, delimiter=\",\") "
   ]
  },
  {
   "cell_type": "markdown",
   "metadata": {},
   "source": [
    "Calculate the P-values"
   ]
  },
  {
   "cell_type": "code",
   "execution_count": 24,
   "metadata": {},
   "outputs": [],
   "source": [
    "serv.eBayes()"
   ]
  },
  {
   "cell_type": "markdown",
   "metadata": {},
   "source": [
    "Get the results table"
   ]
  },
  {
   "cell_type": "code",
   "execution_count": 25,
   "metadata": {},
   "outputs": [
    {
     "data": {
      "text/html": [
       "<div>\n",
       "<style scoped>\n",
       "    .dataframe tbody tr th:only-of-type {\n",
       "        vertical-align: middle;\n",
       "    }\n",
       "\n",
       "    .dataframe tbody tr th {\n",
       "        vertical-align: top;\n",
       "    }\n",
       "\n",
       "    .dataframe thead th {\n",
       "        text-align: right;\n",
       "    }\n",
       "</style>\n",
       "<table border=\"1\" class=\"dataframe\">\n",
       "  <thead>\n",
       "    <tr style=\"text-align: right;\">\n",
       "      <th></th>\n",
       "      <th>t</th>\n",
       "      <th>lods</th>\n",
       "      <th>logFC</th>\n",
       "      <th>CI.L</th>\n",
       "      <th>CI.R</th>\n",
       "      <th>adj.P.Val</th>\n",
       "      <th>P.Value</th>\n",
       "    </tr>\n",
       "  </thead>\n",
       "  <tbody>\n",
       "    <tr>\n",
       "      <th>cg11758688</th>\n",
       "      <td>-6.176943</td>\n",
       "      <td>9.331129</td>\n",
       "      <td>-2.664268e-01</td>\n",
       "      <td>-0.351587</td>\n",
       "      <td>-0.181266</td>\n",
       "      <td>0.002203</td>\n",
       "      <td>4.887204e-09</td>\n",
       "    </tr>\n",
       "    <tr>\n",
       "      <th>cg26516741</th>\n",
       "      <td>5.730027</td>\n",
       "      <td>7.130199</td>\n",
       "      <td>1.355506e-02</td>\n",
       "      <td>0.008884</td>\n",
       "      <td>0.018226</td>\n",
       "      <td>0.010446</td>\n",
       "      <td>4.633855e-08</td>\n",
       "    </tr>\n",
       "    <tr>\n",
       "      <th>cg27353962</th>\n",
       "      <td>5.595971</td>\n",
       "      <td>6.491377</td>\n",
       "      <td>3.453242e-02</td>\n",
       "      <td>0.022349</td>\n",
       "      <td>0.046716</td>\n",
       "      <td>0.013400</td>\n",
       "      <td>8.916686e-08</td>\n",
       "    </tr>\n",
       "    <tr>\n",
       "      <th>cg23289794</th>\n",
       "      <td>-5.469382</td>\n",
       "      <td>5.897633</td>\n",
       "      <td>-2.185569e-02</td>\n",
       "      <td>-0.029745</td>\n",
       "      <td>-0.013966</td>\n",
       "      <td>0.018480</td>\n",
       "      <td>1.639614e-07</td>\n",
       "    </tr>\n",
       "    <tr>\n",
       "      <th>cg09324326</th>\n",
       "      <td>5.412534</td>\n",
       "      <td>5.634057</td>\n",
       "      <td>7.487043e-02</td>\n",
       "      <td>0.047559</td>\n",
       "      <td>0.102182</td>\n",
       "      <td>0.019379</td>\n",
       "      <td>2.149250e-07</td>\n",
       "    </tr>\n",
       "    <tr>\n",
       "      <th>...</th>\n",
       "      <td>...</td>\n",
       "      <td>...</td>\n",
       "      <td>...</td>\n",
       "      <td>...</td>\n",
       "      <td>...</td>\n",
       "      <td>...</td>\n",
       "      <td>...</td>\n",
       "    </tr>\n",
       "    <tr>\n",
       "      <th>cg17413194</th>\n",
       "      <td>-0.000012</td>\n",
       "      <td>-7.915247</td>\n",
       "      <td>-9.141305e-08</td>\n",
       "      <td>-0.015253</td>\n",
       "      <td>0.015253</td>\n",
       "      <td>0.999998</td>\n",
       "      <td>9.999906e-01</td>\n",
       "    </tr>\n",
       "    <tr>\n",
       "      <th>cg22231902</th>\n",
       "      <td>0.000010</td>\n",
       "      <td>-7.915247</td>\n",
       "      <td>4.816494e-08</td>\n",
       "      <td>-0.009228</td>\n",
       "      <td>0.009228</td>\n",
       "      <td>0.999998</td>\n",
       "      <td>9.999918e-01</td>\n",
       "    </tr>\n",
       "    <tr>\n",
       "      <th>cg14481208</th>\n",
       "      <td>-0.000008</td>\n",
       "      <td>-7.915247</td>\n",
       "      <td>-9.116552e-08</td>\n",
       "      <td>-0.022621</td>\n",
       "      <td>0.022621</td>\n",
       "      <td>0.999998</td>\n",
       "      <td>9.999937e-01</td>\n",
       "    </tr>\n",
       "    <tr>\n",
       "      <th>cg03428314</th>\n",
       "      <td>0.000003</td>\n",
       "      <td>-7.915247</td>\n",
       "      <td>3.854627e-08</td>\n",
       "      <td>-0.024498</td>\n",
       "      <td>0.024498</td>\n",
       "      <td>0.999999</td>\n",
       "      <td>9.999975e-01</td>\n",
       "    </tr>\n",
       "    <tr>\n",
       "      <th>cg24547948</th>\n",
       "      <td>0.000001</td>\n",
       "      <td>-7.915247</td>\n",
       "      <td>2.086492e-09</td>\n",
       "      <td>-0.003970</td>\n",
       "      <td>0.003970</td>\n",
       "      <td>0.999999</td>\n",
       "      <td>9.999992e-01</td>\n",
       "    </tr>\n",
       "  </tbody>\n",
       "</table>\n",
       "<p>450837 rows × 7 columns</p>\n",
       "</div>"
      ],
      "text/plain": [
       "                   t      lods         logFC      CI.L      CI.R  adj.P.Val  \\\n",
       "cg11758688 -6.176943  9.331129 -2.664268e-01 -0.351587 -0.181266   0.002203   \n",
       "cg26516741  5.730027  7.130199  1.355506e-02  0.008884  0.018226   0.010446   \n",
       "cg27353962  5.595971  6.491377  3.453242e-02  0.022349  0.046716   0.013400   \n",
       "cg23289794 -5.469382  5.897633 -2.185569e-02 -0.029745 -0.013966   0.018480   \n",
       "cg09324326  5.412534  5.634057  7.487043e-02  0.047559  0.102182   0.019379   \n",
       "...              ...       ...           ...       ...       ...        ...   \n",
       "cg17413194 -0.000012 -7.915247 -9.141305e-08 -0.015253  0.015253   0.999998   \n",
       "cg22231902  0.000010 -7.915247  4.816494e-08 -0.009228  0.009228   0.999998   \n",
       "cg14481208 -0.000008 -7.915247 -9.116552e-08 -0.022621  0.022621   0.999998   \n",
       "cg03428314  0.000003 -7.915247  3.854627e-08 -0.024498  0.024498   0.999999   \n",
       "cg24547948  0.000001 -7.915247  2.086492e-09 -0.003970  0.003970   0.999999   \n",
       "\n",
       "                 P.Value  \n",
       "cg11758688  4.887204e-09  \n",
       "cg26516741  4.633855e-08  \n",
       "cg27353962  8.916686e-08  \n",
       "cg23289794  1.639614e-07  \n",
       "cg09324326  2.149250e-07  \n",
       "...                  ...  \n",
       "cg17413194  9.999906e-01  \n",
       "cg22231902  9.999918e-01  \n",
       "cg14481208  9.999937e-01  \n",
       "cg03428314  9.999975e-01  \n",
       "cg24547948  9.999992e-01  \n",
       "\n",
       "[450837 rows x 7 columns]"
      ]
     },
     "execution_count": 25,
     "metadata": {},
     "output_type": "execute_result"
    }
   ],
   "source": [
    "serv.table "
   ]
  },
  {
   "cell_type": "code",
   "execution_count": 26,
   "metadata": {},
   "outputs": [],
   "source": [
    "serv.table.to_csv(os.path.join(output, \"strong_splits_EWAS_results.csv\"))"
   ]
  }
 ],
 "metadata": {
  "interpreter": {
   "hash": "0a54084e6b208ee8d1ce3989ffc20924477a5f55f5a43e22e699a6741623861e"
  },
  "kernelspec": {
   "display_name": "Python 3.7.8 64-bit",
   "language": "python",
   "name": "python3"
  },
  "language_info": {
   "codemirror_mode": {
    "name": "ipython",
    "version": 3
   },
   "file_extension": ".py",
   "mimetype": "text/x-python",
   "name": "python",
   "nbconvert_exporter": "python",
   "pygments_lexer": "ipython3",
   "version": "3.7.8"
  },
  "orig_nbformat": 4
 },
 "nbformat": 4,
 "nbformat_minor": 2
}

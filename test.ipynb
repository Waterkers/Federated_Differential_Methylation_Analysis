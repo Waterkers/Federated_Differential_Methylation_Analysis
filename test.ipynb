{
 "cells": [
  {
   "cell_type": "code",
   "execution_count": 1,
   "metadata": {},
   "outputs": [],
   "source": [
    "import pandas as pd\n",
    "import numpy as np\n",
    "import sys\n",
    "import re\n",
    "import os\n",
    "\n",
    "import server\n",
    "from server import Server \n",
    "import client\n",
    "from client import Client"
   ]
  },
  {
   "cell_type": "code",
   "execution_count": 2,
   "metadata": {},
   "outputs": [],
   "source": [
    "testdata_dir = \"E:\\\\Msc Systems Biology\\\\MSB5000_Master_Thesis\\\\Practical work\\\\Federated_Differential_Methylation_Analysis\\\\Fed_test\""
   ]
  },
  {
   "cell_type": "markdown",
   "metadata": {},
   "source": [
    "## Create test data and split across 3 \"labs\""
   ]
  },
  {
   "cell_type": "code",
   "execution_count": 5,
   "metadata": {},
   "outputs": [],
   "source": [
    "# load in some data and create a test data object to write these functions\n",
    "test_methylated = pd.read_csv(\"E:\\\\Msc Systems Biology\\\\MSB5000_Master_Thesis\\\\Practical work\\\\Data\\\\Data_Full_Datasets\\\\GSE66351\\\\Filtered_Methylated.csv\", index_col=0)\n",
    "test_methylatedA = test_methylated.iloc[:, 0:21]\n",
    "test_methylatedB = test_methylated.iloc[:, 21:41]\n",
    "test_methylatedC = test_methylated.iloc[: , 41:61]\n",
    "\n",
    "test_unmethylated = pd.read_csv(\"E:\\\\Msc Systems Biology\\\\MSB5000_Master_Thesis\\\\Practical work\\\\Data\\\\Data_Full_Datasets\\\\GSE66351\\\\Filtered_Unmethylated.csv\", index_col=0)\n",
    "test_unmethylatedA = test_unmethylated.iloc[:, 0:21]\n",
    "test_unmethylatedB = test_unmethylated.iloc[:, 21:41]\n",
    "test_unmethylatedC = test_unmethylated.iloc[:, 41:61]\n",
    "# attach the probe type information to the (test) data so it can be used by the normalisation functions\n",
    "annotation_data = pd.read_csv(\"E:\\\\Msc Systems Biology\\\\MSB5000_Master_Thesis\\\\Practical work\\\\Data\\\\GSE66351_RAW\\\\GPL13534_HumanMethylation450_15017482_v.1.1.csv\", skiprows=7, low_memory=False)\n",
    "annotation_data.set_index(annotation_data[\"IlmnID\"], inplace=True)\n",
    "probe_type_data = annotation_data.loc[:, \"Infinium_Design_Type\"]\n",
    "test_probe_annotation = pd.merge(test_methylated, probe_type_data, how = \"inner\", left_index=True, right_index=True, indicator = True)\n",
    "test_probe_annotation = test_probe_annotation.loc[:,\"Infinium_Design_Type\"]\n",
    "\n",
    "# create test design matrix\n",
    "pheno = pd.read_csv(\"E:\\\\Msc Systems Biology\\\\MSB5000_Master_Thesis\\\\Practical work\\\\Data\\\\Data_Full_Datasets\\\\GSE66351\\\\Reduced_Pheno_Info.csv\", index_col= \"Sample_ID\")\n",
    "x = pheno.loc[:,[\"Diagnosis\", \"Age\", \"Sex\", \"Sentrix_ID\"]] # design matrix with the dependent/explainatory variables to be included in the model\n",
    "x[\"Diagnosis\"] = (x[\"Diagnosis\"] == \" AD\").astype(int) #create binary diagnosis with 1 = AD and 0 = CTR\n",
    "x[\"Sex\"] = (x[\"Sex\"] == \" F\").astype(int) #create binary sex with 1 = F and 0 = M\n",
    "# create dummy variables for the unique sentrix_ids present in the dataset - this code can be reused to create center number dummies in the federated version of the code\n",
    "unique_ids = x[\"Sentrix_ID\"].unique()\n",
    "for id in unique_ids:\n",
    "    x[id] = (x[\"Sentrix_ID\"] == id).astype(int)\n",
    "x.drop(columns=\"Sentrix_ID\", inplace = True)\n",
    "# turn the age variable into a continuous numerical variable without any leftover text\n",
    "#x[\"Age\"].replace(\"^[^:]*:\", \"\", regex=True, inplace=True)\n",
    "x[\"Age\"] = pd.to_numeric(x[\"Age\"])\n",
    "\n",
    "xA = x.iloc[0:21, :]\n",
    "xB = x.iloc[21:41, :]\n",
    "xC = x.iloc[41:61, :]\n",
    "\n",
    "# save the test data for easy reference later + to add to github ?\n",
    "test_methylatedA.to_csv(os.path.join(testdata_dir, \"methylatedA.csv\"))\n",
    "test_methylatedB.to_csv(os.path.join(testdata_dir, \"methylatedB.csv\"))\n",
    "test_methylatedC.to_csv(os.path.join(testdata_dir, \"methylatedC.csv\"))\n",
    "\n",
    "test_unmethylatedA.to_csv(os.path.join(testdata_dir, \"unmethylatedA.csv\"))\n",
    "test_unmethylatedB.to_csv(os.path.join(testdata_dir, \"unmethylatedB.csv\"))\n",
    "test_unmethylatedC.to_csv(os.path.join(testdata_dir, \"unmethylatedC.csv\"))\n",
    "\n",
    "xA.to_csv(os.path.join(testdata_dir, \"designA.csv\"))\n",
    "xB.to_csv(os.path.join(testdata_dir, \"designB.csv\"))\n",
    "xC.to_csv(os.path.join(testdata_dir, \"designC.csv\"))\n",
    "\n",
    "test_probe_annotation.to_csv(os.path.join(testdata_dir, \"probe_annotation.csv\"))"
   ]
  },
  {
   "cell_type": "markdown",
   "metadata": {},
   "source": [
    "## Initialising the clients"
   ]
  },
  {
   "cell_type": "code",
   "execution_count": 3,
   "metadata": {},
   "outputs": [],
   "source": [
    "# create client\n",
    "lab_a = Client(\"Lab_A\", os.path.join(testdata_dir, \"designA.csv\"), os.path.join(testdata_dir, \"methylatedA.csv\"), os.path.join(testdata_dir, \"unmethylatedA.csv\"), os.path.join(testdata_dir, \"probe_annotation.csv\"))\n",
    "lab_b = Client(\"Lab_B\", os.path.join(testdata_dir, \"designB.csv\"), os.path.join(testdata_dir, \"methylatedB.csv\"), os.path.join(testdata_dir, \"unmethylatedB.csv\"), os.path.join(testdata_dir, \"probe_annotation.csv\"))\n",
    "lab_c = Client(\"Lab_C\", os.path.join(testdata_dir, \"designC.csv\"), os.path.join(testdata_dir, \"methylatedC.csv\"), os.path.join(testdata_dir, \"unmethylatedC.csv\"), os.path.join(testdata_dir, \"probe_annotation.csv\"))"
   ]
  },
  {
   "cell_type": "markdown",
   "metadata": {},
   "source": [
    "## Initialising the server"
   ]
  },
  {
   "cell_type": "code",
   "execution_count": 4,
   "metadata": {},
   "outputs": [],
   "source": [
    "serv = Server([\"Diagnosis\"], [\"Age\", \"Sex\"])\n",
    "global_conditions = serv.return_global_conditions()"
   ]
  },
  {
   "cell_type": "markdown",
   "metadata": {},
   "source": [
    "## Joining clients to the server"
   ]
  },
  {
   "cell_type": "code",
   "execution_count": 5,
   "metadata": {},
   "outputs": [],
   "source": [
    "# join the clients\n",
    "serv.get_clients(lab_a.cohort_name, lab_a.probes, lab_a.designmatrix.index)\n",
    "serv.get_clients(lab_b.cohort_name, lab_b.probes, lab_b.designmatrix.index)\n",
    "serv.get_clients(lab_c.cohort_name, lab_c.probes, lab_c.designmatrix.index)"
   ]
  },
  {
   "cell_type": "code",
   "execution_count": 6,
   "metadata": {},
   "outputs": [
    {
     "name": "stderr",
     "output_type": "stream",
     "text": [
      "21 conditions in the design matrix are not specified in the global conditions and will be removed\n",
      "21 conditions in the design matrix are not specified in the global conditions and will be removed\n",
      "21 conditions in the design matrix are not specified in the global conditions and will be removed\n"
     ]
    }
   ],
   "source": [
    "#check client input\n",
    "lab_a.input_validation(global_conditions)\n",
    "lab_b.input_validation(global_conditions)\n",
    "lab_c.input_validation(global_conditions)"
   ]
  },
  {
   "cell_type": "code",
   "execution_count": 7,
   "metadata": {},
   "outputs": [],
   "source": [
    "lab_a.cohort_effects(serv.client_names)\n",
    "lab_b.cohort_effects(serv.client_names)\n",
    "lab_c.cohort_effects(serv.client_names)"
   ]
  },
  {
   "cell_type": "markdown",
   "metadata": {},
   "source": [
    "## Dasen normalisation"
   ]
  },
  {
   "cell_type": "markdown",
   "metadata": {},
   "source": [
    "Client side"
   ]
  },
  {
   "cell_type": "code",
   "execution_count": 8,
   "metadata": {},
   "outputs": [],
   "source": [
    "dist_a = lab_a.intensity_distributions()\n",
    "dist_b = lab_b.intensity_distributions()\n",
    "dist_c = lab_c.intensity_distributions()"
   ]
  },
  {
   "cell_type": "code",
   "execution_count": 9,
   "metadata": {},
   "outputs": [],
   "source": [
    "local_dasen_paramA = lab_a.local_normalisation_parameters()\n",
    "local_dasen_paramB = lab_b.local_normalisation_parameters()\n",
    "local_dasen_paramC = lab_c.local_normalisation_parameters()"
   ]
  },
  {
   "cell_type": "markdown",
   "metadata": {},
   "source": [
    "Server side"
   ]
  },
  {
   "cell_type": "code",
   "execution_count": 10,
   "metadata": {},
   "outputs": [],
   "source": [
    "probe_type_means = serv.aggregate_QN_means(local_dasen_paramA, local_dasen_paramB, local_dasen_paramC)"
   ]
  },
  {
   "cell_type": "markdown",
   "metadata": {},
   "source": [
    "Client side"
   ]
  },
  {
   "cell_type": "code",
   "execution_count": 11,
   "metadata": {},
   "outputs": [],
   "source": [
    "betas_a = lab_a.final_normalisation(probe_type_means)\n",
    "betas_b = lab_b.final_normalisation(probe_type_means)\n",
    "betas_c = lab_c.final_normalisation(probe_type_means)"
   ]
  },
  {
   "cell_type": "code",
   "execution_count": 12,
   "metadata": {},
   "outputs": [],
   "source": [
    "# save the betas for testing\n",
    "betas_a.to_csv(os.path.join(testdata_dir, \"splita_betas.csv\"))\n",
    "betas_b.to_csv(os.path.join(testdata_dir, \"splitb_betas.csv\"))\n",
    "betas_c.to_csv(os.path.join(testdata_dir, \"splitc_betas.csv\"))"
   ]
  },
  {
   "cell_type": "markdown",
   "metadata": {},
   "source": [
    "## EWAS - Linear regression model"
   ]
  },
  {
   "cell_type": "markdown",
   "metadata": {},
   "source": [
    "Client side"
   ]
  },
  {
   "cell_type": "code",
   "execution_count": 13,
   "metadata": {},
   "outputs": [],
   "source": [
    "local_rega = lab_a.local_xtx_xty()\n",
    "local_regb = lab_b.local_xtx_xty()\n",
    "local_regc = lab_c.local_xtx_xty()"
   ]
  },
  {
   "cell_type": "markdown",
   "metadata": {},
   "source": [
    "Server side"
   ]
  },
  {
   "cell_type": "code",
   "execution_count": 14,
   "metadata": {},
   "outputs": [],
   "source": [
    "global_xtx, global_xty = serv.global_regression_parameter(local_rega, local_regb, local_regc)"
   ]
  },
  {
   "cell_type": "markdown",
   "metadata": {},
   "source": [
    "Client side"
   ]
  },
  {
   "cell_type": "code",
   "execution_count": 15,
   "metadata": {},
   "outputs": [],
   "source": [
    "EWAS_a = lab_a.calculate_EWAS_results(global_xtx, global_xty)\n",
    "EWAS_b = lab_b.calculate_EWAS_results(global_xtx, global_xty)\n",
    "EWAS_c = lab_c.calculate_EWAS_results(global_xtx, global_xty)"
   ]
  },
  {
   "cell_type": "code",
   "execution_count": 15,
   "metadata": {},
   "outputs": [],
   "source": [
    "# save the EWAS ouput\n",
    "EWAS_a.to_csv(os.path.join(testdata_dir, \"Results_EWASa.csv\"))\n",
    "EWAS_b.to_csv(os.path.join(testdata_dir, \"Results_EWASb.csv\"))\n",
    "EWAS_c.to_csv(os.path.join(testdata_dir, \"Results_EWASc.csv\"))"
   ]
  }
 ],
 "metadata": {
  "interpreter": {
   "hash": "57baa5815c940fdaff4d14510622de9616cae602444507ba5d0b6727c008cbd6"
  },
  "kernelspec": {
   "display_name": "Python 3.7.8 64-bit",
   "language": "python",
   "name": "python3"
  },
  "language_info": {
   "codemirror_mode": {
    "name": "ipython",
    "version": 3
   },
   "file_extension": ".py",
   "mimetype": "text/x-python",
   "name": "python",
   "nbconvert_exporter": "python",
   "pygments_lexer": "ipython3",
   "version": "3.7.8"
  },
  "orig_nbformat": 4
 },
 "nbformat": 4,
 "nbformat_minor": 2
}

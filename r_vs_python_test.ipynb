{
 "cells": [
  {
   "cell_type": "code",
   "execution_count": 1,
   "metadata": {},
   "outputs": [],
   "source": [
    "import pandas as pd\n",
    "import numpy as np\n",
    "import math\n",
    "import os"
   ]
  },
  {
   "cell_type": "code",
   "execution_count": 2,
   "metadata": {},
   "outputs": [],
   "source": [
    "testdata_dir = \"E:\\\\Msc Systems Biology\\\\MSB5000_Master_Thesis\\\\Practical work\\\\Federated_Differential_Methylation_Analysis\\\\Fed_test\""
   ]
  },
  {
   "cell_type": "markdown",
   "metadata": {},
   "source": [
    "## Dasen normalisation results evaluation  \n",
    "Comparing the betas calculated based on the dasen normalised methylated and unmethylated values obtained from the original R code (dasen() in the wateRmelon package), the centrally implemented pythonic translation of the dasen normalisation and the federated implementation of the pythonic translation of the dasen normalisation"
   ]
  },
  {
   "cell_type": "code",
   "execution_count": 3,
   "metadata": {},
   "outputs": [],
   "source": [
    "R_dasen = pd.read_csv(\"E:\\\\Msc Systems Biology\\\\MSB5000_Master_Thesis\\\\Practical work\\\\Data\\\\Data_Full_Datasets\\\\GSE66351\\\\Normalised_Betas.csv\" , index_col=0)\n",
    "R_dasen1 = pd.read_csv(\"E:\\\\Msc Systems Biology\\\\MSB5000_Master_Thesis\\\\Practical work\\\\Federated_Differential_Methylation_Analysis\\\\Output\\\\QC_GSE66351\\\\Preprocessed_betas.csv\", index_col=0)\n",
    "R_dasen_test = R_dasen1.iloc[0:21, :]\n",
    "Python_dasen = pd.read_csv(\"E:\\\\Msc Systems Biology\\\\MSB5000_Master_Thesis\\\\Practical work\\\\Federated_Differential_Methylation_Analysis\\\\Output\\\\all_probes_samples_normalised_betas.csv\", index_col=0)\n",
    "Federated_dasen = None"
   ]
  },
  {
   "cell_type": "code",
   "execution_count": 4,
   "metadata": {},
   "outputs": [
    {
     "name": "stdout",
     "output_type": "stream",
     "text": [
      "0.00012390597584849053\n"
     ]
    }
   ],
   "source": [
    "# absolute difference between the beta values\n",
    "if np.all(R_dasen.index == Python_dasen.index):\n",
    "    dasen_diff_python = pd.Series.abs((R_dasen) - Python_dasen) # the (* -1) negates the sign difference between python and r calculated\n",
    "    #regression coefficients\n",
    "else: print(\"different probes in the two dataframes\")\n",
    "\n",
    "average_absolute_diff_python_dasen = dasen_diff_python.mean(axis = 1)\n",
    "print(average_absolute_diff_python_dasen.mean())"
   ]
  },
  {
   "cell_type": "code",
   "execution_count": 33,
   "metadata": {},
   "outputs": [
    {
     "name": "stdout",
     "output_type": "stream",
     "text": [
      "cg00000029        3.115778e-07\n",
      "cg00000108        1.486560e-05\n",
      "cg00000109        9.469625e-06\n",
      "cg00000165        4.344477e-07\n",
      "cg00000236        1.359770e-05\n",
      "                      ...     \n",
      "ch.X.97129969R    7.627761e-07\n",
      "ch.X.97133160R    2.174946e-07\n",
      "ch.X.97651759F    4.763674e-08\n",
      "ch.X.97737721F    3.380399e-07\n",
      "ch.X.98007042R    4.918403e-08\n",
      "Length: 450837, dtype: float64\n",
      "cg00000029        0.000109\n",
      "cg00000108        0.000139\n",
      "cg00000109        0.000139\n",
      "cg00000165        0.000117\n",
      "cg00000236        0.000178\n",
      "                    ...   \n",
      "ch.X.97129969R    0.000214\n",
      "ch.X.97133160R    0.000085\n",
      "ch.X.97651759F    0.000058\n",
      "ch.X.97737721F    0.000033\n",
      "ch.X.98007042R    0.000143\n",
      "Length: 450837, dtype: float64\n"
     ]
    }
   ],
   "source": [
    "print(dasen_diff_python.min(axis = 1))\n",
    "print(dasen_diff_python.max(axis = 1))"
   ]
  },
  {
   "cell_type": "code",
   "execution_count": 34,
   "metadata": {},
   "outputs": [],
   "source": [
    "absolute_average_python = Python_dasen.mean(axis=1)\n",
    "absolute_average_R = R_dasen.mean(axis=1)"
   ]
  },
  {
   "cell_type": "code",
   "execution_count": 40,
   "metadata": {},
   "outputs": [
    {
     "data": {
      "text/plain": [
       "0.0007340976231107149"
      ]
     },
     "execution_count": 40,
     "metadata": {},
     "output_type": "execute_result"
    }
   ],
   "source": [
    "np.mean(((R_dasen - Python_dasen)/R_dasen).max(axis = 1))"
   ]
  },
  {
   "cell_type": "code",
   "execution_count": 31,
   "metadata": {},
   "outputs": [
    {
     "name": "stdout",
     "output_type": "stream",
     "text": [
      "0.002988128437193094\n",
      "2.853828284798965e-12\n"
     ]
    },
    {
     "data": {
      "text/plain": [
       "cg00000029        0.506374\n",
       "cg00000108        0.903468\n",
       "cg00000109        0.794115\n",
       "cg00000165        0.263778\n",
       "cg00000236        0.729786\n",
       "                    ...   \n",
       "ch.X.97129969R    0.351454\n",
       "ch.X.97133160R    0.565364\n",
       "ch.X.97651759F    0.579893\n",
       "ch.X.97737721F    0.414573\n",
       "ch.X.98007042R    0.503866\n",
       "Name: GSM2808926_3998920130_R02C01, Length: 450837, dtype: float64"
      ]
     },
     "execution_count": 31,
     "metadata": {},
     "output_type": "execute_result"
    }
   ],
   "source": [
    "absolute_av_diff = pd.Series.abs(absolute_average_R - absolute_average_python)\n",
    "print(absolute_av_diff.max())\n",
    "print(absolute_av_diff.min())\n",
    "Python_dasen.iloc[:,np.argmax(pd.Series.abs(R_dasen.iloc[np.argmax(absolute_av_diff), :]) - pd.Series.abs(Python_dasen.iloc[np.argmax(absolute_av_diff), :]))]\n"
   ]
  },
  {
   "cell_type": "code",
   "execution_count": 28,
   "metadata": {},
   "outputs": [
    {
     "data": {
      "text/plain": [
       "cg00000029        0.000173\n",
       "cg00000108        0.000159\n",
       "cg00000109        0.000189\n",
       "cg00000165        0.000444\n",
       "cg00000236        0.000224\n",
       "                    ...   \n",
       "ch.X.97129969R    0.000791\n",
       "ch.X.97133160R    0.000264\n",
       "ch.X.97651759F    0.000321\n",
       "ch.X.97737721F    0.000131\n",
       "ch.X.98007042R    0.000624\n",
       "Length: 450837, dtype: float64"
      ]
     },
     "execution_count": 28,
     "metadata": {},
     "output_type": "execute_result"
    }
   ],
   "source": [
    "np.max(pd.Series.abs((R_dasen) - Python_dasen)/R_dasen, axis = 1)"
   ]
  },
  {
   "cell_type": "code",
   "execution_count": 32,
   "metadata": {},
   "outputs": [
    {
     "data": {
      "text/plain": [
       "cg00000029        0.000103\n",
       "cg00000108        0.000148\n",
       "cg00000109        0.000167\n",
       "cg00000165        0.000147\n",
       "cg00000236        0.000168\n",
       "                    ...   \n",
       "ch.X.97129969R    0.000174\n",
       "ch.X.97133160R    0.000052\n",
       "ch.X.97651759F    0.000070\n",
       "ch.X.97737721F    0.000075\n",
       "ch.X.98007042R    0.000109\n",
       "Length: 450837, dtype: float64"
      ]
     },
     "execution_count": 32,
     "metadata": {},
     "output_type": "execute_result"
    }
   ],
   "source": [
    "# root mean square error between the pythonic/federated beta values and the r beta values (used as ground truth values)\n",
    "np.sqrt(pd.DataFrame.abs((R_dasen - Python_dasen).sum(axis=1)/len(R_dasen))) #for each probe"
   ]
  },
  {
   "cell_type": "markdown",
   "metadata": {},
   "source": [
    "## EWAS results evaluation"
   ]
  },
  {
   "cell_type": "code",
   "execution_count": 5,
   "metadata": {},
   "outputs": [],
   "source": [
    "\n",
    "R_EWAS = pd.read_csv(\"E:\\\\Msc Systems Biology\\\\MSB5000_Master_Thesis\\\\Practical work\\\\Federated_Differential_Methylation_Analysis\\\\EWAS_GSE66351\\\\Results_dataset_test.csv\", index_col=0)\n",
    "R_EWAS_test = R_EWAS.iloc[0:21,:]\n",
    "Python_EWAS = pd.read_csv(\"E:\\\\Msc Systems Biology\\\\MSB5000_Master_Thesis\\\\Practical work\\\\Federated_Differential_Methylation_Analysis\\\\Output\\\\results_diagnosis_regression_test_python.csv\", index_col=0)\n",
    "Federated_EWAS = pd.read_csv(os.path.join(testdata_dir, \"Results_EWASa.csv\"), header=[0,1], index_col=0)\n",
    "Federated_EWAS_test = Federated_EWAS.iloc[0:21,:]"
   ]
  },
  {
   "cell_type": "code",
   "execution_count": 6,
   "metadata": {},
   "outputs": [
    {
     "name": "stdout",
     "output_type": "stream",
     "text": [
      "0.0014490096474050697 0.05228027048083186\n"
     ]
    }
   ],
   "source": [
    "# check if the same probes are included in the test subset\n",
    "if np.all(R_EWAS_test.index == Python_EWAS.index):\n",
    "    coef_diff_python = pd.Series.abs((-1* R_EWAS_test[\"Diagnosis_Beta\"]) - Python_EWAS[\"Diagnosis_Coef\"]) # the (* -1) negates the sign difference between python and r calculated\n",
    "    #regression coefficients\n",
    "else: print(\"different probes in the two dataframes\")\n",
    "\n",
    "average_absolute_diff_python = coef_diff_python.mean()\n",
    "\n",
    "if np.all(R_EWAS_test.index == Federated_EWAS_test.index):\n",
    "    coef_diff_federated = pd.Series.abs((-1* R_EWAS_test[\"Diagnosis_Beta\"]) - Federated_EWAS_test[(\"Coefficient\", \"Diagnosis\")]) # the (* -1) negates the sign difference between python and r calculated\n",
    "    #regression coefficients\n",
    "else: print(\"different probes in the two dataframes\")\n",
    "\n",
    "average_absolute_diff_federated = coef_diff_federated.mean()\n",
    "\n",
    "print(average_absolute_diff_python, average_absolute_diff_federated)"
   ]
  },
  {
   "cell_type": "code",
   "execution_count": 23,
   "metadata": {},
   "outputs": [
    {
     "data": {
      "text/plain": [
       "0.0241536102793927"
      ]
     },
     "execution_count": 23,
     "metadata": {},
     "output_type": "execute_result"
    }
   ],
   "source": [
    "pd.Series.abs(sum(((R_EWAS_test[\"Diagnosis_Beta\"]*-1) - Federated_EWAS_test[(\"Coefficient\", \"Diagnosis\")]))/len(R_EWAS_test[\"Diagnosis_Beta\"]))"
   ]
  },
  {
   "cell_type": "code",
   "execution_count": 7,
   "metadata": {},
   "outputs": [
    {
     "name": "stdout",
     "output_type": "stream",
     "text": [
      "0.006869449574458739 0.1554143181286483\n"
     ]
    }
   ],
   "source": [
    "#check root mean square error between the r (ground truth) and python generated regression coefficients\n",
    "RMSE_python = math.sqrt(pd.Series.abs(sum(((R_EWAS_test[\"Diagnosis_Beta\"] * -1) - Python_EWAS[\"Diagnosis_Coef\"]))/len(R_EWAS_test[\"Diagnosis_Beta\"])))\n",
    "RMSE_federated = math.sqrt(pd.Series.abs(sum(((R_EWAS_test[\"Diagnosis_Beta\"]*-1) - Federated_EWAS_test[(\"Coefficient\", \"Diagnosis\")]))/len(R_EWAS_test[\"Diagnosis_Beta\"])))\n",
    "print(RMSE_python, RMSE_federated)"
   ]
  },
  {
   "cell_type": "markdown",
   "metadata": {},
   "source": [
    "## Federated results evaluation  \n",
    "Test how well it performs with imbalanced splits:  \n",
    "* Sample size imbalance  \n",
    "* Class lable imbalance"
   ]
  },
  {
   "cell_type": "code",
   "execution_count": null,
   "metadata": {},
   "outputs": [],
   "source": [
    "# load in the test data"
   ]
  }
 ],
 "metadata": {
  "interpreter": {
   "hash": "57baa5815c940fdaff4d14510622de9616cae602444507ba5d0b6727c008cbd6"
  },
  "kernelspec": {
   "display_name": "Python 3.7.8 64-bit",
   "language": "python",
   "name": "python3"
  },
  "language_info": {
   "codemirror_mode": {
    "name": "ipython",
    "version": 3
   },
   "file_extension": ".py",
   "mimetype": "text/x-python",
   "name": "python",
   "nbconvert_exporter": "python",
   "pygments_lexer": "ipython3",
   "version": "3.7.8"
  },
  "orig_nbformat": 4
 },
 "nbformat": 4,
 "nbformat_minor": 2
}

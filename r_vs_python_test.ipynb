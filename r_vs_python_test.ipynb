{
 "cells": [
  {
   "cell_type": "code",
   "execution_count": 1,
   "metadata": {},
   "outputs": [],
   "source": [
    "import pandas as pd\n",
    "import numpy as np\n",
    "import math\n",
    "import os"
   ]
  },
  {
   "cell_type": "code",
   "execution_count": 5,
   "metadata": {},
   "outputs": [],
   "source": [
    "testdata_dir = \"E:\\\\Msc Systems Biology\\\\MSB5000_Master_Thesis\\\\Practical work\\\\Federated_Differential_Methylation_Analysis\\\\Fed_test\"\n",
    "output = \"E:\\\\Msc Systems Biology\\\\MSB5000_Master_Thesis\\\\Practical work\\\\Data\\\\GSE66351_Fed\""
   ]
  },
  {
   "cell_type": "markdown",
   "metadata": {},
   "source": [
    "## Dasen normalisation results evaluation  \n",
    "Comparing the betas calculated based on the dasen normalised methylated and unmethylated values obtained from the original R code (dasen() in the wateRmelon package), the centrally implemented pythonic translation of the dasen normalisation and the federated implementation of the pythonic translation of the dasen normalisation"
   ]
  },
  {
   "cell_type": "code",
   "execution_count": 19,
   "metadata": {},
   "outputs": [],
   "source": [
    "R_dasen = pd.read_csv(\"E:\\\\Msc Systems Biology\\\\MSB5000_Master_Thesis\\\\Practical work\\\\Data\\\\Data_Full_Datasets\\\\GSE66351\\\\Normalised_Betas.csv\", index_col=0)\n",
    "\n",
    "Python_dasen = pd.read_csv(\"E:\\\\Msc Systems Biology\\\\MSB5000_Master_Thesis\\\\Practical work\\\\Federated_Differential_Methylation_Analysis\\\\Output\\\\all_probes_normalised_betas.csv\", index_col=0)\n",
    "Federated_dasen = pd.read_csv(os.path.join(output, \"even_split1_betas.csv\"), index_col=0)\n",
    "R_dasen_fed_compare = R_dasen.loc[Federated_dasen.index.values,set(R_dasen.columns.values).intersection(set(Federated_dasen.columns.values))]"
   ]
  },
  {
   "cell_type": "code",
   "execution_count": 33,
   "metadata": {},
   "outputs": [],
   "source": [
    "import dasen_normalisation\n",
    "unmet = pd.read_csv(\"E:\\\\Msc Systems Biology\\\\MSB5000_Master_Thesis\\\\Practical work\\\\Federated_Differential_Methylation_Analysis\\\\Output\\\\test_normalisation\\\\unmethylation.csv\", index_col=0)\n",
    "met = pd.read_csv(\"E:\\\\Msc Systems Biology\\\\MSB5000_Master_Thesis\\\\Practical work\\\\Federated_Differential_Methylation_Analysis\\\\Output\\\\test_normalisation\\\\methylation.csv\", index_col=0)\n",
    "probe_type_data = pd.read_csv(\"E:\\\\Msc Systems Biology\\\\MSB5000_Master_Thesis\\\\Practical work\\\\Federated_Differential_Methylation_Analysis\\\\Output\\\\test_normalisation\\\\probe_annotation.csv\", index_col=0)\n",
    "Python_dasen = dasen_normalisation.dasen_normalisation(unmet, met, probe_type_data.squeeze())"
   ]
  },
  {
   "cell_type": "code",
   "execution_count": 3,
   "metadata": {},
   "outputs": [
    {
     "name": "stdout",
     "output_type": "stream",
     "text": [
      "0.02387727695187572\n"
     ]
    }
   ],
   "source": [
    "# absolute difference between the beta values\n",
    "if np.all(R_dasen.index == Python_dasen.index):\n",
    "    dasen_diff_python = pd.Series.abs((R_dasen) - Python_dasen) # the (* -1) negates the sign difference between python and r calculated\n",
    "    #regression coefficients\n",
    "else: print(\"different probes in the two dataframes\")\n",
    "\n",
    "average_absolute_diff_python_dasen = dasen_diff_python.mean(axis = 1)\n",
    "print(average_absolute_diff_python_dasen.mean())"
   ]
  },
  {
   "cell_type": "code",
   "execution_count": 26,
   "metadata": {},
   "outputs": [
    {
     "name": "stdout",
     "output_type": "stream",
     "text": [
      "the absolute mean difference between r dasen and fed dasen is  2.424658631712162e-16\n",
      "the relative mean difference between r dasen and fed dasen is  7.42683422515883e-22\n"
     ]
    }
   ],
   "source": [
    "# absolute difference between the beta values\n",
    "if np.all(R_dasen_fed_compare.index == Federated_dasen.index):\n",
    "    dasen_diff_fed = pd.Series.abs(R_dasen_fed_compare - Federated_dasen) \n",
    "else: print(\"different probes in the two dataframes\")\n",
    "\n",
    "average_absolute_diff_fed_dasen = dasen_diff_fed.mean(axis = 1)\n",
    "print(\"the absolute mean difference between r dasen and fed dasen is \", average_absolute_diff_fed_dasen.mean())\n",
    "relative_fed_das_diff = dasen_diff_fed/len(R_dasen_fed_compare)\n",
    "print(\"the max relative difference between r dasen and fed dasen is \", relative_fed_das_diff.mean(axis=1).max())"
   ]
  },
  {
   "cell_type": "code",
   "execution_count": null,
   "metadata": {},
   "outputs": [],
   "source": [
    "# root mean square error between the pythonic/federated beta values and the r beta values (used as ground truth values)"
   ]
  },
  {
   "cell_type": "markdown",
   "metadata": {},
   "source": [
    "## EWAS results evaluation"
   ]
  },
  {
   "cell_type": "code",
   "execution_count": 8,
   "metadata": {},
   "outputs": [],
   "source": [
    "\n",
    "R_EWAS = pd.read_csv(\"E:\\\\Msc Systems Biology\\\\MSB5000_Master_Thesis\\\\Practical work\\\\Federated_Differential_Methylation_Analysis\\\\EWAS_GSE66351\\\\Results_dataset_test.csv\", index_col=0)\n",
    "R_EWAS_test = R_EWAS.iloc[0:21,:]\n",
    "Python_EWAS = pd.read_csv(\"E:\\\\Msc Systems Biology\\\\MSB5000_Master_Thesis\\\\Practical work\\\\Federated_Differential_Methylation_Analysis\\\\Output\\\\QC_GSE66351_PythonShell\\\\results_diagnosis_regression_test_python.csv\", index_col=0)\n",
    "Federated_EWAS = pd.read_csv(os.path.join(testdata_dir, \"Results_EWASa.csv\"), header=[0,1], index_col=0)\n",
    "Federated_EWAS_test = Federated_EWAS.iloc[0:21,:]"
   ]
  },
  {
   "cell_type": "code",
   "execution_count": 18,
   "metadata": {},
   "outputs": [
    {
     "name": "stdout",
     "output_type": "stream",
     "text": [
      "3.533879925419243e-14 0.05228027048083186\n"
     ]
    }
   ],
   "source": [
    "# check if the same probes are included in the test subset\n",
    "if np.all(R_EWAS_test.index == Python_EWAS.index):\n",
    "    coef_diff_python = pd.Series.abs((-1* R_EWAS_test[\"Diagnosis_Beta\"]) - Python_EWAS[\"Diagnosis_Coef\"]) # the (* -1) negates the sign difference between python and r calculated\n",
    "    #regression coefficients\n",
    "else: print(\"different probes in the two dataframes\")\n",
    "\n",
    "average_absolute_diff_python = coef_diff_python.mean()\n",
    "\n",
    "if np.all(R_EWAS_test.index == Federated_EWAS_test.index):\n",
    "    coef_diff_federated = pd.Series.abs((-1* R_EWAS_test[\"Diagnosis_Beta\"]) - Federated_EWAS_test[(\"Coefficient\", \"Diagnosis\")]) # the (* -1) negates the sign difference between python and r calculated\n",
    "    #regression coefficients\n",
    "else: print(\"different probes in the two dataframes\")\n",
    "\n",
    "average_absolute_diff_federated = coef_diff_federated.mean()\n",
    "\n",
    "print(average_absolute_diff_python, average_absolute_diff_federated)"
   ]
  },
  {
   "cell_type": "code",
   "execution_count": 23,
   "metadata": {},
   "outputs": [
    {
     "data": {
      "text/plain": [
       "0.0241536102793927"
      ]
     },
     "execution_count": 23,
     "metadata": {},
     "output_type": "execute_result"
    }
   ],
   "source": [
    "pd.Series.abs(sum(((R_EWAS_test[\"Diagnosis_Beta\"]*-1) - Federated_EWAS_test[(\"Coefficient\", \"Diagnosis\")]))/len(R_EWAS_test[\"Diagnosis_Beta\"]))"
   ]
  },
  {
   "cell_type": "code",
   "execution_count": 24,
   "metadata": {},
   "outputs": [
    {
     "name": "stdout",
     "output_type": "stream",
     "text": [
      "1.879861677203736e-07 0.1554143181286483\n"
     ]
    }
   ],
   "source": [
    "#check root mean square error between the r (ground truth) and python generated regression coefficients\n",
    "RMSE_python = math.sqrt(pd.Series.abs(sum(((R_EWAS_test[\"Diagnosis_Beta\"] * -1) - Python_EWAS[\"Diagnosis_Coef\"]))/len(R_EWAS_test[\"Diagnosis_Beta\"])))\n",
    "RMSE_federated = math.sqrt(pd.Series.abs(sum(((R_EWAS_test[\"Diagnosis_Beta\"]*-1) - Federated_EWAS_test[(\"Coefficient\", \"Diagnosis\")]))/len(R_EWAS_test[\"Diagnosis_Beta\"])))\n",
    "print(RMSE_python, RMSE_federated)"
   ]
  },
  {
   "cell_type": "markdown",
   "metadata": {},
   "source": [
    "## Federated results evaluation  \n",
    "Test how well it performs with imbalanced splits:  \n",
    "* Sample size imbalance  \n",
    "* Class lable imbalance"
   ]
  },
  {
   "cell_type": "code",
   "execution_count": null,
   "metadata": {},
   "outputs": [],
   "source": [
    "# load in the test data"
   ]
  }
 ],
 "metadata": {
  "interpreter": {
   "hash": "0a54084e6b208ee8d1ce3989ffc20924477a5f55f5a43e22e699a6741623861e"
  },
  "kernelspec": {
   "display_name": "Python 3.7.8 64-bit",
   "language": "python",
   "name": "python3"
  },
  "language_info": {
   "codemirror_mode": {
    "name": "ipython",
    "version": 3
   },
   "file_extension": ".py",
   "mimetype": "text/x-python",
   "name": "python",
   "nbconvert_exporter": "python",
   "pygments_lexer": "ipython3",
   "version": "3.7.8"
  },
  "orig_nbformat": 4
 },
 "nbformat": 4,
 "nbformat_minor": 2
}

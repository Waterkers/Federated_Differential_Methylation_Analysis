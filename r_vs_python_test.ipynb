{
 "cells": [
  {
   "cell_type": "code",
<<<<<<< HEAD
   "execution_count": 2,
=======
   "execution_count": 1,
>>>>>>> python_preprocessing_shell
   "metadata": {},
   "outputs": [],
   "source": [
    "import pandas as pd\n",
    "import numpy as np\n"
   ]
  },
  {
   "cell_type": "code",
<<<<<<< HEAD
   "execution_count": 10,
=======
   "execution_count": 2,
>>>>>>> python_preprocessing_shell
   "metadata": {},
   "outputs": [],
   "source": [
    "\n",
    "R_EWAS = pd.read_csv(\"E:\\\\Msc Systems Biology\\\\MSB5000_Master_Thesis\\\\Practical work\\\\Federated_Differential_Methylation_Analysis\\\\EWAS_GSE66351\\\\Results_dataset_test.csv\", index_col=0)\n",
    "R_EWAS_test = R_EWAS.iloc[0:21,:]\n",
    "Python_EWAS = pd.read_csv(\"E:\\\\Msc Systems Biology\\\\MSB5000_Master_Thesis\\\\Practical work\\\\Federated_Differential_Methylation_Analysis\\\\Output\\\\QC_GSE66351_PythonShell\\\\results_diagnosis_regression_test_python.csv\", index_col=0)"
   ]
  },
  {
   "cell_type": "code",
<<<<<<< HEAD
   "execution_count": 11,
=======
   "execution_count": 4,
>>>>>>> python_preprocessing_shell
   "metadata": {},
   "outputs": [
    {
     "name": "stdout",
     "output_type": "stream",
     "text": [
<<<<<<< HEAD
      "0.10042112758685359\n"
=======
      "3.533879925419243e-14\n"
>>>>>>> python_preprocessing_shell
     ]
    }
   ],
   "source": [
    "# check if the same probes are included in the test subset\n",
    "if np.all(R_EWAS_test.index == Python_EWAS.index):\n",
<<<<<<< HEAD
    "    coef_diff = pd.Series.abs(R_EWAS_test[\"Diagnosis_Beta\"] - Python_EWAS[\"Diagnosis_Coef\"])\n",
=======
    "    coef_diff = pd.Series.abs((-1 * R_EWAS_test[\"Diagnosis_Beta\"]) - Python_EWAS[\"Diagnosis_Coef\"])\n",
>>>>>>> python_preprocessing_shell
    "else: print(\"different probes in the two dataframes\")\n",
    "\n",
    "average_absolute_diff = coef_diff.mean()\n",
    "print(average_absolute_diff)"
   ]
<<<<<<< HEAD
  },
  {
   "cell_type": "code",
   "execution_count": 7,
   "metadata": {},
   "outputs": [
    {
     "data": {
      "text/plain": [
       "array([ True,  True,  True,  True,  True,  True,  True,  True,  True,\n",
       "        True,  True,  True,  True,  True,  True,  True,  True,  True,\n",
       "        True,  True,  True])"
      ]
     },
     "execution_count": 7,
     "metadata": {},
     "output_type": "execute_result"
    }
   ],
   "source": [
    "R_EWAS_test.index == Python_EWAS.index"
   ]
=======
>>>>>>> python_preprocessing_shell
  }
 ],
 "metadata": {
  "interpreter": {
   "hash": "57baa5815c940fdaff4d14510622de9616cae602444507ba5d0b6727c008cbd6"
  },
  "kernelspec": {
   "display_name": "Python 3.7.8 64-bit",
   "language": "python",
   "name": "python3"
  },
  "language_info": {
   "codemirror_mode": {
    "name": "ipython",
    "version": 3
   },
   "file_extension": ".py",
   "mimetype": "text/x-python",
   "name": "python",
   "nbconvert_exporter": "python",
   "pygments_lexer": "ipython3",
   "version": "3.7.8"
  },
  "orig_nbformat": 4
 },
 "nbformat": 4,
 "nbformat_minor": 2
}

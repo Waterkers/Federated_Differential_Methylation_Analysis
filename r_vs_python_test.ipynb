{
 "cells": [
  {
   "cell_type": "code",
   "execution_count": 6,
   "metadata": {},
   "outputs": [],
   "source": [
    "import pandas as pd\n",
    "import numpy as np\n",
    "import math\n"
   ]
  },
  {
   "cell_type": "markdown",
   "metadata": {},
   "source": [
    "## Dasen normalisation results evaluation  \n",
    "Comparing the betas calculated based on the dasen normalised methylated and unmethylated values obtained from the original R code (dasen() in the wateRmelon package), the centrally implemented pythonic translation of the dasen normalisation and the federated implementation of the pythonic translation of the dasen normalisation"
   ]
  },
  {
   "cell_type": "code",
   "execution_count": null,
   "metadata": {},
   "outputs": [],
   "source": [
    "R_dasen = None\n",
    "Python_dasen = None\n",
    "Federated_dasen = None"
   ]
  },
  {
   "cell_type": "code",
   "execution_count": null,
   "metadata": {},
   "outputs": [],
   "source": [
    "# absolute difference between the beta values"
   ]
  },
  {
   "cell_type": "code",
   "execution_count": null,
   "metadata": {},
   "outputs": [],
   "source": [
    "# root mean square error between the pythonic/federated beta values and the r beta values (used as ground truth values)"
   ]
  },
  {
   "cell_type": "markdown",
   "metadata": {},
   "source": [
    "## EWAS results evaluation"
   ]
  },
  {
   "cell_type": "code",
   "execution_count": 3,
   "metadata": {},
   "outputs": [],
   "source": [
    "\n",
    "R_EWAS = pd.read_csv(\"E:\\\\Msc Systems Biology\\\\MSB5000_Master_Thesis\\\\Practical work\\\\Federated_Differential_Methylation_Analysis\\\\EWAS_GSE66351\\\\Results_dataset_test.csv\", index_col=0)\n",
    "R_EWAS_test = R_EWAS.iloc[0:21,:]\n",
    "Python_EWAS = pd.read_csv(\"E:\\\\Msc Systems Biology\\\\MSB5000_Master_Thesis\\\\Practical work\\\\Federated_Differential_Methylation_Analysis\\\\Output\\\\QC_GSE66351_PythonShell\\\\results_diagnosis_regression_test_python.csv\", index_col=0)\n",
    "Federated_EWAS = None"
   ]
  },
  {
   "cell_type": "code",
   "execution_count": 5,
   "metadata": {},
   "outputs": [
    {
     "name": "stdout",
     "output_type": "stream",
     "text": [
      "3.533879925419243e-14\n"
     ]
    }
   ],
   "source": [
    "# check if the same probes are included in the test subset\n",
    "if np.all(R_EWAS_test.index == Python_EWAS.index):\n",
    "    coef_diff = pd.Series.abs((-1* R_EWAS_test[\"Diagnosis_Beta\"]) - Python_EWAS[\"Diagnosis_Coef\"]) # the (* -1) negates the sign difference between python and r calculated\n",
    "    #regression coefficients\n",
    "else: print(\"different probes in the two dataframes\")\n",
    "\n",
    "average_absolute_diff = coef_diff.mean()\n",
    "print(average_absolute_diff)"
   ]
  },
  {
   "cell_type": "code",
   "execution_count": 9,
   "metadata": {},
   "outputs": [
    {
     "name": "stdout",
     "output_type": "stream",
     "text": [
      "1.879861677203736e-07\n"
     ]
    }
   ],
   "source": [
    "#check root mean square error between the r (ground truth) and python generated regression coefficients\n",
    "RMSE = math.sqrt(sum(((R_EWAS_test[\"Diagnosis_Beta\"] * -1) - Python_EWAS[\"Diagnosis_Coef\"]))/len(R_EWAS_test[\"Diagnosis_Beta\"]))\n",
    "print(RMSE)"
   ]
  }
 ],
 "metadata": {
  "interpreter": {
   "hash": "57baa5815c940fdaff4d14510622de9616cae602444507ba5d0b6727c008cbd6"
  },
  "kernelspec": {
   "display_name": "Python 3.7.8 64-bit",
   "language": "python",
   "name": "python3"
  },
  "language_info": {
   "codemirror_mode": {
    "name": "ipython",
    "version": 3
   },
   "file_extension": ".py",
   "mimetype": "text/x-python",
   "name": "python",
   "nbconvert_exporter": "python",
   "pygments_lexer": "ipython3",
   "version": "3.7.8"
  },
  "orig_nbformat": 4
 },
 "nbformat": 4,
 "nbformat_minor": 2
}

{
 "cells": [
  {
   "cell_type": "markdown",
   "metadata": {},
   "source": [
    "#### Second attempt at the python version of the centralised part of the microarray methylation analysis workflow (Quality control upto normalisation)\n",
    "Using python as a shell to string together the specialised r functions used in the Exeter workflow"
   ]
  },
  {
   "cell_type": "markdown",
   "metadata": {},
   "source": [
    "Loading in the required modules/packages"
   ]
  },
  {
   "cell_type": "code",
   "execution_count": 1,
   "metadata": {},
   "outputs": [],
   "source": [
    "import pandas as pd\n",
    "import numpy as np\n",
    "import subprocess\n",
    "import csv\n",
    "import glob\n",
    "import os\n",
    "import re\n",
    "import seaborn as sns\n",
    "from matplotlib import pyplot as plt\n",
    "\n",
    "# stuff needed for some specific analysis - maybe not needed in this version of the code\n",
    "#from sklearn.decomposition import PCA \n",
    "#from scipy.stats import pearsonr\n",
    "#from sklearn.cluster import KMeans"
   ]
  },
  {
   "cell_type": "code",
   "execution_count": 2,
   "metadata": {},
   "outputs": [],
   "source": [
    "working_path = \"E:\\\\Msc Systems Biology\\\\MSB5000_Master_Thesis\\\\Practical work\\\\Federated_Differential_Methylation_Analysis\"\n",
    "data_path = \"E:\\\\Msc Systems Biology\\\\MSB5000_Master_Thesis\\\\Practical work\\\\Data\"\n",
    "output_path = \"E:\\\\Msc Systems Biology\\\\MSB5000_Master_Thesis\\Practical work\\\\Federated_Differential_Methylation_Analysis\\\\Output\"\n"
   ]
  },
  {
   "cell_type": "markdown",
   "metadata": {},
   "source": [
    "Use subprocess to read the data contained in the idat files into dataframe using the readEPIC function from the wateRmelon package in R"
   ]
  },
  {
   "cell_type": "markdown",
   "metadata": {},
   "source": [
    "### Creating an output file structure and loading in the idat files"
   ]
  },
  {
   "cell_type": "markdown",
   "metadata": {},
   "source": [
    "The input arguments of this script are: \n",
    "1. file_path to the folder containing the .idat files \n",
    "2. file_path to the phenotype information sheet (.txt) \n",
    "3. the directory where the output should be saved \n",
    "4. OPTIONAL the data identifier to be used in the creation of the output folders - this still needs to be fixed"
   ]
  },
  {
   "cell_type": "code",
   "execution_count": 7,
   "metadata": {},
   "outputs": [],
   "source": [
    "load_with_option = subprocess.run([\"C:\\\\Program Files\\\\R\\\\R-4.1.2\\\\bin\\\\Rscript.exe\", '--vanilla', \"E:\\\\Msc Systems Biology\\\\MSB5000_Master_Thesis\\\\Practical work\\\\Federated_Differential_Methylation_Analysis\\\\Loading_idats_code_saveOutput_python_shell.R\", \"E:\\\\Msc Systems Biology\\\\MSB5000_Master_Thesis\\\\Practical work\\\\Data\\\\GSE66351_RAW\\\\idat\", \"E:\\Msc Systems Biology\\MSB5000_Master_Thesis\\Practical work\\Data\\GSE66351_RAW\\GSE66351_pheno.txt\", \"E:\\\\Msc Systems Biology\\\\MSB5000_Master_Thesis\\Practical work\\\\Federated_Differential_Methylation_Analysis\\\\Output\", \"GSE66351a\"], capture_output=True)"
   ]
  },
  {
   "cell_type": "code",
   "execution_count": null,
   "metadata": {},
   "outputs": [],
   "source": [
    "print(load_with_option.stderr)"
   ]
  },
  {
   "cell_type": "markdown",
   "metadata": {},
   "source": [
    "Using subprocess to perform the complete preprocessing workflow upto the normalisation  \n",
    "This is the whole preprocessing run as one function in the r-script. The script takes 5 input arguments:  \n",
    "1. The file path of the folder containing the .idat files\n",
    "2. The phenotype information file\n",
    "3. The working directory where the output folder should be created\n",
    "4. The filepath to the illumina manifest file that contains the column \"CHR\" with the chromosome each probe is located on\n",
    "5. The identifier that should be included in the name of the output folder\n"
   ]
  },
  {
   "cell_type": "code",
   "execution_count": null,
   "metadata": {},
   "outputs": [],
   "source": [
    "script_path = \"E:\\\\Msc Systems Biology\\\\MSB5000_Master_Thesis\\\\Practical work\\\\Federated_Differential_Methylation_Analysis\\\\Preprocessing_Rscripts\\\\centralised_preprocessing_half.r\"\n",
    "idat_path = \"E:\\\\Msc Systems Biology\\\\MSB5000_Master_Thesis\\\\Practical work\\\\Data\\\\GSE66351_RAW\\\\idat\"\n",
    "pheno_path = \"E:\\Msc Systems Biology\\MSB5000_Master_Thesis\\Practical work\\Data\\GSE66351_RAW\\GSE66351_pheno.txt\"\n",
    "output_dump = \"E:\\\\Msc Systems Biology\\\\MSB5000_Master_Thesis\\Practical work\\\\Federated_Differential_Methylation_Analysis\\\\Output\"\n",
    "manifest_path = \"E:\\Msc Systems Biology\\\\MSB5000_Master_Thesis\\\\Practical work\\\\Data\\\\GSE66351_RAW\\\\GSE66351\\\\GPL13534_HumanMethylation450_15017482_v.1.1.csv\"\n",
    "identifier = \"GSE66351\""
   ]
  },
  {
   "cell_type": "code",
   "execution_count": 3,
   "metadata": {},
   "outputs": [],
   "source": [
    "central_preprocessing = subprocess.run([\"C:\\\\Program Files\\\\R\\\\R-4.1.2\\\\bin\\\\Rscript.exe\", '--vanilla', \"E:\\\\Msc Systems Biology\\\\MSB5000_Master_Thesis\\\\Practical work\\\\Federated_Differential_Methylation_Analysis\\\\Preprocessing_Rscripts\\\\centralised_preprocessing_half.r\", \"E:\\\\Msc Systems Biology\\\\MSB5000_Master_Thesis\\\\Practical work\\\\Data\\\\GSE66351_RAW\\\\idat\", \"E:\\Msc Systems Biology\\MSB5000_Master_Thesis\\Practical work\\Data\\GSE66351_RAW\\GSE66351_pheno.txt\", \"E:\\\\Msc Systems Biology\\\\MSB5000_Master_Thesis\\Practical work\\\\Federated_Differential_Methylation_Analysis\\\\Output\", \"E:\\Msc Systems Biology\\\\MSB5000_Master_Thesis\\\\Practical work\\\\Data\\\\GSE66351_RAW\\\\GSE66351\\\\GPL13534_HumanMethylation450_15017482_v.1.1.csv\", \"GSE66351\"], capture_output = True)"
   ]
  },
  {
   "cell_type": "code",
   "execution_count": null,
   "metadata": {},
   "outputs": [],
   "source": [
    "#check what happend in the subprocess\n",
    "print(central_preprocessing.stderr)"
   ]
  },
  {
   "cell_type": "markdown",
   "metadata": {},
   "source": [
    "Next step is to normalise the data, this step will be offered centrally and distributed/federated to be flexible to the researchers needs  \n",
    "Below a implementation of the normalisation algorithm behind the dasen function in the wateRmelon package is provided"
   ]
  },
  {
   "cell_type": "markdown",
   "metadata": {},
   "source": [
    "Dasen normalisation is a form of quantile normalisation that is performed for the two probe types seperately. The normalised data (betas), per probe type, are calculated using the normalised methylated and unmethylated intensities of each probe type.  \n",
    "    betas (per probe) = quantile normalised methylated intensities / (quantile normalised methylated intensities + quantile normalised unmethylated intensities + 100)  \n",
    "The first step is to write the quantile normalisation function  \n",
    "  \n",
    "The python version of the dasen normalisation used in r can be found in the dasen_normalisation module"
   ]
  },
  {
   "cell_type": "code",
   "execution_count": 3,
   "metadata": {},
   "outputs": [],
   "source": [
    "# Creating and loading the data to test the dasen normalisation translation\n",
    "\n",
    "#create the probe-type annotation object\n",
    "annotation_data = pd.read_csv(\"E:\\\\Msc Systems Biology\\\\MSB5000_Master_Thesis\\\\Practical work\\\\Data\\\\GSE66351_RAW\\\\GPL13534_HumanMethylation450_15017482_v.1.1.csv\", skiprows=7, index_col=0, low_memory=False)\n",
    "#annotation_data.set_index(annotation_data[\"IlmnID\"], inplace=True)\n",
    "probe_type_data = annotation_data.loc[:, \"Infinium_Design_Type\"]\n",
    "#match it to the normalised data\n",
    "meth = pd.read_csv(\"E:\\\\Msc Systems Biology\\\\MSB5000_Master_Thesis\\\\Practical work\\\\Federated_Differential_Methylation_Analysis\\\\Output\\\\QC_GSE66351\\\\Preprocessed_methylated_intensities.csv\", index_col=0)\n",
    "probe_type_data = probe_type_data.loc[list(set(probe_type_data.index.values).intersection(set(meth.index.values)))]\n",
    "# load the unmethylated data\n",
    "unmeth = pd.read_csv(\"E:\\\\Msc Systems Biology\\\\MSB5000_Master_Thesis\\\\Practical work\\\\Federated_Differential_Methylation_Analysis\\\\Output\\\\QC_GSE66351\\\\Preprocessed_unmethylated_intensities.csv\", index_col =0)"
   ]
  },
  {
   "cell_type": "code",
   "execution_count": 4,
   "metadata": {},
   "outputs": [],
   "source": [
    "import dasen_normalisation\n",
    "test_normalised_betas_module = dasen_normalisation.dasen_normalisation(unmeth, meth, probe_type_data)\n",
    "test_normalised_betas_module.to_csv(os.path.join(output_path, \"all_probes_normalised_betas.csv\"))"
   ]
  },
  {
   "cell_type": "markdown",
   "metadata": {},
   "source": [
    "R script containing the RefFreeEWAS cell type decomposition which will be run in a subprocess, output saved and added to the phenotype information that will be used in the EWAS furhter down in this file"
   ]
  },
  {
   "cell_type": "code",
   "execution_count": 18,
   "metadata": {},
   "outputs": [],
   "source": [
    "# specifying the paths that go into the subprocess function\n",
    "file_path = os.path.join(working_path, \"RefFreeEWAS_local.r\") #this one requires .RData input\n",
    "data_path = os.path.join(output_path, \"QC_GSE66351\", \"preprocessed_MethyLumiSet.RData\") #try again with different input data\n",
    "manifest_path = \"E:\\\\Msc Systems Biology\\\\MSB5000_Master_Thesis\\\\Practical work\\\\Data\\\\GSE66351_RAW\\\\GPL13534_HumanMethylation450_15017482_v.1.1.csv\"\n",
    "pheno_path = os.path.join(output_path, \"QC_GSE66351\", \"pre_norm_pheno_information.csv\")\n",
    "output_dir = os.path.join(output_path, \"QC_GSE66351\")\n",
    "\n",
    "\n",
    "# RefFreeEWAS subprocess\n",
    "RefFreeEWAS_RData = subprocess.run([\"C:\\\\Program Files\\\\R\\\\R-4.1.2\\\\bin\\\\Rscript.exe\", '--vanilla', file_path, data_path, pheno_path, manifest_path, output_dir], capture_output=True)\n",
    "RefFreeEWAS_RData.stdout"
   ]
  },
  {
   "cell_type": "markdown",
   "metadata": {},
   "source": [
    "RefFreeEWAS for local input (.csv file with normalised betas)"
   ]
  },
  {
   "cell_type": "code",
   "execution_count": 34,
   "metadata": {},
   "outputs": [],
   "source": [
    "# specifying the paths that go into the subprocess function\n",
    "file_path = os.path.join(working_path, \"RefFreeEWAS_local_csvinput.r\") \n",
    "data_path = os.path.join(output_path, \"QC_GSE66351\", \"Preprocessed_betas.csv\") \n",
    "manifest_path = \"E:\\\\Msc Systems Biology\\\\MSB5000_Master_Thesis\\\\Practical work\\\\Data\\\\GSE66351_RAW\\\\GPL13534_HumanMethylation450_15017482_v.1.1.csv\"\n",
    "pheno_path = os.path.join(output_path, \"QC_GSE66351\", \"pre_norm_pheno_information.csv\")\n",
    "output_dir = os.path.join(output_path, \"QC_GSE66351\")\n",
    "\n",
    "\n",
    "# RefFreeEWAS subprocess\n",
    "RefFreeEWAS = subprocess.run([\"C:\\\\Program Files\\\\R\\\\R-4.1.2\\\\bin\\\\Rscript.exe\", '--vanilla', file_path, data_path, pheno_path, manifest_path, output_dir], capture_output=True)\n",
    "RefFreeEWAS.stdout"
   ]
  },
  {
   "cell_type": "markdown",
   "metadata": {},
   "source": [
    "EWAS code, based on the least squares linear algebra as used in the fortran code at the foundation of the lm() function in r"
   ]
  },
  {
   "cell_type": "code",
   "execution_count": 3,
   "metadata": {},
   "outputs": [],
   "source": [
    "#EWAS\n",
    "\n",
    "import numpy as np\n",
    "import pandas as pd\n",
    "\n",
    "pheno = pd.read_csv(\"E:\\\\Msc Systems Biology\\\\MSB5000_Master_Thesis\\\\Practical work\\\\Federated_Differential_Methylation_Analysis\\\\Output\\\\QC_GSE66351_PythonShell\\\\post_norm_pheno_information.csv\", index_col= \"Sample_ID\")\n",
    "betas = pd.read_csv(\"E:\\\\Msc Systems Biology\\\\MSB5000_Master_Thesis\\\\Practical work\\\\Federated_Differential_Methylation_Analysis\\Output\\\\QC_GSE66351_PythonShell\\\\Preprocessed_betas.csv\", index_col=0)\n",
    "x = pheno.loc[:,[\"Sample_diagnosis\", \"Sample_age\", \"Sample_sex\", \"Sample_sentrix_id\"]] # design matrix with the dependent/explainatory variables to be included in the model\n",
    "y = betas.iloc[0:21,:] # keeping it small now to test if everything works the way it should\n",
    "\n",
    "# The design matrix needs to consist of numeric representations of the covariates to be included in the model, i.e. binary diagnosis, binary sex, dummy sentrix etc.\n",
    "x[\"Sample_diagnosis\"] = (x[\"Sample_diagnosis\"] == \"diagnosis: AD\").astype(int) #create binary diagnosis with 1 = AD and 0 = CTR\n",
    "x[\"Sample_sex\"] = (x[\"Sample_sex\"] == \"Sex: F\").astype(int) #create binary sex with 1 = F and 0 = M\n",
    "# create dummy variables for the unique sentrix_ids present in the dataset - this code can be reused to create center number dummies in the federated version of the code\n",
    "unique_ids = x[\"Sample_sentrix_id\"].unique()\n",
    "for id in unique_ids:\n",
    "    x[id] = (x[\"Sample_sentrix_id\"] == id).astype(int)\n",
    "x.drop(columns=\"Sample_sentrix_id\", inplace = True)\n",
    "# turn the age variable into a continuous numerical variable without any leftover text\n",
    "x[\"Sample_age\"].replace(\"^[^:]*:\", \"\", regex=True, inplace=True)\n",
    "x[\"Sample_age\"] = pd.to_numeric(x[\"Sample_age\"])\n",
    "\n",
    "def EWAS_central(design_matrix, beta_values):\n",
    "    x_matrix = design_matrix.values\n",
    "    y_matrix = beta_values.values\n",
    "\n",
    "\n",
    "    n = y_matrix.shape[0] # select the number of rows of the beta matrix - #genes that the linear model will be calculated for\n",
    "    m = x.shape[1] #select the number of columns from the design matrix\n",
    "\n",
    "    import scipy.stats\n",
    "\n",
    "    coefficient = []\n",
    "    standard_error = []\n",
    "    t_stat = []\n",
    "    p_value = []\n",
    "    for i in range(0, n):\n",
    "        y_m = y_matrix[i, :]\n",
    "        x_t = x_matrix.T @ x_matrix\n",
    "        x_t_y = x_matrix.T @ y_m\n",
    "        x_t_inv = np.linalg.inv(x_t)\n",
    "        coef = x_t_inv @ x_t_y\n",
    "        coefficient.append(coef)\n",
    "        stan_er = np.diag(x_t_inv)\n",
    "        standard_error.append(stan_er)\n",
    "        t = coef/stan_er\n",
    "        t_stat.append(t)\n",
    "        df = y_matrix.shape[1]-2 #degrees of freedom is defined as number of observations - 2 \n",
    "        p = scipy.stats.t.sf(t, df)\n",
    "        p_value.append(p)\n",
    "\n",
    "#turn the results saved in lists into a dataframe for each covariate with the probe ids as index\n",
    "    result_coef = pd.DataFrame(coefficient, index=y.index, columns=x.columns)\n",
    "    result_staner = pd.DataFrame(standard_error, index = y.index, columns=x.columns)\n",
    "    result_tvalue = pd.DataFrame(t_stat, index=y.index, columns=x.columns)\n",
    "    result_pvalue = pd.DataFrame(p_value, index=y.index, columns=x.columns)\n",
    "\n",
    "#create a final results dataframe that contains the coefficient, standard error and p-value of the diagnosis covariate included in the linear regression\n",
    "    results_diagnosis = pd.DataFrame({\"Diagnosis_Coef\":result_coef[\"Sample_diagnosis\"], \"Diagnosis_StanErr\":result_staner[\"Sample_diagnosis\"], \"Diagnosis_Pvalue\":result_pvalue[\"Sample_diagnosis\"]}, index=y.index)\n",
    "    results_diagnosis.to_csv(os.path.join(output_path, \"results_diagnosis_regression_test_python.csv\"))\n",
    "    return results_diagnosis\n",
    "\n",
    "  \n"
   ]
  },
  {
   "cell_type": "markdown",
   "metadata": {},
   "source": [
    "Create a .bed structured text file with the regression output to be used as input into the differentially methylated region analysis"
   ]
  },
  {
   "cell_type": "code",
   "execution_count": 63,
   "metadata": {},
   "outputs": [],
   "source": [
    "# start with importing the probe information from the .bed file that is available through the encord project (?)\n",
    "bed_annotation = pd.read_csv(\"E:\\\\Msc Systems Biology\\\\MSB5000_Master_Thesis\\\\Practical work\\\\Data\\\\HAIB.A549.EtOH.Rep.3.bed\", sep=\"\\t\", header=None)\n",
    "# select the three necessary column, chr, start, stop from the annotation file and match these to the probes in the EWAS input betas based on probe ID\n",
    "bed_annotation = bed_annotation.iloc[:,0:4]\n",
    "bed_annotation.columns = [\"chr\", \"ChromStart\", \"ChromEnd\", \"Illumina_ID\"]\n",
    "# merge the regression output onto the .bed standard columns based on the probe ID\n",
    "results_bed = pd.merge(bed_annotation, results_diagnosis, left_on=\"Illumina_ID\", right_index=True, how=\"inner\") #using inner join since this preserves the order of the keys and\n",
    "# only keeps the entries that are present in both dataframes\n",
    "results_bed.set_index(results_bed[\"Illumina_ID\"], inplace=True)\n",
    "# write the dataframe as a tab separated .bed file\n",
    "results_bed.to_csv(os.path.join(output_path, \"results_diagnosis_regression_test.bed\"), sep=\"\\t\")"
   ]
  }
 ],
 "metadata": {
  "interpreter": {
   "hash": "57baa5815c940fdaff4d14510622de9616cae602444507ba5d0b6727c008cbd6"
  },
  "kernelspec": {
   "display_name": "Python 3.7.8 64-bit",
   "language": "python",
   "name": "python3"
  },
  "language_info": {
   "codemirror_mode": {
    "name": "ipython",
    "version": 3
   },
   "file_extension": ".py",
   "mimetype": "text/x-python",
   "name": "python",
   "nbconvert_exporter": "python",
   "pygments_lexer": "ipython3",
   "version": "3.7.8"
  },
  "orig_nbformat": 4
 },
 "nbformat": 4,
 "nbformat_minor": 2
}

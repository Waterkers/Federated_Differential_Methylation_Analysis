{
 "cells": [
  {
   "cell_type": "markdown",
   "metadata": {},
   "source": [
    "#### Second attempt at the python version of the centralised part of the microarray methylation analysis workflow (Quality control upto normalisation)\n",
    "Using python as a shell to string together the specialised r functions used in the Exeter workflow"
   ]
  },
  {
   "cell_type": "markdown",
   "metadata": {},
   "source": [
    "Loading in the required modules/packages"
   ]
  },
  {
   "cell_type": "code",
   "execution_count": 1,
   "metadata": {},
   "outputs": [],
   "source": [
    "import pandas as pd\n",
    "import numpy as np\n",
    "import subprocess\n",
    "import csv\n",
    "import glob\n",
    "import os\n",
    "import re\n",
    "import seaborn as sns\n",
    "from matplotlib import pyplot as plt\n",
    "\n",
    "# stuff needed for some specific analysis - maybe not needed in this version of the code\n",
    "#from sklearn.decomposition import PCA \n",
    "#from scipy.stats import pearsonr\n",
    "#from sklearn.cluster import KMeans"
   ]
  },
  {
   "cell_type": "code",
   "execution_count": 2,
   "metadata": {},
   "outputs": [],
   "source": [
    "working_path = \"E:\\\\Msc Systems Biology\\\\MSB5000_Master_Thesis\\\\Practical work\\\\Federated_Differential_Methylation_Analysis\"\n",
    "data_path = \"E:\\\\Msc Systems Biology\\\\MSB5000_Master_Thesis\\\\Practical work\\\\Data\"\n",
    "output_path = \"E:\\\\Msc Systems Biology\\\\MSB5000_Master_Thesis\\Practical work\\\\Federated_Differential_Methylation_Analysis\\\\Output\"\n"
   ]
  },
  {
   "cell_type": "markdown",
   "metadata": {},
   "source": [
    "Use subprocess to read the data contained in the idat files into dataframe using the readEPIC function from the wateRmelon package in R"
   ]
  },
  {
   "cell_type": "markdown",
   "metadata": {},
   "source": [
    "### Creating an output file structure and loading in the idat files"
   ]
  },
  {
   "cell_type": "markdown",
   "metadata": {},
   "source": [
    "The input arguments of this script are: \n",
    "1. file_path to the folder containing the .idat files \n",
    "2. file_path to the phenotype information sheet (.txt) \n",
    "3. the directory where the output should be saved \n",
    "4. OPTIONAL the data identifier to be used in the creation of the output folders - this still needs to be fixed"
   ]
  },
  {
   "cell_type": "code",
   "execution_count": 7,
   "metadata": {},
   "outputs": [],
   "source": [
    "load_with_option = subprocess.run([\"C:\\\\Program Files\\\\R\\\\R-4.1.2\\\\bin\\\\Rscript.exe\", '--vanilla', \"E:\\\\Msc Systems Biology\\\\MSB5000_Master_Thesis\\\\Practical work\\\\Federated_Differential_Methylation_Analysis\\\\Loading_idats_code_saveOutput_python_shell.R\", \"E:\\\\Msc Systems Biology\\\\MSB5000_Master_Thesis\\\\Practical work\\\\Data\\\\GSE66351_RAW\\\\idat\", \"E:\\Msc Systems Biology\\MSB5000_Master_Thesis\\Practical work\\Data\\GSE66351_RAW\\GSE66351_pheno.txt\", \"E:\\\\Msc Systems Biology\\\\MSB5000_Master_Thesis\\Practical work\\\\Federated_Differential_Methylation_Analysis\\\\Output\", \"GSE66351a\"], capture_output=True)"
   ]
  },
  {
   "cell_type": "code",
   "execution_count": null,
   "metadata": {},
   "outputs": [],
   "source": [
    "print(load_with_option.stderr)"
   ]
  },
  {
   "cell_type": "markdown",
   "metadata": {},
   "source": [
    "Using subprocess to perform the complete preprocessing workflow upto the normalisation  \n",
    "This is the whole preprocessing run as one function in the r-script. The script takes 5 input arguments:  \n",
    "1. The file path of the folder containing the .idat files\n",
    "2. The phenotype information file\n",
    "3. The working directory where the output folder should be created\n",
    "4. The filepath to the illumina manifest file that contains the column \"CHR\" with the chromosome each probe is located on\n",
    "5. The identifier that should be included in the name of the output folder\n"
   ]
  },
  {
   "cell_type": "code",
   "execution_count": null,
   "metadata": {},
   "outputs": [],
   "source": [
    "script_path = \"E:\\\\Msc Systems Biology\\\\MSB5000_Master_Thesis\\\\Practical work\\\\Federated_Differential_Methylation_Analysis\\\\Preprocessing_Rscripts\\\\centralised_preprocessing_half.r\"\n",
    "idat_path = \"E:\\\\Msc Systems Biology\\\\MSB5000_Master_Thesis\\\\Practical work\\\\Data\\\\GSE66351_RAW\\\\idat\"\n",
    "pheno_path = \"E:\\Msc Systems Biology\\MSB5000_Master_Thesis\\Practical work\\Data\\GSE66351_RAW\\GSE66351_pheno.txt\"\n",
    "output_dump = \"E:\\\\Msc Systems Biology\\\\MSB5000_Master_Thesis\\Practical work\\\\Federated_Differential_Methylation_Analysis\\\\Output\"\n",
    "manifest_path = \"E:\\Msc Systems Biology\\\\MSB5000_Master_Thesis\\\\Practical work\\\\Data\\\\GSE66351_RAW\\\\GSE66351\\\\GPL13534_HumanMethylation450_15017482_v.1.1.csv\"\n",
    "identifier = \"GSE66351\""
   ]
  },
  {
   "cell_type": "code",
   "execution_count": 3,
   "metadata": {},
   "outputs": [],
   "source": [
    "central_preprocessing = subprocess.run([\"C:\\\\Program Files\\\\R\\\\R-4.1.2\\\\bin\\\\Rscript.exe\", '--vanilla', \"E:\\\\Msc Systems Biology\\\\MSB5000_Master_Thesis\\\\Practical work\\\\Federated_Differential_Methylation_Analysis\\\\Preprocessing_Rscripts\\\\centralised_preprocessing_half.r\", \"E:\\\\Msc Systems Biology\\\\MSB5000_Master_Thesis\\\\Practical work\\\\Data\\\\GSE66351_RAW\\\\idat\", \"E:\\Msc Systems Biology\\MSB5000_Master_Thesis\\Practical work\\Data\\GSE66351_RAW\\GSE66351_pheno.txt\", \"E:\\\\Msc Systems Biology\\\\MSB5000_Master_Thesis\\Practical work\\\\Federated_Differential_Methylation_Analysis\\\\Output\", \"E:\\Msc Systems Biology\\\\MSB5000_Master_Thesis\\\\Practical work\\\\Data\\\\GSE66351_RAW\\\\GSE66351\\\\GPL13534_HumanMethylation450_15017482_v.1.1.csv\", \"GSE66351\"], capture_output = True)"
   ]
  },
  {
   "cell_type": "code",
   "execution_count": 4,
   "metadata": {},
   "outputs": [
    {
     "name": "stdout",
     "output_type": "stream",
     "text": [
      "b'Bioconductor version 3.14 (BiocManager 1.30.16), R 4.1.2 (2021-11-01)\\r\\nInstallation paths not writeable, unable to update packages\\r\\n  path: C:/Program Files/R/R-4.1.2/library\\r\\n  packages:\\r\\n    class, cluster, foreign, MASS, Matrix, mgcv, nlme, nnet, rpart, spatial,\\r\\n    survival\\r\\nOld packages: \\'AnnotationHub\\', \\'beanplot\\', \\'BiocManager\\', \\'blob\\', \\'broom\\',\\r\\n  \\'checkmate\\', \\'cli\\', \\'clipr\\', \\'colorspace\\', \\'commonmark\\', \\'crayon\\',\\r\\n  \\'dichromat\\', \\'dplyr\\', \\'DT\\', \\'ensembldb\\', \\'evaluate\\', \\'fansi\\', \\'formatR\\',\\r\\n  \\'GenomicFeatures\\', \\'glue\\', \\'Gviz\\', \\'haven\\', \\'Hmisc\\', \\'jsonlite\\', \\'knitr\\',\\r\\n  \\'limma\\', \\'locfit\\', \\'magrittr\\', \\'matrixStats\\', \\'openssl\\', \\'plyr\\', \\'processx\\',\\r\\n  \\'ps\\', \\'RColorBrewer\\', \\'Rcpp\\', \\'RCurl\\', \\'readxl\\', \\'reshape\\', \\'rhdf5\\', \\'rlang\\',\\r\\n  \\'rmarkdown\\', \\'RSQLite\\', \\'S4Vectors\\', \\'sass\\', \\'scales\\', \\'tidyselect\\',\\r\\n  \\'tinytex\\', \\'tzdb\\', \\'uuid\\', \\'vctrs\\', \\'withr\\', \\'xfun\\', \\'XML\\', \\'yaml\\'\\r\\nWarning message:\\r\\npackage(s) not installed when version(s) same as current; use `force = TRUE` to\\r\\n  re-install: \\'wateRmelon\\' \\'methylumi\\' \\'ChAMP\\' \\r\\nLoading required package: Biobase\\r\\nLoading required package: BiocGenerics\\r\\n\\r\\nAttaching package: \\'BiocGenerics\\'\\r\\n\\r\\nThe following objects are masked from \\'package:stats\\':\\r\\n\\r\\n    IQR, mad, sd, var, xtabs\\r\\n\\r\\nThe following objects are masked from \\'package:base\\':\\r\\n\\r\\n    anyDuplicated, append, as.data.frame, basename, cbind, colnames,\\r\\n    dirname, do.call, duplicated, eval, evalq, Filter, Find, get, grep,\\r\\n    grepl, intersect, is.unsorted, lapply, Map, mapply, match, mget,\\r\\n    order, paste, pmax, pmax.int, pmin, pmin.int, Position, rank,\\r\\n    rbind, Reduce, rownames, sapply, setdiff, sort, table, tapply,\\r\\n    union, unique, unsplit, which.max, which.min\\r\\n\\r\\nWelcome to Bioconductor\\r\\n\\r\\n    Vignettes contain introductory material; view with\\r\\n    \\'browseVignettes()\\'. To cite Bioconductor, see\\r\\n    \\'citation(\"Biobase\")\\', and for packages \\'citation(\"pkgname\")\\'.\\r\\n\\r\\nLoading required package: limma\\r\\n\\r\\nAttaching package: \\'limma\\'\\r\\n\\r\\nThe following object is masked from \\'package:BiocGenerics\\':\\r\\n\\r\\n    plotMA\\r\\n\\r\\nLoading required package: matrixStats\\r\\n\\r\\nAttaching package: \\'matrixStats\\'\\r\\n\\r\\nThe following objects are masked from \\'package:Biobase\\':\\r\\n\\r\\n    anyMissing, rowMedians\\r\\n\\r\\nLoading required package: methylumi\\r\\nLoading required package: scales\\r\\nLoading required package: reshape2\\r\\nLoading required package: ggplot2\\r\\nLoading required package: FDb.InfiniumMethylation.hg19\\r\\nLoading required package: GenomicFeatures\\r\\nLoading required package: S4Vectors\\r\\nLoading required package: stats4\\r\\n\\r\\nAttaching package: \\'S4Vectors\\'\\r\\n\\r\\nThe following objects are masked from \\'package:base\\':\\r\\n\\r\\n    expand.grid, I, unname\\r\\n\\r\\nLoading required package: IRanges\\r\\n\\r\\nAttaching package: \\'IRanges\\'\\r\\n\\r\\nThe following object is masked from \\'package:grDevices\\':\\r\\n\\r\\n    windows\\r\\n\\r\\nLoading required package: GenomeInfoDb\\r\\nLoading required package: GenomicRanges\\r\\nLoading required package: AnnotationDbi\\r\\nLoading required package: TxDb.Hsapiens.UCSC.hg19.knownGene\\r\\nLoading required package: org.Hs.eg.db\\r\\n\\r\\nLoading required package: minfi\\r\\nLoading required package: SummarizedExperiment\\r\\nLoading required package: MatrixGenerics\\r\\n\\r\\nAttaching package: \\'MatrixGenerics\\'\\r\\n\\r\\nThe following objects are masked from \\'package:matrixStats\\':\\r\\n\\r\\n    colAlls, colAnyNAs, colAnys, colAvgsPerRowSet, colCollapse,\\r\\n    colCounts, colCummaxs, colCummins, colCumprods, colCumsums,\\r\\n    colDiffs, colIQRDiffs, colIQRs, colLogSumExps, colMadDiffs,\\r\\n    colMads, colMaxs, colMeans2, colMedians, colMins, colOrderStats,\\r\\n    colProds, colQuantiles, colRanges, colRanks, colSdDiffs, colSds,\\r\\n    colSums2, colTabulates, colVarDiffs, colVars, colWeightedMads,\\r\\n    colWeightedMeans, colWeightedMedians, colWeightedSds,\\r\\n    colWeightedVars, rowAlls, rowAnyNAs, rowAnys, rowAvgsPerColSet,\\r\\n    rowCollapse, rowCounts, rowCummaxs, rowCummins, rowCumprods,\\r\\n    rowCumsums, rowDiffs, rowIQRDiffs, rowIQRs, rowLogSumExps,\\r\\n    rowMadDiffs, rowMads, rowMaxs, rowMeans2, rowMedians, rowMins,\\r\\n    rowOrderStats, rowProds, rowQuantiles, rowRanges, rowRanks,\\r\\n    rowSdDiffs, rowSds, rowSums2, rowTabulates, rowVarDiffs, rowVars,\\r\\n    rowWeightedMads, rowWeightedMeans, rowWeightedMedians,\\r\\n    rowWeightedSds, rowWeightedVars\\r\\n\\r\\nThe following object is masked from \\'package:Biobase\\':\\r\\n\\r\\n    rowMedians\\r\\n\\r\\nLoading required package: Biostrings\\r\\nLoading required package: XVector\\r\\n\\r\\nAttaching package: \\'Biostrings\\'\\r\\n\\r\\nThe following object is masked from \\'package:base\\':\\r\\n\\r\\n    strsplit\\r\\n\\r\\nLoading required package: bumphunter\\r\\nLoading required package: foreach\\r\\nLoading required package: iterators\\r\\nLoading required package: parallel\\r\\nLoading required package: locfit\\r\\nlocfit 1.5-9.4 \\t 2020-03-24\\r\\nSetting options(\\'download.file.method.GEOquery\\'=\\'auto\\')\\nSetting options(\\'GEOquery.inmemory.gpl\\'=FALSE)\\nLoading required package: lumi\\nNo methods found in package \\'RSQLite\\' for request: \\'dbListFields\\' when loading \\'lumi\\'\\n\\nAttaching package: \\'lumi\\'\\n\\nThe following objects are masked from \\'package:methylumi\\':\\n\\n    estimateM, getHistory\\n\\nLoading required package: ROC\\nLoading required package: IlluminaHumanMethylation450kanno.ilmn12.hg19\\nLoading required package: illuminaio\\nLoading required package: ChAMPdata\\nLoading required package: DMRcate\\nLoading required package: Illumina450ProbeVariants.db\\nLoading required package: IlluminaHumanMethylationEPICmanifest\\nLoading required package: DT\\nLoading required package: RPMM\\nLoading required package: cluster\\n\\n>> Package version 2.21.1 loaded <<\\n       ___ _      _   __  __ ___ \\n      / __| |_   /_\\\\ |  \\\\/  | _ \\\\\\n     | (__| \\' \\\\ / _ \\\\| |\\\\/| |  _/\\n      \\\\___|_||_/_/ \\\\_\\\\_|  |_|_|  \\n      ------------------------------\\n    If you have any question or suggestion about ChAMP, please email to champ450k@gmail.com.\\n    Thank you for citating ChAMP:\\n\\n    Yuan Tian, Tiffany J Morris, Amy P Webster, Zhen Yang, Stephan Beck, Andrew Feber, Andrew E Teschendorff; ChAMP: updated methylation analysis pipeline for Illumina BeadChips, Bioinformatics, btx513, https://doi.org/10.1093/bioinformatics/btx513\\n     --------------------------\\n\\nThere were 11 warnings (use warnings() to see them)\\n-- Attaching packages --------------------------------------- tidyverse 1.3.1 --\\nv tibble  3.1.6     v dplyr   1.0.7\\nv tidyr   1.2.0     v stringr 1.4.0\\nv readr   2.1.2     v forcats 0.5.1\\nv purrr   0.3.4     \\n-- Conflicts ------------------------------------------ tidyverse_conflicts() --\\nx purrr::accumulate() masks foreach::accumulate()\\nx readr::col_factor() masks scales::col_factor()\\nx dplyr::collapse()   masks Biostrings::collapse(), IRanges::collapse()\\nx dplyr::combine()    masks lumi::combine(), methylumi::combine(), minfi::combine(), Biobase::combine(), BiocGenerics::combine()\\nx purrr::compact()    masks XVector::compact()\\nx dplyr::count()      masks matrixStats::count()\\nx dplyr::desc()       masks IRanges::desc()\\nx purrr::discard()    masks scales::discard()\\nx tidyr::expand()     masks S4Vectors::expand()\\nx dplyr::filter()     masks stats::filter()\\nx dplyr::first()      masks S4Vectors::first()\\nx dplyr::lag()        masks stats::lag()\\nx purrr::none()       masks locfit::none()\\nx ggplot2::Position() masks BiocGenerics::Position(), base::Position()\\nx purrr::reduce()     masks GenomicRanges::reduce(), IRanges::reduce()\\nx dplyr::rename()     masks S4Vectors::rename()\\nx dplyr::select()     masks AnnotationDbi::select()\\nx dplyr::slice()      masks XVector::slice(), IRanges::slice()\\nx purrr::when()       masks foreach::when()\\nWarning message:\\npackage \\'tidyverse\\' was built under R version 4.1.3 \\nReading in: GSM2808875_8918692108_R01C02_Grn.idat\\nReading in: GSM2808875_8918692108_R01C02_Red.idat\\nReading in: GSM2808876_8918692108_R01C01_Grn.idat\\nReading in: GSM2808876_8918692108_R01C01_Red.idat\\nReading in: GSM2808877_8918692108_R02C02_Grn.idat\\nReading in: GSM2808877_8918692108_R02C02_Red.idat\\nReading in: GSM2808878_8918692108_R02C01_Grn.idat\\nReading in: GSM2808878_8918692108_R02C01_Red.idat\\nReading in: GSM2808879_8918692108_R03C02_Grn.idat\\nReading in: GSM2808879_8918692108_R03C02_Red.idat\\nReading in: GSM2808880_8918692108_R03C01_Grn.idat\\nReading in: GSM2808880_8918692108_R03C01_Red.idat\\nReading in: GSM2808881_8918692108_R04C02_Grn.idat\\nReading in: GSM2808881_8918692108_R04C02_Red.idat\\nReading in: GSM2808882_8918692108_R04C01_Grn.idat\\nReading in: GSM2808882_8918692108_R04C01_Red.idat\\nReading in: GSM2808883_8918692108_R05C02_Grn.idat\\nReading in: GSM2808883_8918692108_R05C02_Red.idat\\nReading in: GSM2808884_8918692108_R05C01_Grn.idat\\nReading in: GSM2808884_8918692108_R05C01_Red.idat\\nReading in: GSM2808885_8918692108_R06C02_Grn.idat\\nReading in: GSM2808885_8918692108_R06C02_Red.idat\\nReading in: GSM2808886_8918692108_R06C01_Grn.idat\\nReading in: GSM2808886_8918692108_R06C01_Red.idat\\nReading in: GSM2808887_8918692120_R04C02_Grn.idat\\nReading in: GSM2808887_8918692120_R04C02_Red.idat\\nReading in: GSM2808888_8918692120_R04C01_Grn.idat\\nReading in: GSM2808888_8918692120_R04C01_Red.idat\\nReading in: GSM2808889_8918692120_R05C02_Grn.idat\\nReading in: GSM2808889_8918692120_R05C02_Red.idat\\nReading in: GSM2808890_8918692120_R05C01_Grn.idat\\nReading in: GSM2808890_8918692120_R05C01_Red.idat\\nReading in: GSM2808891_8918692120_R06C02_Grn.idat\\nReading in: GSM2808891_8918692120_R06C02_Red.idat\\nReading in: GSM2808892_8918692120_R06C01_Grn.idat\\nReading in: GSM2808892_8918692120_R06C01_Red.idat\\nReading in: GSM2808893_8221932039_R04C01_Grn.idat\\nReading in: GSM2808893_8221932039_R04C01_Red.idat\\nReading in: GSM2808894_8221932039_R03C01_Grn.idat\\nReading in: GSM2808894_8221932039_R03C01_Red.idat\\n0 HumanMethylationEpic samples found\\n20 HumanMethylation450 samples found\\n0 HumanMethylation27 samples found\\nAttempting to extract protocolData() from list...\\nDetermining chip type from IDAT protocolData...\\nThere were 40 warnings (use warnings() to see them)\\n'\n"
     ]
    }
   ],
   "source": [
    "#check what happend in the subprocess\n",
    "print(central_preprocessing.stderr)"
   ]
  },
  {
   "cell_type": "markdown",
   "metadata": {},
   "source": [
    "Next step is to normalise the data, this step will be offered centrally and distributed/federated to be flexible to the researchers needs  \n",
    "Below a implementation of the normalisation algorithm behind the dasen function in the wateRmelon package is provided"
   ]
  },
  {
   "cell_type": "markdown",
   "metadata": {},
   "source": [
    "Dasen normalisation is a form of quantile normalisation that is performed for the two probe types seperately. The normalised data (betas), per probe type, are calculated using the normalised methylated and unmethylated intensities of each probe type.  \n",
    "    betas (per probe) = quantile normalised methylated intensities / (quantile normalised methylated intensities + quantile normalised unmethylated intensities + 100)  \n",
    "The first step is to write the quantile normalisation function  \n",
    "  \n",
    "The python version of the dasen normalisation used in r can be found in the dasen_normalisation module"
   ]
  },
  {
   "cell_type": "code",
   "execution_count": 3,
   "metadata": {},
   "outputs": [],
   "source": [
    "# Creating and loading the data to test the dasen normalisation translation\n",
    "\n",
    "#create the probe-type annotation object\n",
    "annotation_data = pd.read_csv(\"E:\\\\Msc Systems Biology\\\\MSB5000_Master_Thesis\\\\Practical work\\\\Data\\\\GSE66351_RAW\\\\GPL13534_HumanMethylation450_15017482_v.1.1.csv\", skiprows=7, low_memory=False)\n",
    "annotation_data.set_index(annotation_data[\"IlmnID\"], inplace=True)\n",
    "probe_type_data = annotation_data.loc[:, \"Infinium_Design_Type\"]\n",
    "#match it to the normalised data\n",
    "meth = pd.read_csv(\"E:\\\\Msc Systems Biology\\\\MSB5000_Master_Thesis\\\\Practical work\\\\Federated_Differential_Methylation_Analysis\\\\Output\\\\QC_GSE66351\\\\Preprocessed_methylated_intensities.csv\", index_col=0)\n",
    "probe_type_data = probe_type_data.loc[list(set(probe_type_data.index.values).intersection(set(meth.index.values)))]\n",
    "# load the unmethylated data\n",
    "unmeth = pd.read_csv(\"E:\\\\Msc Systems Biology\\\\MSB5000_Master_Thesis\\\\Practical work\\\\Federated_Differential_Methylation_Analysis\\\\Output\\\\QC_GSE66351\\\\Preprocessed_unmethylated_intensities.csv\", index_col =0)"
   ]
  },
  {
   "cell_type": "code",
   "execution_count": 4,
   "metadata": {},
   "outputs": [],
   "source": [
    "import dasen_normalisation\n",
    "test_normalised_betas_module = dasen_normalisation.dasen_normalisation(unmeth, meth, probe_type_data)\n",
    "test_normalised_betas_module.to_csv(os.path.join(output_path, \"all_probes_normalised_betas.csv\"))"
   ]
  },
  {
   "cell_type": "markdown",
   "metadata": {},
   "source": [
    "R script containing the RefFreeEWAS cell type decomposition which will be run in a subprocess, output saved and added to the phenotype information that will be used in the EWAS furhter down in this file"
   ]
  },
  {
   "cell_type": "code",
   "execution_count": 18,
   "metadata": {},
   "outputs": [],
   "source": [
    "# specifying the paths that go into the subprocess function\n",
    "file_path = os.path.join(working_path, \"RefFreeEWAS_local.r\") #this one requires .RData input\n",
    "data_path = os.path.join(output_path, \"QC_GSE66351\", \"preprocessed_MethyLumiSet.RData\") #try again with different input data\n",
    "manifest_path = \"E:\\\\Msc Systems Biology\\\\MSB5000_Master_Thesis\\\\Practical work\\\\Data\\\\GSE66351_RAW\\\\GPL13534_HumanMethylation450_15017482_v.1.1.csv\"\n",
    "pheno_path = os.path.join(output_path, \"QC_GSE66351\", \"pre_norm_pheno_information.csv\")\n",
    "output_dir = os.path.join(output_path, \"QC_GSE66351\")\n",
    "\n",
    "\n",
    "# RefFreeEWAS subprocess\n",
    "RefFreeEWAS_RData = subprocess.run([\"C:\\\\Program Files\\\\R\\\\R-4.1.2\\\\bin\\\\Rscript.exe\", '--vanilla', file_path, data_path, pheno_path, manifest_path, output_dir], capture_output=True)\n",
    "RefFreeEWAS_RData.stdout"
   ]
  },
  {
   "cell_type": "markdown",
   "metadata": {},
   "source": [
    "RefFreeEWAS for local input (.csv file with normalised betas)"
   ]
  },
  {
   "cell_type": "code",
   "execution_count": 34,
   "metadata": {},
   "outputs": [],
   "source": [
    "# specifying the paths that go into the subprocess function\n",
    "file_path = os.path.join(working_path, \"RefFreeEWAS_local_csvinput.r\") \n",
    "data_path = os.path.join(output_path, \"QC_GSE66351\", \"Preprocessed_betas.csv\") \n",
    "manifest_path = \"E:\\\\Msc Systems Biology\\\\MSB5000_Master_Thesis\\\\Practical work\\\\Data\\\\GSE66351_RAW\\\\GPL13534_HumanMethylation450_15017482_v.1.1.csv\"\n",
    "pheno_path = os.path.join(output_path, \"QC_GSE66351\", \"pre_norm_pheno_information.csv\")\n",
    "output_dir = os.path.join(output_path, \"QC_GSE66351\")\n",
    "\n",
    "\n",
    "# RefFreeEWAS subprocess\n",
    "RefFreeEWAS = subprocess.run([\"C:\\\\Program Files\\\\R\\\\R-4.1.2\\\\bin\\\\Rscript.exe\", '--vanilla', file_path, data_path, pheno_path, manifest_path, output_dir], capture_output=True)\n",
    "RefFreeEWAS.stdout"
   ]
  },
  {
   "cell_type": "markdown",
   "metadata": {},
   "source": [
    "EWAS code, based on the least squares linear algebra as used in the fortran code at the foundation of the lm() function in r"
   ]
  },
  {
   "cell_type": "code",
   "execution_count": 3,
   "metadata": {},
   "outputs": [],
   "source": [
    "#EWAS\n",
    "\n",
    "import numpy as np\n",
    "import pandas as pd\n",
    "\n",
    "pheno = pd.read_csv(\"E:\\\\Msc Systems Biology\\\\MSB5000_Master_Thesis\\\\Practical work\\\\Federated_Differential_Methylation_Analysis\\\\Output\\\\QC_GSE66351_PythonShell\\\\post_norm_pheno_information.csv\", index_col= \"Sample_ID\")\n",
    "betas = pd.read_csv(\"E:\\\\Msc Systems Biology\\\\MSB5000_Master_Thesis\\\\Practical work\\\\Federated_Differential_Methylation_Analysis\\Output\\\\QC_GSE66351_PythonShell\\\\Preprocessed_betas.csv\", index_col=0)\n",
    "x = pheno.loc[:,[\"Sample_diagnosis\", \"Sample_age\", \"Sample_sex\", \"Sample_sentrix_id\"]] # design matrix with the dependent/explainatory variables to be included in the model\n",
    "y = betas.iloc[0:21,:] # keeping it small now to test if everything works the way it should\n",
    "\n",
    "# The design matrix needs to consist of numeric representations of the covariates to be included in the model, i.e. binary diagnosis, binary sex, dummy sentrix etc.\n",
    "x[\"Sample_diagnosis\"] = (x[\"Sample_diagnosis\"] == \"diagnosis: AD\").astype(int) #create binary diagnosis with 1 = AD and 0 = CTR\n",
    "x[\"Sample_sex\"] = (x[\"Sample_sex\"] == \"Sex: F\").astype(int) #create binary sex with 1 = F and 0 = M\n",
    "# create dummy variables for the unique sentrix_ids present in the dataset - this code can be reused to create center number dummies in the federated version of the code\n",
    "unique_ids = x[\"Sample_sentrix_id\"].unique()\n",
    "for id in unique_ids:\n",
    "    x[id] = (x[\"Sample_sentrix_id\"] == id).astype(int)\n",
    "x.drop(columns=\"Sample_sentrix_id\", inplace = True)\n",
    "# turn the age variable into a continuous numerical variable without any leftover text\n",
    "x[\"Sample_age\"].replace(\"^[^:]*:\", \"\", regex=True, inplace=True)\n",
    "x[\"Sample_age\"] = pd.to_numeric(x[\"Sample_age\"])\n",
    "\n",
    "def EWAS_central(design_matrix, beta_values):\n",
    "    x_matrix = design_matrix.values\n",
    "    y_matrix = beta_values.values\n",
    "\n",
    "\n",
    "    n = y_matrix.shape[0] # select the number of rows of the beta matrix - #genes that the linear model will be calculated for\n",
    "    m = x.shape[1] #select the number of columns from the design matrix\n",
    "\n",
    "    import scipy.stats\n",
    "\n",
    "    coefficient = []\n",
    "    standard_error = []\n",
    "    t_stat = []\n",
    "    p_value = []\n",
    "    for i in range(0, n):\n",
    "        y_m = y_matrix[i, :]\n",
    "        x_t = x_matrix.T @ x_matrix\n",
    "        x_t_y = x_matrix.T @ y_m\n",
    "        x_t_inv = np.linalg.inv(x_t)\n",
    "        coef = x_t_inv @ x_t_y\n",
    "        coefficient.append(coef)\n",
    "        stan_er = np.diag(x_t_inv)\n",
    "        standard_error.append(stan_er)\n",
    "        t = coef/stan_er\n",
    "        t_stat.append(t)\n",
    "        df = y_matrix.shape[1]-2 #degrees of freedom is defined as number of observations - 2 \n",
    "        p = scipy.stats.t.sf(t, df)\n",
    "        p_value.append(p)\n",
    "\n",
    "#turn the results saved in lists into a dataframe for each covariate with the probe ids as index\n",
    "    result_coef = pd.DataFrame(coefficient, index=y.index, columns=x.columns)\n",
    "    result_staner = pd.DataFrame(standard_error, index = y.index, columns=x.columns)\n",
    "    result_tvalue = pd.DataFrame(t_stat, index=y.index, columns=x.columns)\n",
    "    result_pvalue = pd.DataFrame(p_value, index=y.index, columns=x.columns)\n",
    "\n",
    "#create a final results dataframe that contains the coefficient, standard error and p-value of the diagnosis covariate included in the linear regression\n",
    "    results_diagnosis = pd.DataFrame({\"Diagnosis_Coef\":result_coef[\"Sample_diagnosis\"], \"Diagnosis_StanErr\":result_staner[\"Sample_diagnosis\"], \"Diagnosis_Pvalue\":result_pvalue[\"Sample_diagnosis\"]}, index=y.index)\n",
    "    results_diagnosis.to_csv(os.path.join(output_path, \"results_diagnosis_regression_test_python.csv\"))\n",
    "    return results_diagnosis\n",
    "\n",
    "  \n"
   ]
  },
  {
   "cell_type": "markdown",
   "metadata": {},
   "source": [
    "Create a .bed structured text file with the regression output to be used as input into the differentially methylated region analysis"
   ]
  },
  {
   "cell_type": "code",
   "execution_count": 63,
   "metadata": {},
   "outputs": [],
   "source": [
    "# start with importing the probe information from the .bed file that is available through the encord project (?)\n",
    "bed_annotation = pd.read_csv(\"E:\\\\Msc Systems Biology\\\\MSB5000_Master_Thesis\\\\Practical work\\\\Data\\\\HAIB.A549.EtOH.Rep.3.bed\", sep=\"\\t\", header=None)\n",
    "# select the three necessary column, chr, start, stop from the annotation file and match these to the probes in the EWAS input betas based on probe ID\n",
    "bed_annotation = bed_annotation.iloc[:,0:4]\n",
    "bed_annotation.columns = [\"chr\", \"ChromStart\", \"ChromEnd\", \"Illumina_ID\"]\n",
    "# merge the regression output onto the .bed standard columns based on the probe ID\n",
    "results_bed = pd.merge(bed_annotation, results_diagnosis, left_on=\"Illumina_ID\", right_index=True, how=\"inner\") #using inner join since this preserves the order of the keys and\n",
    "# only keeps the entries that are present in both dataframes\n",
    "results_bed.set_index(results_bed[\"Illumina_ID\"], inplace=True)\n",
    "# write the dataframe as a tab separated .bed file\n",
    "results_bed.to_csv(os.path.join(output_path, \"results_diagnosis_regression_test.bed\"), sep=\"\\t\")"
   ]
  }
 ],
 "metadata": {
  "interpreter": {
   "hash": "57baa5815c940fdaff4d14510622de9616cae602444507ba5d0b6727c008cbd6"
  },
  "kernelspec": {
   "display_name": "Python 3.7.8 64-bit",
   "language": "python",
   "name": "python3"
  },
  "language_info": {
   "codemirror_mode": {
    "name": "ipython",
    "version": 3
   },
   "file_extension": ".py",
   "mimetype": "text/x-python",
   "name": "python",
   "nbconvert_exporter": "python",
   "pygments_lexer": "ipython3",
   "version": "3.7.8"
  },
  "orig_nbformat": 4
 },
 "nbformat": 4,
 "nbformat_minor": 2
}

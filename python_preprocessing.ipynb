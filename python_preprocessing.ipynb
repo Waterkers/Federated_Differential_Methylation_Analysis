{
 "cells": [
  {
   "cell_type": "markdown",
   "metadata": {},
   "source": [
    "#### Second attempt at the python version of the centralised part of the microarray methylation analysis workflow (Quality control upto normalisation)\n",
    "Using python as a shell to string together the specialised r functions used in the Exeter workflow"
   ]
  },
  {
   "cell_type": "markdown",
   "metadata": {},
   "source": [
    "Loading in the required modules/packages"
   ]
  },
  {
   "cell_type": "code",
   "execution_count": 1,
   "metadata": {},
   "outputs": [],
   "source": [
    "import pandas as pd\n",
    "import numpy as np\n",
    "import subprocess\n",
    "import csv\n",
    "import glob\n",
    "import os\n",
    "import re\n",
    "import seaborn as sns\n",
    "from matplotlib import pyplot as plt\n",
    "\n",
    "# stuff needed for some specific analysis - maybe not needed in this version of the code\n",
    "#from sklearn.decomposition import PCA \n",
    "#from scipy.stats import pearsonr\n",
    "#from sklearn.cluster import KMeans"
   ]
  },
  {
   "cell_type": "code",
   "execution_count": 2,
   "metadata": {},
   "outputs": [],
   "source": [
    "working_path = \"E:\\\\Msc Systems Biology\\\\MSB5000_Master_Thesis\\\\Practical work\\\\Federated_Differential_Methylation_Analysis\"\n",
    "data_path = \"E:\\\\Msc Systems Biology\\\\MSB5000_Master_Thesis\\\\Practical work\\\\Data\"\n",
    "output_path = \"E:\\\\Msc Systems Biology\\\\MSB5000_Master_Thesis\\Practical work\\\\Federated_Differential_Methylation_Analysis\\\\Output\"\n"
   ]
  },
  {
   "cell_type": "markdown",
   "metadata": {},
   "source": [
    "Use subprocess to read the data contained in the idat files into dataframe using the readEPIC function from the wateRmelon package in R"
   ]
  },
  {
   "cell_type": "markdown",
   "metadata": {},
   "source": [
    "### Creating an output file structure and loading in the idat files"
   ]
  },
  {
   "cell_type": "markdown",
   "metadata": {},
   "source": [
    "The input arguments of this script are: \n",
    "1. file_path to the folder containing the .idat files \n",
    "2. file_path to the phenotype information sheet (.txt) \n",
    "3. the directory where the output should be saved \n",
    "4. OPTIONAL the data identifier to be used in the creation of the output folders - this still needs to be fixed"
   ]
  },
  {
   "cell_type": "code",
   "execution_count": 7,
   "metadata": {},
   "outputs": [],
   "source": [
    "load_with_option = subprocess.run([\"C:\\\\Program Files\\\\R\\\\R-4.1.2\\\\bin\\\\Rscript.exe\", '--vanilla', \"E:\\\\Msc Systems Biology\\\\MSB5000_Master_Thesis\\\\Practical work\\\\Federated_Differential_Methylation_Analysis\\\\Loading_idats_code_saveOutput_python_shell.R\", \"E:\\\\Msc Systems Biology\\\\MSB5000_Master_Thesis\\\\Practical work\\\\Data\\\\GSE66351_RAW\\\\idat\", \"E:\\Msc Systems Biology\\MSB5000_Master_Thesis\\Practical work\\Data\\GSE66351_RAW\\GSE66351_pheno.txt\", \"E:\\\\Msc Systems Biology\\\\MSB5000_Master_Thesis\\Practical work\\\\Federated_Differential_Methylation_Analysis\\\\Output\", \"GSE66351a\"], capture_output=True)"
   ]
  },
  {
   "cell_type": "code",
   "execution_count": null,
   "metadata": {},
   "outputs": [],
   "source": [
    "print(load_with_option.stderr)"
   ]
  },
  {
   "cell_type": "markdown",
   "metadata": {},
   "source": [
    "Using subprocess to perform the complete preprocessing workflow upto the normalisation  \n",
    "This is the whole preprocessing run as one function in the r-script. The script takes 5 input arguments:  \n",
    "1. The file path of the folder containing the .idat files\n",
    "2. The phenotype information file\n",
    "3. The working directory where the output folder should be created\n",
    "4. The filepath to the illumina manifest file that contains the column \"CHR\" with the chromosome each probe is located on\n",
    "5. The identifier that should be included in the name of the output folder\n"
   ]
  },
  {
   "cell_type": "code",
   "execution_count": 3,
   "metadata": {},
   "outputs": [],
   "source": [
    "script_path = \"E:\\\\Msc Systems Biology\\\\MSB5000_Master_Thesis\\\\Practical work\\\\Federated_Differential_Methylation_Analysis\\\\Preprocessing_Rscripts\\\\centralised_preprocessing_half.r\"\n",
    "idat_path = \"E:\\\\Msc Systems Biology\\\\MSB5000_Master_Thesis\\\\Practical work\\\\Data\\\\GSE66351_RAW\\\\idat\"\n",
    "pheno_path = \"E:\\Msc Systems Biology\\MSB5000_Master_Thesis\\Practical work\\Data\\GSE66351_RAW\\GSE66351_pheno.txt\"\n",
    "output_dump = \"E:\\\\Msc Systems Biology\\\\MSB5000_Master_Thesis\\Practical work\\\\Federated_Differential_Methylation_Analysis\\\\Output\"\n",
    "manifest_path = \"E:\\Msc Systems Biology\\\\MSB5000_Master_Thesis\\\\Practical work\\\\Data\\\\GSE66351_RAW\\\\GSE66351\\\\GPL13534_HumanMethylation450_15017482_v.1.1.csv\"\n",
    "identifier = \"GSE66351\""
   ]
  },
  {
   "cell_type": "code",
   "execution_count": 4,
   "metadata": {},
   "outputs": [],
   "source": [
    "central_preprocessing = subprocess.run([\"C:\\\\Program Files\\\\R\\\\R-4.1.2\\\\bin\\\\Rscript.exe\", '--vanilla', \"E:\\\\Msc Systems Biology\\\\MSB5000_Master_Thesis\\\\Practical work\\\\Federated_Differential_Methylation_Analysis\\\\Preprocessing_Rscripts\\\\centralised_preprocessing_half.r\", \"E:\\\\Msc Systems Biology\\\\MSB5000_Master_Thesis\\\\Practical work\\\\Data\\\\GSE66351_RAW\\\\idat\", \"E:\\Msc Systems Biology\\MSB5000_Master_Thesis\\Practical work\\Data\\GSE66351_RAW\\GSE66351_pheno.txt\", \"E:\\\\Msc Systems Biology\\\\MSB5000_Master_Thesis\\Practical work\\\\Federated_Differential_Methylation_Analysis\\\\Output\", \"E:\\Msc Systems Biology\\\\MSB5000_Master_Thesis\\\\Practical work\\\\Data\\\\GSE66351_RAW\\\\GSE66351\\\\GPL13534_HumanMethylation450_15017482_v.1.1.csv\", \"GSE66351\"], capture_output = True)"
   ]
  },
  {
   "cell_type": "code",
   "execution_count": null,
   "metadata": {},
   "outputs": [],
   "source": [
    "#check what happend in the subprocess\n",
    "print(central_preprocessing.stderr)"
   ]
  },
  {
   "cell_type": "markdown",
   "metadata": {},
   "source": [
    "Next step is to normalise the data, this step will be offered centrally and distributed/federated to be flexible to the researchers needs  \n",
    "Below a implementation of the normalisation algorithm behind the dasen function in the wateRmelon package is provided"
   ]
  },
  {
   "cell_type": "markdown",
   "metadata": {},
   "source": [
    "Dasen normalisation is a form of quantile normalisation that is performed for the two probe types seperately. The normalised data (betas), per probe type, are calculated using the normalised methylated and unmethylated intensities of each probe type.  \n",
    "    betas (per probe) = quantile normalised methylated intensities / (quantile normalised methylated intensities + quantile normalised unmethylated intensities + 100)  \n",
    "The first step is to write the quantile normalisation function  \n",
    "  \n",
    "The python version of the dasen normalisation used in r can be found in the dasen_normalisation module"
   ]
  },
  {
   "cell_type": "code",
   "execution_count": 6,
   "metadata": {},
   "outputs": [],
   "source": [
    "# Creating and loading the data to test the dasen normalisation translation\n",
    "\n",
    "#create the probe-type annotation object\n",
    "annotation_data = pd.read_csv(\"E:\\\\Msc Systems Biology\\\\MSB5000_Master_Thesis\\\\Practical work\\\\Data\\\\GSE66351_RAW\\\\GPL13534_HumanMethylation450_15017482_v.1.1.csv\", skiprows=7, index_col=0, low_memory=False)\n",
    "#annotation_data.set_index(annotation_data[\"IlmnID\"], inplace=True)\n",
    "probe_type_data = annotation_data.loc[:, \"Infinium_Design_Type\"]\n",
    "#match it to the normalised data\n",
    "meth_test = pd.read_csv(\"E:\\\\Msc Systems Biology\\\\MSB5000_Master_Thesis\\\\Practical work\\\\Federated_Differential_Methylation_Analysis\\\\Output\\\\QC_GSE66351\\\\Preprocessed_methylated_intensities.csv\", index_col=0)\n",
    "probe_type_data_test = probe_type_data.loc[list(set(probe_type_data.index.values).intersection(set(meth_test.index.values)))]\n",
    "# load the unmethylated data\n",
    "unmeth_test = pd.read_csv(\"E:\\\\Msc Systems Biology\\\\MSB5000_Master_Thesis\\\\Practical work\\\\Federated_Differential_Methylation_Analysis\\\\Output\\\\QC_GSE66351\\\\Preprocessed_unmethylated_intensities.csv\", index_col =0)"
   ]
  },
  {
   "cell_type": "code",
   "execution_count": 7,
   "metadata": {},
   "outputs": [],
   "source": [
    "meth = pd.read_csv(\"E:\\\\Msc Systems Biology\\\\MSB5000_Master_Thesis\\\\Practical work\\\\Data\\\\Data_Full_Datasets\\\\GSE66351\\\\Filtered_Methylated.csv\", index_col=0)\n",
    "unmeth = pd.read_csv(\"E:\\\\Msc Systems Biology\\\\MSB5000_Master_Thesis\\\\Practical work\\\\Data\\\\Data_Full_Datasets\\\\GSE66351\\\\Filtered_Unmethylated.csv\", index_col=0)\n",
    "probe_type_data = probe_type_data.loc[list(set(probe_type_data.index.values).intersection(set(meth.index.values)))]"
   ]
  },
  {
   "cell_type": "code",
   "execution_count": 9,
   "metadata": {},
   "outputs": [],
   "source": [
    "probe_type_data.to_csv(\"E:\\\\Msc Systems Biology\\\\MSB5000_Master_Thesis\\\\Practical work\\\\Data\\\\Dasen_norm_test_data\\\\probe_annotation_full.csv\")"
   ]
  },
  {
   "cell_type": "code",
   "execution_count": 8,
   "metadata": {},
   "outputs": [],
   "source": [
    "import dasen_normalisation\n",
    "test_normalised_betas_module = dasen_normalisation.dasen_normalisation(unmeth, meth, probe_type_data)\n",
    "test_normalised_betas_module.to_csv(os.path.join(output_path, \"all_probes_samples_normalised_betas.csv\"))"
   ]
  },
  {
   "cell_type": "markdown",
   "metadata": {},
   "source": [
    "R script containing the RefFreeEWAS cell type decomposition which will be run in a subprocess, output saved and added to the phenotype information that will be used in the EWAS furhter down in this file"
   ]
  },
  {
   "cell_type": "code",
   "execution_count": 18,
   "metadata": {},
   "outputs": [],
   "source": [
    "# specifying the paths that go into the subprocess function\n",
    "file_path = os.path.join(working_path, \"RefFreeEWAS_local.r\") #this one requires .RData input\n",
    "data_path = os.path.join(output_path, \"QC_GSE66351\", \"preprocessed_MethyLumiSet.RData\") #try again with different input data\n",
    "manifest_path = \"E:\\\\Msc Systems Biology\\\\MSB5000_Master_Thesis\\\\Practical work\\\\Data\\\\GSE66351_RAW\\\\GPL13534_HumanMethylation450_15017482_v.1.1.csv\"\n",
    "pheno_path = os.path.join(output_path, \"QC_GSE66351\", \"pre_norm_pheno_information.csv\")\n",
    "output_dir = os.path.join(output_path, \"QC_GSE66351\")\n",
    "\n",
    "\n",
    "# RefFreeEWAS subprocess\n",
    "RefFreeEWAS_RData = subprocess.run([\"C:\\\\Program Files\\\\R\\\\R-4.1.2\\\\bin\\\\Rscript.exe\", '--vanilla', file_path, data_path, pheno_path, manifest_path, output_dir], capture_output=True)\n",
    "RefFreeEWAS_RData.stdout"
   ]
  },
  {
   "cell_type": "markdown",
   "metadata": {},
   "source": [
    "RefFreeEWAS for local input (.csv file with normalised betas)"
   ]
  },
  {
   "cell_type": "code",
   "execution_count": 34,
   "metadata": {},
   "outputs": [],
   "source": [
    "# specifying the paths that go into the subprocess function\n",
    "file_path = os.path.join(working_path, \"RefFreeEWAS_local_csvinput.r\") \n",
    "data_path = os.path.join(output_path, \"QC_GSE66351\", \"Preprocessed_betas.csv\") \n",
    "manifest_path = \"E:\\\\Msc Systems Biology\\\\MSB5000_Master_Thesis\\\\Practical work\\\\Data\\\\GSE66351_RAW\\\\GPL13534_HumanMethylation450_15017482_v.1.1.csv\"\n",
    "pheno_path = os.path.join(output_path, \"QC_GSE66351\", \"pre_norm_pheno_information.csv\")\n",
    "output_dir = os.path.join(output_path, \"QC_GSE66351\")\n",
    "\n",
    "\n",
    "# RefFreeEWAS subprocess\n",
    "RefFreeEWAS = subprocess.run([\"C:\\\\Program Files\\\\R\\\\R-4.1.2\\\\bin\\\\Rscript.exe\", '--vanilla', file_path, data_path, pheno_path, manifest_path, output_dir], capture_output=True)\n",
    "RefFreeEWAS.stdout"
   ]
  },
  {
   "cell_type": "markdown",
   "metadata": {},
   "source": [
    "EWAS code, based on the least squares linear algebra as used in the fortran code at the foundation of the lm() function in r"
   ]
  },
  {
   "cell_type": "code",
   "execution_count": 7,
   "metadata": {},
   "outputs": [
    {
     "ename": "KeyError",
     "evalue": "\"['sentrix_id'] not in index\"",
     "output_type": "error",
     "traceback": [
      "\u001b[1;31m---------------------------------------------------------------------------\u001b[0m",
      "\u001b[1;31mKeyError\u001b[0m                                  Traceback (most recent call last)",
      "\u001b[1;32m~\\AppData\\Local\\Temp\\ipykernel_5800\\3754734153.py\u001b[0m in \u001b[0;36m<module>\u001b[1;34m\u001b[0m\n\u001b[0;32m      6\u001b[0m \u001b[0mpheno\u001b[0m \u001b[1;33m=\u001b[0m \u001b[0mpd\u001b[0m\u001b[1;33m.\u001b[0m\u001b[0mread_csv\u001b[0m\u001b[1;33m(\u001b[0m\u001b[1;34m\"E:\\\\Msc Systems Biology\\\\MSB5000_Master_Thesis\\\\Practical work\\\\Data\\\\Data_Full_Datasets\\\\GSE66351\\\\Reduced_Pheno_Info.csv\"\u001b[0m\u001b[1;33m,\u001b[0m \u001b[0mindex_col\u001b[0m\u001b[1;33m=\u001b[0m \u001b[1;34m\"Sample_ID\"\u001b[0m\u001b[1;33m)\u001b[0m\u001b[1;33m\u001b[0m\u001b[1;33m\u001b[0m\u001b[0m\n\u001b[0;32m      7\u001b[0m \u001b[0mbetas\u001b[0m \u001b[1;33m=\u001b[0m \u001b[0mpd\u001b[0m\u001b[1;33m.\u001b[0m\u001b[0mread_csv\u001b[0m\u001b[1;33m(\u001b[0m\u001b[1;34m\"E:\\\\Msc Systems Biology\\\\MSB5000_Master_Thesis\\\\Practical work\\\\Federated_Differential_Methylation_Analysis\\Output\\\\all_probes_samples_normalised_betas.csv\"\u001b[0m\u001b[1;33m,\u001b[0m \u001b[0mindex_col\u001b[0m\u001b[1;33m=\u001b[0m\u001b[1;36m0\u001b[0m\u001b[1;33m)\u001b[0m\u001b[1;33m\u001b[0m\u001b[1;33m\u001b[0m\u001b[0m\n\u001b[1;32m----> 8\u001b[1;33m \u001b[0mx\u001b[0m \u001b[1;33m=\u001b[0m \u001b[0mpheno\u001b[0m\u001b[1;33m.\u001b[0m\u001b[0mloc\u001b[0m\u001b[1;33m[\u001b[0m\u001b[1;33m:\u001b[0m\u001b[1;33m,\u001b[0m\u001b[1;33m[\u001b[0m\u001b[1;34m\"Diagnosis\"\u001b[0m\u001b[1;33m,\u001b[0m \u001b[1;34m\"Age\"\u001b[0m\u001b[1;33m,\u001b[0m \u001b[1;34m\"Sex\"\u001b[0m\u001b[1;33m,\u001b[0m \u001b[1;34m\"sentrix_id\"\u001b[0m\u001b[1;33m]\u001b[0m\u001b[1;33m]\u001b[0m \u001b[1;31m# design matrix with the dependent/explainatory variables to be included in the model\u001b[0m\u001b[1;33m\u001b[0m\u001b[1;33m\u001b[0m\u001b[0m\n\u001b[0m\u001b[0;32m      9\u001b[0m \u001b[0my\u001b[0m \u001b[1;33m=\u001b[0m \u001b[0mbetas\u001b[0m\u001b[1;33m.\u001b[0m\u001b[0miloc\u001b[0m\u001b[1;33m[\u001b[0m\u001b[1;36m0\u001b[0m\u001b[1;33m:\u001b[0m\u001b[1;36m21\u001b[0m\u001b[1;33m,\u001b[0m\u001b[1;33m:\u001b[0m\u001b[1;33m]\u001b[0m \u001b[1;31m# keeping it small now to test if everything works the way it should\u001b[0m\u001b[1;33m\u001b[0m\u001b[1;33m\u001b[0m\u001b[0m\n\u001b[0;32m     10\u001b[0m \u001b[1;33m\u001b[0m\u001b[0m\n",
      "\u001b[1;32m~\\AppData\\Roaming\\Python\\Python37\\site-packages\\pandas\\core\\indexing.py\u001b[0m in \u001b[0;36m__getitem__\u001b[1;34m(self, key)\u001b[0m\n\u001b[0;32m    923\u001b[0m                 \u001b[1;32mwith\u001b[0m \u001b[0msuppress\u001b[0m\u001b[1;33m(\u001b[0m\u001b[0mKeyError\u001b[0m\u001b[1;33m,\u001b[0m \u001b[0mIndexError\u001b[0m\u001b[1;33m)\u001b[0m\u001b[1;33m:\u001b[0m\u001b[1;33m\u001b[0m\u001b[1;33m\u001b[0m\u001b[0m\n\u001b[0;32m    924\u001b[0m                     \u001b[1;32mreturn\u001b[0m \u001b[0mself\u001b[0m\u001b[1;33m.\u001b[0m\u001b[0mobj\u001b[0m\u001b[1;33m.\u001b[0m\u001b[0m_get_value\u001b[0m\u001b[1;33m(\u001b[0m\u001b[1;33m*\u001b[0m\u001b[0mkey\u001b[0m\u001b[1;33m,\u001b[0m \u001b[0mtakeable\u001b[0m\u001b[1;33m=\u001b[0m\u001b[0mself\u001b[0m\u001b[1;33m.\u001b[0m\u001b[0m_takeable\u001b[0m\u001b[1;33m)\u001b[0m\u001b[1;33m\u001b[0m\u001b[1;33m\u001b[0m\u001b[0m\n\u001b[1;32m--> 925\u001b[1;33m             \u001b[1;32mreturn\u001b[0m \u001b[0mself\u001b[0m\u001b[1;33m.\u001b[0m\u001b[0m_getitem_tuple\u001b[0m\u001b[1;33m(\u001b[0m\u001b[0mkey\u001b[0m\u001b[1;33m)\u001b[0m\u001b[1;33m\u001b[0m\u001b[1;33m\u001b[0m\u001b[0m\n\u001b[0m\u001b[0;32m    926\u001b[0m         \u001b[1;32melse\u001b[0m\u001b[1;33m:\u001b[0m\u001b[1;33m\u001b[0m\u001b[1;33m\u001b[0m\u001b[0m\n\u001b[0;32m    927\u001b[0m             \u001b[1;31m# we by definition only have the 0th axis\u001b[0m\u001b[1;33m\u001b[0m\u001b[1;33m\u001b[0m\u001b[1;33m\u001b[0m\u001b[0m\n",
      "\u001b[1;32m~\\AppData\\Roaming\\Python\\Python37\\site-packages\\pandas\\core\\indexing.py\u001b[0m in \u001b[0;36m_getitem_tuple\u001b[1;34m(self, tup)\u001b[0m\n\u001b[0;32m   1107\u001b[0m             \u001b[1;32mreturn\u001b[0m \u001b[0mself\u001b[0m\u001b[1;33m.\u001b[0m\u001b[0m_multi_take\u001b[0m\u001b[1;33m(\u001b[0m\u001b[0mtup\u001b[0m\u001b[1;33m)\u001b[0m\u001b[1;33m\u001b[0m\u001b[1;33m\u001b[0m\u001b[0m\n\u001b[0;32m   1108\u001b[0m \u001b[1;33m\u001b[0m\u001b[0m\n\u001b[1;32m-> 1109\u001b[1;33m         \u001b[1;32mreturn\u001b[0m \u001b[0mself\u001b[0m\u001b[1;33m.\u001b[0m\u001b[0m_getitem_tuple_same_dim\u001b[0m\u001b[1;33m(\u001b[0m\u001b[0mtup\u001b[0m\u001b[1;33m)\u001b[0m\u001b[1;33m\u001b[0m\u001b[1;33m\u001b[0m\u001b[0m\n\u001b[0m\u001b[0;32m   1110\u001b[0m \u001b[1;33m\u001b[0m\u001b[0m\n\u001b[0;32m   1111\u001b[0m     \u001b[1;32mdef\u001b[0m \u001b[0m_get_label\u001b[0m\u001b[1;33m(\u001b[0m\u001b[0mself\u001b[0m\u001b[1;33m,\u001b[0m \u001b[0mlabel\u001b[0m\u001b[1;33m,\u001b[0m \u001b[0maxis\u001b[0m\u001b[1;33m:\u001b[0m \u001b[0mint\u001b[0m\u001b[1;33m)\u001b[0m\u001b[1;33m:\u001b[0m\u001b[1;33m\u001b[0m\u001b[1;33m\u001b[0m\u001b[0m\n",
      "\u001b[1;32m~\\AppData\\Roaming\\Python\\Python37\\site-packages\\pandas\\core\\indexing.py\u001b[0m in \u001b[0;36m_getitem_tuple_same_dim\u001b[1;34m(self, tup)\u001b[0m\n\u001b[0;32m    804\u001b[0m                 \u001b[1;32mcontinue\u001b[0m\u001b[1;33m\u001b[0m\u001b[1;33m\u001b[0m\u001b[0m\n\u001b[0;32m    805\u001b[0m \u001b[1;33m\u001b[0m\u001b[0m\n\u001b[1;32m--> 806\u001b[1;33m             \u001b[0mretval\u001b[0m \u001b[1;33m=\u001b[0m \u001b[0mgetattr\u001b[0m\u001b[1;33m(\u001b[0m\u001b[0mretval\u001b[0m\u001b[1;33m,\u001b[0m \u001b[0mself\u001b[0m\u001b[1;33m.\u001b[0m\u001b[0mname\u001b[0m\u001b[1;33m)\u001b[0m\u001b[1;33m.\u001b[0m\u001b[0m_getitem_axis\u001b[0m\u001b[1;33m(\u001b[0m\u001b[0mkey\u001b[0m\u001b[1;33m,\u001b[0m \u001b[0maxis\u001b[0m\u001b[1;33m=\u001b[0m\u001b[0mi\u001b[0m\u001b[1;33m)\u001b[0m\u001b[1;33m\u001b[0m\u001b[1;33m\u001b[0m\u001b[0m\n\u001b[0m\u001b[0;32m    807\u001b[0m             \u001b[1;31m# We should never have retval.ndim < self.ndim, as that should\u001b[0m\u001b[1;33m\u001b[0m\u001b[1;33m\u001b[0m\u001b[1;33m\u001b[0m\u001b[0m\n\u001b[0;32m    808\u001b[0m             \u001b[1;31m#  be handled by the _getitem_lowerdim call above.\u001b[0m\u001b[1;33m\u001b[0m\u001b[1;33m\u001b[0m\u001b[1;33m\u001b[0m\u001b[0m\n",
      "\u001b[1;32m~\\AppData\\Roaming\\Python\\Python37\\site-packages\\pandas\\core\\indexing.py\u001b[0m in \u001b[0;36m_getitem_axis\u001b[1;34m(self, key, axis)\u001b[0m\n\u001b[0;32m   1151\u001b[0m                     \u001b[1;32mraise\u001b[0m \u001b[0mValueError\u001b[0m\u001b[1;33m(\u001b[0m\u001b[1;34m\"Cannot index with multidimensional key\"\u001b[0m\u001b[1;33m)\u001b[0m\u001b[1;33m\u001b[0m\u001b[1;33m\u001b[0m\u001b[0m\n\u001b[0;32m   1152\u001b[0m \u001b[1;33m\u001b[0m\u001b[0m\n\u001b[1;32m-> 1153\u001b[1;33m                 \u001b[1;32mreturn\u001b[0m \u001b[0mself\u001b[0m\u001b[1;33m.\u001b[0m\u001b[0m_getitem_iterable\u001b[0m\u001b[1;33m(\u001b[0m\u001b[0mkey\u001b[0m\u001b[1;33m,\u001b[0m \u001b[0maxis\u001b[0m\u001b[1;33m=\u001b[0m\u001b[0maxis\u001b[0m\u001b[1;33m)\u001b[0m\u001b[1;33m\u001b[0m\u001b[1;33m\u001b[0m\u001b[0m\n\u001b[0m\u001b[0;32m   1154\u001b[0m \u001b[1;33m\u001b[0m\u001b[0m\n\u001b[0;32m   1155\u001b[0m             \u001b[1;31m# nested tuple slicing\u001b[0m\u001b[1;33m\u001b[0m\u001b[1;33m\u001b[0m\u001b[1;33m\u001b[0m\u001b[0m\n",
      "\u001b[1;32m~\\AppData\\Roaming\\Python\\Python37\\site-packages\\pandas\\core\\indexing.py\u001b[0m in \u001b[0;36m_getitem_iterable\u001b[1;34m(self, key, axis)\u001b[0m\n\u001b[0;32m   1091\u001b[0m \u001b[1;33m\u001b[0m\u001b[0m\n\u001b[0;32m   1092\u001b[0m         \u001b[1;31m# A collection of keys\u001b[0m\u001b[1;33m\u001b[0m\u001b[1;33m\u001b[0m\u001b[1;33m\u001b[0m\u001b[0m\n\u001b[1;32m-> 1093\u001b[1;33m         \u001b[0mkeyarr\u001b[0m\u001b[1;33m,\u001b[0m \u001b[0mindexer\u001b[0m \u001b[1;33m=\u001b[0m \u001b[0mself\u001b[0m\u001b[1;33m.\u001b[0m\u001b[0m_get_listlike_indexer\u001b[0m\u001b[1;33m(\u001b[0m\u001b[0mkey\u001b[0m\u001b[1;33m,\u001b[0m \u001b[0maxis\u001b[0m\u001b[1;33m)\u001b[0m\u001b[1;33m\u001b[0m\u001b[1;33m\u001b[0m\u001b[0m\n\u001b[0m\u001b[0;32m   1094\u001b[0m         return self.obj._reindex_with_indexers(\n\u001b[0;32m   1095\u001b[0m             \u001b[1;33m{\u001b[0m\u001b[0maxis\u001b[0m\u001b[1;33m:\u001b[0m \u001b[1;33m[\u001b[0m\u001b[0mkeyarr\u001b[0m\u001b[1;33m,\u001b[0m \u001b[0mindexer\u001b[0m\u001b[1;33m]\u001b[0m\u001b[1;33m}\u001b[0m\u001b[1;33m,\u001b[0m \u001b[0mcopy\u001b[0m\u001b[1;33m=\u001b[0m\u001b[1;32mTrue\u001b[0m\u001b[1;33m,\u001b[0m \u001b[0mallow_dups\u001b[0m\u001b[1;33m=\u001b[0m\u001b[1;32mTrue\u001b[0m\u001b[1;33m\u001b[0m\u001b[1;33m\u001b[0m\u001b[0m\n",
      "\u001b[1;32m~\\AppData\\Roaming\\Python\\Python37\\site-packages\\pandas\\core\\indexing.py\u001b[0m in \u001b[0;36m_get_listlike_indexer\u001b[1;34m(self, key, axis)\u001b[0m\n\u001b[0;32m   1312\u001b[0m             \u001b[0mkeyarr\u001b[0m\u001b[1;33m,\u001b[0m \u001b[0mindexer\u001b[0m\u001b[1;33m,\u001b[0m \u001b[0mnew_indexer\u001b[0m \u001b[1;33m=\u001b[0m \u001b[0max\u001b[0m\u001b[1;33m.\u001b[0m\u001b[0m_reindex_non_unique\u001b[0m\u001b[1;33m(\u001b[0m\u001b[0mkeyarr\u001b[0m\u001b[1;33m)\u001b[0m\u001b[1;33m\u001b[0m\u001b[1;33m\u001b[0m\u001b[0m\n\u001b[0;32m   1313\u001b[0m \u001b[1;33m\u001b[0m\u001b[0m\n\u001b[1;32m-> 1314\u001b[1;33m         \u001b[0mself\u001b[0m\u001b[1;33m.\u001b[0m\u001b[0m_validate_read_indexer\u001b[0m\u001b[1;33m(\u001b[0m\u001b[0mkeyarr\u001b[0m\u001b[1;33m,\u001b[0m \u001b[0mindexer\u001b[0m\u001b[1;33m,\u001b[0m \u001b[0maxis\u001b[0m\u001b[1;33m)\u001b[0m\u001b[1;33m\u001b[0m\u001b[1;33m\u001b[0m\u001b[0m\n\u001b[0m\u001b[0;32m   1315\u001b[0m \u001b[1;33m\u001b[0m\u001b[0m\n\u001b[0;32m   1316\u001b[0m         if needs_i8_conversion(ax.dtype) or isinstance(\n",
      "\u001b[1;32m~\\AppData\\Roaming\\Python\\Python37\\site-packages\\pandas\\core\\indexing.py\u001b[0m in \u001b[0;36m_validate_read_indexer\u001b[1;34m(self, key, indexer, axis)\u001b[0m\n\u001b[0;32m   1375\u001b[0m \u001b[1;33m\u001b[0m\u001b[0m\n\u001b[0;32m   1376\u001b[0m             \u001b[0mnot_found\u001b[0m \u001b[1;33m=\u001b[0m \u001b[0mlist\u001b[0m\u001b[1;33m(\u001b[0m\u001b[0mensure_index\u001b[0m\u001b[1;33m(\u001b[0m\u001b[0mkey\u001b[0m\u001b[1;33m)\u001b[0m\u001b[1;33m[\u001b[0m\u001b[0mmissing_mask\u001b[0m\u001b[1;33m.\u001b[0m\u001b[0mnonzero\u001b[0m\u001b[1;33m(\u001b[0m\u001b[1;33m)\u001b[0m\u001b[1;33m[\u001b[0m\u001b[1;36m0\u001b[0m\u001b[1;33m]\u001b[0m\u001b[1;33m]\u001b[0m\u001b[1;33m.\u001b[0m\u001b[0munique\u001b[0m\u001b[1;33m(\u001b[0m\u001b[1;33m)\u001b[0m\u001b[1;33m)\u001b[0m\u001b[1;33m\u001b[0m\u001b[1;33m\u001b[0m\u001b[0m\n\u001b[1;32m-> 1377\u001b[1;33m             \u001b[1;32mraise\u001b[0m \u001b[0mKeyError\u001b[0m\u001b[1;33m(\u001b[0m\u001b[1;34mf\"{not_found} not in index\"\u001b[0m\u001b[1;33m)\u001b[0m\u001b[1;33m\u001b[0m\u001b[1;33m\u001b[0m\u001b[0m\n\u001b[0m\u001b[0;32m   1378\u001b[0m \u001b[1;33m\u001b[0m\u001b[0m\n\u001b[0;32m   1379\u001b[0m \u001b[1;33m\u001b[0m\u001b[0m\n",
      "\u001b[1;31mKeyError\u001b[0m: \"['sentrix_id'] not in index\""
     ]
    }
   ],
   "source": [
    "#EWAS\n",
    "\n",
    "import numpy as np\n",
    "import pandas as pd\n",
    "\n",
    "pheno = pd.read_csv(\"E:\\\\Msc Systems Biology\\\\MSB5000_Master_Thesis\\\\Practical work\\\\Data\\\\Data_Full_Datasets\\\\GSE66351\\\\Reduced_Pheno_Info.csv\", index_col= \"Sample_ID\")\n",
    "betas = pd.read_csv(\"E:\\\\Msc Systems Biology\\\\MSB5000_Master_Thesis\\\\Practical work\\\\Federated_Differential_Methylation_Analysis\\Output\\\\all_probes_samples_normalised_betas.csv\", index_col=0)\n",
    "x = pheno.loc[:,[\"Diagnosis\", \"Age\", \"Sex\", \"sentrix_id\"]] # design matrix with the dependent/explainatory variables to be included in the model\n",
    "y = betas.iloc[0:21,:] # keeping it small now to test if everything works the way it should\n",
    "\n",
    "# The design matrix needs to consist of numeric representations of the covariates to be included in the model, i.e. binary diagnosis, binary sex, dummy sentrix etc.\n",
    "x[\"Diagnosis\"] = (x[\"Diagnosis\"] == \"diagnosis: AD\").astype(int) #create binary diagnosis with 1 = AD and 0 = CTR\n",
    "x[\"Sex\"] = (x[\"Sex\"] == \"Sex: F\").astype(int) #create binary sex with 1 = F and 0 = M\n",
    "# create dummy variables for the unique sentrix_ids present in the dataset - this code can be reused to create center number dummies in the federated version of the code\n",
    "unique_ids = x[\"Sentrix_ID\"].unique()\n",
    "for id in unique_ids:\n",
    "    x[id] = (x[\"Sentrix_ID\"] == id).astype(int)\n",
    "x.drop(columns=\"Sentrix_ID\", inplace = True)\n",
    "# turn the age variable into a continuous numerical variable without any leftover text\n",
    "x[\"Age\"].replace(\"^[^:]*:\", \"\", regex=True, inplace=True)\n",
    "x[\"Age\"] = pd.to_numeric(x[\"Age\"])\n",
    "\n",
    "def EWAS_central(design_matrix, beta_values):\n",
    "    x_matrix = design_matrix.values\n",
    "    y_matrix = beta_values.values\n",
    "\n",
    "\n",
    "    n = y_matrix.shape[0] # select the number of rows of the beta matrix - #genes that the linear model will be calculated for\n",
    "    m = x.shape[1] #select the number of columns from the design matrix\n",
    "\n",
    "    import scipy.stats\n",
    "\n",
    "    coefficient = []\n",
    "    standard_error = []\n",
    "    t_stat = []\n",
    "    p_value = []\n",
    "    for i in range(0, n):\n",
    "        y_m = y_matrix[i, :]\n",
    "        x_t = x_matrix.T @ x_matrix\n",
    "        x_t_y = x_matrix.T @ y_m\n",
    "        x_t_inv = np.linalg.inv(x_t)\n",
    "        coef = x_t_inv @ x_t_y\n",
    "        coefficient.append(coef)\n",
    "        stan_er = np.diag(x_t_inv)\n",
    "        standard_error.append(stan_er)\n",
    "        t = coef/stan_er\n",
    "        t_stat.append(t)\n",
    "        df = y_matrix.shape[1]-2 #degrees of freedom is defined as number of observations - 2 \n",
    "        p = scipy.stats.t.sf(t, df)\n",
    "        p_value.append(p)\n",
    "\n",
    "#turn the results saved in lists into a dataframe for each covariate with the probe ids as index\n",
    "    result_coef = pd.DataFrame(coefficient, index=y.index, columns=x.columns)\n",
    "    result_staner = pd.DataFrame(standard_error, index = y.index, columns=x.columns)\n",
    "    result_tvalue = pd.DataFrame(t_stat, index=y.index, columns=x.columns)\n",
    "    result_pvalue = pd.DataFrame(p_value, index=y.index, columns=x.columns)\n",
    "\n",
    "#create a final results dataframe that contains the coefficient, standard error and p-value of the diagnosis covariate included in the linear regression\n",
    "    results_diagnosis = pd.DataFrame({\"Diagnosis_Coef\":result_coef[\"Diagnosis\"], \"Diagnosis_StanErr\":result_staner[\"Diagnosis\"], \"Diagnosis_Pvalue\":result_pvalue[\"Diagnosis\"]}, index=y.index)\n",
    "    return results_diagnosis\n",
    "\n",
    "  \n"
   ]
  },
  {
   "cell_type": "code",
   "execution_count": 4,
   "metadata": {},
   "outputs": [
    {
     "ename": "ValueError",
     "evalue": "matmul: Input operand 1 has a mismatch in its core dimension 0, with gufunc signature (n?,k),(k,m?)->(n?,m?) (size 190 is different from 20)",
     "output_type": "error",
     "traceback": [
      "\u001b[1;31m---------------------------------------------------------------------------\u001b[0m",
      "\u001b[1;31mValueError\u001b[0m                                Traceback (most recent call last)",
      "\u001b[1;32m~\\AppData\\Local\\Temp\\ipykernel_5800\\250319999.py\u001b[0m in \u001b[0;36m<module>\u001b[1;34m\u001b[0m\n\u001b[1;32m----> 1\u001b[1;33m \u001b[0mresults_diagnosis\u001b[0m \u001b[1;33m=\u001b[0m \u001b[0mEWAS_central\u001b[0m\u001b[1;33m(\u001b[0m\u001b[0mx\u001b[0m\u001b[1;33m,\u001b[0m\u001b[0my\u001b[0m\u001b[1;33m)\u001b[0m\u001b[1;33m\u001b[0m\u001b[1;33m\u001b[0m\u001b[0m\n\u001b[0m",
      "\u001b[1;32m~\\AppData\\Local\\Temp\\ipykernel_5800\\3822900199.py\u001b[0m in \u001b[0;36mEWAS_central\u001b[1;34m(design_matrix, beta_values)\u001b[0m\n\u001b[0;32m     38\u001b[0m         \u001b[0my_m\u001b[0m \u001b[1;33m=\u001b[0m \u001b[0my_matrix\u001b[0m\u001b[1;33m[\u001b[0m\u001b[0mi\u001b[0m\u001b[1;33m,\u001b[0m \u001b[1;33m:\u001b[0m\u001b[1;33m]\u001b[0m\u001b[1;33m\u001b[0m\u001b[1;33m\u001b[0m\u001b[0m\n\u001b[0;32m     39\u001b[0m         \u001b[0mx_t\u001b[0m \u001b[1;33m=\u001b[0m \u001b[0mx_matrix\u001b[0m\u001b[1;33m.\u001b[0m\u001b[0mT\u001b[0m \u001b[1;33m@\u001b[0m \u001b[0mx_matrix\u001b[0m\u001b[1;33m\u001b[0m\u001b[1;33m\u001b[0m\u001b[0m\n\u001b[1;32m---> 40\u001b[1;33m         \u001b[0mx_t_y\u001b[0m \u001b[1;33m=\u001b[0m \u001b[0mx_matrix\u001b[0m\u001b[1;33m.\u001b[0m\u001b[0mT\u001b[0m \u001b[1;33m@\u001b[0m \u001b[0my_m\u001b[0m\u001b[1;33m\u001b[0m\u001b[1;33m\u001b[0m\u001b[0m\n\u001b[0m\u001b[0;32m     41\u001b[0m         \u001b[0mx_t_inv\u001b[0m \u001b[1;33m=\u001b[0m \u001b[0mnp\u001b[0m\u001b[1;33m.\u001b[0m\u001b[0mlinalg\u001b[0m\u001b[1;33m.\u001b[0m\u001b[0minv\u001b[0m\u001b[1;33m(\u001b[0m\u001b[0mx_t\u001b[0m\u001b[1;33m)\u001b[0m\u001b[1;33m\u001b[0m\u001b[1;33m\u001b[0m\u001b[0m\n\u001b[0;32m     42\u001b[0m         \u001b[0mcoef\u001b[0m \u001b[1;33m=\u001b[0m \u001b[0mx_t_inv\u001b[0m \u001b[1;33m@\u001b[0m \u001b[0mx_t_y\u001b[0m\u001b[1;33m\u001b[0m\u001b[1;33m\u001b[0m\u001b[0m\n",
      "\u001b[1;31mValueError\u001b[0m: matmul: Input operand 1 has a mismatch in its core dimension 0, with gufunc signature (n?,k),(k,m?)->(n?,m?) (size 190 is different from 20)"
     ]
    }
   ],
   "source": [
    "results_diagnosis = EWAS_central(x,y)\n",
    "results_diagnosis.to_csv(os.path.join(output_path, \"results_diagnosis_regression_GSE66351_python.csv\"))"
   ]
  },
  {
   "cell_type": "markdown",
   "metadata": {},
   "source": [
    "Create a .bed structured text file with the regression output to be used as input into the differentially methylated region analysis"
   ]
  },
  {
   "cell_type": "code",
   "execution_count": 63,
   "metadata": {},
   "outputs": [],
   "source": [
    "# start with importing the probe information from the .bed file that is available through the encord project (?)\n",
    "bed_annotation = pd.read_csv(\"E:\\\\Msc Systems Biology\\\\MSB5000_Master_Thesis\\\\Practical work\\\\Data\\\\HAIB.A549.EtOH.Rep.3.bed\", sep=\"\\t\", header=None)\n",
    "# select the three necessary column, chr, start, stop from the annotation file and match these to the probes in the EWAS input betas based on probe ID\n",
    "bed_annotation = bed_annotation.iloc[:,0:4]\n",
    "bed_annotation.columns = [\"chr\", \"ChromStart\", \"ChromEnd\", \"Illumina_ID\"]\n",
    "# merge the regression output onto the .bed standard columns based on the probe ID\n",
    "results_bed = pd.merge(bed_annotation, results_diagnosis, left_on=\"Illumina_ID\", right_index=True, how=\"inner\") #using inner join since this preserves the order of the keys and\n",
    "# only keeps the entries that are present in both dataframes\n",
    "results_bed.set_index(results_bed[\"Illumina_ID\"], inplace=True)\n",
    "# write the dataframe as a tab separated .bed file\n",
    "results_bed.to_csv(os.path.join(output_path, \"results_diagnosis_regression_test.bed\"), sep=\"\\t\")"
   ]
  }
 ],
 "metadata": {
  "interpreter": {
   "hash": "57baa5815c940fdaff4d14510622de9616cae602444507ba5d0b6727c008cbd6"
  },
  "kernelspec": {
   "display_name": "Python 3.7.8 64-bit",
   "language": "python",
   "name": "python3"
  },
  "language_info": {
   "codemirror_mode": {
    "name": "ipython",
    "version": 3
   },
   "file_extension": ".py",
   "mimetype": "text/x-python",
   "name": "python",
   "nbconvert_exporter": "python",
   "pygments_lexer": "ipython3",
   "version": "3.7.8"
  },
  "orig_nbformat": 4
 },
 "nbformat": 4,
 "nbformat_minor": 2
}

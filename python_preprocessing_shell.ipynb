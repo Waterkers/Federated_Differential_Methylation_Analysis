{
 "cells": [
  {
   "cell_type": "markdown",
   "metadata": {},
   "source": [
    "#### Second attempt at the python version of the centralised part of the microarray methylation analysis workflow (Quality control upto normalisation)\n",
    "Using python as a shell to string together the specialised r functions used in the Exeter workflow"
   ]
  },
  {
   "cell_type": "markdown",
   "metadata": {},
   "source": [
    "Loading in the required modules/packages"
   ]
  },
  {
   "cell_type": "code",
   "execution_count": 1,
   "metadata": {},
   "outputs": [],
   "source": [
    "import pandas as pd\n",
    "import numpy as np\n",
    "import subprocess\n",
    "import csv\n",
    "import glob\n",
    "import os\n",
    "import re\n",
    "import seaborn as sns\n",
    "from matplotlib import pyplot as plt\n",
    "\n",
    "# stuff needed for some specific analysis - maybe not needed in this version of the code\n",
    "#from sklearn.decomposition import PCA \n",
    "#from scipy.stats import pearsonr\n",
    "#from sklearn.cluster import KMeans"
   ]
  },
  {
   "cell_type": "code",
   "execution_count": 2,
   "metadata": {},
   "outputs": [],
   "source": [
    "working_path = \"E:\\\\Msc Systems Biology\\\\MSB5000_Master_Thesis\\\\Practical work\\\\Federated_Differential_Methylation_Analysis\"\n",
    "data_path = \"E:\\\\Msc Systems Biology\\\\MSB5000_Master_Thesis\\\\Practical work\\\\Data\"\n",
    "output_path = \"E:\\\\Msc Systems Biology\\\\MSB5000_Master_Thesis\\Practical work\\\\Federated_Differential_Methylation_Analysis\\\\Output\"\n"
   ]
  },
  {
   "cell_type": "markdown",
   "metadata": {},
   "source": [
    "Use subprocess to read the data contained in the idat files into dataframe using the readEPIC function from the wateRmelon package in R"
   ]
  },
  {
   "cell_type": "code",
   "execution_count": 29,
   "metadata": {},
   "outputs": [],
   "source": [
    "load = subprocess.run([\"C:\\\\Program Files\\\\R\\\\R-4.1.2\\\\bin\\\\Rscript.exe\", '--vanilla', \"E:\\\\Msc Systems Biology\\\\MSB5000_Master_Thesis\\\\Practical work\\\\Federated_Differential_Methylation_Analysis\\\\Loading_idats_code_saveOutput_python_shell.R\", \"E:\\\\Msc Systems Biology\\\\MSB5000_Master_Thesis\\\\Practical work\\\\Data\\\\GSE66351_RAW\\\\GSE66351\", \"E:\\Msc Systems Biology\\MSB5000_Master_Thesis\\Practical work\\Data\\GSE66351_RAW\\GSE66351_pheno_info.txt\", \"E:\\\\Msc Systems Biology\\\\MSB5000_Master_Thesis\\Practical work\\\\Federated_Differential_Methylation_Analysis\\\\Output\"], capture_output=True)"
   ]
  },
  {
   "cell_type": "code",
   "execution_count": null,
   "metadata": {},
   "outputs": [],
   "source": [
    "print(load.stdout)"
   ]
  },
  {
   "cell_type": "markdown",
   "metadata": {},
   "source": [
    "### Creating an output file structure and loading in the idat files"
   ]
  },
  {
   "cell_type": "markdown",
   "metadata": {},
   "source": [
    "The input arguments of this script are: \n",
    "1. file_path to the folder containing the .idat files \n",
    "2. file_path to the phenotype information sheet (.txt) \n",
    "3. the directory where the output should be saved \n",
    "4. OPTIONAL the data identifier to be used in the creation of the output folders - this still needs to be fixed"
   ]
  },
  {
   "cell_type": "code",
   "execution_count": 11,
   "metadata": {},
   "outputs": [],
   "source": [
    "load_with_option = subprocess.run([\"C:\\\\Program Files\\\\R\\\\R-4.1.2\\\\bin\\\\Rscript.exe\", '--vanilla', \"E:\\\\Msc Systems Biology\\\\MSB5000_Master_Thesis\\\\Practical work\\\\Federated_Differential_Methylation_Analysis\\\\Loading_idats_code_saveOutput_python_shell_dataID_option.R\", \"E:\\\\Msc Systems Biology\\\\MSB5000_Master_Thesis\\\\Practical work\\\\Data\\\\GSE66351_RAW\\\\GSE66351\", \"E:\\Msc Systems Biology\\MSB5000_Master_Thesis\\Practical work\\Data\\GSE66351_RAW\\GSE66351_pheno_info.txt\", \"E:\\\\Msc Systems Biology\\\\MSB5000_Master_Thesis\\Practical work\\\\Federated_Differential_Methylation_Analysis\\\\Output\", \"GSE66351a\"], capture_output=True)"
   ]
  },
  {
   "cell_type": "code",
   "execution_count": null,
   "metadata": {},
   "outputs": [],
   "source": [
    "print(load_with_option.stderr)"
   ]
  },
  {
   "cell_type": "markdown",
   "metadata": {},
   "source": [
    "Using subprocess to perform the complete preprocessing workflow upto the normalisation  \n",
    "This is the whole preprocessing chopped into three functions but run as one .r script - maybe smart to run each function as its own script with own input"
   ]
  },
  {
   "cell_type": "code",
   "execution_count": 69,
   "metadata": {},
   "outputs": [],
   "source": [
    "complete_preprocessing = subprocess.run([\"C:\\\\Program Files\\\\R\\\\R-4.1.2\\\\bin\\\\Rscript.exe\", '--vanilla', \"E:\\\\Msc Systems Biology\\\\MSB5000_Master_Thesis\\\\Practical work\\\\Federated_Differential_Methylation_Analysis\\\\preprocessing_r_code_replication_shell_version_no_norm.r\", \"E:\\\\Msc Systems Biology\\\\MSB5000_Master_Thesis\\\\Practical work\\\\Data\\\\GSE66351_RAW\\\\GSE66351\", \"E:\\Msc Systems Biology\\MSB5000_Master_Thesis\\Practical work\\Data\\GSE66351_RAW\\GSE66351_pheno_info.txt\", \"E:\\\\Msc Systems Biology\\\\MSB5000_Master_Thesis\\Practical work\\\\Federated_Differential_Methylation_Analysis\\\\Output\", \"E:\\Msc Systems Biology\\\\MSB5000_Master_Thesis\\\\Practical work\\\\Data\\\\GSE66351_RAW\\\\GSE66351\\\\GPL13534_HumanMethylation450_15017482_v.1.1.csv\"], capture_output = True)"
   ]
  },
  {
   "cell_type": "code",
   "execution_count": null,
   "metadata": {},
   "outputs": [],
   "source": [
    "#check what happend in the subprocess\n",
    "print(complete_preprocessing.stderr)\n",
    "print(complete_preprocessing.stdout)"
   ]
  },
  {
   "cell_type": "code",
   "execution_count": 19,
   "metadata": {},
   "outputs": [],
   "source": [
    "preprocessing_normalisation = subprocess.run([\"C:\\\\Program Files\\\\R\\\\R-4.1.2\\\\bin\\\\Rscript.exe\", '--vanilla',\"E:\\\\Msc Systems Biology\\\\MSB5000_Master_Thesis\\\\Practical work\\\\Federated_Differential_Methylation_Analysis\\\\preprocessing_r_code_replication_shell_version.r\", \"E:\\\\Msc Systems Biology\\\\MSB5000_Master_Thesis\\\\Practical work\\\\Data\\\\GSE66351_RAW\\\\GSE66351\", \"E:\\Msc Systems Biology\\MSB5000_Master_Thesis\\Practical work\\Data\\GSE66351_RAW\\GSE66351_pheno_info.txt\", output_path], capture_output=True)"
   ]
  },
  {
   "cell_type": "code",
   "execution_count": null,
   "metadata": {},
   "outputs": [],
   "source": [
    "print(preprocessing_normalisation.stderr)\n",
    "print(preprocessing_normalisation.stdout)"
   ]
  },
  {
   "cell_type": "markdown",
   "metadata": {},
   "source": [
    "Next step is to normalise the data, this step will be offered centrally and distributed/federated to be flexible to the researchers needs  \n",
    "Below a implementation of the normalisation algorithm behind the dasen function in the wateRmelon package is provided"
   ]
  },
  {
   "cell_type": "markdown",
   "metadata": {},
   "source": [
    "Dasen normalisation is a form of quantile normalisation that is performed for the two probe types seperately. The normalised data (betas), per probe type, are calculated using the normalised methylated and unmethylated intensities of each probe type.  \n",
    "    betas (per probe) = quantile normalised methylated intensities / (quantile normalised methylated intensities + quantile normalised unmethylated intensities + 100)  \n",
    "The first step is to write the quantile normalisation function"
   ]
  },
  {
   "cell_type": "code",
   "execution_count": null,
   "metadata": {},
   "outputs": [],
   "source": [
    "# quantile normalisation function\n",
    "def quantile_normalise(input_data):\n",
    "    \"\"\"\n",
    "    input_data = a dataframe that needs to be quantile normalised\n",
    "    returns a quantile normalised version of the input_data\n",
    "    \"\"\"\n",
    "    data_sorted = pd.DataFrame(np.sort(input_data.values, axis = 0), index = input_data.index, columns = input_data.columns) #sort the values of each column (sample) and keep the original row \n",
    "    # and column names\n",
    "    data_sorted_means = data_sorted.mean(axis = 1) # calulate the row means of the sorted data -> these means will be used to replace the raw values in the data\n",
    "    data_sorted_means.index = np.arrange(1, len(data_sorted_means)+1) # this sets the index so it will correspond to the descending ranks that will be assigned to the original \n",
    "    # data in the dataframe. This way the row means, which are sorted loweste to highest, can be used to replace the raw data in the correct order\n",
    "    data_rank = input_data.rank(method = min).stack().astype(int) # get the rank of the values for each sample in the raw dataset in integer format and change the dataframe so that\n",
    "    # the columns become the rows, with a multi-index indicating probe as the highest level and the samples for that probe as the second level\n",
    "    QN_data = data_rank.map(data_sorted_means).unstack() # map the row mean values onto the matching ranks obtained from the original dataframe and bring it back to a row = probe\n",
    "    # and column = sample format\n",
    "    return (QN_data)\n",
    "\n",
    "    "
   ]
  },
  {
   "cell_type": "markdown",
   "metadata": {},
   "source": [
    "Before the dasen function can be coded, first a couple of supporting functions need to be translated from r to python, these have been defined in the wateRmelon package as:  \n",
    "* dfs2\n",
    "* dfsfit"
   ]
  },
  {
   "cell_type": "code",
   "execution_count": null,
   "metadata": {},
   "outputs": [],
   "source": [
    "def dfs2_python(x, probe_type):\n",
    "    from sklearn.neighbors import KernelDensity\n",
    "    KD_one = KernelDensity(kernel = \"gaussian\", ).fit(x[probe_type == \"I\"])\n",
    "    one = KD_one.score_samples(x[probe_type == \"I\"])\n",
    "    KD_two = KernelDensity(kernel = \"gaussian\", ).fit(x[probe_type == \"II\"])\n",
    "    two = KD_two.score_samples(x[probe_type == \"II\"])\n",
    "    out = one.amax - two.amax #not quite sure if any of this is correct"
   ]
  },
  {
   "cell_type": "code",
   "execution_count": null,
   "metadata": {},
   "outputs": [],
   "source": [
    "def dfsfit_python():"
   ]
  },
  {
   "cell_type": "code",
   "execution_count": null,
   "metadata": {},
   "outputs": [],
   "source": [
    "# dasen normalisation\n",
    "def dasen_normalisation(unmethylated, methylated, probe_type, base = 100):\n",
    "    \"\"\"\n",
    "    computes the dasen normalised beta values: quantile normalises the unmethylated and methylated intensities, per probe type,\n",
    "    and uses these normalised intensities to calculate the beta values\n",
    "\n",
    "    Input arguments:\n",
    "    unmethylated = dataframe of unmethylated intensities\n",
    "    methylated = dataframe of methylated intensities\n",
    "    probe_type = series indicating the type of each probe (Type I or Type II)\n",
    "\n",
    "    Returns: a dataframe of normalised beta values\n",
    "    \"\"\"\n",
    "    unmethylated"
   ]
  },
  {
   "cell_type": "markdown",
   "metadata": {},
   "source": [
    "For now, to move on to writing the EWAS code, I wrote a script around the normalisation with the dasen function and the cell type decomposition in r which will be run as a subprocess. The normalisation will be implemented in python in the final version but the cell type decomposition remains r based because there is limitted need to reimplement that in a federated fashion - THIS IS NOT WORKING, INLCUDED THE NORMALISATION AND CELL TYPE DECOMPOSITION INTO THE R-SCRIPT THAT IS RUN IN THE SUBPROCESS FOR NOW"
   ]
  },
  {
   "cell_type": "code",
   "execution_count": 71,
   "metadata": {},
   "outputs": [],
   "source": [
    "normalisation = \"dasen_normalisation.r\"\n",
    "normalisation_file = os.path.join(working_path, normalisation)\n",
    "data = os.path.join(output_path, \"preprocessed_MethyLumiSet.RData\") \n",
    "manifest_path = \"E:\\\\Msc Systems Biology\\\\MSB5000_Master_Thesis\\\\Practical work\\\\Data\\\\GSE66351_RAW\\\\GPL13534_HumanMethylation450_15017482_v.1.1.csv\"\n"
   ]
  },
  {
   "cell_type": "code",
   "execution_count": 72,
   "metadata": {},
   "outputs": [],
   "source": [
    "r_normalisation = subprocess.run([\"C:\\\\Program Files\\\\R\\\\R-4.1.2\\\\bin\\\\Rscript.exe\", '--vanilla', normalisation_file, data, output_dir, manifest_path], capture_output = True)"
   ]
  },
  {
   "cell_type": "code",
   "execution_count": null,
   "metadata": {},
   "outputs": [],
   "source": [
    "print(r_normalisation.stderr)\n",
    "print(r_normalisation.stdout)"
   ]
  },
  {
   "cell_type": "markdown",
   "metadata": {},
   "source": [
    "R script containing the RefFreeEWAS cell type decomposition which will be run in a subprocess, output saved and added to the phenotype information that will be used in the EWAS furhter down in this file"
   ]
  },
  {
   "cell_type": "code",
   "execution_count": 28,
   "metadata": {},
   "outputs": [],
   "source": [
    "# specifying the paths that go into the subprocess function\n",
    "file_path = os.path.join(working_path, \"RefFreeEWAS_local.r\")\n",
    "data_path = os.path.join(output_path, \"Preprocessed_Normalised_MethyLumiSet.RData\")\n",
    "manifest_path = \"E:\\\\Msc Systems Biology\\\\MSB5000_Master_Thesis\\\\Practical work\\\\Data\\\\GSE66351_RAW\\\\GPL13534_HumanMethylation450_15017482_v.1.1.csv\"\n",
    "pheno_path = os.path.join(output_path, \"post_norm_pheno_information.csv\")\n",
    "\n",
    "# RefFreeEWAS subprocess\n",
    "RefFreeEWAS = subprocess.run([\"C:\\\\Program Files\\\\R\\\\R-4.1.2\\\\bin\\\\Rscript.exe\", '--vanilla', file_path, data_path, pheno_path, manifest_path], capture_output=True)"
   ]
  },
  {
   "cell_type": "code",
   "execution_count": 29,
   "metadata": {},
   "outputs": [
    {
     "data": {
      "text/plain": [
       "b'Installing package into \\'C:/Users/Silke/OneDrive/Documenten/R/win-library/4.1\\'\\r\\n(as \\'lib\\' is unspecified)\\r\\n* installing *source* package \\'RefFreeEWAS\\' ...\\r\\n** package \\'RefFreeEWAS\\' successfully unpacked and MD5 sums checked\\r\\n** using staged installation\\r\\n** R\\r\\n** data\\r\\n** byte-compile and prepare package for lazy loading\\r\\n** help\\r\\n*** installing help indices\\r\\n    finding HTML links ... done\\r\\n** building package indices\\r\\n** testing if installed package can be loaded from temporary location\\r\\n** testing if installed package can be loaded from final location\\r\\n** testing if installed package keeps a record of temporary installation path\\r\\n* DONE (RefFreeEWAS)\\r\\nInstalling package into \\'C:/Users/Silke/OneDrive/Documenten/R/win-library/4.1\\'\\r\\n(as \\'lib\\' is unspecified)\\r\\ntrying URL \\'https://mirror.lyrahosting.com/CRAN/bin/windows/contrib/4.1/quadprog_1.5-8.zip\\'\\r\\nContent type \\'application/zip\\' length 50391 bytes (49 KB)\\r\\n==================================================\\r\\ndownloaded 49 KB\\r\\n\\r\\nLoading required package: quadprog\\r\\nBioconductor version 3.14 (BiocManager 1.30.16), R 4.1.2 (2021-11-01)\\r\\nInstallation paths not writeable, unable to update packages\\r\\n  path: C:/Program Files/R/R-4.1.2/library\\r\\n  packages:\\r\\n    class, cluster, foreign, MASS, Matrix, mgcv, nlme, nnet, rpart, spatial,\\r\\n    survival\\r\\nOld packages: \\'AnnotationHub\\', \\'beanplot\\', \\'blob\\', \\'cli\\', \\'clipr\\',\\r\\n  \\'colorspace\\', \\'commonmark\\', \\'crayon\\', \\'dplyr\\', \\'DT\\', \\'ensembldb\\', \\'evaluate\\',\\r\\n  \\'fansi\\', \\'formatR\\', \\'GenomicFeatures\\', \\'glue\\', \\'Gviz\\', \\'jsonlite\\', \\'knitr\\',\\r\\n  \\'limma\\', \\'locfit\\', \\'magrittr\\', \\'openssl\\', \\'plyr\\', \\'processx\\', \\'RColorBrewer\\',\\r\\n  \\'Rcpp\\', \\'RCurl\\', \\'readxl\\', \\'rhdf5\\', \\'rlang\\', \\'rmarkdown\\', \\'RSQLite\\',\\r\\n  \\'S4Vectors\\', \\'sass\\', \\'tidyselect\\', \\'tinytex\\', \\'tzdb\\', \\'uuid\\', \\'vctrs\\',\\r\\n  \\'withr\\', \\'xfun\\', \\'XML\\', \\'yaml\\'\\r\\nWarning message:\\r\\npackage(s) not installed when version(s) same as current; use `force = TRUE` to\\r\\n  re-install: \\'wateRmelon\\' \\'methylumi\\' \\r\\nLoading required package: Biobase\\r\\nLoading required package: BiocGenerics\\r\\n\\r\\nAttaching package: \\'BiocGenerics\\'\\r\\n\\r\\nThe following objects are masked from \\'package:stats\\':\\r\\n\\r\\n    IQR, mad, sd, var, xtabs\\r\\n\\r\\nThe following objects are masked from \\'package:base\\':\\r\\n\\r\\n    anyDuplicated, append, as.data.frame, basename, cbind, colnames,\\r\\n    dirname, do.call, duplicated, eval, evalq, Filter, Find, get, grep,\\r\\n    grepl, intersect, is.unsorted, lapply, Map, mapply, match, mget,\\r\\n    order, paste, pmax, pmax.int, pmin, pmin.int, Position, rank,\\r\\n    rbind, Reduce, rownames, sapply, setdiff, sort, table, tapply,\\r\\n    union, unique, unsplit, which.max, which.min\\r\\n\\r\\nWelcome to Bioconductor\\r\\n\\r\\n    Vignettes contain introductory material; view with\\r\\n    \\'browseVignettes()\\'. To cite Bioconductor, see\\r\\n    \\'citation(\"Biobase\")\\', and for packages \\'citation(\"pkgname\")\\'.\\r\\n\\r\\nLoading required package: limma\\r\\n\\r\\nAttaching package: \\'limma\\'\\r\\n\\r\\nThe following object is masked from \\'package:BiocGenerics\\':\\r\\n\\r\\n    plotMA\\r\\n\\r\\nLoading required package: matrixStats\\r\\n\\r\\nAttaching package: \\'matrixStats\\'\\r\\n\\r\\nThe following objects are masked from \\'package:Biobase\\':\\r\\n\\r\\n    anyMissing, rowMedians\\r\\n\\r\\nLoading required package: methylumi\\r\\nLoading required package: scales\\r\\nLoading required package: reshape2\\r\\nLoading required package: ggplot2\\r\\nLoading required package: FDb.InfiniumMethylation.hg19\\r\\nLoading required package: GenomicFeatures\\r\\nLoading required package: S4Vectors\\r\\nLoading required package: stats4\\r\\n\\r\\nAttaching package: \\'S4Vectors\\'\\r\\n\\r\\nThe following objects are masked from \\'package:base\\':\\r\\n\\r\\n    expand.grid, I, unname\\r\\n\\r\\nLoading required package: IRanges\\r\\n\\r\\nAttaching package: \\'IRanges\\'\\r\\n\\r\\nThe following object is masked from \\'package:grDevices\\':\\r\\n\\r\\n    windows\\r\\n\\r\\nLoading required package: GenomeInfoDb\\r\\nLoading required package: GenomicRanges\\r\\nLoading required package: AnnotationDbi\\r\\nLoading required package: TxDb.Hsapiens.UCSC.hg19.knownGene\\r\\nLoading required package: org.Hs.eg.db\\r\\n\\r\\nLoading required package: minfi\\r\\nLoading required package: SummarizedExperiment\\r\\nLoading required package: MatrixGenerics\\r\\n\\r\\nAttaching package: \\'MatrixGenerics\\'\\r\\n\\r\\nThe following objects are masked from \\'package:matrixStats\\':\\r\\n\\r\\n    colAlls, colAnyNAs, colAnys, colAvgsPerRowSet, colCollapse,\\r\\n    colCounts, colCummaxs, colCummins, colCumprods, colCumsums,\\r\\n    colDiffs, colIQRDiffs, colIQRs, colLogSumExps, colMadDiffs,\\r\\n    colMads, colMaxs, colMeans2, colMedians, colMins, colOrderStats,\\r\\n    colProds, colQuantiles, colRanges, colRanks, colSdDiffs, colSds,\\r\\n    colSums2, colTabulates, colVarDiffs, colVars, colWeightedMads,\\r\\n    colWeightedMeans, colWeightedMedians, colWeightedSds,\\r\\n    colWeightedVars, rowAlls, rowAnyNAs, rowAnys, rowAvgsPerColSet,\\r\\n    rowCollapse, rowCounts, rowCummaxs, rowCummins, rowCumprods,\\r\\n    rowCumsums, rowDiffs, rowIQRDiffs, rowIQRs, rowLogSumExps,\\r\\n    rowMadDiffs, rowMads, rowMaxs, rowMeans2, rowMedians, rowMins,\\r\\n    rowOrderStats, rowProds, rowQuantiles, rowRanges, rowRanks,\\r\\n    rowSdDiffs, rowSds, rowSums2, rowTabulates, rowVarDiffs, rowVars,\\r\\n    rowWeightedMads, rowWeightedMeans, rowWeightedMedians,\\r\\n    rowWeightedSds, rowWeightedVars\\r\\n\\r\\nThe following object is masked from \\'package:Biobase\\':\\r\\n\\r\\n    rowMedians\\r\\n\\r\\nLoading required package: Biostrings\\r\\nLoading required package: XVector\\r\\n\\r\\nAttaching package: \\'Biostrings\\'\\r\\n\\r\\nThe following object is masked from \\'package:base\\':\\r\\n\\r\\n    strsplit\\r\\n\\r\\nLoading required package: bumphunter\\r\\nLoading required package: foreach\\r\\nLoading required package: iterators\\r\\nLoading required package: parallel\\r\\nLoading required package: locfit\\r\\nlocfit 1.5-9.4 \\t 2020-03-24\\r\\nSetting options(\\'download.file.method.GEOquery\\'=\\'auto\\')\\nSetting options(\\'GEOquery.inmemory.gpl\\'=FALSE)\\nLoading required package: lumi\\nNo methods found in package \\'RSQLite\\' for request: \\'dbListFields\\' when loading \\'lumi\\'\\n\\nAttaching package: \\'lumi\\'\\n\\nThe following objects are masked from \\'package:methylumi\\':\\n\\n    estimateM, getHistory\\n\\nLoading required package: ROC\\nLoading required package: IlluminaHumanMethylation450kanno.ilmn12.hg19\\nLoading required package: illuminaio\\nInstalling package into \\'C:/Users/Silke/OneDrive/Documenten/R/win-library/4.1\\'\\n(as \\'lib\\' is unspecified)\\ntrying URL \\'https://mirror.lyrahosting.com/CRAN/bin/windows/contrib/4.1/tidyverse_1.3.1.zip\\'\\nContent type \\'application/zip\\' length 430226 bytes (420 KB)\\n==================================================\\ndownloaded 420 KB\\n\\n-- Attaching packages --------------------------------------- tidyverse 1.3.1 --\\nv tibble  3.1.6     v dplyr   1.0.7\\nv tidyr   1.2.0     v stringr 1.4.0\\nv readr   2.1.2     v forcats 0.5.1\\nv purrr   0.3.4     \\n-- Conflicts ------------------------------------------ tidyverse_conflicts() --\\nx purrr::accumulate() masks foreach::accumulate()\\nx readr::col_factor() masks scales::col_factor()\\nx dplyr::collapse()   masks Biostrings::collapse(), IRanges::collapse()\\nx dplyr::combine()    masks lumi::combine(), methylumi::combine(), minfi::combine(), Biobase::combine(), BiocGenerics::combine()\\nx purrr::compact()    masks XVector::compact()\\nx dplyr::count()      masks matrixStats::count()\\nx dplyr::desc()       masks IRanges::desc()\\nx purrr::discard()    masks scales::discard()\\nx tidyr::expand()     masks S4Vectors::expand()\\nx dplyr::filter()     masks stats::filter()\\nx dplyr::first()      masks S4Vectors::first()\\nx dplyr::lag()        masks stats::lag()\\nx purrr::none()       masks locfit::none()\\nx ggplot2::Position() masks BiocGenerics::Position(), base::Position()\\nx purrr::reduce()     masks GenomicRanges::reduce(), IRanges::reduce()\\nx dplyr::rename()     masks S4Vectors::rename()\\nx dplyr::select()     masks AnnotationDbi::select()\\nx dplyr::slice()      masks XVector::slice(), IRanges::slice()\\nx purrr::when()       masks foreach::when()\\nWarning message:\\npackage \\'tidyverse\\' was built under R version 4.1.3 \\nError in h(simpleError(msg, call)) : \\n  error in evaluating the argument \\'table\\' in selecting a method for function \\'%in%\\': error in evaluating the argument \\'x\\' in selecting a method for function \\'rownames\\': unable to find an inherited method for function \\'betas\\' for signature \\'\"character\"\\'\\nCalls: cell_decomp_RefFreeEWAS ... [.data.frame -> %in% -> rownames -> betas -> <Anonymous>\\nExecution halted\\n'"
      ]
     },
     "execution_count": 29,
     "metadata": {},
     "output_type": "execute_result"
    }
   ],
   "source": [
    "RefFreeEWAS.stderr"
   ]
  },
  {
   "cell_type": "markdown",
   "metadata": {},
   "source": [
    "Removing unwanted probes from the dataset"
   ]
  },
  {
   "cell_type": "code",
   "execution_count": null,
   "metadata": {},
   "outputs": [],
   "source": [
    "# SNP and overlapping (?) probe removal"
   ]
  },
  {
   "cell_type": "markdown",
   "metadata": {},
   "source": [
    "EWAS code, using the linear model function from sklearn"
   ]
  },
  {
   "cell_type": "code",
   "execution_count": 14,
   "metadata": {},
   "outputs": [
    {
     "data": {
      "text/plain": [
       "' coefficient = []\\nstandard_error = []\\n#t_stat = []\\n#p_value = []\\nfor i in range(0, n):\\n   y_m = y_matrix[i, :]\\n   x_t = x_matrix.T @ x_matrix\\n   x_t_y = x_matrix.T @ y\\n   x_t_inv = np.linalg.inv(x_t)\\n   coef = x_t_inv @ x_t_y\\n   coefficient.append(coef)\\n   stan_er = np.diag(x_t_inv)\\n   standard_error.append(stan_er) '"
      ]
     },
     "execution_count": 14,
     "metadata": {},
     "output_type": "execute_result"
    }
   ],
   "source": [
    "#EWAS\n",
    "#import statsmodels.api as sm # this contains an R-like linear model function that is more intuitive than the sklearn equivalent\n",
    "#from patsy import dmatrices\n",
    "import numpy as np\n",
    "import pandas as pd\n",
    "\n",
    "pheno = pd.read_csv(\"E:\\\\Msc Systems Biology\\\\MSB5000_Master_Thesis\\\\Practical work\\\\Federated_Differential_Methylation_Analysis\\\\Output\\\\QC_GSE66351_PythonShell\\\\post_norm_pheno_information.csv\", index_col= \"Sample_ID\")\n",
    "betas = pd.read_csv(\"E:\\\\Msc Systems Biology\\\\MSB5000_Master_Thesis\\\\Practical work\\\\Federated_Differential_Methylation_Analysis\\Output\\\\QC_GSE66351_PythonShell\\\\Preprocessed_betas.csv\", index_col=0)\n",
    "x = pheno.loc[:,[\"Sample_diagnosis\", \"Sample_age\", \"Sample_sex\", \"Sample_sentrix_id\"]] # design matrix with the dependent/explainatory variables to be included in the model\n",
    "y = betas.iloc[0:20,:] # keeping it small now to test if everything works the way it should\n",
    "\n",
    "# The design matrix needs to consist of numeric representations of the covariates to be included in the model, i.e. binary diagnosis, binary sex, dummy sentrix etc.\n",
    "x[\"Sample_diagnosis\"] = (x[\"Sample_diagnosis\"] == \"diagnosis: AD\").astype(int) #create binary diagnosis with 1 = AD and 0 = CTR\n",
    "x[\"Sample_sex\"] = (x[\"Sample_sex\"] == \"Sex: F\").astype(int) #create binary sex with 1 = F and 0 = M\n",
    "# create dummy variables for the unique sentrix_ids present in the dataset - this code can be reused to create center number dummies in the federated version of the code\n",
    "unique_ids = x[\"Sample_sentrix_id\"].unique()\n",
    "for id in unique_ids:\n",
    "    x[id] = (x[\"Sample_sentrix_id\"] == id).astype(int)\n",
    "x.drop(columns=\"Sample_sentrix_id\", inplace = True)\n",
    "# turn the age variable into a continuous numerical variable without any leftover text\n",
    "x[\"Sample_age\"].replace(\"^[^:]*:\", \"\", regex=True, inplace=True)\n",
    "x[\"Sample_age\"] = pd.to_numeric(x[\"Sample_age\"])\n",
    "\n",
    "x_matrix = x.values\n",
    "y_matrix = y.values\n",
    "\n",
    "\n",
    "\n",
    "\n",
    "  \n"
   ]
  },
  {
   "cell_type": "code",
   "execution_count": 17,
   "metadata": {},
   "outputs": [],
   "source": [
    "n = y_matrix.shape[0] # select the number of rows of the beta matrix - #genes that the linear model will be calculated for\n",
    "m = x.shape[1] #select the number of columns from the design matrix\n",
    "\n",
    "coefficient = []\n",
    "standard_error = []\n",
    "#t_stat = []\n",
    "#p_value = []\n",
    "for i in range(0, n):\n",
    "   y_m = y_matrix[i, :]\n",
    "   x_t = x_matrix.T @ x_matrix\n",
    "   x_t_y = x_matrix.T @ y\n",
    "   x_t_inv = np.linalg.inv(x_t)\n",
    "   coef = x_t_inv @ x_t_y\n",
    "   coefficient.append(coef)\n",
    "   stan_er = np.diag(x_t_inv)\n",
    "   standard_error.append(stan_er)"
   ]
  },
  {
   "cell_type": "code",
   "execution_count": 19,
   "metadata": {},
   "outputs": [
    {
     "data": {
      "text/html": [
       "<div>\n",
       "<style scoped>\n",
       "    .dataframe tbody tr th:only-of-type {\n",
       "        vertical-align: middle;\n",
       "    }\n",
       "\n",
       "    .dataframe tbody tr th {\n",
       "        vertical-align: top;\n",
       "    }\n",
       "\n",
       "    .dataframe thead th {\n",
       "        text-align: right;\n",
       "    }\n",
       "</style>\n",
       "<table border=\"1\" class=\"dataframe\">\n",
       "  <thead>\n",
       "    <tr style=\"text-align: right;\">\n",
       "      <th></th>\n",
       "      <th>GSM2808875_8918692108_R01C02</th>\n",
       "      <th>GSM2808876_8918692108_R01C01</th>\n",
       "      <th>GSM2808877_8918692108_R02C02</th>\n",
       "      <th>GSM2808878_8918692108_R02C01</th>\n",
       "      <th>GSM2808879_8918692108_R03C02</th>\n",
       "      <th>GSM2808880_8918692108_R03C01</th>\n",
       "      <th>GSM2808881_8918692108_R04C02</th>\n",
       "      <th>GSM2808882_8918692108_R04C01</th>\n",
       "      <th>GSM2808883_8918692108_R05C02</th>\n",
       "      <th>GSM2808884_8918692108_R05C01</th>\n",
       "      <th>GSM2808885_8918692108_R06C02</th>\n",
       "      <th>GSM2808886_8918692108_R06C01</th>\n",
       "      <th>GSM2808887_8918692120_R04C02</th>\n",
       "      <th>GSM2808888_8918692120_R04C01</th>\n",
       "      <th>GSM2808889_8918692120_R05C02</th>\n",
       "      <th>GSM2808890_8918692120_R05C01</th>\n",
       "      <th>GSM2808891_8918692120_R06C02</th>\n",
       "      <th>GSM2808892_8918692120_R06C01</th>\n",
       "      <th>GSM2808893_8221932039_R04C01</th>\n",
       "      <th>GSM2808894_8221932039_R03C01</th>\n",
       "    </tr>\n",
       "  </thead>\n",
       "  <tbody>\n",
       "    <tr>\n",
       "      <th>0</th>\n",
       "      <td>0.847292</td>\n",
       "      <td>0.785509</td>\n",
       "      <td>0.749685</td>\n",
       "      <td>0.703853</td>\n",
       "      <td>0.816978</td>\n",
       "      <td>0.775480</td>\n",
       "      <td>0.711682</td>\n",
       "      <td>0.662213</td>\n",
       "      <td>0.835412</td>\n",
       "      <td>0.659004</td>\n",
       "      <td>0.611971</td>\n",
       "      <td>0.702149</td>\n",
       "      <td>0.715169</td>\n",
       "      <td>0.707274</td>\n",
       "      <td>0.627512</td>\n",
       "      <td>0.677326</td>\n",
       "      <td>0.752324</td>\n",
       "      <td>0.616838</td>\n",
       "      <td>0.776581</td>\n",
       "      <td>0.697137</td>\n",
       "    </tr>\n",
       "    <tr>\n",
       "      <th>1</th>\n",
       "      <td>-0.014892</td>\n",
       "      <td>-0.013386</td>\n",
       "      <td>-0.013578</td>\n",
       "      <td>-0.012430</td>\n",
       "      <td>-0.014507</td>\n",
       "      <td>-0.013339</td>\n",
       "      <td>-0.013274</td>\n",
       "      <td>-0.011870</td>\n",
       "      <td>-0.014387</td>\n",
       "      <td>-0.011642</td>\n",
       "      <td>-0.011648</td>\n",
       "      <td>-0.012404</td>\n",
       "      <td>-0.013492</td>\n",
       "      <td>-0.012426</td>\n",
       "      <td>-0.011994</td>\n",
       "      <td>-0.012135</td>\n",
       "      <td>-0.013760</td>\n",
       "      <td>-0.011126</td>\n",
       "      <td>-0.013959</td>\n",
       "      <td>-0.012095</td>\n",
       "    </tr>\n",
       "    <tr>\n",
       "      <th>2</th>\n",
       "      <td>0.272046</td>\n",
       "      <td>0.295901</td>\n",
       "      <td>0.290442</td>\n",
       "      <td>0.300071</td>\n",
       "      <td>0.280151</td>\n",
       "      <td>0.278271</td>\n",
       "      <td>0.289889</td>\n",
       "      <td>0.318216</td>\n",
       "      <td>0.261543</td>\n",
       "      <td>0.294991</td>\n",
       "      <td>0.332527</td>\n",
       "      <td>0.299931</td>\n",
       "      <td>0.321115</td>\n",
       "      <td>0.312050</td>\n",
       "      <td>0.305292</td>\n",
       "      <td>0.295426</td>\n",
       "      <td>0.270812</td>\n",
       "      <td>0.279921</td>\n",
       "      <td>0.282431</td>\n",
       "      <td>0.270201</td>\n",
       "    </tr>\n",
       "    <tr>\n",
       "      <th>3</th>\n",
       "      <td>0.759083</td>\n",
       "      <td>0.686398</td>\n",
       "      <td>0.740552</td>\n",
       "      <td>0.682565</td>\n",
       "      <td>0.748327</td>\n",
       "      <td>0.691155</td>\n",
       "      <td>0.752335</td>\n",
       "      <td>0.678996</td>\n",
       "      <td>0.738872</td>\n",
       "      <td>0.667190</td>\n",
       "      <td>0.704505</td>\n",
       "      <td>0.685901</td>\n",
       "      <td>0.748042</td>\n",
       "      <td>0.681661</td>\n",
       "      <td>0.712129</td>\n",
       "      <td>0.692472</td>\n",
       "      <td>0.754540</td>\n",
       "      <td>0.672221</td>\n",
       "      <td>0.753100</td>\n",
       "      <td>0.677003</td>\n",
       "    </tr>\n",
       "    <tr>\n",
       "      <th>4</th>\n",
       "      <td>0.615132</td>\n",
       "      <td>0.525298</td>\n",
       "      <td>0.590424</td>\n",
       "      <td>0.525253</td>\n",
       "      <td>0.608239</td>\n",
       "      <td>0.549017</td>\n",
       "      <td>0.604088</td>\n",
       "      <td>0.499893</td>\n",
       "      <td>0.590560</td>\n",
       "      <td>0.511442</td>\n",
       "      <td>0.526275</td>\n",
       "      <td>0.512634</td>\n",
       "      <td>0.590768</td>\n",
       "      <td>0.507487</td>\n",
       "      <td>0.561179</td>\n",
       "      <td>0.538825</td>\n",
       "      <td>0.614685</td>\n",
       "      <td>0.527282</td>\n",
       "      <td>0.600166</td>\n",
       "      <td>0.524640</td>\n",
       "    </tr>\n",
       "    <tr>\n",
       "      <th>5</th>\n",
       "      <td>1.589652</td>\n",
       "      <td>1.438197</td>\n",
       "      <td>1.469968</td>\n",
       "      <td>1.375164</td>\n",
       "      <td>1.572272</td>\n",
       "      <td>1.482745</td>\n",
       "      <td>1.408578</td>\n",
       "      <td>1.318274</td>\n",
       "      <td>1.563075</td>\n",
       "      <td>1.315851</td>\n",
       "      <td>1.285725</td>\n",
       "      <td>1.365671</td>\n",
       "      <td>1.437791</td>\n",
       "      <td>1.355071</td>\n",
       "      <td>1.334247</td>\n",
       "      <td>1.356323</td>\n",
       "      <td>1.486700</td>\n",
       "      <td>1.277852</td>\n",
       "      <td>1.488898</td>\n",
       "      <td>1.381213</td>\n",
       "    </tr>\n",
       "  </tbody>\n",
       "</table>\n",
       "</div>"
      ],
      "text/plain": [
       "   GSM2808875_8918692108_R01C02  GSM2808876_8918692108_R01C01  \\\n",
       "0                      0.847292                      0.785509   \n",
       "1                     -0.014892                     -0.013386   \n",
       "2                      0.272046                      0.295901   \n",
       "3                      0.759083                      0.686398   \n",
       "4                      0.615132                      0.525298   \n",
       "5                      1.589652                      1.438197   \n",
       "\n",
       "   GSM2808877_8918692108_R02C02  GSM2808878_8918692108_R02C01  \\\n",
       "0                      0.749685                      0.703853   \n",
       "1                     -0.013578                     -0.012430   \n",
       "2                      0.290442                      0.300071   \n",
       "3                      0.740552                      0.682565   \n",
       "4                      0.590424                      0.525253   \n",
       "5                      1.469968                      1.375164   \n",
       "\n",
       "   GSM2808879_8918692108_R03C02  GSM2808880_8918692108_R03C01  \\\n",
       "0                      0.816978                      0.775480   \n",
       "1                     -0.014507                     -0.013339   \n",
       "2                      0.280151                      0.278271   \n",
       "3                      0.748327                      0.691155   \n",
       "4                      0.608239                      0.549017   \n",
       "5                      1.572272                      1.482745   \n",
       "\n",
       "   GSM2808881_8918692108_R04C02  GSM2808882_8918692108_R04C01  \\\n",
       "0                      0.711682                      0.662213   \n",
       "1                     -0.013274                     -0.011870   \n",
       "2                      0.289889                      0.318216   \n",
       "3                      0.752335                      0.678996   \n",
       "4                      0.604088                      0.499893   \n",
       "5                      1.408578                      1.318274   \n",
       "\n",
       "   GSM2808883_8918692108_R05C02  GSM2808884_8918692108_R05C01  \\\n",
       "0                      0.835412                      0.659004   \n",
       "1                     -0.014387                     -0.011642   \n",
       "2                      0.261543                      0.294991   \n",
       "3                      0.738872                      0.667190   \n",
       "4                      0.590560                      0.511442   \n",
       "5                      1.563075                      1.315851   \n",
       "\n",
       "   GSM2808885_8918692108_R06C02  GSM2808886_8918692108_R06C01  \\\n",
       "0                      0.611971                      0.702149   \n",
       "1                     -0.011648                     -0.012404   \n",
       "2                      0.332527                      0.299931   \n",
       "3                      0.704505                      0.685901   \n",
       "4                      0.526275                      0.512634   \n",
       "5                      1.285725                      1.365671   \n",
       "\n",
       "   GSM2808887_8918692120_R04C02  GSM2808888_8918692120_R04C01  \\\n",
       "0                      0.715169                      0.707274   \n",
       "1                     -0.013492                     -0.012426   \n",
       "2                      0.321115                      0.312050   \n",
       "3                      0.748042                      0.681661   \n",
       "4                      0.590768                      0.507487   \n",
       "5                      1.437791                      1.355071   \n",
       "\n",
       "   GSM2808889_8918692120_R05C02  GSM2808890_8918692120_R05C01  \\\n",
       "0                      0.627512                      0.677326   \n",
       "1                     -0.011994                     -0.012135   \n",
       "2                      0.305292                      0.295426   \n",
       "3                      0.712129                      0.692472   \n",
       "4                      0.561179                      0.538825   \n",
       "5                      1.334247                      1.356323   \n",
       "\n",
       "   GSM2808891_8918692120_R06C02  GSM2808892_8918692120_R06C01  \\\n",
       "0                      0.752324                      0.616838   \n",
       "1                     -0.013760                     -0.011126   \n",
       "2                      0.270812                      0.279921   \n",
       "3                      0.754540                      0.672221   \n",
       "4                      0.614685                      0.527282   \n",
       "5                      1.486700                      1.277852   \n",
       "\n",
       "   GSM2808893_8221932039_R04C01  GSM2808894_8221932039_R03C01  \n",
       "0                      0.776581                      0.697137  \n",
       "1                     -0.013959                     -0.012095  \n",
       "2                      0.282431                      0.270201  \n",
       "3                      0.753100                      0.677003  \n",
       "4                      0.600166                      0.524640  \n",
       "5                      1.488898                      1.381213  "
      ]
     },
     "execution_count": 19,
     "metadata": {},
     "output_type": "execute_result"
    }
   ],
   "source": [
    "coefficient[1]"
   ]
  }
 ],
 "metadata": {
  "interpreter": {
   "hash": "57baa5815c940fdaff4d14510622de9616cae602444507ba5d0b6727c008cbd6"
  },
  "kernelspec": {
   "display_name": "Python 3.7.8 64-bit",
   "language": "python",
   "name": "python3"
  },
  "language_info": {
   "codemirror_mode": {
    "name": "ipython",
    "version": 3
   },
   "file_extension": ".py",
   "mimetype": "text/x-python",
   "name": "python",
   "nbconvert_exporter": "python",
   "pygments_lexer": "ipython3",
   "version": "3.7.8"
  },
  "orig_nbformat": 4
 },
 "nbformat": 4,
 "nbformat_minor": 2
}

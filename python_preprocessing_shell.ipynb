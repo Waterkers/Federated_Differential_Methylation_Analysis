{
 "cells": [
  {
   "cell_type": "markdown",
   "metadata": {},
   "source": [
    "#### Second attempt at the python version of the centralised part of the microarray methylation analysis workflow (Quality control upto normalisation)\n",
    "Using python as a shell to string together the specialised r functions used in the Exeter workflow"
   ]
  },
  {
   "cell_type": "markdown",
   "metadata": {},
   "source": [
    "Loading in the required modules/packages"
   ]
  },
  {
   "cell_type": "code",
   "execution_count": 24,
   "metadata": {},
   "outputs": [],
   "source": [
    "import pandas as pd\n",
    "import numpy as np\n",
    "import subprocess\n",
    "import csv\n",
    "import glob\n",
    "import os\n",
    "import re\n",
    "import seaborn as sns\n",
    "from matplotlib import pyplot as plt\n",
    "\n",
    "# stuff needed for some specific analysis - maybe not needed in this version of the code\n",
    "#from sklearn.decomposition import PCA \n",
    "#from scipy.stats import pearsonr\n",
    "#from sklearn.cluster import KMeans"
   ]
  },
  {
   "cell_type": "code",
   "execution_count": null,
   "metadata": {},
   "outputs": [],
   "source": [
    "path = \"E:\\\\Msc Systems Biology\\\\MSB5000_Master_Thesis\\\\Practical work\\\\Federated_Differential_Methylation_Analysis\""
   ]
  },
  {
   "cell_type": "markdown",
   "metadata": {},
   "source": [
    "Use subprocess to read the data contained in the idat files into dataframe using the readEPIC function from the wateRmelon package in R"
   ]
  },
  {
   "cell_type": "code",
   "execution_count": 29,
   "metadata": {},
   "outputs": [],
   "source": [
    "load = subprocess.run([\"C:\\\\Program Files\\\\R\\\\R-4.1.2\\\\bin\\\\Rscript.exe\", '--vanilla', \"E:\\\\Msc Systems Biology\\\\MSB5000_Master_Thesis\\\\Practical work\\\\Federated_Differential_Methylation_Analysis\\\\Loading_idats_code_saveOutput_python_shell.R\", \"E:\\\\Msc Systems Biology\\\\MSB5000_Master_Thesis\\\\Practical work\\\\Data\\\\GSE66351_RAW\\\\GSE66351\", \"E:\\Msc Systems Biology\\MSB5000_Master_Thesis\\Practical work\\Data\\GSE66351_RAW\\GSE66351_pheno_info.txt\", \"E:\\\\Msc Systems Biology\\\\MSB5000_Master_Thesis\\Practical work\\\\Federated_Differential_Methylation_Analysis\\\\Output\"], capture_output=True)"
   ]
  },
  {
   "cell_type": "code",
   "execution_count": null,
   "metadata": {},
   "outputs": [],
   "source": [
    "print(load.stdout)"
   ]
  },
  {
   "cell_type": "markdown",
   "metadata": {},
   "source": [
    "### Creating an output file structure and loading in the idat files"
   ]
  },
  {
   "cell_type": "markdown",
   "metadata": {},
   "source": [
    "The input arguments of this script are: \n",
    "1. file_path to the folder containing the .idat files \n",
    "2. file_path to the phenotype information sheet (.txt) \n",
    "3. the directory where the output should be saved \n",
    "4. OPTIONAL the data identifier to be used in the creation of the output folders"
   ]
  },
  {
   "cell_type": "code",
   "execution_count": 11,
   "metadata": {},
   "outputs": [],
   "source": [
    "load_with_option = subprocess.run([\"C:\\\\Program Files\\\\R\\\\R-4.1.2\\\\bin\\\\Rscript.exe\", '--vanilla', \"E:\\\\Msc Systems Biology\\\\MSB5000_Master_Thesis\\\\Practical work\\\\Federated_Differential_Methylation_Analysis\\\\Loading_idats_code_saveOutput_python_shell_dataID_option.R\", \"E:\\\\Msc Systems Biology\\\\MSB5000_Master_Thesis\\\\Practical work\\\\Data\\\\GSE66351_RAW\\\\GSE66351\", \"E:\\Msc Systems Biology\\MSB5000_Master_Thesis\\Practical work\\Data\\GSE66351_RAW\\GSE66351_pheno_info.txt\", \"E:\\\\Msc Systems Biology\\\\MSB5000_Master_Thesis\\Practical work\\\\Federated_Differential_Methylation_Analysis\\\\Output\", \"GSE66351a\"], capture_output=True)"
   ]
  },
  {
   "cell_type": "code",
   "execution_count": null,
   "metadata": {},
   "outputs": [],
   "source": [
    "print(load_with_option.stderr)"
   ]
  },
  {
   "cell_type": "markdown",
   "metadata": {},
   "source": [
    "Using subprocess to perform the complete preprocessing workflow upto the normalisation  \n",
    "This is the whole preprocessing chopped into three functions but run as one .r script - maybe smart to run each function as its own script with own input"
   ]
  },
  {
   "cell_type": "code",
   "execution_count": 45,
   "metadata": {},
   "outputs": [],
   "source": [
    "complete_preprocessing = subprocess.run([\"C:\\\\Program Files\\\\R\\\\R-4.1.2\\\\bin\\\\Rscript.exe\", '--vanilla', \"E:\\\\Msc Systems Biology\\\\MSB5000_Master_Thesis\\\\Practical work\\\\Federated_Differential_Methylation_Analysis\\\\preprocessing_r_code_replication_shell_version_whole.r\", \"E:\\\\Msc Systems Biology\\\\MSB5000_Master_Thesis\\\\Practical work\\\\Data\\\\GSE66351_RAW\\\\GSE66351\", \"E:\\Msc Systems Biology\\MSB5000_Master_Thesis\\Practical work\\Data\\GSE66351_RAW\\GSE66351_pheno_info.txt\", \"E:\\\\Msc Systems Biology\\\\MSB5000_Master_Thesis\\Practical work\\\\Federated_Differential_Methylation_Analysis\\\\Output\", \"E:\\Msc Systems Biology\\\\MSB5000_Master_Thesis\\\\Practical work\\\\Data\\\\GSE66351_RAW\\\\GSE66351\\\\GPL13534_HumanMethylation450_15017482_v.1.1.csv\"], capture_output = True)"
   ]
  },
  {
   "cell_type": "code",
   "execution_count": 46,
   "metadata": {},
   "outputs": [
    {
     "data": {
      "text/plain": [
       "b'Bioconductor version 3.14 (BiocManager 1.30.16), R 4.1.2 (2021-11-01)\\r\\nInstallation paths not writeable, unable to update packages\\r\\n  path: C:/Program Files/R/R-4.1.2/library\\r\\n  packages:\\r\\n    class, cluster, foreign, MASS, Matrix, mgcv, nlme, nnet, rpart, spatial,\\r\\n    survival\\r\\nOld packages: \\'AnnotationHub\\', \\'cli\\', \\'clipr\\', \\'colorspace\\', \\'commonmark\\',\\r\\n  \\'crayon\\', \\'dplyr\\', \\'DT\\', \\'ensembldb\\', \\'evaluate\\', \\'fansi\\', \\'GenomicFeatures\\',\\r\\n  \\'glue\\', \\'jsonlite\\', \\'knitr\\', \\'limma\\', \\'locfit\\', \\'magrittr\\', \\'openssl\\',\\r\\n  \\'plyr\\', \\'processx\\', \\'Rcpp\\', \\'RCurl\\', \\'readxl\\', \\'rhdf5\\', \\'rlang\\', \\'rmarkdown\\',\\r\\n  \\'RSQLite\\', \\'S4Vectors\\', \\'sass\\', \\'tidyselect\\', \\'tinytex\\', \\'tzdb\\', \\'uuid\\',\\r\\n  \\'vctrs\\', \\'withr\\', \\'xfun\\', \\'XML\\', \\'yaml\\'\\r\\nWarning message:\\r\\npackage(s) not installed when version(s) same as current; use `force = TRUE` to\\r\\n  re-install: \\'wateRmelon\\' \\'methylumi\\' \\'ChAMP\\' \\r\\nLoading required package: Biobase\\r\\nLoading required package: BiocGenerics\\r\\n\\r\\nAttaching package: \\'BiocGenerics\\'\\r\\n\\r\\nThe following objects are masked from \\'package:stats\\':\\r\\n\\r\\n    IQR, mad, sd, var, xtabs\\r\\n\\r\\nThe following objects are masked from \\'package:base\\':\\r\\n\\r\\n    anyDuplicated, append, as.data.frame, basename, cbind, colnames,\\r\\n    dirname, do.call, duplicated, eval, evalq, Filter, Find, get, grep,\\r\\n    grepl, intersect, is.unsorted, lapply, Map, mapply, match, mget,\\r\\n    order, paste, pmax, pmax.int, pmin, pmin.int, Position, rank,\\r\\n    rbind, Reduce, rownames, sapply, setdiff, sort, table, tapply,\\r\\n    union, unique, unsplit, which.max, which.min\\r\\n\\r\\nWelcome to Bioconductor\\r\\n\\r\\n    Vignettes contain introductory material; view with\\r\\n    \\'browseVignettes()\\'. To cite Bioconductor, see\\r\\n    \\'citation(\"Biobase\")\\', and for packages \\'citation(\"pkgname\")\\'.\\r\\n\\r\\nLoading required package: limma\\r\\n\\r\\nAttaching package: \\'limma\\'\\r\\n\\r\\nThe following object is masked from \\'package:BiocGenerics\\':\\r\\n\\r\\n    plotMA\\r\\n\\r\\nLoading required package: matrixStats\\r\\n\\r\\nAttaching package: \\'matrixStats\\'\\r\\n\\r\\nThe following objects are masked from \\'package:Biobase\\':\\r\\n\\r\\n    anyMissing, rowMedians\\r\\n\\r\\nLoading required package: methylumi\\r\\nLoading required package: scales\\r\\nLoading required package: reshape2\\r\\nLoading required package: ggplot2\\r\\nLoading required package: FDb.InfiniumMethylation.hg19\\r\\nLoading required package: GenomicFeatures\\r\\nLoading required package: S4Vectors\\r\\nLoading required package: stats4\\r\\n\\r\\nAttaching package: \\'S4Vectors\\'\\r\\n\\r\\nThe following objects are masked from \\'package:base\\':\\r\\n\\r\\n    expand.grid, I, unname\\r\\n\\r\\nLoading required package: IRanges\\r\\n\\r\\nAttaching package: \\'IRanges\\'\\r\\n\\r\\nThe following object is masked from \\'package:grDevices\\':\\r\\n\\r\\n    windows\\r\\n\\r\\nLoading required package: GenomeInfoDb\\r\\nLoading required package: GenomicRanges\\r\\nLoading required package: AnnotationDbi\\r\\nLoading required package: TxDb.Hsapiens.UCSC.hg19.knownGene\\r\\nLoading required package: org.Hs.eg.db\\r\\n\\r\\nLoading required package: minfi\\r\\nLoading required package: SummarizedExperiment\\r\\nLoading required package: MatrixGenerics\\r\\n\\r\\nAttaching package: \\'MatrixGenerics\\'\\r\\n\\r\\nThe following objects are masked from \\'package:matrixStats\\':\\r\\n\\r\\n    colAlls, colAnyNAs, colAnys, colAvgsPerRowSet, colCollapse,\\r\\n    colCounts, colCummaxs, colCummins, colCumprods, colCumsums,\\r\\n    colDiffs, colIQRDiffs, colIQRs, colLogSumExps, colMadDiffs,\\r\\n    colMads, colMaxs, colMeans2, colMedians, colMins, colOrderStats,\\r\\n    colProds, colQuantiles, colRanges, colRanks, colSdDiffs, colSds,\\r\\n    colSums2, colTabulates, colVarDiffs, colVars, colWeightedMads,\\r\\n    colWeightedMeans, colWeightedMedians, colWeightedSds,\\r\\n    colWeightedVars, rowAlls, rowAnyNAs, rowAnys, rowAvgsPerColSet,\\r\\n    rowCollapse, rowCounts, rowCummaxs, rowCummins, rowCumprods,\\r\\n    rowCumsums, rowDiffs, rowIQRDiffs, rowIQRs, rowLogSumExps,\\r\\n    rowMadDiffs, rowMads, rowMaxs, rowMeans2, rowMedians, rowMins,\\r\\n    rowOrderStats, rowProds, rowQuantiles, rowRanges, rowRanks,\\r\\n    rowSdDiffs, rowSds, rowSums2, rowTabulates, rowVarDiffs, rowVars,\\r\\n    rowWeightedMads, rowWeightedMeans, rowWeightedMedians,\\r\\n    rowWeightedSds, rowWeightedVars\\r\\n\\r\\nThe following object is masked from \\'package:Biobase\\':\\r\\n\\r\\n    rowMedians\\r\\n\\r\\nLoading required package: Biostrings\\r\\nLoading required package: XVector\\r\\n\\r\\nAttaching package: \\'Biostrings\\'\\r\\n\\r\\nThe following object is masked from \\'package:base\\':\\r\\n\\r\\n    strsplit\\r\\n\\r\\nLoading required package: bumphunter\\r\\nLoading required package: foreach\\r\\nLoading required package: iterators\\r\\nLoading required package: parallel\\r\\nLoading required package: locfit\\r\\nlocfit 1.5-9.4 \\t 2020-03-24\\r\\nSetting options(\\'download.file.method.GEOquery\\'=\\'auto\\')\\nSetting options(\\'GEOquery.inmemory.gpl\\'=FALSE)\\nLoading required package: lumi\\nNo methods found in package \\'RSQLite\\' for request: \\'dbListFields\\' when loading \\'lumi\\'\\n\\nAttaching package: \\'lumi\\'\\n\\nThe following objects are masked from \\'package:methylumi\\':\\n\\n    estimateM, getHistory\\n\\nLoading required package: ROC\\nLoading required package: IlluminaHumanMethylation450kanno.ilmn12.hg19\\nLoading required package: illuminaio\\nLoading required package: ChAMPdata\\nLoading required package: DMRcate\\nLoading required package: Illumina450ProbeVariants.db\\nLoading required package: IlluminaHumanMethylationEPICmanifest\\nLoading required package: DT\\nLoading required package: RPMM\\nLoading required package: cluster\\n\\n>> Package version 2.21.1 loaded <<\\n       ___ _      _   __  __ ___ \\n      / __| |_   /_\\\\ |  \\\\/  | _ \\\\\\n     | (__| \\' \\\\ / _ \\\\| |\\\\/| |  _/\\n      \\\\___|_||_/_/ \\\\_\\\\_|  |_|_|  \\n      ------------------------------\\n    If you have any question or suggestion about ChAMP, please email to champ450k@gmail.com.\\n    Thank you for citating ChAMP:\\n\\n    Yuan Tian, Tiffany J Morris, Amy P Webster, Zhen Yang, Stephan Beck, Andrew Feber, Andrew E Teschendorff; ChAMP: updated methylation analysis pipeline for Illumina BeadChips, Bioinformatics, btx513, https://doi.org/10.1093/bioinformatics/btx513\\n     --------------------------\\n\\nThere were 11 warnings (use warnings() to see them)\\nReading in: GSM2808875_8918692108_R01C02_Grn.idat\\nReading in: GSM2808875_8918692108_R01C02_Red.idat\\nReading in: GSM2808876_8918692108_R01C01_Grn.idat\\nReading in: GSM2808876_8918692108_R01C01_Red.idat\\nReading in: GSM2808877_8918692108_R02C02_Grn.idat\\nReading in: GSM2808877_8918692108_R02C02_Red.idat\\nReading in: GSM2808878_8918692108_R02C01_Grn.idat\\nReading in: GSM2808878_8918692108_R02C01_Red.idat\\nReading in: GSM2808879_8918692108_R03C02_Grn.idat\\nReading in: GSM2808879_8918692108_R03C02_Red.idat\\nReading in: GSM2808880_8918692108_R03C01_Grn.idat\\nReading in: GSM2808880_8918692108_R03C01_Red.idat\\nReading in: GSM2808881_8918692108_R04C02_Grn.idat\\nReading in: GSM2808881_8918692108_R04C02_Red.idat\\nReading in: GSM2808882_8918692108_R04C01_Grn.idat\\nReading in: GSM2808882_8918692108_R04C01_Red.idat\\nReading in: GSM2808883_8918692108_R05C02_Grn.idat\\nReading in: GSM2808883_8918692108_R05C02_Red.idat\\nReading in: GSM2808884_8918692108_R05C01_Grn.idat\\nReading in: GSM2808884_8918692108_R05C01_Red.idat\\nReading in: GSM2808885_8918692108_R06C02_Grn.idat\\nReading in: GSM2808885_8918692108_R06C02_Red.idat\\nReading in: GSM2808886_8918692108_R06C01_Grn.idat\\nReading in: GSM2808886_8918692108_R06C01_Red.idat\\nReading in: GSM2808887_8918692120_R04C02_Grn.idat\\nReading in: GSM2808887_8918692120_R04C02_Red.idat\\nReading in: GSM2808888_8918692120_R04C01_Grn.idat\\nReading in: GSM2808888_8918692120_R04C01_Red.idat\\nReading in: GSM2808889_8918692120_R05C02_Grn.idat\\nReading in: GSM2808889_8918692120_R05C02_Red.idat\\nReading in: GSM2808890_8918692120_R05C01_Grn.idat\\nReading in: GSM2808890_8918692120_R05C01_Red.idat\\nReading in: GSM2808891_8918692120_R06C02_Grn.idat\\nReading in: GSM2808891_8918692120_R06C02_Red.idat\\nReading in: GSM2808892_8918692120_R06C01_Grn.idat\\nReading in: GSM2808892_8918692120_R06C01_Red.idat\\nReading in: GSM2808893_8221932039_R04C01_Grn.idat\\nReading in: GSM2808893_8221932039_R04C01_Red.idat\\nReading in: GSM2808894_8221932039_R03C01_Grn.idat\\nReading in: GSM2808894_8221932039_R03C01_Red.idat\\n0 HumanMethylationEpic samples found\\n20 HumanMethylation450 samples found\\n0 HumanMethylation27 samples found\\nAttempting to extract protocolData() from list...\\nDetermining chip type from IDAT protocolData...\\nThere were 40 warnings (use warnings() to see them)\\n'"
      ]
     },
     "execution_count": 46,
     "metadata": {},
     "output_type": "execute_result"
    }
   ],
   "source": [
    "complete_preprocessing.stderr"
   ]
  },
  {
   "cell_type": "code",
   "execution_count": null,
   "metadata": {},
   "outputs": [],
   "source": [
    "complete_preprocessing.stdout"
   ]
  }
 ],
 "metadata": {
  "interpreter": {
   "hash": "57baa5815c940fdaff4d14510622de9616cae602444507ba5d0b6727c008cbd6"
  },
  "kernelspec": {
   "display_name": "Python 3.7.8 64-bit",
   "language": "python",
   "name": "python3"
  },
  "language_info": {
   "codemirror_mode": {
    "name": "ipython",
    "version": 3
   },
   "file_extension": ".py",
   "mimetype": "text/x-python",
   "name": "python",
   "nbconvert_exporter": "python",
   "pygments_lexer": "ipython3",
   "version": "3.7.8"
  },
  "orig_nbformat": 4
 },
 "nbformat": 4,
 "nbformat_minor": 2
}

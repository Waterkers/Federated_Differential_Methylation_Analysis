{
 "cells": [
  {
   "cell_type": "markdown",
   "metadata": {},
   "source": [
    "#### Second attempt at the python version of the centralised part of the microarray methylation analysis workflow (Quality control upto normalisation)\n",
    "Using python as a shell to string together the specialised r functions used in the Exeter workflow"
   ]
  },
  {
   "cell_type": "markdown",
   "metadata": {},
   "source": [
    "Loading in the required modules/packages"
   ]
  },
  {
   "cell_type": "code",
   "execution_count": 1,
   "metadata": {},
   "outputs": [],
   "source": [
    "import pandas as pd\n",
    "import numpy as np\n",
    "import subprocess\n",
    "import csv\n",
    "import glob\n",
    "import os\n",
    "import re\n",
    "import seaborn as sns\n",
    "from matplotlib import pyplot as plt\n",
    "\n",
    "# stuff needed for some specific analysis - maybe not needed in this version of the code\n",
    "#from sklearn.decomposition import PCA \n",
    "#from scipy.stats import pearsonr\n",
    "#from sklearn.cluster import KMeans"
   ]
  },
  {
   "cell_type": "code",
   "execution_count": 2,
   "metadata": {},
   "outputs": [],
   "source": [
    "working_path = \"E:\\\\Msc Systems Biology\\\\MSB5000_Master_Thesis\\\\Practical work\\\\Federated_Differential_Methylation_Analysis\"\n",
    "data_path = \"E:\\\\Msc Systems Biology\\\\MSB5000_Master_Thesis\\\\Practical work\\\\Data\"\n",
    "output_path = \"E:\\\\Msc Systems Biology\\\\MSB5000_Master_Thesis\\Practical work\\\\Federated_Differential_Methylation_Analysis\\\\Output\"\n"
   ]
  },
  {
   "cell_type": "markdown",
   "metadata": {},
   "source": [
    "Use subprocess to read the data contained in the idat files into dataframe using the readEPIC function from the wateRmelon package in R"
   ]
  },
  {
   "cell_type": "code",
   "execution_count": 29,
   "metadata": {},
   "outputs": [],
   "source": [
    "load = subprocess.run([\"C:\\\\Program Files\\\\R\\\\R-4.1.2\\\\bin\\\\Rscript.exe\", '--vanilla', \"E:\\\\Msc Systems Biology\\\\MSB5000_Master_Thesis\\\\Practical work\\\\Federated_Differential_Methylation_Analysis\\\\Loading_idats_code_saveOutput_python_shell.R\", \"E:\\\\Msc Systems Biology\\\\MSB5000_Master_Thesis\\\\Practical work\\\\Data\\\\GSE66351_RAW\\\\GSE66351\", \"E:\\Msc Systems Biology\\MSB5000_Master_Thesis\\Practical work\\Data\\GSE66351_RAW\\GSE66351_pheno_info.txt\", \"E:\\\\Msc Systems Biology\\\\MSB5000_Master_Thesis\\Practical work\\\\Federated_Differential_Methylation_Analysis\\\\Output\"], capture_output=True)"
   ]
  },
  {
   "cell_type": "code",
   "execution_count": null,
   "metadata": {},
   "outputs": [],
   "source": [
    "print(load.stdout)"
   ]
  },
  {
   "cell_type": "markdown",
   "metadata": {},
   "source": [
    "### Creating an output file structure and loading in the idat files"
   ]
  },
  {
   "cell_type": "markdown",
   "metadata": {},
   "source": [
    "The input arguments of this script are: \n",
    "1. file_path to the folder containing the .idat files \n",
    "2. file_path to the phenotype information sheet (.txt) \n",
    "3. the directory where the output should be saved \n",
    "4. OPTIONAL the data identifier to be used in the creation of the output folders - this still needs to be fixed"
   ]
  },
  {
   "cell_type": "code",
   "execution_count": 11,
   "metadata": {},
   "outputs": [],
   "source": [
    "load_with_option = subprocess.run([\"C:\\\\Program Files\\\\R\\\\R-4.1.2\\\\bin\\\\Rscript.exe\", '--vanilla', \"E:\\\\Msc Systems Biology\\\\MSB5000_Master_Thesis\\\\Practical work\\\\Federated_Differential_Methylation_Analysis\\\\Loading_idats_code_saveOutput_python_shell_dataID_option.R\", \"E:\\\\Msc Systems Biology\\\\MSB5000_Master_Thesis\\\\Practical work\\\\Data\\\\GSE66351_RAW\\\\GSE66351\", \"E:\\Msc Systems Biology\\MSB5000_Master_Thesis\\Practical work\\Data\\GSE66351_RAW\\GSE66351_pheno_info.txt\", \"E:\\\\Msc Systems Biology\\\\MSB5000_Master_Thesis\\Practical work\\\\Federated_Differential_Methylation_Analysis\\\\Output\", \"GSE66351a\"], capture_output=True)"
   ]
  },
  {
   "cell_type": "code",
   "execution_count": null,
   "metadata": {},
   "outputs": [],
   "source": [
    "print(load_with_option.stderr)"
   ]
  },
  {
   "cell_type": "markdown",
   "metadata": {},
   "source": [
    "Using subprocess to perform the complete preprocessing workflow upto the normalisation  \n",
    "This is the whole preprocessing chopped into three functions but run as one .r script - maybe smart to run each function as its own script with own input"
   ]
  },
  {
   "cell_type": "code",
   "execution_count": 69,
   "metadata": {},
   "outputs": [],
   "source": [
    "complete_preprocessing = subprocess.run([\"C:\\\\Program Files\\\\R\\\\R-4.1.2\\\\bin\\\\Rscript.exe\", '--vanilla', \"E:\\\\Msc Systems Biology\\\\MSB5000_Master_Thesis\\\\Practical work\\\\Federated_Differential_Methylation_Analysis\\\\preprocessing_r_code_replication_shell_version_no_norm.r\", \"E:\\\\Msc Systems Biology\\\\MSB5000_Master_Thesis\\\\Practical work\\\\Data\\\\GSE66351_RAW\\\\GSE66351\", \"E:\\Msc Systems Biology\\MSB5000_Master_Thesis\\Practical work\\Data\\GSE66351_RAW\\GSE66351_pheno_info.txt\", \"E:\\\\Msc Systems Biology\\\\MSB5000_Master_Thesis\\Practical work\\\\Federated_Differential_Methylation_Analysis\\\\Output\", \"E:\\Msc Systems Biology\\\\MSB5000_Master_Thesis\\\\Practical work\\\\Data\\\\GSE66351_RAW\\\\GSE66351\\\\GPL13534_HumanMethylation450_15017482_v.1.1.csv\"], capture_output = True)"
   ]
  },
  {
   "cell_type": "code",
   "execution_count": null,
   "metadata": {},
   "outputs": [],
   "source": [
    "#check what happend in the subprocess\n",
    "print(complete_preprocessing.stderr)\n",
    "print(complete_preprocessing.stdout)"
   ]
  },
  {
   "cell_type": "code",
   "execution_count": 19,
   "metadata": {},
   "outputs": [],
   "source": [
    "preprocessing_normalisation = subprocess.run([\"C:\\\\Program Files\\\\R\\\\R-4.1.2\\\\bin\\\\Rscript.exe\", '--vanilla',\"E:\\\\Msc Systems Biology\\\\MSB5000_Master_Thesis\\\\Practical work\\\\Federated_Differential_Methylation_Analysis\\\\preprocessing_r_code_replication_shell_version.r\", \"E:\\\\Msc Systems Biology\\\\MSB5000_Master_Thesis\\\\Practical work\\\\Data\\\\GSE66351_RAW\\\\GSE66351\", \"E:\\Msc Systems Biology\\MSB5000_Master_Thesis\\Practical work\\Data\\GSE66351_RAW\\GSE66351_pheno_info.txt\", output_path], capture_output=True)"
   ]
  },
  {
   "cell_type": "code",
   "execution_count": null,
   "metadata": {},
   "outputs": [],
   "source": [
    "print(preprocessing_normalisation.stderr)\n",
    "print(preprocessing_normalisation.stdout)"
   ]
  },
  {
   "cell_type": "markdown",
   "metadata": {},
   "source": [
    "Next step is to normalise the data, this step will be offered centrally and distributed/federated to be flexible to the researchers needs  \n",
    "Below a implementation of the normalisation algorithm behind the dasen function in the wateRmelon package is provided"
   ]
  },
  {
   "cell_type": "markdown",
   "metadata": {},
   "source": [
    "Dasen normalisation is a form of quantile normalisation that is performed for the two probe types seperately. The normalised data (betas), per probe type, are calculated using the normalised methylated and unmethylated intensities of each probe type.  \n",
    "    betas (per probe) = quantile normalised methylated intensities / (quantile normalised methylated intensities + quantile normalised unmethylated intensities + 100)  \n",
    "The first step is to write the quantile normalisation function"
   ]
  },
  {
   "cell_type": "code",
   "execution_count": null,
   "metadata": {},
   "outputs": [],
   "source": [
    "# quantile normalisation function\n",
    "def quantile_normalise(input_data):\n",
    "    \"\"\"\n",
    "    input_data = a dataframe that needs to be quantile normalised\n",
    "    returns a quantile normalised version of the input_data\n",
    "    \"\"\"\n",
    "    data_sorted = pd.DataFrame(np.sort(input_data.values, axis = 0), index = input_data.index, columns = input_data.columns) #sort the values of each column (sample) and keep the original row \n",
    "    # and column names\n",
    "    data_sorted_means = data_sorted.mean(axis = 1) # calulate the row means of the sorted data -> these means will be used to replace the raw values in the data\n",
    "    data_sorted_means.index = np.arrange(1, len(data_sorted_means)+1) # this sets the index so it will correspond to the descending ranks that will be assigned to the original \n",
    "    # data in the dataframe. This way the row means, which are sorted loweste to highest, can be used to replace the raw data in the correct order\n",
    "    data_rank = input_data.rank(method = min).stack().astype(int) # get the rank of the values for each sample in the raw dataset in integer format and change the dataframe so that\n",
    "    # the columns become the rows, with a multi-index indicating probe as the highest level and the samples for that probe as the second level\n",
    "    QN_data = data_rank.map(data_sorted_means).unstack() # map the row mean values onto the matching ranks obtained from the original dataframe and bring it back to a row = probe\n",
    "    # and column = sample format\n",
    "    return (QN_data)\n",
    "\n",
    "    "
   ]
  },
  {
   "cell_type": "markdown",
   "metadata": {},
   "source": [
    "Before the dasen function can be coded, first a couple of supporting functions need to be translated from r to python, these have been defined in the wateRmelon package as:  \n",
    "* dfs2\n",
    "* dfsfit"
   ]
  },
  {
   "cell_type": "code",
   "execution_count": 25,
   "metadata": {},
   "outputs": [],
   "source": [
    "# load in some data and create a test data object to write these functions\n",
    "#test_betas = pd.read_csv(\"E:\\\\Msc Systems Biology\\\\MSB5000_Master_Thesis\\\\Practical work\\\\Federated_Differential_Methylation_Analysis\\\\Output\\\\QC_GSE66351_PythonShell\\\\Raw_betas.csv\")\n",
    "#test_betas = test_betas.iloc[0:21, 0:21]\n",
    "test_methylated = pd.read_csv(\"E:\\\\Msc Systems Biology\\\\MSB5000_Master_Thesis\\\\Practical work\\\\Federated_Differential_Methylation_Analysis\\\\Output\\\\QC_GSE66351_PythonShell\\\\Raw_methylated_intensities.csv\", index_col=0)\n",
    "test_methylated = test_methylated.iloc[0:21, 0:21]\n",
    "#test_methylated.set_index(test_methylated.iloc[:,0], inplace = True)\n",
    "\n",
    "test_unmethylated = pd.read_csv(\"E:\\\\Msc Systems Biology\\\\MSB5000_Master_Thesis\\\\Practical work\\\\Federated_Differential_Methylation_Analysis\\\\Output\\\\QC_GSE66351_PythonShell\\\\Raw_unmethylated_intensities.csv\", index_col=0)\n",
    "test_unmethylated = test_unmethylated.iloc[0:21, 0:21]\n",
    "#test_unmethylated.set_index(test_unmethylated.iloc[:,0], inplace = True)"
   ]
  },
  {
   "cell_type": "code",
   "execution_count": 26,
   "metadata": {},
   "outputs": [
    {
     "name": "stderr",
     "output_type": "stream",
     "text": [
      "C:\\Users\\Silke\\AppData\\Roaming\\Python\\Python37\\site-packages\\IPython\\core\\interactiveshell.py:3457: DtypeWarning: Columns (2,4,11,14,15) have mixed types.Specify dtype option on import or set low_memory=False.\n",
      "  exec(code_obj, self.user_global_ns, self.user_ns)\n"
     ]
    }
   ],
   "source": [
    "# attach the probe type information to the (test) data so it can be used by the normalisation functions\n",
    "annotation_data = pd.read_csv(\"E:\\\\Msc Systems Biology\\\\MSB5000_Master_Thesis\\\\Practical work\\\\Data\\\\GSE66351_RAW\\\\GPL13534_HumanMethylation450_15017482_v.1.1.csv\", skiprows=7)\n",
    "annotation_data.set_index(annotation_data[\"IlmnID\"], inplace=True)\n",
    "probe_type_data = annotation_data.loc[:, \"Infinium_Design_Type\"]\n",
    "test_probe_annotation = pd.merge(test_methylated, probe_type_data, how = \"inner\", left_index=True, right_index=True, indicator = True)\n",
    "test_probe_annotation = test_probe_annotation.loc[:,\"Infinium_Design_Type\"]"
   ]
  },
  {
   "cell_type": "code",
   "execution_count": 29,
   "metadata": {},
   "outputs": [],
   "source": [
    "\n"
   ]
  },
  {
   "cell_type": "code",
   "execution_count": null,
   "metadata": {},
   "outputs": [],
   "source": [
    "def dfs2_python(x, probe_type):\n",
    "    from sklearn.neighbors import KernelDensity\n",
    "    KD_one = KernelDensity(kernel = \"gaussian\", ).fit(x[probe_type == \"I\"])\n",
    "    one = KD_one.score_samples(x[probe_type == \"I\"])\n",
    "    KD_two = KernelDensity(kernel = \"gaussian\", ).fit(x[probe_type == \"II\"])\n",
    "    two = KD_two.score_samples(x[probe_type == \"II\"])\n",
    "    out = one.amax - two.amax #not quite sure if any of this is correct\n",
    "    return out\n",
    "\n",
    "# the code in this one works - whoopwhoop"
   ]
  },
  {
   "cell_type": "code",
   "execution_count": null,
   "metadata": {},
   "outputs": [],
   "source": [
    "def dfsfit_python():"
   ]
  },
  {
   "cell_type": "code",
   "execution_count": null,
   "metadata": {},
   "outputs": [],
   "source": [
    "# dasen normalisation\n",
    "def dasen_normalisation(unmethylated, methylated, probe_type, base = 100):\n",
    "    \"\"\"\n",
    "    computes the dasen normalised beta values: quantile normalises the unmethylated and methylated intensities, per probe type,\n",
    "    and uses these normalised intensities to calculate the beta values\n",
    "\n",
    "    Input arguments:\n",
    "    unmethylated = dataframe of unmethylated intensities\n",
    "    methylated = dataframe of methylated intensities\n",
    "    probe_type = series indicating the type of each probe (Type I or Type II)\n",
    "\n",
    "    Returns: a dataframe of normalised beta values\n",
    "    \"\"\"\n",
    "    unmethylated"
   ]
  },
  {
   "cell_type": "markdown",
   "metadata": {},
   "source": [
    "For now, to move on to writing the EWAS code, I wrote a script around the normalisation with the dasen function and the cell type decomposition in r which will be run as a subprocess. The normalisation will be implemented in python in the final version but the cell type decomposition remains r based because there is limitted need to reimplement that in a federated fashion - THIS IS NOT WORKING, INLCUDED THE NORMALISATION AND CELL TYPE DECOMPOSITION INTO THE R-SCRIPT THAT IS RUN IN THE SUBPROCESS FOR NOW"
   ]
  },
  {
   "cell_type": "code",
   "execution_count": 71,
   "metadata": {},
   "outputs": [],
   "source": [
    "normalisation = \"dasen_normalisation.r\"\n",
    "normalisation_file = os.path.join(working_path, normalisation)\n",
    "data = os.path.join(output_path, \"preprocessed_MethyLumiSet.RData\") \n",
    "manifest_path = \"E:\\\\Msc Systems Biology\\\\MSB5000_Master_Thesis\\\\Practical work\\\\Data\\\\GSE66351_RAW\\\\GPL13534_HumanMethylation450_15017482_v.1.1.csv\"\n"
   ]
  },
  {
   "cell_type": "code",
   "execution_count": 72,
   "metadata": {},
   "outputs": [],
   "source": [
    "r_normalisation = subprocess.run([\"C:\\\\Program Files\\\\R\\\\R-4.1.2\\\\bin\\\\Rscript.exe\", '--vanilla', normalisation_file, data, output_dir, manifest_path], capture_output = True)"
   ]
  },
  {
   "cell_type": "code",
   "execution_count": null,
   "metadata": {},
   "outputs": [],
   "source": [
    "print(r_normalisation.stderr)\n",
    "print(r_normalisation.stdout)"
   ]
  },
  {
   "cell_type": "markdown",
   "metadata": {},
   "source": [
    "R script containing the RefFreeEWAS cell type decomposition which will be run in a subprocess, output saved and added to the phenotype information that will be used in the EWAS furhter down in this file"
   ]
  },
  {
   "cell_type": "code",
   "execution_count": 28,
   "metadata": {},
   "outputs": [],
   "source": [
    "# specifying the paths that go into the subprocess function\n",
    "file_path = os.path.join(working_path, \"RefFreeEWAS_local.r\")\n",
    "data_path = os.path.join(output_path, \"Preprocessed_Normalised_MethyLumiSet.RData\")\n",
    "manifest_path = \"E:\\\\Msc Systems Biology\\\\MSB5000_Master_Thesis\\\\Practical work\\\\Data\\\\GSE66351_RAW\\\\GPL13534_HumanMethylation450_15017482_v.1.1.csv\"\n",
    "pheno_path = os.path.join(output_path, \"post_norm_pheno_information.csv\")\n",
    "\n",
    "# RefFreeEWAS subprocess\n",
    "RefFreeEWAS = subprocess.run([\"C:\\\\Program Files\\\\R\\\\R-4.1.2\\\\bin\\\\Rscript.exe\", '--vanilla', file_path, data_path, pheno_path, manifest_path], capture_output=True)"
   ]
  },
  {
   "cell_type": "code",
   "execution_count": 29,
   "metadata": {},
   "outputs": [
    {
     "data": {
      "text/plain": [
       "b'Installing package into \\'C:/Users/Silke/OneDrive/Documenten/R/win-library/4.1\\'\\r\\n(as \\'lib\\' is unspecified)\\r\\n* installing *source* package \\'RefFreeEWAS\\' ...\\r\\n** package \\'RefFreeEWAS\\' successfully unpacked and MD5 sums checked\\r\\n** using staged installation\\r\\n** R\\r\\n** data\\r\\n** byte-compile and prepare package for lazy loading\\r\\n** help\\r\\n*** installing help indices\\r\\n    finding HTML links ... done\\r\\n** building package indices\\r\\n** testing if installed package can be loaded from temporary location\\r\\n** testing if installed package can be loaded from final location\\r\\n** testing if installed package keeps a record of temporary installation path\\r\\n* DONE (RefFreeEWAS)\\r\\nInstalling package into \\'C:/Users/Silke/OneDrive/Documenten/R/win-library/4.1\\'\\r\\n(as \\'lib\\' is unspecified)\\r\\ntrying URL \\'https://mirror.lyrahosting.com/CRAN/bin/windows/contrib/4.1/quadprog_1.5-8.zip\\'\\r\\nContent type \\'application/zip\\' length 50391 bytes (49 KB)\\r\\n==================================================\\r\\ndownloaded 49 KB\\r\\n\\r\\nLoading required package: quadprog\\r\\nBioconductor version 3.14 (BiocManager 1.30.16), R 4.1.2 (2021-11-01)\\r\\nInstallation paths not writeable, unable to update packages\\r\\n  path: C:/Program Files/R/R-4.1.2/library\\r\\n  packages:\\r\\n    class, cluster, foreign, MASS, Matrix, mgcv, nlme, nnet, rpart, spatial,\\r\\n    survival\\r\\nOld packages: \\'AnnotationHub\\', \\'beanplot\\', \\'blob\\', \\'cli\\', \\'clipr\\',\\r\\n  \\'colorspace\\', \\'commonmark\\', \\'crayon\\', \\'dplyr\\', \\'DT\\', \\'ensembldb\\', \\'evaluate\\',\\r\\n  \\'fansi\\', \\'formatR\\', \\'GenomicFeatures\\', \\'glue\\', \\'Gviz\\', \\'jsonlite\\', \\'knitr\\',\\r\\n  \\'limma\\', \\'locfit\\', \\'magrittr\\', \\'openssl\\', \\'plyr\\', \\'processx\\', \\'RColorBrewer\\',\\r\\n  \\'Rcpp\\', \\'RCurl\\', \\'readxl\\', \\'rhdf5\\', \\'rlang\\', \\'rmarkdown\\', \\'RSQLite\\',\\r\\n  \\'S4Vectors\\', \\'sass\\', \\'tidyselect\\', \\'tinytex\\', \\'tzdb\\', \\'uuid\\', \\'vctrs\\',\\r\\n  \\'withr\\', \\'xfun\\', \\'XML\\', \\'yaml\\'\\r\\nWarning message:\\r\\npackage(s) not installed when version(s) same as current; use `force = TRUE` to\\r\\n  re-install: \\'wateRmelon\\' \\'methylumi\\' \\r\\nLoading required package: Biobase\\r\\nLoading required package: BiocGenerics\\r\\n\\r\\nAttaching package: \\'BiocGenerics\\'\\r\\n\\r\\nThe following objects are masked from \\'package:stats\\':\\r\\n\\r\\n    IQR, mad, sd, var, xtabs\\r\\n\\r\\nThe following objects are masked from \\'package:base\\':\\r\\n\\r\\n    anyDuplicated, append, as.data.frame, basename, cbind, colnames,\\r\\n    dirname, do.call, duplicated, eval, evalq, Filter, Find, get, grep,\\r\\n    grepl, intersect, is.unsorted, lapply, Map, mapply, match, mget,\\r\\n    order, paste, pmax, pmax.int, pmin, pmin.int, Position, rank,\\r\\n    rbind, Reduce, rownames, sapply, setdiff, sort, table, tapply,\\r\\n    union, unique, unsplit, which.max, which.min\\r\\n\\r\\nWelcome to Bioconductor\\r\\n\\r\\n    Vignettes contain introductory material; view with\\r\\n    \\'browseVignettes()\\'. To cite Bioconductor, see\\r\\n    \\'citation(\"Biobase\")\\', and for packages \\'citation(\"pkgname\")\\'.\\r\\n\\r\\nLoading required package: limma\\r\\n\\r\\nAttaching package: \\'limma\\'\\r\\n\\r\\nThe following object is masked from \\'package:BiocGenerics\\':\\r\\n\\r\\n    plotMA\\r\\n\\r\\nLoading required package: matrixStats\\r\\n\\r\\nAttaching package: \\'matrixStats\\'\\r\\n\\r\\nThe following objects are masked from \\'package:Biobase\\':\\r\\n\\r\\n    anyMissing, rowMedians\\r\\n\\r\\nLoading required package: methylumi\\r\\nLoading required package: scales\\r\\nLoading required package: reshape2\\r\\nLoading required package: ggplot2\\r\\nLoading required package: FDb.InfiniumMethylation.hg19\\r\\nLoading required package: GenomicFeatures\\r\\nLoading required package: S4Vectors\\r\\nLoading required package: stats4\\r\\n\\r\\nAttaching package: \\'S4Vectors\\'\\r\\n\\r\\nThe following objects are masked from \\'package:base\\':\\r\\n\\r\\n    expand.grid, I, unname\\r\\n\\r\\nLoading required package: IRanges\\r\\n\\r\\nAttaching package: \\'IRanges\\'\\r\\n\\r\\nThe following object is masked from \\'package:grDevices\\':\\r\\n\\r\\n    windows\\r\\n\\r\\nLoading required package: GenomeInfoDb\\r\\nLoading required package: GenomicRanges\\r\\nLoading required package: AnnotationDbi\\r\\nLoading required package: TxDb.Hsapiens.UCSC.hg19.knownGene\\r\\nLoading required package: org.Hs.eg.db\\r\\n\\r\\nLoading required package: minfi\\r\\nLoading required package: SummarizedExperiment\\r\\nLoading required package: MatrixGenerics\\r\\n\\r\\nAttaching package: \\'MatrixGenerics\\'\\r\\n\\r\\nThe following objects are masked from \\'package:matrixStats\\':\\r\\n\\r\\n    colAlls, colAnyNAs, colAnys, colAvgsPerRowSet, colCollapse,\\r\\n    colCounts, colCummaxs, colCummins, colCumprods, colCumsums,\\r\\n    colDiffs, colIQRDiffs, colIQRs, colLogSumExps, colMadDiffs,\\r\\n    colMads, colMaxs, colMeans2, colMedians, colMins, colOrderStats,\\r\\n    colProds, colQuantiles, colRanges, colRanks, colSdDiffs, colSds,\\r\\n    colSums2, colTabulates, colVarDiffs, colVars, colWeightedMads,\\r\\n    colWeightedMeans, colWeightedMedians, colWeightedSds,\\r\\n    colWeightedVars, rowAlls, rowAnyNAs, rowAnys, rowAvgsPerColSet,\\r\\n    rowCollapse, rowCounts, rowCummaxs, rowCummins, rowCumprods,\\r\\n    rowCumsums, rowDiffs, rowIQRDiffs, rowIQRs, rowLogSumExps,\\r\\n    rowMadDiffs, rowMads, rowMaxs, rowMeans2, rowMedians, rowMins,\\r\\n    rowOrderStats, rowProds, rowQuantiles, rowRanges, rowRanks,\\r\\n    rowSdDiffs, rowSds, rowSums2, rowTabulates, rowVarDiffs, rowVars,\\r\\n    rowWeightedMads, rowWeightedMeans, rowWeightedMedians,\\r\\n    rowWeightedSds, rowWeightedVars\\r\\n\\r\\nThe following object is masked from \\'package:Biobase\\':\\r\\n\\r\\n    rowMedians\\r\\n\\r\\nLoading required package: Biostrings\\r\\nLoading required package: XVector\\r\\n\\r\\nAttaching package: \\'Biostrings\\'\\r\\n\\r\\nThe following object is masked from \\'package:base\\':\\r\\n\\r\\n    strsplit\\r\\n\\r\\nLoading required package: bumphunter\\r\\nLoading required package: foreach\\r\\nLoading required package: iterators\\r\\nLoading required package: parallel\\r\\nLoading required package: locfit\\r\\nlocfit 1.5-9.4 \\t 2020-03-24\\r\\nSetting options(\\'download.file.method.GEOquery\\'=\\'auto\\')\\nSetting options(\\'GEOquery.inmemory.gpl\\'=FALSE)\\nLoading required package: lumi\\nNo methods found in package \\'RSQLite\\' for request: \\'dbListFields\\' when loading \\'lumi\\'\\n\\nAttaching package: \\'lumi\\'\\n\\nThe following objects are masked from \\'package:methylumi\\':\\n\\n    estimateM, getHistory\\n\\nLoading required package: ROC\\nLoading required package: IlluminaHumanMethylation450kanno.ilmn12.hg19\\nLoading required package: illuminaio\\nInstalling package into \\'C:/Users/Silke/OneDrive/Documenten/R/win-library/4.1\\'\\n(as \\'lib\\' is unspecified)\\ntrying URL \\'https://mirror.lyrahosting.com/CRAN/bin/windows/contrib/4.1/tidyverse_1.3.1.zip\\'\\nContent type \\'application/zip\\' length 430226 bytes (420 KB)\\n==================================================\\ndownloaded 420 KB\\n\\n-- Attaching packages --------------------------------------- tidyverse 1.3.1 --\\nv tibble  3.1.6     v dplyr   1.0.7\\nv tidyr   1.2.0     v stringr 1.4.0\\nv readr   2.1.2     v forcats 0.5.1\\nv purrr   0.3.4     \\n-- Conflicts ------------------------------------------ tidyverse_conflicts() --\\nx purrr::accumulate() masks foreach::accumulate()\\nx readr::col_factor() masks scales::col_factor()\\nx dplyr::collapse()   masks Biostrings::collapse(), IRanges::collapse()\\nx dplyr::combine()    masks lumi::combine(), methylumi::combine(), minfi::combine(), Biobase::combine(), BiocGenerics::combine()\\nx purrr::compact()    masks XVector::compact()\\nx dplyr::count()      masks matrixStats::count()\\nx dplyr::desc()       masks IRanges::desc()\\nx purrr::discard()    masks scales::discard()\\nx tidyr::expand()     masks S4Vectors::expand()\\nx dplyr::filter()     masks stats::filter()\\nx dplyr::first()      masks S4Vectors::first()\\nx dplyr::lag()        masks stats::lag()\\nx purrr::none()       masks locfit::none()\\nx ggplot2::Position() masks BiocGenerics::Position(), base::Position()\\nx purrr::reduce()     masks GenomicRanges::reduce(), IRanges::reduce()\\nx dplyr::rename()     masks S4Vectors::rename()\\nx dplyr::select()     masks AnnotationDbi::select()\\nx dplyr::slice()      masks XVector::slice(), IRanges::slice()\\nx purrr::when()       masks foreach::when()\\nWarning message:\\npackage \\'tidyverse\\' was built under R version 4.1.3 \\nError in h(simpleError(msg, call)) : \\n  error in evaluating the argument \\'table\\' in selecting a method for function \\'%in%\\': error in evaluating the argument \\'x\\' in selecting a method for function \\'rownames\\': unable to find an inherited method for function \\'betas\\' for signature \\'\"character\"\\'\\nCalls: cell_decomp_RefFreeEWAS ... [.data.frame -> %in% -> rownames -> betas -> <Anonymous>\\nExecution halted\\n'"
      ]
     },
     "execution_count": 29,
     "metadata": {},
     "output_type": "execute_result"
    }
   ],
   "source": [
    "RefFreeEWAS.stderr"
   ]
  },
  {
   "cell_type": "markdown",
   "metadata": {},
   "source": [
    "Removing unwanted probes from the dataset"
   ]
  },
  {
   "cell_type": "code",
   "execution_count": null,
   "metadata": {},
   "outputs": [],
   "source": [
    "# SNP and overlapping (?) probe removal"
   ]
  },
  {
   "cell_type": "markdown",
   "metadata": {},
   "source": [
    "EWAS code, using the linear model function from sklearn"
   ]
  },
  {
   "cell_type": "code",
   "execution_count": 3,
   "metadata": {},
   "outputs": [],
   "source": [
    "#EWAS\n",
    "#import statsmodels.api as sm # this contains an R-like linear model function that is more intuitive than the sklearn equivalent\n",
    "#from patsy import dmatrices\n",
    "import numpy as np\n",
    "import pandas as pd\n",
    "\n",
    "pheno = pd.read_csv(\"E:\\\\Msc Systems Biology\\\\MSB5000_Master_Thesis\\\\Practical work\\\\Federated_Differential_Methylation_Analysis\\\\Output\\\\QC_GSE66351_PythonShell\\\\post_norm_pheno_information.csv\", index_col= \"Sample_ID\")\n",
    "betas = pd.read_csv(\"E:\\\\Msc Systems Biology\\\\MSB5000_Master_Thesis\\\\Practical work\\\\Federated_Differential_Methylation_Analysis\\Output\\\\QC_GSE66351_PythonShell\\\\Preprocessed_betas.csv\", index_col=0)\n",
    "x = pheno.loc[:,[\"Sample_diagnosis\", \"Sample_age\", \"Sample_sex\", \"Sample_sentrix_id\"]] # design matrix with the dependent/explainatory variables to be included in the model\n",
    "y = betas.iloc[0:21,:] # keeping it small now to test if everything works the way it should\n",
    "\n",
    "# The design matrix needs to consist of numeric representations of the covariates to be included in the model, i.e. binary diagnosis, binary sex, dummy sentrix etc.\n",
    "x[\"Sample_diagnosis\"] = (x[\"Sample_diagnosis\"] == \"diagnosis: AD\").astype(int) #create binary diagnosis with 1 = AD and 0 = CTR\n",
    "x[\"Sample_sex\"] = (x[\"Sample_sex\"] == \"Sex: F\").astype(int) #create binary sex with 1 = F and 0 = M\n",
    "# create dummy variables for the unique sentrix_ids present in the dataset - this code can be reused to create center number dummies in the federated version of the code\n",
    "unique_ids = x[\"Sample_sentrix_id\"].unique()\n",
    "for id in unique_ids:\n",
    "    x[id] = (x[\"Sample_sentrix_id\"] == id).astype(int)\n",
    "x.drop(columns=\"Sample_sentrix_id\", inplace = True)\n",
    "# turn the age variable into a continuous numerical variable without any leftover text\n",
    "x[\"Sample_age\"].replace(\"^[^:]*:\", \"\", regex=True, inplace=True)\n",
    "x[\"Sample_age\"] = pd.to_numeric(x[\"Sample_age\"])\n",
    "\n",
    "x_matrix = x.values\n",
    "y_matrix = y.values\n",
    "\n",
    "\n",
    "n = y_matrix.shape[0] # select the number of rows of the beta matrix - #genes that the linear model will be calculated for\n",
    "m = x.shape[1] #select the number of columns from the design matrix\n",
    "\n",
    "import scipy.stats\n",
    "\n",
    "coefficient = []\n",
    "standard_error = []\n",
    "t_stat = []\n",
    "p_value = []\n",
    "for i in range(0, n):\n",
    "   y_m = y_matrix[i, :]\n",
    "   x_t = x_matrix.T @ x_matrix\n",
    "   x_t_y = x_matrix.T @ y_m\n",
    "   x_t_inv = np.linalg.inv(x_t)\n",
    "   coef = x_t_inv @ x_t_y\n",
    "   coefficient.append(coef)\n",
    "   stan_er = np.diag(x_t_inv)\n",
    "   standard_error.append(stan_er)\n",
    "   t = coef/stan_er\n",
    "   t_stat.append(t)\n",
    "   df = y_matrix.shape[1]-2 #degrees of freedom is defined as number of observations - 2 \n",
    "   p = scipy.stats.t.sf(t, df)\n",
    "   p_value.append(p)\n",
    "\n",
    "#turn the results saved in lists into a dataframe for each covariate with the probe ids as index\n",
    "result_coef = pd.DataFrame(coefficient, index=y.index, columns=x.columns)\n",
    "result_staner = pd.DataFrame(standard_error, index = y.index, columns=x.columns)\n",
    "result_tvalue = pd.DataFrame(t_stat, index=y.index, columns=x.columns)\n",
    "result_pvalue = pd.DataFrame(p_value, index=y.index, columns=x.columns)\n",
    "\n",
    "#create a final results dataframe that contains the coefficient, standard error and p-value of the diagnosis covariate included in the linear regression\n",
    "results_diagnosis = pd.DataFrame({\"Diagnosis_Coef\":result_coef[\"Sample_diagnosis\"], \"Diagnosis_StanErr\":result_staner[\"Sample_diagnosis\"], \"Diagnosis_Pvalue\":result_pvalue[\"Sample_diagnosis\"]}, index=y.index)\n",
    "results_diagnosis.to_csv(os.path.join(output_path, \"results_diagnosis_regression_test_python.csv\"))\n",
    "\n",
    "  \n"
   ]
  },
  {
   "cell_type": "markdown",
   "metadata": {},
   "source": [
    "Create a .bed structured text file with the regression output to be used as input into the differentially methylated region analysis"
   ]
  },
  {
   "cell_type": "code",
   "execution_count": 63,
   "metadata": {},
   "outputs": [],
   "source": [
    "# start with importing the probe information from the .bed file that is available through the encord project (?)\n",
    "bed_annotation = pd.read_csv(\"E:\\\\Msc Systems Biology\\\\MSB5000_Master_Thesis\\\\Practical work\\\\Data\\\\HAIB.A549.EtOH.Rep.3.bed\", sep=\"\\t\", header=None)\n",
    "# select the three necessary column, chr, start, stop from the annotation file and match these to the probes in the EWAS input betas based on probe ID\n",
    "bed_annotation = bed_annotation.iloc[:,0:4]\n",
    "bed_annotation.columns = [\"chr\", \"ChromStart\", \"ChromEnd\", \"Illumina_ID\"]\n",
    "# merge the regression output onto the .bed standard columns based on the probe ID\n",
    "results_bed = pd.merge(bed_annotation, results_diagnosis, left_on=\"Illumina_ID\", right_index=True, how=\"inner\") #using inner join since this preserves the order of the keys and\n",
    "# only keeps the entries that are present in both dataframes\n",
    "results_bed.set_index(results_bed[\"Illumina_ID\"], inplace=True)\n",
    "# write the dataframe as a tab separated .bed file\n",
    "results_bed.to_csv(os.path.join(output_path, \"results_diagnosis_regression_test.bed\"), sep=\"\\t\")"
   ]
  }
 ],
 "metadata": {
  "interpreter": {
   "hash": "57baa5815c940fdaff4d14510622de9616cae602444507ba5d0b6727c008cbd6"
  },
  "kernelspec": {
   "display_name": "Python 3.7.8 64-bit",
   "language": "python",
   "name": "python3"
  },
  "language_info": {
   "codemirror_mode": {
    "name": "ipython",
    "version": 3
   },
   "file_extension": ".py",
   "mimetype": "text/x-python",
   "name": "python",
   "nbconvert_exporter": "python",
   "pygments_lexer": "ipython3",
   "version": "3.7.8"
  },
  "orig_nbformat": 4
 },
 "nbformat": 4,
 "nbformat_minor": 2
}

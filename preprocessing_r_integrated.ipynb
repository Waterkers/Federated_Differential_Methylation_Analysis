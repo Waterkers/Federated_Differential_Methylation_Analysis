{
 "cells": [
  {
   "cell_type": "markdown",
   "metadata": {},
   "source": [
    "DNA methylation data preprocessing and analysis workflow based on the pipeline provided by Ehsan and collegues from Exeter University. \n",
    "This version will contain a mix of python native function if they are available and r integrations of functions that don't have a\n",
    "python native version yet. Of these r integrated function a selection will be translated into python native functions if it is \n",
    "necessary for the continuation of the project."
   ]
  },
  {
   "cell_type": "markdown",
   "metadata": {},
   "source": [
    "Install the PyMethylProcess package from GitHub - https://github.com/Christensen-Lab-Dartmouth/PyMethylProcess/blob/master/pymethylprocess/MethylationDataTypes.py - because this has similar functionalities, based on the same functions, as those in the Exeter pipeline"
   ]
  },
  {
   "cell_type": "code",
   "execution_count": 1,
   "metadata": {},
   "outputs": [
    {
     "name": "stdout",
     "output_type": "stream",
     "text": [
      "Defaulting to user installation because normal site-packages is not writeable\n",
      "Collecting git+https://github.com/bodono/scs-python.git@bb45c69ce57b1fbb5ab23e02b30549a7e0b801e3\n",
      "  Cloning https://github.com/bodono/scs-python.git (to revision bb45c69ce57b1fbb5ab23e02b30549a7e0b801e3) to c:\\users\\silke\\appdata\\local\\temp\\pip-req-build-x13x6rw9\n",
      "Note: you may need to restart the kernel to use updated packages.\n"
     ]
    },
    {
     "name": "stderr",
     "output_type": "stream",
     "text": [
      "  Running command git clone -q https://github.com/bodono/scs-python.git 'C:\\Users\\Silke\\AppData\\Local\\Temp\\pip-req-build-x13x6rw9'\n",
      "  Running command git checkout -q bb45c69ce57b1fbb5ab23e02b30549a7e0b801e3\n",
      "  Running command git submodule update --init --recursive -q\n"
     ]
    },
    {
     "name": "stdout",
     "output_type": "stream",
     "text": [
      "Requirement already satisfied (use --upgrade to upgrade): scs==2.0.2.post3 from git+https://github.com/bodono/scs-python.git@bb45c69ce57b1fbb5ab23e02b30549a7e0b801e3 in c:\\users\\silke\\appdata\\roaming\\python\\python37\\site-packages\n",
      "Collecting git+https://github.com/jlevy44/hypopt.git@af59fbed732f5377cda73fdf42f3d4981c2be3ce\n",
      "  Cloning https://github.com/jlevy44/hypopt.git (to revision af59fbed732f5377cda73fdf42f3d4981c2be3ce) to c:\\users\\silke\\appdata\\local\\temp\\pip-req-build-rnn44w0l\n",
      "Requirement already satisfied (use --upgrade to upgrade): hypopt==1.0.8 from git+https://github.com/jlevy44/hypopt.git@af59fbed732f5377cda73fdf42f3d4981c2be3ce in c:\\users\\silke\\appdata\\roaming\\python\\python37\\site-packages\n",
      "Requirement already satisfied: numpy>=1.7 in c:\\users\\silke\\appdata\\roaming\\python\\python37\\site-packages (from scs==2.0.2.post3) (1.21.5)\n",
      "Requirement already satisfied: scipy>=0.13.2 in c:\\users\\silke\\appdata\\roaming\\python\\python37\\site-packages (from scs==2.0.2.post3) (1.7.3)\n",
      "Requirement already satisfied: scikit-learn>=0.18 in c:\\users\\silke\\appdata\\roaming\\python\\python37\\site-packages (from hypopt==1.0.8) (1.0.2)\n",
      "Requirement already satisfied: threadpoolctl>=2.0.0 in c:\\users\\silke\\appdata\\roaming\\python\\python37\\site-packages (from scikit-learn>=0.18->hypopt==1.0.8) (3.1.0)\n",
      "Requirement already satisfied: joblib>=0.11 in c:\\users\\silke\\appdata\\roaming\\python\\python37\\site-packages (from scikit-learn>=0.18->hypopt==1.0.8) (1.1.0)\n",
      "Using legacy setup.py install for scs, since package 'wheel' is not installed.\n",
      "Using legacy setup.py install for hypopt, since package 'wheel' is not installed.\n"
     ]
    },
    {
     "name": "stderr",
     "output_type": "stream",
     "text": [
      "  Running command git clone -q https://github.com/jlevy44/hypopt.git 'C:\\Users\\Silke\\AppData\\Local\\Temp\\pip-req-build-rnn44w0l'\n",
      "WARNING: You are using pip version 20.1.1; however, version 22.0.3 is available.\n",
      "You should consider upgrading via the 'C:\\Program Files (x86)\\Microsoft Visual Studio\\Shared\\Python37_64\\python.exe -m pip install --upgrade pip' command.\n"
     ]
    }
   ],
   "source": [
    "pip install git+https://github.com/bodono/scs-python.git@bb45c69ce57b1fbb5ab23e02b30549a7e0b801e3 git+https://github.com/jlevy44/hypopt.git@af59fbed732f5377cda73fdf42f3d4981c2be3ce"
   ]
  },
  {
   "cell_type": "markdown",
   "metadata": {},
   "source": [
    "Install the methylsuite packages - https://pypi.org/project/methylsuite/ - because this contains functions that can read in raw data files \n",
    "rather than beta-matrices"
   ]
  },
  {
   "cell_type": "code",
   "execution_count": 2,
   "metadata": {},
   "outputs": [
    {
     "name": "stdout",
     "output_type": "stream",
     "text": [
      "Defaulting to user installation because normal site-packages is not writeable\n",
      "Collecting methylsuite\n",
      "  Downloading methylsuite-1.3.0-py3-none-any.whl (2.7 kB)\n",
      "Collecting methylprep\n",
      "  Downloading methylprep-1.6.1-py3-none-any.whl (1.3 MB)\n",
      "Collecting lxml\n",
      "  Downloading lxml-4.8.0-cp37-cp37m-win_amd64.whl (3.6 MB)\n",
      "Collecting tqdm\n",
      "  Downloading tqdm-4.62.3-py2.py3-none-any.whl (76 kB)\n",
      "Collecting bs4\n",
      "  Downloading bs4-0.0.1.tar.gz (1.1 kB)\n",
      "Collecting methylize\n",
      "  Downloading methylize-1.0.1-py3-none-any.whl (90 kB)\n",
      "Collecting statsmodels\n",
      "  Downloading statsmodels-0.13.2-cp37-cp37m-win_amd64.whl (9.0 MB)\n",
      "Collecting methylcheck\n",
      "  Downloading methylcheck-0.8.4-py3-none-any.whl (10.8 MB)\n",
      "Collecting seaborn\n",
      "  Downloading seaborn-0.11.2-py3-none-any.whl (292 kB)\n",
      "Collecting requests\n",
      "  Downloading requests-2.27.1-py2.py3-none-any.whl (63 kB)\n",
      "Collecting matplotlib\n",
      "  Downloading matplotlib-3.5.1-cp37-cp37m-win_amd64.whl (7.2 MB)\n",
      "Requirement already satisfied: scipy in c:\\users\\silke\\appdata\\roaming\\python\\python37\\site-packages (from methylsuite) (1.7.3)\n",
      "Requirement already satisfied: numpy in c:\\users\\silke\\appdata\\roaming\\python\\python37\\site-packages (from methylsuite) (1.21.5)\n",
      "Collecting pandas\n",
      "  Downloading pandas-1.3.5-cp37-cp37m-win_amd64.whl (10.0 MB)\n",
      "Collecting pyparsing>3.0\n",
      "  Downloading pyparsing-3.0.7-py3-none-any.whl (98 kB)\n",
      "Requirement already satisfied: colorama; platform_system == \"Windows\" in c:\\users\\silke\\appdata\\roaming\\python\\python37\\site-packages (from tqdm->methylsuite) (0.4.4)\n",
      "Collecting beautifulsoup4\n",
      "  Downloading beautifulsoup4-4.10.0-py3-none-any.whl (97 kB)\n",
      "Collecting pymysql\n",
      "  Downloading PyMySQL-1.0.2-py3-none-any.whl (43 kB)\n",
      "Note: you may need to restart the kernel to use updated packages.\n"
     ]
    },
    {
     "name": "stderr",
     "output_type": "stream",
     "text": [
      "  WARNING: The script tqdm.exe is installed in 'C:\\Users\\Silke\\AppData\\Roaming\\Python\\Python37\\Scripts' which is not on PATH.\n",
      "  Consider adding this directory to PATH or, if you prefer to suppress this warning, use --no-warn-script-location.\n",
      "  WARNING: The script normalizer.exe is installed in 'C:\\Users\\Silke\\AppData\\Roaming\\Python\\Python37\\Scripts' which is not on PATH.\n",
      "  Consider adding this directory to PATH or, if you prefer to suppress this warning, use --no-warn-script-location.\n",
      "  WARNING: The script methylprep-cli.exe is installed in 'C:\\Users\\Silke\\AppData\\Roaming\\Python\\Python37\\Scripts' which is not on PATH.\n",
      "  Consider adding this directory to PATH or, if you prefer to suppress this warning, use --no-warn-script-location.\n"
     ]
    },
    {
     "name": "stdout",
     "output_type": "stream",
     "text": [
      "Collecting toolshed\n",
      "  Downloading toolshed-0.4.6.tar.gz (13 kB)\n",
      "Collecting interlap\n",
      "  Downloading interlap-0.2.7.tar.gz (6.1 kB)\n",
      "Collecting packaging>=21.3\n",
      "  Downloading packaging-21.3-py3-none-any.whl (40 kB)\n",
      "Collecting patsy>=0.5.2\n",
      "  Downloading patsy-0.5.2-py2.py3-none-any.whl (233 kB)\n",
      "Collecting xlsxwriter\n",
      "  Downloading XlsxWriter-3.0.2-py3-none-any.whl (149 kB)\n",
      "Requirement already satisfied: joblib in c:\\users\\silke\\appdata\\roaming\\python\\python37\\site-packages (from methylcheck->methylsuite) (1.1.0)\n",
      "Collecting openpyxl\n",
      "  Downloading openpyxl-3.0.9-py2.py3-none-any.whl (242 kB)\n",
      "Requirement already satisfied: scikit-learn in c:\\users\\silke\\appdata\\roaming\\python\\python37\\site-packages (from methylcheck->methylsuite) (1.0.2)\n",
      "Collecting idna<4,>=2.5; python_version >= \"3\"\n",
      "  Downloading idna-3.3-py3-none-any.whl (61 kB)\n",
      "Collecting certifi>=2017.4.17\n",
      "  Downloading certifi-2021.10.8-py2.py3-none-any.whl (149 kB)\n",
      "Collecting urllib3<1.27,>=1.21.1\n",
      "  Downloading urllib3-1.26.8-py2.py3-none-any.whl (138 kB)\n",
      "Collecting charset-normalizer~=2.0.0; python_version >= \"3\"\n",
      "  Downloading charset_normalizer-2.0.12-py3-none-any.whl (39 kB)\n",
      "Collecting fonttools>=4.22.0\n",
      "  Downloading fonttools-4.29.1-py3-none-any.whl (895 kB)\n",
      "Requirement already satisfied: python-dateutil>=2.7 in c:\\users\\silke\\appdata\\roaming\\python\\python37\\site-packages (from matplotlib->methylsuite) (2.8.2)\n",
      "Collecting pillow>=6.2.0\n",
      "  Downloading Pillow-9.0.1-cp37-cp37m-win_amd64.whl (3.2 MB)\n",
      "Collecting cycler>=0.10\n",
      "  Downloading cycler-0.11.0-py3-none-any.whl (6.4 kB)\n",
      "Collecting kiwisolver>=1.0.1\n",
      "  Downloading kiwisolver-1.3.2-cp37-cp37m-win_amd64.whl (51 kB)\n",
      "Collecting pytz>=2017.3\n",
      "  Downloading pytz-2021.3-py2.py3-none-any.whl (503 kB)\n",
      "Collecting soupsieve>1.2\n",
      "  Downloading soupsieve-2.3.1-py3-none-any.whl (37 kB)\n",
      "Requirement already satisfied: six in c:\\users\\silke\\appdata\\roaming\\python\\python37\\site-packages (from patsy>=0.5.2->statsmodels->methylsuite) (1.16.0)\n",
      "Collecting et-xmlfile\n",
      "  Downloading et_xmlfile-1.1.0-py3-none-any.whl (4.7 kB)\n",
      "Requirement already satisfied: threadpoolctl>=2.0.0 in c:\\users\\silke\\appdata\\roaming\\python\\python37\\site-packages (from scikit-learn->methylcheck->methylsuite) (3.1.0)\n",
      "Using legacy setup.py install for bs4, since package 'wheel' is not installed.\n",
      "Using legacy setup.py install for toolshed, since package 'wheel' is not installed.\n",
      "Using legacy setup.py install for interlap, since package 'wheel' is not installed.\n",
      "Installing collected packages: lxml, tqdm, soupsieve, beautifulsoup4, bs4, pyparsing, pytz, pandas, packaging, patsy, statsmodels, idna, certifi, urllib3, charset-normalizer, requests, methylprep, pymysql, toolshed, interlap, xlsxwriter, et-xmlfile, openpyxl, fonttools, pillow, cycler, kiwisolver, matplotlib, seaborn, methylcheck, methylize, methylsuite\n",
      "    Running setup.py install for bs4: started\n",
      "    Running setup.py install for bs4: finished with status 'done'\n",
      "    Running setup.py install for toolshed: started\n",
      "    Running setup.py install for toolshed: finished with status 'done'\n",
      "    Running setup.py install for interlap: started\n",
      "    Running setup.py install for interlap: finished with status 'done'\n",
      "Successfully installed beautifulsoup4-4.10.0 bs4-0.0.1 certifi-2021.10.8 charset-normalizer-2.0.12 cycler-0.11.0 et-xmlfile-1.1.0 fonttools-4.29.1 idna-3.3 interlap-0.2.7 kiwisolver-1.3.2 lxml-4.8.0 matplotlib-3.5.1 methylcheck-0.8.4 methylize-1.0.1 methylprep-1.6.1 methylsuite-1.3.0 openpyxl-3.0.9 packaging-21.3 pandas-1.3.5 patsy-0.5.2 pillow-9.0.1 pymysql-1.0.2 pyparsing-3.0.7 pytz-2021.3 requests-2.27.1 seaborn-0.11.2 soupsieve-2.3.1 statsmodels-0.13.2 toolshed-0.4.6 tqdm-4.62.3 urllib3-1.26.8 xlsxwriter-3.0.2\n"
     ]
    },
    {
     "name": "stderr",
     "output_type": "stream",
     "text": [
      "  WARNING: The scripts fonttools.exe, pyftmerge.exe, pyftsubset.exe and ttx.exe are installed in 'C:\\Users\\Silke\\AppData\\Roaming\\Python\\Python37\\Scripts' which is not on PATH.\n",
      "  Consider adding this directory to PATH or, if you prefer to suppress this warning, use --no-warn-script-location.\n",
      "  WARNING: The script methylcheck-cli.exe is installed in 'C:\\Users\\Silke\\AppData\\Roaming\\Python\\Python37\\Scripts' which is not on PATH.\n",
      "  Consider adding this directory to PATH or, if you prefer to suppress this warning, use --no-warn-script-location.\n",
      "  WARNING: The script methylize.exe is installed in 'C:\\Users\\Silke\\AppData\\Roaming\\Python\\Python37\\Scripts' which is not on PATH.\n",
      "  Consider adding this directory to PATH or, if you prefer to suppress this warning, use --no-warn-script-location.\n",
      "WARNING: You are using pip version 20.1.1; however, version 22.0.3 is available.\n",
      "You should consider upgrading via the 'C:\\Program Files (x86)\\Microsoft Visual Studio\\Shared\\Python37_64\\python.exe -m pip install --upgrade pip' command.\n"
     ]
    }
   ],
   "source": [
    "pip install methylsuite"
   ]
  },
  {
   "cell_type": "markdown",
   "metadata": {},
   "source": [
    "Importing the functionalities needed for the preprocessing and the analysis"
   ]
  },
  {
   "cell_type": "code",
   "execution_count": 9,
   "metadata": {},
   "outputs": [],
   "source": [
    "from methylprep import make_pipeline, get_sample_sheet"
   ]
  },
  {
   "cell_type": "code",
   "execution_count": 10,
   "metadata": {},
   "outputs": [],
   "source": [
    "from methylprep.files import create_sample_sheet, find_sample_sheet"
   ]
  },
  {
   "cell_type": "code",
   "execution_count": 11,
   "metadata": {},
   "outputs": [],
   "source": [
    "import csv\n",
    "import pandas as pd"
   ]
  },
  {
   "cell_type": "markdown",
   "metadata": {},
   "source": [
    "Load the original series matrix"
   ]
  },
  {
   "cell_type": "code",
   "execution_count": 12,
   "metadata": {},
   "outputs": [],
   "source": [
    "original_GSE66351_matrix = pd.read_table(\"E:\\\\Msc Systems Biology\\\\MSB5000_Master_Thesis\\\\Practical work\\\\Data\\\\GSE66351_RAW\\\\GSE66351_series_matrix_pheno.txt\", header=None)"
   ]
  },
  {
   "cell_type": "markdown",
   "metadata": {},
   "source": [
    "Rename the columns of the series matrix file so that they match the required column names for the import function from the methyprep package:\n",
    "Has to include Sentrix_ID and Sentrix_position. The original file does not have these column names (GSE66351)"
   ]
  },
  {
   "cell_type": "code",
   "execution_count": 13,
   "metadata": {},
   "outputs": [],
   "source": [
    "original_GSE66351_matrix_trans = original_GSE66351_matrix.transpose()\n",
    "colum_names = [\"Sample_Name\", \"GEO_Accession\", \"Sample_Status\", \"Sample_Submission_date\", \"Sample_last_update_data\", \"Sample_Type\", \"Channel_count\", \"Tissue_Source\", \"Organism\", \n",
    "\"Cell_Type\", \"Diagnosis\", \"Braak_stage\", \"Braak_region\", \"Age\", \"Sex\", \"Donor_id\", \"Sentrix_ID\", \"Sentrix_Position\", \"Molecule\"]\n",
    "original_GSE66351_matrix_trans.columns = colum_names"
   ]
  },
  {
   "cell_type": "markdown",
   "metadata": {},
   "source": [
    "Remove the first row\n",
    "Remove text from data frame cells (i.e Sex: in the cells of column Sex)\n",
    "Set the index to the barcodes/idat file names"
   ]
  },
  {
   "cell_type": "code",
   "execution_count": 14,
   "metadata": {},
   "outputs": [],
   "source": [
    "original_GSE66351_matrix_trans.drop([0], inplace=True)\n",
    "original_GSE66351_matrix_trans.replace(\"^[^:]*:\", \"\", regex=True, inplace=True)\n",
    "original_GSE66351_matrix_trans[\"Sample_ID\"] = original_GSE66351_matrix_trans[[\"GEO_Accession\", \"Sentrix_ID\", \"Sentrix_Position\"]].agg(\"_\".join, axis = 1)\n",
    "\n"
   ]
  },
  {
   "cell_type": "markdown",
   "metadata": {},
   "source": [
    "Save the sample sheet as a .csv file so the methyprep function can deal with it"
   ]
  },
  {
   "cell_type": "code",
   "execution_count": 13,
   "metadata": {},
   "outputs": [],
   "source": [
    "original_GSE66351_matrix_trans.to_pickle(\"E:\\\\Msc Systems Biology\\\\MSB5000_Master_Thesis\\\\Practical work\\Data\\\\GSE66351_RAW\\\\GSE66351_GPL13534_meta_data.pkl\")\n",
    "original_GSE66351_matrix_trans.to_csv(\"E:\\\\Msc Systems Biology\\\\MSB5000_Master_Thesis\\\\Practical work\\Data\\\\GSE66351_RAW\\\\sample_sheet.csv\")"
   ]
  },
  {
   "cell_type": "markdown",
   "metadata": {},
   "source": [
    "Start with loading in the data, using functions from the methylsuite packages since these can deal with .idat files as input. "
   ]
  },
  {
   "cell_type": "code",
   "execution_count": 56,
   "metadata": {},
   "outputs": [
    {
     "name": "stderr",
     "output_type": "stream",
     "text": [
      "INFO:methylprep.download.miniml:found 190 idat files; updated meta_data.\n",
      "INFO:methylprep.download.miniml:Final samplesheet contains 190 rows and 16 columns\n"
     ]
    },
    {
     "data": {
      "text/plain": [
       "[WindowsPath('E:/Msc Systems Biology/MSB5000_Master_Thesis/Practical work/Data/GSE66351_RAW/GSE66351/GSE66351_family.xml')]"
      ]
     },
     "execution_count": 56,
     "metadata": {},
     "output_type": "execute_result"
    }
   ],
   "source": [
    "from methylprep.download import convert_miniml\n",
    "convert_miniml(\"GSE66351\", data_dir = \"E:\\\\Msc Systems Biology\\\\MSB5000_Master_Thesis\\\\Practical work\\\\Data\\\\GSE66351_RAW\", merge=False)"
   ]
  },
  {
   "cell_type": "code",
   "execution_count": 9,
   "metadata": {},
   "outputs": [
    {
     "ename": "Exception",
     "evalue": "Too many sample sheets in this directory. Move or rename redundant ones. Or specify the path to the one to use with --sample_sheet. (candidate files: [WindowsPath('E:/Msc Systems Biology/MSB5000_Master_Thesis/Practical work/Data/GSE66351_RAW/sample_sheet.csv'), WindowsPath('E:/Msc Systems Biology/MSB5000_Master_Thesis/Practical work/Data/GSE66351_RAW/GSE66351_GPL13534_samplesheet.csv')])",
     "output_type": "error",
     "traceback": [
      "\u001b[1;31m---------------------------------------------------------------------------\u001b[0m",
      "\u001b[1;31mException\u001b[0m                                 Traceback (most recent call last)",
      "\u001b[1;32m~\\AppData\\Local\\Temp\\ipykernel_8728\\1117815121.py\u001b[0m in \u001b[0;36m<module>\u001b[1;34m\u001b[0m\n\u001b[1;32m----> 1\u001b[1;33m \u001b[0msample_sheet_GSE66351_at1\u001b[0m \u001b[1;33m=\u001b[0m \u001b[0mfind_sample_sheet\u001b[0m\u001b[1;33m(\u001b[0m\u001b[1;34m\"E:\\\\Msc Systems Biology\\\\MSB5000_Master_Thesis\\\\Practical work\\Data\\\\GSE66351_RAW\"\u001b[0m\u001b[1;33m)\u001b[0m\u001b[1;33m\u001b[0m\u001b[1;33m\u001b[0m\u001b[0m\n\u001b[0m",
      "\u001b[1;32m~\\AppData\\Roaming\\Python\\Python37\\site-packages\\methylprep\\files\\sample_sheets.py\u001b[0m in \u001b[0;36mfind_sample_sheet\u001b[1;34m(dir_path, return_all)\u001b[0m\n\u001b[0;32m    129\u001b[0m                 \u001b[1;32mreturn\u001b[0m \u001b[0mname_matched\u001b[0m\u001b[1;33m\u001b[0m\u001b[1;33m\u001b[0m\u001b[0m\n\u001b[0;32m    130\u001b[0m             \u001b[1;32melse\u001b[0m\u001b[1;33m:\u001b[0m\u001b[1;33m\u001b[0m\u001b[1;33m\u001b[0m\u001b[0m\n\u001b[1;32m--> 131\u001b[1;33m                 \u001b[1;32mraise\u001b[0m \u001b[0mException\u001b[0m\u001b[1;33m(\u001b[0m\u001b[1;34mf\"Too many sample sheets in this directory. Move or rename redundant ones. Or specify the path to the one to use with --sample_sheet. (candidate files: {candidates})\"\u001b[0m\u001b[1;33m)\u001b[0m\u001b[1;33m\u001b[0m\u001b[1;33m\u001b[0m\u001b[0m\n\u001b[0m\u001b[0;32m    132\u001b[0m \u001b[1;33m\u001b[0m\u001b[0m\n\u001b[0;32m    133\u001b[0m     \u001b[0msample_sheet_file\u001b[0m \u001b[1;33m=\u001b[0m \u001b[0mcandidates\u001b[0m\u001b[1;33m[\u001b[0m\u001b[1;36m0\u001b[0m\u001b[1;33m]\u001b[0m\u001b[1;33m\u001b[0m\u001b[1;33m\u001b[0m\u001b[0m\n",
      "\u001b[1;31mException\u001b[0m: Too many sample sheets in this directory. Move or rename redundant ones. Or specify the path to the one to use with --sample_sheet. (candidate files: [WindowsPath('E:/Msc Systems Biology/MSB5000_Master_Thesis/Practical work/Data/GSE66351_RAW/sample_sheet.csv'), WindowsPath('E:/Msc Systems Biology/MSB5000_Master_Thesis/Practical work/Data/GSE66351_RAW/GSE66351_GPL13534_samplesheet.csv')])"
     ]
    }
   ],
   "source": [
    "sample_sheet_GSE66351_at1 = find_sample_sheet(\"E:\\\\Msc Systems Biology\\\\MSB5000_Master_Thesis\\\\Practical work\\Data\\\\GSE66351_RAW\")"
   ]
  },
  {
   "cell_type": "code",
   "execution_count": 14,
   "metadata": {},
   "outputs": [],
   "source": [
    "sample_sheet_GSE66351 = pd.read_pickle(\"E:\\\\Msc Systems Biology\\\\MSB5000_Master_Thesis\\\\Practical work\\\\Data\\\\GSE66351_RAW\\\\GSE66351_GPL13534_meta_data.pkl\")"
   ]
  },
  {
   "cell_type": "markdown",
   "metadata": {},
   "source": [
    "Changing .idat filenames"
   ]
  },
  {
   "cell_type": "code",
   "execution_count": 3,
   "metadata": {},
   "outputs": [],
   "source": [
    "import os, glob, re"
   ]
  },
  {
   "cell_type": "markdown",
   "metadata": {},
   "source": [
    "temporarily set the working directory to the file containint the idat files to be imported into the python workflow. This makes the renaming process easier"
   ]
  },
  {
   "cell_type": "code",
   "execution_count": 21,
   "metadata": {},
   "outputs": [],
   "source": [
    "os.chdir(\"E:\\\\Msc Systems Biology\\\\MSB5000_Master_Thesis\\\\Practical work\\\\Data\\\\GSE66351_python_format\")"
   ]
  },
  {
   "cell_type": "markdown",
   "metadata": {},
   "source": [
    "Create a list of the idat files in the working directory (python format folder)"
   ]
  },
  {
   "cell_type": "code",
   "execution_count": 22,
   "metadata": {},
   "outputs": [],
   "source": [
    "idat_files = glob.glob(\"*.idat\")"
   ]
  },
  {
   "cell_type": "code",
   "execution_count": 6,
   "metadata": {},
   "outputs": [
    {
     "name": "stdout",
     "output_type": "stream",
     "text": [
      "8918692108_R03C01_Red.idat\n"
     ]
    }
   ],
   "source": [
    "old_name = idat_files[1]\n",
    "new_name = re.sub(\"^[^_]*_\", \"\", old_name)\n",
    "print(new_name)"
   ]
  },
  {
   "cell_type": "markdown",
   "metadata": {},
   "source": [
    "Remove the \"GSE[number]\" part from the .idat filenames so they match with the expected input format"
   ]
  },
  {
   "cell_type": "code",
   "execution_count": 23,
   "metadata": {},
   "outputs": [
    {
     "name": "stdout",
     "output_type": "stream",
     "text": [
      "5854945011_R05C02_Red.idat\n",
      "8918692108_R01C02_Grn.idat\n",
      "8918692108_R01C02_Red.idat\n",
      "8918692108_R01C01_Grn.idat\n",
      "8918692108_R01C01_Red.idat\n",
      "8918692108_R02C02_Grn.idat\n",
      "8918692108_R02C02_Red.idat\n",
      "8918692108_R02C01_Grn.idat\n",
      "8918692108_R02C01_Red.idat\n",
      "8918692108_R03C02_Grn.idat\n",
      "8918692108_R03C02_Red.idat\n",
      "8918692108_R03C01_Grn.idat\n",
      "8918692108_R03C01_Red.idat\n",
      "8918692108_R04C02_Grn.idat\n",
      "8918692108_R04C02_Red.idat\n",
      "8918692108_R04C01_Grn.idat\n",
      "8918692108_R04C01_Red.idat\n",
      "8918692108_R05C02_Grn.idat\n",
      "8918692108_R05C02_Red.idat\n",
      "8918692108_R05C01_Grn.idat\n",
      "8918692108_R05C01_Red.idat\n",
      "8918692108_R06C02_Grn.idat\n",
      "8918692108_R06C02_Red.idat\n",
      "8918692108_R06C01_Grn.idat\n",
      "8918692108_R06C01_Red.idat\n",
      "8918692120_R04C02_Grn.idat\n",
      "8918692120_R04C02_Red.idat\n",
      "8918692120_R04C01_Grn.idat\n",
      "8918692120_R04C01_Red.idat\n",
      "8918692120_R05C02_Grn.idat\n",
      "8918692120_R05C02_Red.idat\n",
      "8918692120_R05C01_Grn.idat\n",
      "8918692120_R05C01_Red.idat\n",
      "8918692120_R06C02_Grn.idat\n",
      "8918692120_R06C02_Red.idat\n",
      "8918692120_R06C01_Grn.idat\n",
      "8918692120_R06C01_Red.idat\n",
      "8221932039_R04C01_Grn.idat\n",
      "8221932039_R04C01_Red.idat\n",
      "8221932039_R03C01_Grn.idat\n",
      "8221932039_R03C01_Red.idat\n",
      "8221932039_R06C01_Grn.idat\n",
      "8221932039_R06C01_Red.idat\n",
      "8221932039_R05C01_Grn.idat\n",
      "8221932039_R05C01_Red.idat\n",
      "8221932039_R02C02_Grn.idat\n",
      "8221932039_R02C02_Red.idat\n",
      "8221932039_R01C02_Grn.idat\n",
      "8221932039_R01C02_Red.idat\n",
      "8221932039_R04C02_Grn.idat\n",
      "8221932039_R04C02_Red.idat\n",
      "8221932039_R03C02_Grn.idat\n",
      "8221932039_R03C02_Red.idat\n",
      "8221932039_R06C02_Grn.idat\n",
      "8221932039_R06C02_Red.idat\n",
      "8221932039_R05C02_Grn.idat\n",
      "8221932039_R05C02_Red.idat\n",
      "9297953052_R03C01_Grn.idat\n",
      "9297953052_R03C01_Red.idat\n",
      "9297953052_R01C01_Grn.idat\n",
      "9297953052_R01C01_Red.idat\n",
      "9247377057_R05C02_Grn.idat\n",
      "9247377057_R05C02_Red.idat\n",
      "9247377036_R05C02_Grn.idat\n",
      "9247377036_R05C02_Red.idat\n",
      "9247377057_R06C02_Grn.idat\n",
      "9247377057_R06C02_Red.idat\n",
      "9247377057_R06C01_Grn.idat\n",
      "9247377057_R06C01_Red.idat\n",
      "3998919115_R01C02_Grn.idat\n",
      "3998919115_R01C02_Red.idat\n",
      "3998919115_R01C01_Grn.idat\n",
      "3998919115_R01C01_Red.idat\n",
      "3998919115_R02C02_Grn.idat\n",
      "3998919115_R02C02_Red.idat\n",
      "3998919115_R02C01_Grn.idat\n",
      "3998919115_R02C01_Red.idat\n",
      "3998919115_R03C02_Grn.idat\n",
      "3998919115_R03C02_Red.idat\n",
      "3998919115_R03C01_Grn.idat\n",
      "3998919115_R03C01_Red.idat\n",
      "3998919115_R04C02_Grn.idat\n",
      "3998919115_R04C02_Red.idat\n",
      "3998919115_R04C01_Grn.idat\n",
      "3998919115_R04C01_Red.idat\n",
      "3998919115_R05C02_Grn.idat\n",
      "3998919115_R05C02_Red.idat\n",
      "3998919115_R05C01_Grn.idat\n",
      "3998919115_R05C01_Red.idat\n",
      "3998919116_R02C02_Grn.idat\n",
      "3998919116_R02C02_Red.idat\n",
      "3998919116_R02C01_Grn.idat\n",
      "3998919116_R02C01_Red.idat\n",
      "3998919116_R03C02_Grn.idat\n",
      "3998919116_R03C02_Red.idat\n",
      "3998919116_R03C01_Grn.idat\n",
      "3998919116_R03C01_Red.idat\n",
      "3998920130_R01C02_Grn.idat\n",
      "3998920130_R01C02_Red.idat\n",
      "3998920130_R01C01_Grn.idat\n",
      "3998920130_R01C01_Red.idat\n",
      "3998920130_R02C02_Grn.idat\n",
      "3998920130_R02C02_Red.idat\n",
      "3998920130_R02C01_Grn.idat\n",
      "3998920130_R02C01_Red.idat\n",
      "3998919116_R04C02_Grn.idat\n",
      "3998919116_R04C02_Red.idat\n",
      "3998919116_R04C01_Grn.idat\n",
      "3998919116_R04C01_Red.idat\n",
      "3998919116_R05C02_Grn.idat\n",
      "3998919116_R05C02_Red.idat\n",
      "3998919116_R05C01_Grn.idat\n",
      "3998919116_R05C01_Red.idat\n",
      "3998919116_R06C02_Grn.idat\n",
      "3998919116_R06C02_Red.idat\n",
      "3998919116_R06C01_Grn.idat\n",
      "3998919116_R06C01_Red.idat\n",
      "3998920130_R03C02_Grn.idat\n",
      "3998920130_R03C02_Red.idat\n",
      "3998920130_R03C01_Grn.idat\n",
      "3998920130_R03C01_Red.idat\n",
      "3998920130_R04C02_Grn.idat\n",
      "3998920130_R04C02_Red.idat\n",
      "3998920130_R04C01_Grn.idat\n",
      "3998920130_R04C01_Red.idat\n",
      "5854945043_R01C01_Grn.idat\n",
      "5854945043_R01C01_Red.idat\n",
      "5854945043_R02C01_Grn.idat\n",
      "5854945043_R02C01_Red.idat\n",
      "5854945043_R03C01_Grn.idat\n",
      "5854945043_R03C01_Red.idat\n",
      "5854945043_R04C01_Grn.idat\n",
      "5854945043_R04C01_Red.idat\n",
      "5854945043_R05C01_Grn.idat\n",
      "5854945043_R05C01_Red.idat\n",
      "5854945043_R06C01_Grn.idat\n",
      "5854945043_R06C01_Red.idat\n",
      "5854945043_R01C02_Grn.idat\n",
      "5854945043_R01C02_Red.idat\n",
      "5854945043_R02C02_Grn.idat\n",
      "5854945043_R02C02_Red.idat\n",
      "5854945043_R03C02_Grn.idat\n",
      "5854945043_R03C02_Red.idat\n",
      "5854945043_R04C02_Grn.idat\n",
      "5854945043_R04C02_Red.idat\n",
      "5854945043_R05C02_Grn.idat\n",
      "5854945043_R05C02_Red.idat\n",
      "5854945043_R06C02_Grn.idat\n",
      "5854945043_R06C02_Red.idat\n",
      "5854945045_R01C01_Grn.idat\n",
      "5854945045_R01C01_Red.idat\n",
      "5854945045_R02C01_Grn.idat\n",
      "5854945045_R02C01_Red.idat\n",
      "5854945045_R03C01_Grn.idat\n",
      "5854945045_R03C01_Red.idat\n",
      "5854945045_R04C01_Grn.idat\n",
      "5854945045_R04C01_Red.idat\n",
      "5854945045_R05C01_Grn.idat\n",
      "5854945045_R05C01_Red.idat\n",
      "5854945045_R06C01_Grn.idat\n",
      "5854945045_R06C01_Red.idat\n",
      "5854945045_R01C02_Grn.idat\n",
      "5854945045_R01C02_Red.idat\n",
      "5854945045_R02C02_Grn.idat\n",
      "5854945045_R02C02_Red.idat\n",
      "5854945045_R03C02_Grn.idat\n",
      "5854945045_R03C02_Red.idat\n",
      "5854945045_R04C02_Grn.idat\n",
      "5854945045_R04C02_Red.idat\n",
      "5854945045_R05C02_Grn.idat\n",
      "5854945045_R05C02_Red.idat\n",
      "5854945045_R06C02_Grn.idat\n",
      "5854945045_R06C02_Red.idat\n",
      "5854945056_R01C01_Grn.idat\n",
      "5854945056_R01C01_Red.idat\n",
      "5854945056_R02C01_Grn.idat\n",
      "5854945056_R02C01_Red.idat\n",
      "5854945056_R03C01_Grn.idat\n",
      "5854945056_R03C01_Red.idat\n",
      "5854945056_R04C01_Grn.idat\n",
      "5854945056_R04C01_Red.idat\n",
      "5854945056_R05C01_Grn.idat\n",
      "5854945056_R05C01_Red.idat\n",
      "5854945056_R06C01_Grn.idat\n",
      "5854945056_R06C01_Red.idat\n",
      "5854945056_R01C02_Grn.idat\n",
      "5854945056_R01C02_Red.idat\n",
      "5854945056_R02C02_Grn.idat\n",
      "5854945056_R02C02_Red.idat\n",
      "5854945056_R03C02_Grn.idat\n",
      "5854945056_R03C02_Red.idat\n",
      "5854945056_R04C02_Grn.idat\n",
      "5854945056_R04C02_Red.idat\n",
      "5854945056_R05C02_Grn.idat\n",
      "5854945056_R05C02_Red.idat\n",
      "5854945056_R06C02_Grn.idat\n",
      "5854945056_R06C02_Red.idat\n",
      "5854945057_R01C01_Grn.idat\n",
      "5854945057_R01C01_Red.idat\n",
      "5854945057_R02C01_Grn.idat\n",
      "5854945057_R02C01_Red.idat\n",
      "5854945057_R03C01_Grn.idat\n",
      "5854945057_R03C01_Red.idat\n",
      "5854945057_R04C01_Grn.idat\n",
      "5854945057_R04C01_Red.idat\n",
      "5854945057_R05C01_Grn.idat\n",
      "5854945057_R05C01_Red.idat\n",
      "5854945057_R06C01_Grn.idat\n",
      "5854945057_R06C01_Red.idat\n",
      "5854945057_R01C02_Grn.idat\n",
      "5854945057_R01C02_Red.idat\n",
      "5854945057_R02C02_Grn.idat\n",
      "5854945057_R02C02_Red.idat\n",
      "5854945057_R03C02_Grn.idat\n",
      "5854945057_R03C02_Red.idat\n",
      "5854945057_R05C02_Grn.idat\n",
      "5854945057_R05C02_Red.idat\n",
      "5854945057_R06C02_Grn.idat\n",
      "5854945057_R06C02_Red.idat\n",
      "5854945010_R01C01_Grn.idat\n",
      "5854945010_R01C01_Red.idat\n",
      "5854945010_R02C01_Grn.idat\n",
      "5854945010_R02C01_Red.idat\n",
      "5854945010_R03C01_Grn.idat\n",
      "5854945010_R03C01_Red.idat\n",
      "5854945010_R06C01_Grn.idat\n",
      "5854945010_R06C01_Red.idat\n",
      "5854945010_R01C02_Grn.idat\n",
      "5854945010_R01C02_Red.idat\n",
      "5854945010_R02C02_Grn.idat\n",
      "5854945010_R02C02_Red.idat\n",
      "5854945010_R03C02_Grn.idat\n",
      "5854945010_R03C02_Red.idat\n",
      "5854945010_R04C02_Grn.idat\n",
      "5854945010_R04C02_Red.idat\n",
      "5854945010_R05C02_Grn.idat\n",
      "5854945010_R05C02_Red.idat\n",
      "5854945010_R06C02_Grn.idat\n",
      "5854945010_R06C02_Red.idat\n",
      "5854945021_R01C01_Grn.idat\n",
      "5854945021_R01C01_Red.idat\n",
      "5854945021_R02C01_Grn.idat\n",
      "5854945021_R02C01_Red.idat\n",
      "5854945021_R03C01_Grn.idat\n",
      "5854945021_R03C01_Red.idat\n",
      "5854945021_R04C01_Grn.idat\n",
      "5854945021_R04C01_Red.idat\n",
      "5854945021_R06C01_Grn.idat\n",
      "5854945021_R06C01_Red.idat\n",
      "5854945021_R01C02_Grn.idat\n",
      "5854945021_R01C02_Red.idat\n",
      "5854945020_R01C01_Grn.idat\n",
      "5854945020_R01C01_Red.idat\n",
      "5854945020_R02C01_Grn.idat\n",
      "5854945020_R02C01_Red.idat\n",
      "5854945020_R03C01_Grn.idat\n",
      "5854945020_R03C01_Red.idat\n",
      "5854945020_R04C01_Grn.idat\n",
      "5854945020_R04C01_Red.idat\n",
      "5854945020_R05C01_Grn.idat\n",
      "5854945020_R05C01_Red.idat\n",
      "5854945020_R06C01_Grn.idat\n",
      "5854945020_R06C01_Red.idat\n",
      "5854945020_R01C02_Grn.idat\n",
      "5854945020_R01C02_Red.idat\n",
      "5854945020_R02C02_Grn.idat\n",
      "5854945020_R02C02_Red.idat\n",
      "5854945020_R03C02_Grn.idat\n",
      "5854945020_R03C02_Red.idat\n",
      "5854945020_R04C02_Grn.idat\n",
      "5854945020_R04C02_Red.idat\n",
      "5854945020_R05C02_Grn.idat\n",
      "5854945020_R05C02_Red.idat\n",
      "5854945020_R06C02_Grn.idat\n",
      "5854945020_R06C02_Red.idat\n",
      "5854945006_R01C01_Grn.idat\n",
      "5854945006_R01C01_Red.idat\n",
      "5854945006_R02C01_Grn.idat\n",
      "5854945006_R02C01_Red.idat\n",
      "5854945006_R03C01_Grn.idat\n",
      "5854945006_R03C01_Red.idat\n",
      "5854945006_R04C01_Grn.idat\n",
      "5854945006_R04C01_Red.idat\n",
      "5854945006_R05C01_Grn.idat\n",
      "5854945006_R05C01_Red.idat\n",
      "5854945006_R06C01_Grn.idat\n",
      "5854945006_R06C01_Red.idat\n",
      "5854945006_R01C02_Grn.idat\n",
      "5854945006_R01C02_Red.idat\n",
      "5854945006_R02C02_Grn.idat\n",
      "5854945006_R02C02_Red.idat\n",
      "5854945006_R03C02_Grn.idat\n",
      "5854945006_R03C02_Red.idat\n",
      "5854945006_R04C02_Grn.idat\n",
      "5854945006_R04C02_Red.idat\n",
      "5854945006_R05C02_Grn.idat\n",
      "5854945006_R05C02_Red.idat\n",
      "5854945006_R06C02_Grn.idat\n",
      "5854945006_R06C02_Red.idat\n",
      "5900438023_R01C01_Grn.idat\n",
      "5900438023_R01C01_Red.idat\n",
      "5900438023_R02C01_Grn.idat\n",
      "5900438023_R02C01_Red.idat\n",
      "5900438023_R03C01_Grn.idat\n",
      "5900438023_R03C01_Red.idat\n",
      "5900438023_R04C01_Grn.idat\n",
      "5900438023_R04C01_Red.idat\n",
      "5900438023_R05C01_Grn.idat\n",
      "5900438023_R05C01_Red.idat\n",
      "5900438023_R06C01_Grn.idat\n",
      "5900438023_R06C01_Red.idat\n",
      "5900438023_R01C02_Grn.idat\n",
      "5900438023_R01C02_Red.idat\n",
      "5900438023_R02C02_Grn.idat\n",
      "5900438023_R02C02_Red.idat\n",
      "5900438023_R03C02_Grn.idat\n",
      "5900438023_R03C02_Red.idat\n",
      "5900438023_R04C02_Grn.idat\n",
      "5900438023_R04C02_Red.idat\n",
      "5900438023_R05C02_Grn.idat\n",
      "5900438023_R05C02_Red.idat\n",
      "5900438023_R06C02_Grn.idat\n",
      "5900438023_R06C02_Red.idat\n",
      "5900438003_R01C01_Grn.idat\n",
      "5900438003_R01C01_Red.idat\n",
      "5900438003_R02C01_Grn.idat\n",
      "5900438003_R02C01_Red.idat\n",
      "5900438003_R03C01_Grn.idat\n",
      "5900438003_R03C01_Red.idat\n",
      "5900438003_R04C01_Grn.idat\n",
      "5900438003_R04C01_Red.idat\n",
      "5900438003_R05C01_Grn.idat\n",
      "5900438003_R05C01_Red.idat\n",
      "5900438003_R06C01_Grn.idat\n",
      "5900438003_R06C01_Red.idat\n",
      "5900438003_R01C02_Grn.idat\n",
      "5900438003_R01C02_Red.idat\n",
      "5900438003_R02C02_Grn.idat\n",
      "5900438003_R02C02_Red.idat\n",
      "5900438003_R03C02_Grn.idat\n",
      "5900438003_R03C02_Red.idat\n",
      "5900438003_R04C02_Grn.idat\n",
      "5900438003_R04C02_Red.idat\n",
      "5854945005_R02C01_Grn.idat\n",
      "5854945005_R02C01_Red.idat\n",
      "5854945005_R03C01_Grn.idat\n",
      "5854945005_R03C01_Red.idat\n",
      "5854945005_R04C01_Grn.idat\n",
      "5854945005_R04C01_Red.idat\n",
      "5854945005_R05C01_Grn.idat\n",
      "5854945005_R05C01_Red.idat\n",
      "5854945005_R06C01_Grn.idat\n",
      "5854945005_R06C01_Red.idat\n",
      "5854945005_R03C02_Grn.idat\n",
      "5854945005_R03C02_Red.idat\n",
      "5854945005_R04C02_Grn.idat\n",
      "5854945005_R04C02_Red.idat\n",
      "5854945005_R05C02_Grn.idat\n",
      "5854945005_R05C02_Red.idat\n",
      "5854945005_R06C02_Grn.idat\n",
      "5854945005_R06C02_Red.idat\n",
      "5854945011_R01C01_Grn.idat\n",
      "5854945011_R01C01_Red.idat\n",
      "5854945011_R02C01_Grn.idat\n",
      "5854945011_R02C01_Red.idat\n",
      "5854945011_R03C01_Grn.idat\n",
      "5854945011_R03C01_Red.idat\n",
      "5854945011_R04C01_Grn.idat\n",
      "5854945011_R04C01_Red.idat\n",
      "5854945011_R05C01_Grn.idat\n",
      "5854945011_R05C01_Red.idat\n",
      "5854945011_R06C01_Grn.idat\n",
      "5854945011_R06C01_Red.idat\n",
      "5854945011_R01C02_Grn.idat\n",
      "5854945011_R01C02_Red.idat\n",
      "5854945011_R03C02_Grn.idat\n",
      "5854945011_R03C02_Red.idat\n",
      "5854945011_R04C02_Grn.idat\n",
      "5854945011_R04C02_Red.idat\n",
      "5854945011_R05C02_Grn.idat\n"
     ]
    }
   ],
   "source": [
    "for file_name in idat_files:\n",
    "    old_name = file_name\n",
    "    new_name = re.sub(\"^[^_]*_\", \"\", old_name)\n",
    "    final_name = new_name\n",
    "    os.replace(old_name, final_name)\n",
    "    print(final_name)\n"
   ]
  },
  {
   "cell_type": "markdown",
   "metadata": {},
   "source": [
    "Reading in the data (finally)"
   ]
  },
  {
   "cell_type": "code",
   "execution_count": 24,
   "metadata": {},
   "outputs": [
    {
     "name": "stderr",
     "output_type": "stream",
     "text": [
      "INFO:methylprep.processing.pipeline:Running pipeline in: E:\\Msc Systems Biology\\MSB5000_Master_Thesis\\Practical work\\Data\\GSE66351_python_format\n",
      "INFO:methylprep.processing.pipeline:Found 17 additional fields in sample_sheet:\n",
      "Sample_ID | GEO_Accession | Sample_Status | Sample_Submission_date | Sample_last_update_data | Channel_count | Tissue_Source | Organism | Cell_Type | Diagnosis | Braak_stage | Braak_region | Age | Sex | Donor_id | Molecule | Sample_ID.1 --> Sample_ID1\n",
      "Reading IDATs: 100%|██████████| 190/190 [08:05<00:00,  2.55s/it]\n",
      "INFO:methylprep.files.manifests:Downloading manifest: HumanMethylation450k_15017482_v3.csv\n",
      "INFO:methylprep.files.manifests:Reading manifest file: HumanMethylation450k_15017482_v3.csv\n",
      "Processing samples: 100%|██████████| 190/190 [2:03:17<00:00, 38.93s/it]  \n"
     ]
    }
   ],
   "source": [
    "data = make_pipeline(\"E:\\\\Msc Systems Biology\\\\MSB5000_Master_Thesis\\\\Practical work\\\\Data\\\\GSE66351_python_format\" , sample_sheet_filepath = \"E:\\\\Msc Systems Biology\\\\MSB5000_Master_Thesis\\\\Practical work\\\\Data\\\\GSE66351_python_format\\\\sample_sheet.csv\", steps= None, exports= None, estimator= \"beta\")"
   ]
  }
 ],
 "metadata": {
  "interpreter": {
   "hash": "57baa5815c940fdaff4d14510622de9616cae602444507ba5d0b6727c008cbd6"
  },
  "kernelspec": {
   "display_name": "Python 3.7.8 64-bit",
   "language": "python",
   "name": "python3"
  },
  "language_info": {
   "codemirror_mode": {
    "name": "ipython",
    "version": 3
   },
   "file_extension": ".py",
   "mimetype": "text/x-python",
   "name": "python",
   "nbconvert_exporter": "python",
   "pygments_lexer": "ipython3",
   "version": "3.7.8"
  },
  "orig_nbformat": 4
 },
 "nbformat": 4,
 "nbformat_minor": 2
}
